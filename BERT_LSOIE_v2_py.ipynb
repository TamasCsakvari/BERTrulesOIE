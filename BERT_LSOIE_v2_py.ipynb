{
  "nbformat": 4,
  "nbformat_minor": 0,
  "metadata": {
    "colab": {
      "provenance": [],
      "toc_visible": true,
      "mount_file_id": "1yz0lieRDLhsFPDxHCiCyvCAVytU-C8vj",
      "authorship_tag": "ABX9TyM+nQyabPitxX0QKPiZVVmy",
      "include_colab_link": true
    },
    "kernelspec": {
      "name": "python3",
      "display_name": "Python 3"
    },
    "language_info": {
      "name": "python"
    },
    "widgets": {
      "application/vnd.jupyter.widget-state+json": {
        "8c31f534a8c946d59d8dbc81ca2a0fb6": {
          "model_module": "@jupyter-widgets/controls",
          "model_name": "HBoxModel",
          "model_module_version": "1.5.0",
          "state": {
            "_dom_classes": [],
            "_model_module": "@jupyter-widgets/controls",
            "_model_module_version": "1.5.0",
            "_model_name": "HBoxModel",
            "_view_count": null,
            "_view_module": "@jupyter-widgets/controls",
            "_view_module_version": "1.5.0",
            "_view_name": "HBoxView",
            "box_style": "",
            "children": [
              "IPY_MODEL_3493960937ee408686c7d25622bbc75a",
              "IPY_MODEL_391a234af1d540a8bac5ba31c30c2783",
              "IPY_MODEL_2e102b040dde48e99ffad1f490fca6f7"
            ],
            "layout": "IPY_MODEL_87c4bbcd385f401eb3d58ae301326c6e"
          }
        },
        "3493960937ee408686c7d25622bbc75a": {
          "model_module": "@jupyter-widgets/controls",
          "model_name": "HTMLModel",
          "model_module_version": "1.5.0",
          "state": {
            "_dom_classes": [],
            "_model_module": "@jupyter-widgets/controls",
            "_model_module_version": "1.5.0",
            "_model_name": "HTMLModel",
            "_view_count": null,
            "_view_module": "@jupyter-widgets/controls",
            "_view_module_version": "1.5.0",
            "_view_name": "HTMLView",
            "description": "",
            "description_tooltip": null,
            "layout": "IPY_MODEL_45dbd1bed3b342e3aff1d605f81ed276",
            "placeholder": "​",
            "style": "IPY_MODEL_b29b80cf81a34bb3ba4caa65a74e5d69",
            "value": "Downloading (…)lve/main/config.json: 100%"
          }
        },
        "391a234af1d540a8bac5ba31c30c2783": {
          "model_module": "@jupyter-widgets/controls",
          "model_name": "FloatProgressModel",
          "model_module_version": "1.5.0",
          "state": {
            "_dom_classes": [],
            "_model_module": "@jupyter-widgets/controls",
            "_model_module_version": "1.5.0",
            "_model_name": "FloatProgressModel",
            "_view_count": null,
            "_view_module": "@jupyter-widgets/controls",
            "_view_module_version": "1.5.0",
            "_view_name": "ProgressView",
            "bar_style": "success",
            "description": "",
            "description_tooltip": null,
            "layout": "IPY_MODEL_e73a8902029546e2b66e692fa8c6b270",
            "max": 409,
            "min": 0,
            "orientation": "horizontal",
            "style": "IPY_MODEL_d296b4e5c4b640c1bf81486e47636c9a",
            "value": 409
          }
        },
        "2e102b040dde48e99ffad1f490fca6f7": {
          "model_module": "@jupyter-widgets/controls",
          "model_name": "HTMLModel",
          "model_module_version": "1.5.0",
          "state": {
            "_dom_classes": [],
            "_model_module": "@jupyter-widgets/controls",
            "_model_module_version": "1.5.0",
            "_model_name": "HTMLModel",
            "_view_count": null,
            "_view_module": "@jupyter-widgets/controls",
            "_view_module_version": "1.5.0",
            "_view_name": "HTMLView",
            "description": "",
            "description_tooltip": null,
            "layout": "IPY_MODEL_b3df735bec7145cfad8acc0c5fbb04a0",
            "placeholder": "​",
            "style": "IPY_MODEL_5e5c838cc6e04511ba42776566517c7d",
            "value": " 409/409 [00:00&lt;00:00, 18.7kB/s]"
          }
        },
        "87c4bbcd385f401eb3d58ae301326c6e": {
          "model_module": "@jupyter-widgets/base",
          "model_name": "LayoutModel",
          "model_module_version": "1.2.0",
          "state": {
            "_model_module": "@jupyter-widgets/base",
            "_model_module_version": "1.2.0",
            "_model_name": "LayoutModel",
            "_view_count": null,
            "_view_module": "@jupyter-widgets/base",
            "_view_module_version": "1.2.0",
            "_view_name": "LayoutView",
            "align_content": null,
            "align_items": null,
            "align_self": null,
            "border": null,
            "bottom": null,
            "display": null,
            "flex": null,
            "flex_flow": null,
            "grid_area": null,
            "grid_auto_columns": null,
            "grid_auto_flow": null,
            "grid_auto_rows": null,
            "grid_column": null,
            "grid_gap": null,
            "grid_row": null,
            "grid_template_areas": null,
            "grid_template_columns": null,
            "grid_template_rows": null,
            "height": null,
            "justify_content": null,
            "justify_items": null,
            "left": null,
            "margin": null,
            "max_height": null,
            "max_width": null,
            "min_height": null,
            "min_width": null,
            "object_fit": null,
            "object_position": null,
            "order": null,
            "overflow": null,
            "overflow_x": null,
            "overflow_y": null,
            "padding": null,
            "right": null,
            "top": null,
            "visibility": null,
            "width": null
          }
        },
        "45dbd1bed3b342e3aff1d605f81ed276": {
          "model_module": "@jupyter-widgets/base",
          "model_name": "LayoutModel",
          "model_module_version": "1.2.0",
          "state": {
            "_model_module": "@jupyter-widgets/base",
            "_model_module_version": "1.2.0",
            "_model_name": "LayoutModel",
            "_view_count": null,
            "_view_module": "@jupyter-widgets/base",
            "_view_module_version": "1.2.0",
            "_view_name": "LayoutView",
            "align_content": null,
            "align_items": null,
            "align_self": null,
            "border": null,
            "bottom": null,
            "display": null,
            "flex": null,
            "flex_flow": null,
            "grid_area": null,
            "grid_auto_columns": null,
            "grid_auto_flow": null,
            "grid_auto_rows": null,
            "grid_column": null,
            "grid_gap": null,
            "grid_row": null,
            "grid_template_areas": null,
            "grid_template_columns": null,
            "grid_template_rows": null,
            "height": null,
            "justify_content": null,
            "justify_items": null,
            "left": null,
            "margin": null,
            "max_height": null,
            "max_width": null,
            "min_height": null,
            "min_width": null,
            "object_fit": null,
            "object_position": null,
            "order": null,
            "overflow": null,
            "overflow_x": null,
            "overflow_y": null,
            "padding": null,
            "right": null,
            "top": null,
            "visibility": null,
            "width": null
          }
        },
        "b29b80cf81a34bb3ba4caa65a74e5d69": {
          "model_module": "@jupyter-widgets/controls",
          "model_name": "DescriptionStyleModel",
          "model_module_version": "1.5.0",
          "state": {
            "_model_module": "@jupyter-widgets/controls",
            "_model_module_version": "1.5.0",
            "_model_name": "DescriptionStyleModel",
            "_view_count": null,
            "_view_module": "@jupyter-widgets/base",
            "_view_module_version": "1.2.0",
            "_view_name": "StyleView",
            "description_width": ""
          }
        },
        "e73a8902029546e2b66e692fa8c6b270": {
          "model_module": "@jupyter-widgets/base",
          "model_name": "LayoutModel",
          "model_module_version": "1.2.0",
          "state": {
            "_model_module": "@jupyter-widgets/base",
            "_model_module_version": "1.2.0",
            "_model_name": "LayoutModel",
            "_view_count": null,
            "_view_module": "@jupyter-widgets/base",
            "_view_module_version": "1.2.0",
            "_view_name": "LayoutView",
            "align_content": null,
            "align_items": null,
            "align_self": null,
            "border": null,
            "bottom": null,
            "display": null,
            "flex": null,
            "flex_flow": null,
            "grid_area": null,
            "grid_auto_columns": null,
            "grid_auto_flow": null,
            "grid_auto_rows": null,
            "grid_column": null,
            "grid_gap": null,
            "grid_row": null,
            "grid_template_areas": null,
            "grid_template_columns": null,
            "grid_template_rows": null,
            "height": null,
            "justify_content": null,
            "justify_items": null,
            "left": null,
            "margin": null,
            "max_height": null,
            "max_width": null,
            "min_height": null,
            "min_width": null,
            "object_fit": null,
            "object_position": null,
            "order": null,
            "overflow": null,
            "overflow_x": null,
            "overflow_y": null,
            "padding": null,
            "right": null,
            "top": null,
            "visibility": null,
            "width": null
          }
        },
        "d296b4e5c4b640c1bf81486e47636c9a": {
          "model_module": "@jupyter-widgets/controls",
          "model_name": "ProgressStyleModel",
          "model_module_version": "1.5.0",
          "state": {
            "_model_module": "@jupyter-widgets/controls",
            "_model_module_version": "1.5.0",
            "_model_name": "ProgressStyleModel",
            "_view_count": null,
            "_view_module": "@jupyter-widgets/base",
            "_view_module_version": "1.2.0",
            "_view_name": "StyleView",
            "bar_color": null,
            "description_width": ""
          }
        },
        "b3df735bec7145cfad8acc0c5fbb04a0": {
          "model_module": "@jupyter-widgets/base",
          "model_name": "LayoutModel",
          "model_module_version": "1.2.0",
          "state": {
            "_model_module": "@jupyter-widgets/base",
            "_model_module_version": "1.2.0",
            "_model_name": "LayoutModel",
            "_view_count": null,
            "_view_module": "@jupyter-widgets/base",
            "_view_module_version": "1.2.0",
            "_view_name": "LayoutView",
            "align_content": null,
            "align_items": null,
            "align_self": null,
            "border": null,
            "bottom": null,
            "display": null,
            "flex": null,
            "flex_flow": null,
            "grid_area": null,
            "grid_auto_columns": null,
            "grid_auto_flow": null,
            "grid_auto_rows": null,
            "grid_column": null,
            "grid_gap": null,
            "grid_row": null,
            "grid_template_areas": null,
            "grid_template_columns": null,
            "grid_template_rows": null,
            "height": null,
            "justify_content": null,
            "justify_items": null,
            "left": null,
            "margin": null,
            "max_height": null,
            "max_width": null,
            "min_height": null,
            "min_width": null,
            "object_fit": null,
            "object_position": null,
            "order": null,
            "overflow": null,
            "overflow_x": null,
            "overflow_y": null,
            "padding": null,
            "right": null,
            "top": null,
            "visibility": null,
            "width": null
          }
        },
        "5e5c838cc6e04511ba42776566517c7d": {
          "model_module": "@jupyter-widgets/controls",
          "model_name": "DescriptionStyleModel",
          "model_module_version": "1.5.0",
          "state": {
            "_model_module": "@jupyter-widgets/controls",
            "_model_module_version": "1.5.0",
            "_model_name": "DescriptionStyleModel",
            "_view_count": null,
            "_view_module": "@jupyter-widgets/base",
            "_view_module_version": "1.2.0",
            "_view_name": "StyleView",
            "description_width": ""
          }
        },
        "afc4b1553db74f5a91ddf2962fa246b7": {
          "model_module": "@jupyter-widgets/controls",
          "model_name": "HBoxModel",
          "model_module_version": "1.5.0",
          "state": {
            "_dom_classes": [],
            "_model_module": "@jupyter-widgets/controls",
            "_model_module_version": "1.5.0",
            "_model_name": "HBoxModel",
            "_view_count": null,
            "_view_module": "@jupyter-widgets/controls",
            "_view_module_version": "1.5.0",
            "_view_name": "HBoxView",
            "box_style": "",
            "children": [
              "IPY_MODEL_b735f00fd1154ff19acf9bbcdaf9cdf4",
              "IPY_MODEL_16a6e56c9e954cf1a043e5958bb7e4d4",
              "IPY_MODEL_f68301a5901549918dc3371b975fca10"
            ],
            "layout": "IPY_MODEL_697cf1f381d346ba8fc2535e7273c940"
          }
        },
        "b735f00fd1154ff19acf9bbcdaf9cdf4": {
          "model_module": "@jupyter-widgets/controls",
          "model_name": "HTMLModel",
          "model_module_version": "1.5.0",
          "state": {
            "_dom_classes": [],
            "_model_module": "@jupyter-widgets/controls",
            "_model_module_version": "1.5.0",
            "_model_name": "HTMLModel",
            "_view_count": null,
            "_view_module": "@jupyter-widgets/controls",
            "_view_module_version": "1.5.0",
            "_view_name": "HTMLView",
            "description": "",
            "description_tooltip": null,
            "layout": "IPY_MODEL_99c3d83435ea4c3793265db161c5fe29",
            "placeholder": "​",
            "style": "IPY_MODEL_1cc7361967f54f359831af0e33648040",
            "value": "Downloading pytorch_model.bin: 100%"
          }
        },
        "16a6e56c9e954cf1a043e5958bb7e4d4": {
          "model_module": "@jupyter-widgets/controls",
          "model_name": "FloatProgressModel",
          "model_module_version": "1.5.0",
          "state": {
            "_dom_classes": [],
            "_model_module": "@jupyter-widgets/controls",
            "_model_module_version": "1.5.0",
            "_model_name": "FloatProgressModel",
            "_view_count": null,
            "_view_module": "@jupyter-widgets/controls",
            "_view_module_version": "1.5.0",
            "_view_name": "ProgressView",
            "bar_style": "success",
            "description": "",
            "description_tooltip": null,
            "layout": "IPY_MODEL_f20ce59652e14f9abd44c951fc513b3a",
            "max": 62747391,
            "min": 0,
            "orientation": "horizontal",
            "style": "IPY_MODEL_4e9338515b234464813b79ada12fde53",
            "value": 62747391
          }
        },
        "f68301a5901549918dc3371b975fca10": {
          "model_module": "@jupyter-widgets/controls",
          "model_name": "HTMLModel",
          "model_module_version": "1.5.0",
          "state": {
            "_dom_classes": [],
            "_model_module": "@jupyter-widgets/controls",
            "_model_module_version": "1.5.0",
            "_model_name": "HTMLModel",
            "_view_count": null,
            "_view_module": "@jupyter-widgets/controls",
            "_view_module_version": "1.5.0",
            "_view_name": "HTMLView",
            "description": "",
            "description_tooltip": null,
            "layout": "IPY_MODEL_b75825c40ec243118f2fca416296e8d3",
            "placeholder": "​",
            "style": "IPY_MODEL_d0c0f425ac82471f8e5057aea9c0eb5b",
            "value": " 62.7M/62.7M [00:05&lt;00:00, 20.9MB/s]"
          }
        },
        "697cf1f381d346ba8fc2535e7273c940": {
          "model_module": "@jupyter-widgets/base",
          "model_name": "LayoutModel",
          "model_module_version": "1.2.0",
          "state": {
            "_model_module": "@jupyter-widgets/base",
            "_model_module_version": "1.2.0",
            "_model_name": "LayoutModel",
            "_view_count": null,
            "_view_module": "@jupyter-widgets/base",
            "_view_module_version": "1.2.0",
            "_view_name": "LayoutView",
            "align_content": null,
            "align_items": null,
            "align_self": null,
            "border": null,
            "bottom": null,
            "display": null,
            "flex": null,
            "flex_flow": null,
            "grid_area": null,
            "grid_auto_columns": null,
            "grid_auto_flow": null,
            "grid_auto_rows": null,
            "grid_column": null,
            "grid_gap": null,
            "grid_row": null,
            "grid_template_areas": null,
            "grid_template_columns": null,
            "grid_template_rows": null,
            "height": null,
            "justify_content": null,
            "justify_items": null,
            "left": null,
            "margin": null,
            "max_height": null,
            "max_width": null,
            "min_height": null,
            "min_width": null,
            "object_fit": null,
            "object_position": null,
            "order": null,
            "overflow": null,
            "overflow_x": null,
            "overflow_y": null,
            "padding": null,
            "right": null,
            "top": null,
            "visibility": null,
            "width": null
          }
        },
        "99c3d83435ea4c3793265db161c5fe29": {
          "model_module": "@jupyter-widgets/base",
          "model_name": "LayoutModel",
          "model_module_version": "1.2.0",
          "state": {
            "_model_module": "@jupyter-widgets/base",
            "_model_module_version": "1.2.0",
            "_model_name": "LayoutModel",
            "_view_count": null,
            "_view_module": "@jupyter-widgets/base",
            "_view_module_version": "1.2.0",
            "_view_name": "LayoutView",
            "align_content": null,
            "align_items": null,
            "align_self": null,
            "border": null,
            "bottom": null,
            "display": null,
            "flex": null,
            "flex_flow": null,
            "grid_area": null,
            "grid_auto_columns": null,
            "grid_auto_flow": null,
            "grid_auto_rows": null,
            "grid_column": null,
            "grid_gap": null,
            "grid_row": null,
            "grid_template_areas": null,
            "grid_template_columns": null,
            "grid_template_rows": null,
            "height": null,
            "justify_content": null,
            "justify_items": null,
            "left": null,
            "margin": null,
            "max_height": null,
            "max_width": null,
            "min_height": null,
            "min_width": null,
            "object_fit": null,
            "object_position": null,
            "order": null,
            "overflow": null,
            "overflow_x": null,
            "overflow_y": null,
            "padding": null,
            "right": null,
            "top": null,
            "visibility": null,
            "width": null
          }
        },
        "1cc7361967f54f359831af0e33648040": {
          "model_module": "@jupyter-widgets/controls",
          "model_name": "DescriptionStyleModel",
          "model_module_version": "1.5.0",
          "state": {
            "_model_module": "@jupyter-widgets/controls",
            "_model_module_version": "1.5.0",
            "_model_name": "DescriptionStyleModel",
            "_view_count": null,
            "_view_module": "@jupyter-widgets/base",
            "_view_module_version": "1.2.0",
            "_view_name": "StyleView",
            "description_width": ""
          }
        },
        "f20ce59652e14f9abd44c951fc513b3a": {
          "model_module": "@jupyter-widgets/base",
          "model_name": "LayoutModel",
          "model_module_version": "1.2.0",
          "state": {
            "_model_module": "@jupyter-widgets/base",
            "_model_module_version": "1.2.0",
            "_model_name": "LayoutModel",
            "_view_count": null,
            "_view_module": "@jupyter-widgets/base",
            "_view_module_version": "1.2.0",
            "_view_name": "LayoutView",
            "align_content": null,
            "align_items": null,
            "align_self": null,
            "border": null,
            "bottom": null,
            "display": null,
            "flex": null,
            "flex_flow": null,
            "grid_area": null,
            "grid_auto_columns": null,
            "grid_auto_flow": null,
            "grid_auto_rows": null,
            "grid_column": null,
            "grid_gap": null,
            "grid_row": null,
            "grid_template_areas": null,
            "grid_template_columns": null,
            "grid_template_rows": null,
            "height": null,
            "justify_content": null,
            "justify_items": null,
            "left": null,
            "margin": null,
            "max_height": null,
            "max_width": null,
            "min_height": null,
            "min_width": null,
            "object_fit": null,
            "object_position": null,
            "order": null,
            "overflow": null,
            "overflow_x": null,
            "overflow_y": null,
            "padding": null,
            "right": null,
            "top": null,
            "visibility": null,
            "width": null
          }
        },
        "4e9338515b234464813b79ada12fde53": {
          "model_module": "@jupyter-widgets/controls",
          "model_name": "ProgressStyleModel",
          "model_module_version": "1.5.0",
          "state": {
            "_model_module": "@jupyter-widgets/controls",
            "_model_module_version": "1.5.0",
            "_model_name": "ProgressStyleModel",
            "_view_count": null,
            "_view_module": "@jupyter-widgets/base",
            "_view_module_version": "1.2.0",
            "_view_name": "StyleView",
            "bar_color": null,
            "description_width": ""
          }
        },
        "b75825c40ec243118f2fca416296e8d3": {
          "model_module": "@jupyter-widgets/base",
          "model_name": "LayoutModel",
          "model_module_version": "1.2.0",
          "state": {
            "_model_module": "@jupyter-widgets/base",
            "_model_module_version": "1.2.0",
            "_model_name": "LayoutModel",
            "_view_count": null,
            "_view_module": "@jupyter-widgets/base",
            "_view_module_version": "1.2.0",
            "_view_name": "LayoutView",
            "align_content": null,
            "align_items": null,
            "align_self": null,
            "border": null,
            "bottom": null,
            "display": null,
            "flex": null,
            "flex_flow": null,
            "grid_area": null,
            "grid_auto_columns": null,
            "grid_auto_flow": null,
            "grid_auto_rows": null,
            "grid_column": null,
            "grid_gap": null,
            "grid_row": null,
            "grid_template_areas": null,
            "grid_template_columns": null,
            "grid_template_rows": null,
            "height": null,
            "justify_content": null,
            "justify_items": null,
            "left": null,
            "margin": null,
            "max_height": null,
            "max_width": null,
            "min_height": null,
            "min_width": null,
            "object_fit": null,
            "object_position": null,
            "order": null,
            "overflow": null,
            "overflow_x": null,
            "overflow_y": null,
            "padding": null,
            "right": null,
            "top": null,
            "visibility": null,
            "width": null
          }
        },
        "d0c0f425ac82471f8e5057aea9c0eb5b": {
          "model_module": "@jupyter-widgets/controls",
          "model_name": "DescriptionStyleModel",
          "model_module_version": "1.5.0",
          "state": {
            "_model_module": "@jupyter-widgets/controls",
            "_model_module_version": "1.5.0",
            "_model_name": "DescriptionStyleModel",
            "_view_count": null,
            "_view_module": "@jupyter-widgets/base",
            "_view_module_version": "1.2.0",
            "_view_name": "StyleView",
            "description_width": ""
          }
        }
      }
    }
  },
  "cells": [
    {
      "cell_type": "markdown",
      "metadata": {
        "id": "view-in-github",
        "colab_type": "text"
      },
      "source": [
        "<a href=\"https://colab.research.google.com/github/TamasCsakvari/BERTrulesOIE/blob/main/BERT_LSOIE_v2_py.ipynb\" target=\"_parent\"><img src=\"https://colab.research.google.com/assets/colab-badge.svg\" alt=\"Open In Colab\"/></a>"
      ]
    },
    {
      "cell_type": "markdown",
      "source": [
        "# Setup and packages"
      ],
      "metadata": {
        "id": "Kc-k1fac7PUE"
      }
    },
    {
      "cell_type": "code",
      "source": [
        "!pip install transformers"
      ],
      "metadata": {
        "colab": {
          "base_uri": "https://localhost:8080/"
        },
        "id": "44w8va-T45IQ",
        "outputId": "9cfb9e7e-3e38-461f-a6cb-95b5da05b44a"
      },
      "execution_count": 1,
      "outputs": [
        {
          "output_type": "stream",
          "name": "stdout",
          "text": [
            "Looking in indexes: https://pypi.org/simple, https://us-python.pkg.dev/colab-wheels/public/simple/\n",
            "Collecting transformers\n",
            "  Downloading transformers-4.29.2-py3-none-any.whl (7.1 MB)\n",
            "\u001b[2K     \u001b[90m━━━━━━━━━━━━━━━━━━━━━━━━━━━━━━━━━━━━━━━━\u001b[0m \u001b[32m7.1/7.1 MB\u001b[0m \u001b[31m31.0 MB/s\u001b[0m eta \u001b[36m0:00:00\u001b[0m\n",
            "\u001b[?25hRequirement already satisfied: filelock in /usr/local/lib/python3.10/dist-packages (from transformers) (3.12.0)\n",
            "Collecting huggingface-hub<1.0,>=0.14.1 (from transformers)\n",
            "  Downloading huggingface_hub-0.14.1-py3-none-any.whl (224 kB)\n",
            "\u001b[2K     \u001b[90m━━━━━━━━━━━━━━━━━━━━━━━━━━━━━━━━━━━━━━\u001b[0m \u001b[32m224.5/224.5 kB\u001b[0m \u001b[31m21.8 MB/s\u001b[0m eta \u001b[36m0:00:00\u001b[0m\n",
            "\u001b[?25hRequirement already satisfied: numpy>=1.17 in /usr/local/lib/python3.10/dist-packages (from transformers) (1.22.4)\n",
            "Requirement already satisfied: packaging>=20.0 in /usr/local/lib/python3.10/dist-packages (from transformers) (23.1)\n",
            "Requirement already satisfied: pyyaml>=5.1 in /usr/local/lib/python3.10/dist-packages (from transformers) (6.0)\n",
            "Requirement already satisfied: regex!=2019.12.17 in /usr/local/lib/python3.10/dist-packages (from transformers) (2022.10.31)\n",
            "Requirement already satisfied: requests in /usr/local/lib/python3.10/dist-packages (from transformers) (2.27.1)\n",
            "Collecting tokenizers!=0.11.3,<0.14,>=0.11.1 (from transformers)\n",
            "  Downloading tokenizers-0.13.3-cp310-cp310-manylinux_2_17_x86_64.manylinux2014_x86_64.whl (7.8 MB)\n",
            "\u001b[2K     \u001b[90m━━━━━━━━━━━━━━━━━━━━━━━━━━━━━━━━━━━━━━━━\u001b[0m \u001b[32m7.8/7.8 MB\u001b[0m \u001b[31m23.5 MB/s\u001b[0m eta \u001b[36m0:00:00\u001b[0m\n",
            "\u001b[?25hRequirement already satisfied: tqdm>=4.27 in /usr/local/lib/python3.10/dist-packages (from transformers) (4.65.0)\n",
            "Requirement already satisfied: fsspec in /usr/local/lib/python3.10/dist-packages (from huggingface-hub<1.0,>=0.14.1->transformers) (2023.4.0)\n",
            "Requirement already satisfied: typing-extensions>=3.7.4.3 in /usr/local/lib/python3.10/dist-packages (from huggingface-hub<1.0,>=0.14.1->transformers) (4.5.0)\n",
            "Requirement already satisfied: urllib3<1.27,>=1.21.1 in /usr/local/lib/python3.10/dist-packages (from requests->transformers) (1.26.15)\n",
            "Requirement already satisfied: certifi>=2017.4.17 in /usr/local/lib/python3.10/dist-packages (from requests->transformers) (2022.12.7)\n",
            "Requirement already satisfied: charset-normalizer~=2.0.0 in /usr/local/lib/python3.10/dist-packages (from requests->transformers) (2.0.12)\n",
            "Requirement already satisfied: idna<4,>=2.5 in /usr/local/lib/python3.10/dist-packages (from requests->transformers) (3.4)\n",
            "Installing collected packages: tokenizers, huggingface-hub, transformers\n",
            "Successfully installed huggingface-hub-0.14.1 tokenizers-0.13.3 transformers-4.29.2\n"
          ]
        }
      ]
    },
    {
      "cell_type": "markdown",
      "source": [
        "# BERT WITH LSOIE - Self Implemented"
      ],
      "metadata": {
        "id": "HOFpM4gK7WwE"
      }
    },
    {
      "cell_type": "markdown",
      "source": [
        "## TinyBERT Import and setup"
      ],
      "metadata": {
        "id": "NENCedSH7kgl"
      }
    },
    {
      "cell_type": "code",
      "execution_count": 2,
      "metadata": {
        "id": "ivW89yXT-52Y",
        "colab": {
          "base_uri": "https://localhost:8080/",
          "height": 154,
          "referenced_widgets": [
            "8c31f534a8c946d59d8dbc81ca2a0fb6",
            "3493960937ee408686c7d25622bbc75a",
            "391a234af1d540a8bac5ba31c30c2783",
            "2e102b040dde48e99ffad1f490fca6f7",
            "87c4bbcd385f401eb3d58ae301326c6e",
            "45dbd1bed3b342e3aff1d605f81ed276",
            "b29b80cf81a34bb3ba4caa65a74e5d69",
            "e73a8902029546e2b66e692fa8c6b270",
            "d296b4e5c4b640c1bf81486e47636c9a",
            "b3df735bec7145cfad8acc0c5fbb04a0",
            "5e5c838cc6e04511ba42776566517c7d",
            "afc4b1553db74f5a91ddf2962fa246b7",
            "b735f00fd1154ff19acf9bbcdaf9cdf4",
            "16a6e56c9e954cf1a043e5958bb7e4d4",
            "f68301a5901549918dc3371b975fca10",
            "697cf1f381d346ba8fc2535e7273c940",
            "99c3d83435ea4c3793265db161c5fe29",
            "1cc7361967f54f359831af0e33648040",
            "f20ce59652e14f9abd44c951fc513b3a",
            "4e9338515b234464813b79ada12fde53",
            "b75825c40ec243118f2fca416296e8d3",
            "d0c0f425ac82471f8e5057aea9c0eb5b"
          ]
        },
        "outputId": "793c1883-8486-4118-8d73-cc183a664028"
      },
      "outputs": [
        {
          "output_type": "display_data",
          "data": {
            "text/plain": [
              "Downloading (…)lve/main/config.json:   0%|          | 0.00/409 [00:00<?, ?B/s]"
            ],
            "application/vnd.jupyter.widget-view+json": {
              "version_major": 2,
              "version_minor": 0,
              "model_id": "8c31f534a8c946d59d8dbc81ca2a0fb6"
            }
          },
          "metadata": {}
        },
        {
          "output_type": "display_data",
          "data": {
            "text/plain": [
              "Downloading pytorch_model.bin:   0%|          | 0.00/62.7M [00:00<?, ?B/s]"
            ],
            "application/vnd.jupyter.widget-view+json": {
              "version_major": 2,
              "version_minor": 0,
              "model_id": "afc4b1553db74f5a91ddf2962fa246b7"
            }
          },
          "metadata": {}
        },
        {
          "output_type": "stream",
          "name": "stderr",
          "text": [
            "Some weights of the model checkpoint at huawei-noah/TinyBERT_General_4L_312D were not used when initializing BertModel: ['cls.predictions.bias', 'fit_denses.2.weight', 'cls.predictions.transform.LayerNorm.weight', 'cls.seq_relationship.bias', 'fit_denses.0.weight', 'fit_denses.4.weight', 'cls.seq_relationship.weight', 'cls.predictions.transform.dense.bias', 'cls.predictions.transform.LayerNorm.bias', 'cls.predictions.transform.dense.weight', 'fit_denses.2.bias', 'cls.predictions.decoder.weight', 'fit_denses.3.weight', 'fit_denses.4.bias', 'fit_denses.1.weight', 'fit_denses.3.bias', 'fit_denses.0.bias', 'fit_denses.1.bias']\n",
            "- This IS expected if you are initializing BertModel from the checkpoint of a model trained on another task or with another architecture (e.g. initializing a BertForSequenceClassification model from a BertForPreTraining model).\n",
            "- This IS NOT expected if you are initializing BertModel from the checkpoint of a model that you expect to be exactly identical (initializing a BertForSequenceClassification model from a BertForSequenceClassification model).\n"
          ]
        }
      ],
      "source": [
        "from transformers import AutoModel\n",
        "\n",
        "model = AutoModel.from_pretrained(\"huawei-noah/TinyBERT_General_4L_312D\")\n"
      ]
    },
    {
      "cell_type": "markdown",
      "source": [
        "## LSOIE Dataset Import and exploration"
      ],
      "metadata": {
        "id": "8JcLcv5o7rmz"
      }
    },
    {
      "cell_type": "markdown",
      "source": [
        "The dataset is in "
      ],
      "metadata": {
        "id": "1Rq05Y410YIy"
      }
    },
    {
      "cell_type": "code",
      "source": [
        "import requests\n",
        "import zipfile\n",
        "import pandas as pd\n",
        "from io import BytesIO\n",
        "\n",
        "url = \"https://github.com/Jacobsolawetz/large-scale-oie/raw/master/dataset_creation/lsoie_data/lsoie_data.zip\"\n",
        "\n",
        "response = requests.get(url)\n",
        "\n",
        "# Make sure the download was successful before continuing\n",
        "assert response.status_code == 200\n",
        "\n",
        "# Create a ZipFile object from the downloaded data\n",
        "zip_file = zipfile.ZipFile(BytesIO(response.content))\n",
        "\n",
        "# Create an empty dictionary to hold the dataframes\n",
        "dataframes = {}\n",
        "\n",
        "# Define column names based on the CoNLL format\n",
        "column_names = ['ID', 'Token', 'Predicate', 'Sentence_ID', 'Sentence_Token_Number', \n",
        "                'Sentence_Length', 'Sentence_Position', 'Argument_Label']\n",
        "\n",
        "# Iterate through the list of files in the zip file\n",
        "for filename in zip_file.namelist():\n",
        "    # Open each file\n",
        "    with zip_file.open(filename) as f:\n",
        "        # Read the file into a pandas dataframe and add it to the dictionary\n",
        "        dataframes[filename] = pd.read_csv(f, sep=\"\\t\", header=None, names=column_names)\n",
        "\n",
        "# Now each file's data is stored as a pandas dataframe in the dictionary. \n",
        "# You can access the dataframe for a file like this:\n",
        "df = dataframes['lsoie_data/lsoie_science_train.conll']"
      ],
      "metadata": {
        "id": "Fov0sOCeNQDI"
      },
      "execution_count": 3,
      "outputs": []
    },
    {
      "cell_type": "code",
      "source": [
        "df.head(15)"
      ],
      "metadata": {
        "colab": {
          "base_uri": "https://localhost:8080/",
          "height": 520
        },
        "id": "MHs-O3GhQp_K",
        "outputId": "8de50f59-4e53-4cb5-ad1f-dcfeffa3bbea"
      },
      "execution_count": 4,
      "outputs": [
        {
          "output_type": "execute_result",
          "data": {
            "text/plain": [
              "    ID       Token Predicate Sentence_ID  Sentence_Token_Number  \\\n",
              "0    0  Geologists     study         [1]                      1   \n",
              "1    1       study     study         [1]                      1   \n",
              "2    2         how     study         [1]                      1   \n",
              "3    3       rocks     study         [1]                      1   \n",
              "4    4         and     study         [1]                      1   \n",
              "5    5    minerals     study         [1]                      1   \n",
              "6    6        form     study         [1]                      1   \n",
              "7    7           .     study         [1]                      1   \n",
              "8    0  Geologists      form         [6]                      6   \n",
              "9    1       study      form         [6]                      6   \n",
              "10   2         how      form         [6]                      6   \n",
              "11   3       rocks      form         [6]                      6   \n",
              "12   4         and      form         [6]                      6   \n",
              "13   5    minerals      form         [6]                      6   \n",
              "14   6        form      form         [6]                      6   \n",
              "\n",
              "    Sentence_Length  Sentence_Position Argument_Label  \n",
              "0                 1                  2           A0-B  \n",
              "1                 1                  2            P-B  \n",
              "2                 1                  2           A1-B  \n",
              "3                 1                  2           A1-I  \n",
              "4                 1                  2           A1-I  \n",
              "5                 1                  2           A1-I  \n",
              "6                 1                  2           A1-I  \n",
              "7                 1                  2              O  \n",
              "8                 1                  2              O  \n",
              "9                 1                  2              O  \n",
              "10                1                  2              O  \n",
              "11                1                  2           A0-B  \n",
              "12                1                  2           A0-I  \n",
              "13                1                  2           A0-I  \n",
              "14                1                  2            P-B  "
            ],
            "text/html": [
              "\n",
              "  <div id=\"df-3764acf7-9f53-4dbc-9310-02b61d797c4c\">\n",
              "    <div class=\"colab-df-container\">\n",
              "      <div>\n",
              "<style scoped>\n",
              "    .dataframe tbody tr th:only-of-type {\n",
              "        vertical-align: middle;\n",
              "    }\n",
              "\n",
              "    .dataframe tbody tr th {\n",
              "        vertical-align: top;\n",
              "    }\n",
              "\n",
              "    .dataframe thead th {\n",
              "        text-align: right;\n",
              "    }\n",
              "</style>\n",
              "<table border=\"1\" class=\"dataframe\">\n",
              "  <thead>\n",
              "    <tr style=\"text-align: right;\">\n",
              "      <th></th>\n",
              "      <th>ID</th>\n",
              "      <th>Token</th>\n",
              "      <th>Predicate</th>\n",
              "      <th>Sentence_ID</th>\n",
              "      <th>Sentence_Token_Number</th>\n",
              "      <th>Sentence_Length</th>\n",
              "      <th>Sentence_Position</th>\n",
              "      <th>Argument_Label</th>\n",
              "    </tr>\n",
              "  </thead>\n",
              "  <tbody>\n",
              "    <tr>\n",
              "      <th>0</th>\n",
              "      <td>0</td>\n",
              "      <td>Geologists</td>\n",
              "      <td>study</td>\n",
              "      <td>[1]</td>\n",
              "      <td>1</td>\n",
              "      <td>1</td>\n",
              "      <td>2</td>\n",
              "      <td>A0-B</td>\n",
              "    </tr>\n",
              "    <tr>\n",
              "      <th>1</th>\n",
              "      <td>1</td>\n",
              "      <td>study</td>\n",
              "      <td>study</td>\n",
              "      <td>[1]</td>\n",
              "      <td>1</td>\n",
              "      <td>1</td>\n",
              "      <td>2</td>\n",
              "      <td>P-B</td>\n",
              "    </tr>\n",
              "    <tr>\n",
              "      <th>2</th>\n",
              "      <td>2</td>\n",
              "      <td>how</td>\n",
              "      <td>study</td>\n",
              "      <td>[1]</td>\n",
              "      <td>1</td>\n",
              "      <td>1</td>\n",
              "      <td>2</td>\n",
              "      <td>A1-B</td>\n",
              "    </tr>\n",
              "    <tr>\n",
              "      <th>3</th>\n",
              "      <td>3</td>\n",
              "      <td>rocks</td>\n",
              "      <td>study</td>\n",
              "      <td>[1]</td>\n",
              "      <td>1</td>\n",
              "      <td>1</td>\n",
              "      <td>2</td>\n",
              "      <td>A1-I</td>\n",
              "    </tr>\n",
              "    <tr>\n",
              "      <th>4</th>\n",
              "      <td>4</td>\n",
              "      <td>and</td>\n",
              "      <td>study</td>\n",
              "      <td>[1]</td>\n",
              "      <td>1</td>\n",
              "      <td>1</td>\n",
              "      <td>2</td>\n",
              "      <td>A1-I</td>\n",
              "    </tr>\n",
              "    <tr>\n",
              "      <th>5</th>\n",
              "      <td>5</td>\n",
              "      <td>minerals</td>\n",
              "      <td>study</td>\n",
              "      <td>[1]</td>\n",
              "      <td>1</td>\n",
              "      <td>1</td>\n",
              "      <td>2</td>\n",
              "      <td>A1-I</td>\n",
              "    </tr>\n",
              "    <tr>\n",
              "      <th>6</th>\n",
              "      <td>6</td>\n",
              "      <td>form</td>\n",
              "      <td>study</td>\n",
              "      <td>[1]</td>\n",
              "      <td>1</td>\n",
              "      <td>1</td>\n",
              "      <td>2</td>\n",
              "      <td>A1-I</td>\n",
              "    </tr>\n",
              "    <tr>\n",
              "      <th>7</th>\n",
              "      <td>7</td>\n",
              "      <td>.</td>\n",
              "      <td>study</td>\n",
              "      <td>[1]</td>\n",
              "      <td>1</td>\n",
              "      <td>1</td>\n",
              "      <td>2</td>\n",
              "      <td>O</td>\n",
              "    </tr>\n",
              "    <tr>\n",
              "      <th>8</th>\n",
              "      <td>0</td>\n",
              "      <td>Geologists</td>\n",
              "      <td>form</td>\n",
              "      <td>[6]</td>\n",
              "      <td>6</td>\n",
              "      <td>1</td>\n",
              "      <td>2</td>\n",
              "      <td>O</td>\n",
              "    </tr>\n",
              "    <tr>\n",
              "      <th>9</th>\n",
              "      <td>1</td>\n",
              "      <td>study</td>\n",
              "      <td>form</td>\n",
              "      <td>[6]</td>\n",
              "      <td>6</td>\n",
              "      <td>1</td>\n",
              "      <td>2</td>\n",
              "      <td>O</td>\n",
              "    </tr>\n",
              "    <tr>\n",
              "      <th>10</th>\n",
              "      <td>2</td>\n",
              "      <td>how</td>\n",
              "      <td>form</td>\n",
              "      <td>[6]</td>\n",
              "      <td>6</td>\n",
              "      <td>1</td>\n",
              "      <td>2</td>\n",
              "      <td>O</td>\n",
              "    </tr>\n",
              "    <tr>\n",
              "      <th>11</th>\n",
              "      <td>3</td>\n",
              "      <td>rocks</td>\n",
              "      <td>form</td>\n",
              "      <td>[6]</td>\n",
              "      <td>6</td>\n",
              "      <td>1</td>\n",
              "      <td>2</td>\n",
              "      <td>A0-B</td>\n",
              "    </tr>\n",
              "    <tr>\n",
              "      <th>12</th>\n",
              "      <td>4</td>\n",
              "      <td>and</td>\n",
              "      <td>form</td>\n",
              "      <td>[6]</td>\n",
              "      <td>6</td>\n",
              "      <td>1</td>\n",
              "      <td>2</td>\n",
              "      <td>A0-I</td>\n",
              "    </tr>\n",
              "    <tr>\n",
              "      <th>13</th>\n",
              "      <td>5</td>\n",
              "      <td>minerals</td>\n",
              "      <td>form</td>\n",
              "      <td>[6]</td>\n",
              "      <td>6</td>\n",
              "      <td>1</td>\n",
              "      <td>2</td>\n",
              "      <td>A0-I</td>\n",
              "    </tr>\n",
              "    <tr>\n",
              "      <th>14</th>\n",
              "      <td>6</td>\n",
              "      <td>form</td>\n",
              "      <td>form</td>\n",
              "      <td>[6]</td>\n",
              "      <td>6</td>\n",
              "      <td>1</td>\n",
              "      <td>2</td>\n",
              "      <td>P-B</td>\n",
              "    </tr>\n",
              "  </tbody>\n",
              "</table>\n",
              "</div>\n",
              "      <button class=\"colab-df-convert\" onclick=\"convertToInteractive('df-3764acf7-9f53-4dbc-9310-02b61d797c4c')\"\n",
              "              title=\"Convert this dataframe to an interactive table.\"\n",
              "              style=\"display:none;\">\n",
              "        \n",
              "  <svg xmlns=\"http://www.w3.org/2000/svg\" height=\"24px\"viewBox=\"0 0 24 24\"\n",
              "       width=\"24px\">\n",
              "    <path d=\"M0 0h24v24H0V0z\" fill=\"none\"/>\n",
              "    <path d=\"M18.56 5.44l.94 2.06.94-2.06 2.06-.94-2.06-.94-.94-2.06-.94 2.06-2.06.94zm-11 1L8.5 8.5l.94-2.06 2.06-.94-2.06-.94L8.5 2.5l-.94 2.06-2.06.94zm10 10l.94 2.06.94-2.06 2.06-.94-2.06-.94-.94-2.06-.94 2.06-2.06.94z\"/><path d=\"M17.41 7.96l-1.37-1.37c-.4-.4-.92-.59-1.43-.59-.52 0-1.04.2-1.43.59L10.3 9.45l-7.72 7.72c-.78.78-.78 2.05 0 2.83L4 21.41c.39.39.9.59 1.41.59.51 0 1.02-.2 1.41-.59l7.78-7.78 2.81-2.81c.8-.78.8-2.07 0-2.86zM5.41 20L4 18.59l7.72-7.72 1.47 1.35L5.41 20z\"/>\n",
              "  </svg>\n",
              "      </button>\n",
              "      \n",
              "  <style>\n",
              "    .colab-df-container {\n",
              "      display:flex;\n",
              "      flex-wrap:wrap;\n",
              "      gap: 12px;\n",
              "    }\n",
              "\n",
              "    .colab-df-convert {\n",
              "      background-color: #E8F0FE;\n",
              "      border: none;\n",
              "      border-radius: 50%;\n",
              "      cursor: pointer;\n",
              "      display: none;\n",
              "      fill: #1967D2;\n",
              "      height: 32px;\n",
              "      padding: 0 0 0 0;\n",
              "      width: 32px;\n",
              "    }\n",
              "\n",
              "    .colab-df-convert:hover {\n",
              "      background-color: #E2EBFA;\n",
              "      box-shadow: 0px 1px 2px rgba(60, 64, 67, 0.3), 0px 1px 3px 1px rgba(60, 64, 67, 0.15);\n",
              "      fill: #174EA6;\n",
              "    }\n",
              "\n",
              "    [theme=dark] .colab-df-convert {\n",
              "      background-color: #3B4455;\n",
              "      fill: #D2E3FC;\n",
              "    }\n",
              "\n",
              "    [theme=dark] .colab-df-convert:hover {\n",
              "      background-color: #434B5C;\n",
              "      box-shadow: 0px 1px 3px 1px rgba(0, 0, 0, 0.15);\n",
              "      filter: drop-shadow(0px 1px 2px rgba(0, 0, 0, 0.3));\n",
              "      fill: #FFFFFF;\n",
              "    }\n",
              "  </style>\n",
              "\n",
              "      <script>\n",
              "        const buttonEl =\n",
              "          document.querySelector('#df-3764acf7-9f53-4dbc-9310-02b61d797c4c button.colab-df-convert');\n",
              "        buttonEl.style.display =\n",
              "          google.colab.kernel.accessAllowed ? 'block' : 'none';\n",
              "\n",
              "        async function convertToInteractive(key) {\n",
              "          const element = document.querySelector('#df-3764acf7-9f53-4dbc-9310-02b61d797c4c');\n",
              "          const dataTable =\n",
              "            await google.colab.kernel.invokeFunction('convertToInteractive',\n",
              "                                                     [key], {});\n",
              "          if (!dataTable) return;\n",
              "\n",
              "          const docLinkHtml = 'Like what you see? Visit the ' +\n",
              "            '<a target=\"_blank\" href=https://colab.research.google.com/notebooks/data_table.ipynb>data table notebook</a>'\n",
              "            + ' to learn more about interactive tables.';\n",
              "          element.innerHTML = '';\n",
              "          dataTable['output_type'] = 'display_data';\n",
              "          await google.colab.output.renderOutput(dataTable, element);\n",
              "          const docLink = document.createElement('div');\n",
              "          docLink.innerHTML = docLinkHtml;\n",
              "          element.appendChild(docLink);\n",
              "        }\n",
              "      </script>\n",
              "    </div>\n",
              "  </div>\n",
              "  "
            ]
          },
          "metadata": {},
          "execution_count": 4
        }
      ]
    },
    {
      "cell_type": "code",
      "source": [
        "df_nl = pd.DataFrame(columns = [\"sentence\", \"subject\", \"predicate\", \"object\"])\n",
        "\n",
        "current_Sentence_ID = df.Sentence_ID[0]\n",
        "\n",
        "for i in range(20):\n",
        "  print(current_Sentence_ID)\n",
        "  df_relevant_words = df[df[\"Sentence_ID\"] == current_Sentence_ID]\n",
        "  \n"
      ],
      "metadata": {
        "colab": {
          "base_uri": "https://localhost:8080/"
        },
        "id": "2_aysKTs0Isx",
        "outputId": "f22e2857-a015-49ed-8d11-8c8d5b28b03d"
      },
      "execution_count": 5,
      "outputs": [
        {
          "output_type": "stream",
          "name": "stdout",
          "text": [
            "[1]\n",
            "[1]\n",
            "[1]\n",
            "[1]\n",
            "[1]\n",
            "[1]\n",
            "[1]\n",
            "[1]\n",
            "[1]\n",
            "[1]\n",
            "[1]\n",
            "[1]\n",
            "[1]\n",
            "[1]\n",
            "[1]\n",
            "[1]\n",
            "[1]\n",
            "[1]\n",
            "[1]\n",
            "[1]\n"
          ]
        }
      ]
    },
    {
      "cell_type": "markdown",
      "source": [
        "## Applying AutoModelForTokenClassification BERT to the CoNLL data"
      ],
      "metadata": {
        "id": "3T2vXDQRxMCu"
      }
    },
    {
      "cell_type": "code",
      "source": [
        "from transformers import AutoModelForTokenClassification, AutoTokenizer\n",
        "\n",
        "model_name = \"bert-base-cased\"\n",
        "model = AutoModelForTokenClassification.from_pretrained(model_name)\n",
        "tokenizer = AutoTokenizer.from_pretrained(model_name)\n"
      ],
      "metadata": {
        "colab": {
          "base_uri": "https://localhost:8080/"
        },
        "id": "-1RxqxA-xENs",
        "outputId": "39878081-255d-42d4-bf40-4ff636b003ca"
      },
      "execution_count": null,
      "outputs": [
        {
          "output_type": "stream",
          "name": "stderr",
          "text": [
            "Some weights of the model checkpoint at bert-base-cased were not used when initializing BertForTokenClassification: ['cls.predictions.transform.LayerNorm.bias', 'cls.predictions.decoder.weight', 'cls.predictions.bias', 'cls.predictions.transform.dense.bias', 'cls.seq_relationship.weight', 'cls.seq_relationship.bias', 'cls.predictions.transform.LayerNorm.weight', 'cls.predictions.transform.dense.weight']\n",
            "- This IS expected if you are initializing BertForTokenClassification from the checkpoint of a model trained on another task or with another architecture (e.g. initializing a BertForSequenceClassification model from a BertForPreTraining model).\n",
            "- This IS NOT expected if you are initializing BertForTokenClassification from the checkpoint of a model that you expect to be exactly identical (initializing a BertForSequenceClassification model from a BertForSequenceClassification model).\n",
            "Some weights of BertForTokenClassification were not initialized from the model checkpoint at bert-base-cased and are newly initialized: ['classifier.bias', 'classifier.weight']\n",
            "You should probably TRAIN this model on a down-stream task to be able to use it for predictions and inference.\n"
          ]
        }
      ]
    },
    {
      "cell_type": "code",
      "source": [
        "def encode_tags(tags, encodings):\n",
        "    labels = [[tag2id[tag] for tag in doc] for doc in tags]\n",
        "    encoded_labels = []\n",
        "    for doc_labels, doc_offset in zip(labels, encodings.offset_mapping):\n",
        "        # create an empty array of -100\n",
        "        doc_enc_labels = np.ones(len(doc_offset),dtype=int) * -100\n",
        "        arr_offset = np.array(doc_offset)\n",
        "\n",
        "        # set labels whose first offset position is 0 and the second is not 0\n",
        "        doc_enc_labels[(arr_offset[:,0] == 0) & (arr_offset[:,1] != 0)] = doc_labels\n",
        "        encoded_labels.append(doc_enc_labels.tolist())\n",
        "\n",
        "    return encoded_labels\n",
        "\n",
        "# Encoding the words and the labels\n",
        "text = df.groupby(\"Sentence_ID\")[\"Token\"].apply(list).tolist()\n",
        "tags = df.groupby(\"Sentence_ID\")[\"Argument_Label\"].apply(list).tolist()\n",
        "\n",
        "tag_values = list(set(df[\"Argument_Label\"].values))\n",
        "tag2id = {t: i for i, t in enumerate(tag_values)}\n",
        "\n",
        "encodings = tokenizer(text, is_split_into_words=True, return_offsets_mapping=True, padding=True, truncation=True)\n",
        "labels = encode_tags(tags, encodings)\n",
        "\n",
        "# Preparing the final dataset\n",
        "encodings[\"labels\"] = label"
      ],
      "metadata": {
        "colab": {
          "base_uri": "https://localhost:8080/",
          "height": 443
        },
        "id": "CvP7byyayep5",
        "outputId": "3ddd9c58-5bc3-41d7-98ff-cfbc9d0c440b"
      },
      "execution_count": null,
      "outputs": [
        {
          "output_type": "error",
          "ename": "TypeError",
          "evalue": "ignored",
          "traceback": [
            "\u001b[0;31m---------------------------------------------------------------------------\u001b[0m",
            "\u001b[0;31mTypeError\u001b[0m                                 Traceback (most recent call last)",
            "\u001b[0;32m<ipython-input-8-50a66848f0ea>\u001b[0m in \u001b[0;36m<cell line: 22>\u001b[0;34m()\u001b[0m\n\u001b[1;32m     20\u001b[0m \u001b[0mtag2id\u001b[0m \u001b[0;34m=\u001b[0m \u001b[0;34m{\u001b[0m\u001b[0mt\u001b[0m\u001b[0;34m:\u001b[0m \u001b[0mi\u001b[0m \u001b[0;32mfor\u001b[0m \u001b[0mi\u001b[0m\u001b[0;34m,\u001b[0m \u001b[0mt\u001b[0m \u001b[0;32min\u001b[0m \u001b[0menumerate\u001b[0m\u001b[0;34m(\u001b[0m\u001b[0mtag_values\u001b[0m\u001b[0;34m)\u001b[0m\u001b[0;34m}\u001b[0m\u001b[0;34m\u001b[0m\u001b[0;34m\u001b[0m\u001b[0m\n\u001b[1;32m     21\u001b[0m \u001b[0;34m\u001b[0m\u001b[0m\n\u001b[0;32m---> 22\u001b[0;31m \u001b[0mencodings\u001b[0m \u001b[0;34m=\u001b[0m \u001b[0mtokenizer\u001b[0m\u001b[0;34m(\u001b[0m\u001b[0mtext\u001b[0m\u001b[0;34m,\u001b[0m \u001b[0mis_split_into_words\u001b[0m\u001b[0;34m=\u001b[0m\u001b[0;32mTrue\u001b[0m\u001b[0;34m,\u001b[0m \u001b[0mreturn_offsets_mapping\u001b[0m\u001b[0;34m=\u001b[0m\u001b[0;32mTrue\u001b[0m\u001b[0;34m,\u001b[0m \u001b[0mpadding\u001b[0m\u001b[0;34m=\u001b[0m\u001b[0;32mTrue\u001b[0m\u001b[0;34m,\u001b[0m \u001b[0mtruncation\u001b[0m\u001b[0;34m=\u001b[0m\u001b[0;32mTrue\u001b[0m\u001b[0;34m)\u001b[0m\u001b[0;34m\u001b[0m\u001b[0;34m\u001b[0m\u001b[0m\n\u001b[0m\u001b[1;32m     23\u001b[0m \u001b[0mlabels\u001b[0m \u001b[0;34m=\u001b[0m \u001b[0mencode_tags\u001b[0m\u001b[0;34m(\u001b[0m\u001b[0mtags\u001b[0m\u001b[0;34m,\u001b[0m \u001b[0mencodings\u001b[0m\u001b[0;34m)\u001b[0m\u001b[0;34m\u001b[0m\u001b[0;34m\u001b[0m\u001b[0m\n\u001b[1;32m     24\u001b[0m \u001b[0;34m\u001b[0m\u001b[0m\n",
            "\u001b[0;32m/usr/local/lib/python3.10/dist-packages/transformers/tokenization_utils_base.py\u001b[0m in \u001b[0;36m__call__\u001b[0;34m(self, text, text_pair, text_target, text_pair_target, add_special_tokens, padding, truncation, max_length, stride, is_split_into_words, pad_to_multiple_of, return_tensors, return_token_type_ids, return_attention_mask, return_overflowing_tokens, return_special_tokens_mask, return_offsets_mapping, return_length, verbose, **kwargs)\u001b[0m\n\u001b[1;32m   2546\u001b[0m             \u001b[0;32mif\u001b[0m \u001b[0;32mnot\u001b[0m \u001b[0mself\u001b[0m\u001b[0;34m.\u001b[0m\u001b[0m_in_target_context_manager\u001b[0m\u001b[0;34m:\u001b[0m\u001b[0;34m\u001b[0m\u001b[0;34m\u001b[0m\u001b[0m\n\u001b[1;32m   2547\u001b[0m                 \u001b[0mself\u001b[0m\u001b[0;34m.\u001b[0m\u001b[0m_switch_to_input_mode\u001b[0m\u001b[0;34m(\u001b[0m\u001b[0;34m)\u001b[0m\u001b[0;34m\u001b[0m\u001b[0;34m\u001b[0m\u001b[0m\n\u001b[0;32m-> 2548\u001b[0;31m             \u001b[0mencodings\u001b[0m \u001b[0;34m=\u001b[0m \u001b[0mself\u001b[0m\u001b[0;34m.\u001b[0m\u001b[0m_call_one\u001b[0m\u001b[0;34m(\u001b[0m\u001b[0mtext\u001b[0m\u001b[0;34m=\u001b[0m\u001b[0mtext\u001b[0m\u001b[0;34m,\u001b[0m \u001b[0mtext_pair\u001b[0m\u001b[0;34m=\u001b[0m\u001b[0mtext_pair\u001b[0m\u001b[0;34m,\u001b[0m \u001b[0;34m**\u001b[0m\u001b[0mall_kwargs\u001b[0m\u001b[0;34m)\u001b[0m\u001b[0;34m\u001b[0m\u001b[0;34m\u001b[0m\u001b[0m\n\u001b[0m\u001b[1;32m   2549\u001b[0m         \u001b[0;32mif\u001b[0m \u001b[0mtext_target\u001b[0m \u001b[0;32mis\u001b[0m \u001b[0;32mnot\u001b[0m \u001b[0;32mNone\u001b[0m\u001b[0;34m:\u001b[0m\u001b[0;34m\u001b[0m\u001b[0;34m\u001b[0m\u001b[0m\n\u001b[1;32m   2550\u001b[0m             \u001b[0mself\u001b[0m\u001b[0;34m.\u001b[0m\u001b[0m_switch_to_target_mode\u001b[0m\u001b[0;34m(\u001b[0m\u001b[0;34m)\u001b[0m\u001b[0;34m\u001b[0m\u001b[0;34m\u001b[0m\u001b[0m\n",
            "\u001b[0;32m/usr/local/lib/python3.10/dist-packages/transformers/tokenization_utils_base.py\u001b[0m in \u001b[0;36m_call_one\u001b[0;34m(self, text, text_pair, add_special_tokens, padding, truncation, max_length, stride, is_split_into_words, pad_to_multiple_of, return_tensors, return_token_type_ids, return_attention_mask, return_overflowing_tokens, return_special_tokens_mask, return_offsets_mapping, return_length, verbose, **kwargs)\u001b[0m\n\u001b[1;32m   2632\u001b[0m                 )\n\u001b[1;32m   2633\u001b[0m             \u001b[0mbatch_text_or_text_pairs\u001b[0m \u001b[0;34m=\u001b[0m \u001b[0mlist\u001b[0m\u001b[0;34m(\u001b[0m\u001b[0mzip\u001b[0m\u001b[0;34m(\u001b[0m\u001b[0mtext\u001b[0m\u001b[0;34m,\u001b[0m \u001b[0mtext_pair\u001b[0m\u001b[0;34m)\u001b[0m\u001b[0;34m)\u001b[0m \u001b[0;32mif\u001b[0m \u001b[0mtext_pair\u001b[0m \u001b[0;32mis\u001b[0m \u001b[0;32mnot\u001b[0m \u001b[0;32mNone\u001b[0m \u001b[0;32melse\u001b[0m \u001b[0mtext\u001b[0m\u001b[0;34m\u001b[0m\u001b[0;34m\u001b[0m\u001b[0m\n\u001b[0;32m-> 2634\u001b[0;31m             return self.batch_encode_plus(\n\u001b[0m\u001b[1;32m   2635\u001b[0m                 \u001b[0mbatch_text_or_text_pairs\u001b[0m\u001b[0;34m=\u001b[0m\u001b[0mbatch_text_or_text_pairs\u001b[0m\u001b[0;34m,\u001b[0m\u001b[0;34m\u001b[0m\u001b[0;34m\u001b[0m\u001b[0m\n\u001b[1;32m   2636\u001b[0m                 \u001b[0madd_special_tokens\u001b[0m\u001b[0;34m=\u001b[0m\u001b[0madd_special_tokens\u001b[0m\u001b[0;34m,\u001b[0m\u001b[0;34m\u001b[0m\u001b[0;34m\u001b[0m\u001b[0m\n",
            "\u001b[0;32m/usr/local/lib/python3.10/dist-packages/transformers/tokenization_utils_base.py\u001b[0m in \u001b[0;36mbatch_encode_plus\u001b[0;34m(self, batch_text_or_text_pairs, add_special_tokens, padding, truncation, max_length, stride, is_split_into_words, pad_to_multiple_of, return_tensors, return_token_type_ids, return_attention_mask, return_overflowing_tokens, return_special_tokens_mask, return_offsets_mapping, return_length, verbose, **kwargs)\u001b[0m\n\u001b[1;32m   2823\u001b[0m         )\n\u001b[1;32m   2824\u001b[0m \u001b[0;34m\u001b[0m\u001b[0m\n\u001b[0;32m-> 2825\u001b[0;31m         return self._batch_encode_plus(\n\u001b[0m\u001b[1;32m   2826\u001b[0m             \u001b[0mbatch_text_or_text_pairs\u001b[0m\u001b[0;34m=\u001b[0m\u001b[0mbatch_text_or_text_pairs\u001b[0m\u001b[0;34m,\u001b[0m\u001b[0;34m\u001b[0m\u001b[0;34m\u001b[0m\u001b[0m\n\u001b[1;32m   2827\u001b[0m             \u001b[0madd_special_tokens\u001b[0m\u001b[0;34m=\u001b[0m\u001b[0madd_special_tokens\u001b[0m\u001b[0;34m,\u001b[0m\u001b[0;34m\u001b[0m\u001b[0;34m\u001b[0m\u001b[0m\n",
            "\u001b[0;32m/usr/local/lib/python3.10/dist-packages/transformers/tokenization_utils_fast.py\u001b[0m in \u001b[0;36m_batch_encode_plus\u001b[0;34m(self, batch_text_or_text_pairs, add_special_tokens, padding_strategy, truncation_strategy, max_length, stride, is_split_into_words, pad_to_multiple_of, return_tensors, return_token_type_ids, return_attention_mask, return_overflowing_tokens, return_special_tokens_mask, return_offsets_mapping, return_length, verbose)\u001b[0m\n\u001b[1;32m    426\u001b[0m         )\n\u001b[1;32m    427\u001b[0m \u001b[0;34m\u001b[0m\u001b[0m\n\u001b[0;32m--> 428\u001b[0;31m         encodings = self._tokenizer.encode_batch(\n\u001b[0m\u001b[1;32m    429\u001b[0m             \u001b[0mbatch_text_or_text_pairs\u001b[0m\u001b[0;34m,\u001b[0m\u001b[0;34m\u001b[0m\u001b[0;34m\u001b[0m\u001b[0m\n\u001b[1;32m    430\u001b[0m             \u001b[0madd_special_tokens\u001b[0m\u001b[0;34m=\u001b[0m\u001b[0madd_special_tokens\u001b[0m\u001b[0;34m,\u001b[0m\u001b[0;34m\u001b[0m\u001b[0;34m\u001b[0m\u001b[0m\n",
            "\u001b[0;31mTypeError\u001b[0m: PreTokenizedEncodeInput must be Union[PreTokenizedInputSequence, Tuple[PreTokenizedInputSequence, PreTokenizedInputSequence]]"
          ]
        }
      ]
    },
    {
      "cell_type": "code",
      "source": [
        "import torch\n",
        "from torch.utils.data import Dataset, DataLoader\n",
        "\n",
        "class SRLDataset(Dataset):\n",
        "    def __init__(self, encodings):\n",
        "        self.encodings = encodings\n",
        "\n",
        "    def __getitem__(self, idx):\n",
        "        item = {key: torch.tensor(val[idx]) for key, val in self.encodings.items()}\n",
        "        item['labels'] = torch.tensor(item['labels'])\n",
        "        return item\n",
        "\n",
        "    def __len__(self):\n",
        "        return len(self.encodings.input_ids)\n",
        "\n",
        "dataset = SRLDataset(encodings)\n",
        "dataloader = DataLoader(dataset, batch_size=16, shuffle=True)\n",
        "\n",
        "\n",
        "####\n",
        "\n",
        "from transformers import AdamW\n",
        "\n",
        "device = torch.device(\"cuda\") if torch.cuda.is_available() else torch.device(\"cpu\")\n",
        "\n",
        "model.to(device)\n",
        "\n",
        "optim = AdamW(model.parameters(), lr=5e-5)\n",
        "\n",
        "for epoch in range(10):\n",
        "    total_loss = 0\n",
        "    model.train()\n",
        "\n",
        "    for batch in dataloader:\n",
        "        optim.zero_grad()\n",
        "\n",
        "        input_ids = batch['input_ids'].to(device)\n",
        "        attention_mask = batch['attention_mask'].to(device)\n",
        "        labels = batch['labels'].to(device)\n",
        "\n",
        "        outputs = model(input_ids, attention_mask=attention_mask, labels=labels)\n",
        "        loss = outputs[0]\n",
        "        loss.backward()\n",
        "        optim.step()\n",
        "\n",
        "        total_loss += loss.item()\n",
        "\n",
        "    print(f\"Epoch: {epoch}, Loss: {total_loss}\")\n",
        "\n"
      ],
      "metadata": {
        "id": "2BWN_ssbyi8x"
      },
      "execution_count": null,
      "outputs": []
    },
    {
      "cell_type": "markdown",
      "source": [
        "Experimenting with formatting the data:"
      ],
      "metadata": {
        "id": "AHb_Ve1xxFhM"
      }
    },
    {
      "cell_type": "code",
      "source": [
        "# Create an empty list to store the tuples\n",
        "tuples = []\n",
        "\n",
        "# Group the dataframe by Sentence_ID\n",
        "grouped = df.groupby('Sentence_ID')\n",
        "\n",
        "# Iterate over the groups\n",
        "for name, group in grouped:\n",
        "    # Create a tuple for each group and add it to the list\n",
        "    tuples.append(tuple(group['Token'].values))\n",
        "\n",
        "# Now 'tuples' is a list of tuples, where each tuple contains all the tokens of one information unit.\n",
        "for t in tuples[:10]:\n",
        "    print(t)"
      ],
      "metadata": {
        "colab": {
          "base_uri": "https://localhost:8080/"
        },
        "id": "A-yrWahvQrXD",
        "outputId": "dbb7fbaf-c2b2-40d0-ac47-48159fffddd5"
      },
      "execution_count": null,
      "outputs": [
        {
          "output_type": "stream",
          "name": "stdout",
          "text": [
            "('A', 'reused', 'item', 'can', 'be', 'used', 'in', 'the', 'same', 'way', 'by', 'someone', 'else', '.', 'Well', 'go', 'out', 'on', 'the', 'research', 'vessel', '-LRB-', 'R/V', 'in', 'ship-speak', '-RRB-', 'Atlantis', ',', 'owned', 'by', 'the', 'US', 'Navy', 'and', 'operated', 'by', 'the', 'Woods', 'Hole', 'Oceanographic', 'Institution', 'for', 'the', 'oceanographic', 'community', '.', 'Might', 'a', 'similar', 'ball', 'break', 'up', 'more', 'quickly', ',', 'or', 'be', 'unable', 'to', 'spin', 'as', 'fast', '?')\n",
            "('Studying', 'the', 'layers', 'of', 'rock', 'beneath', 'the', 'surface', 'helps', 'us', 'to', 'understand', 'the', 'history', 'of', 'planet', 'Earth', '-LRB-', 'Figure', '1.12', '-RRB-', '.', 'Trapped', 'heat', 'causes', 'the', 'atmosphere', 'to', 'heat', 'up', '.', 'Using', 'radars', 'and', 'satellites', ',', 'meteorologists', 'work', 'to', 'predict', ',', 'or', 'forecast', ',', 'the', 'weather', '-LRB-', 'Figure', '1.14', '-RRB-', '.', 'Flowing', 'water', 'is', 'a', 'very', 'important', 'agent', 'of', 'erosion', '.', 'Flowing', 'water', 'can', 'erode', 'rocks', 'and', 'soil', '.', 'Flowing', 'water', 'slows', 'down', 'when', 'it', 'reaches', 'flatter', 'land', 'or', 'flows', 'into', 'a', 'body', 'of', 'still', 'water', '.', 'Preserved', 'traces', 'can', 'include', 'footprints', ',', 'burrows', ',', 'or', 'even', 'wastes', '.', 'Look', 'at', 'the', 'Grand', 'Canyon', 'in', 'Figure', '11.8', '.', 'Look', 'at', 'the', 'rock', 'layers', 'in', 'Figure', '11.10', '.', 'Imagine', 'that', 'you', 'start', 'out', 'with', '100', 'grams', 'of', 'carbon-14', '.', 'Take', 'a', 'look', 'at', 'the', 'list', 'of', 'gases', '.', 'Did', 'you', 'ever', 'wonder', 'where', 'the', 'water', 'in', 'your', 'glass', 'came', 'from', 'or', 'where', 'its', 'been', '?', 'Look', 'at', 'the', 'pictures', 'of', 'flowing', 'water', 'in', 'Figure', '13.4', '.', 'Look', 'at', 'the', 'diagram', 'in', 'Figure', '13.11', '.', 'Dissolved', 'minerals', 'give', 'its', 'water', 'a', 'bright', 'blue', 'color', '.', 'Look', 'at', 'the', 'map', 'in', 'Figure', '14.16', '.', 'Making', 'humans', 'safe', 'at', 'such', 'depths', 'costs', 'a', 'lot', 'of', 'money', '.', 'Scalding', 'hot', 'water', 'pours', 'out', 'of', 'the', 'vents', '.', 'Refer', 'to', 'this', 'figure', 'as', 'you', 'read', 'about', 'the', 'layers', 'below', '.', 'Look', 'at', 'the', 'troposphere', 'in', 'Figure', '15.12', '.', 'Rising', 'air', 'is', 'also', 'a', 'main', 'cause', 'of', 'weather', '.', 'Look', 'at', 'Figure', '17.15', '.', 'Look', 'at', 'Figure', '17.19', '.', 'Living', 'things', 'also', 'need', 'nitrogen', '.', 'Adding', 'fertilizer', 'to', 'soil', 'allows', 'more', 'plants', 'to', 'grow', '.', 'Look', 'at', 'Table', '18.1', '.', 'Assume', 'the', 'bacteria', 'population', 'keeps', 'growing', 'at', 'this', 'rate', '.', 'Supplying', 'all', 'those', 'people', 'with', 'energy', 'creates', 'a', 'lot', 'of', 'pollution', '.', 'Distribute', 'resources', 'fairly', '.', 'Conserve', 'resources', 'so', 'they', 'wont', 'run', 'out', '.', 'Starting', 'in', 'the', 'early', '1940s', ',', 'a', 'big', 'chemical', 'company', 'put', 'thousands', 'of', 'barrels', 'of', 'chemical', 'waste', 'into', 'an', 'old', 'canal', '.', 'Look', 'closely', '.', 'Recycle', 'whenever', 'possible', '.', 'Follow', 'the', 'instructions', 'to', 'protect', 'yourself', 'and', 'the', 'environment', '.', 'Reduce', ',', 'reuse', ',', 'recycle', ',', 'or', 'properly', 'dispose', 'of', 'the', 'wastes', '.', 'Reduce', 'the', 'amount', 'of', 'hazardous', 'products', 'you', 'buy', '.', 'Look', 'for', 'the', 'legend', 'on', 'the', 'top', 'left', 'side', 'of', 'the', 'map', '.', 'Imagine', 'wrapping', 'the', 'round', ',', 'ball-shaped', 'Earth', 'with', 'a', 'big', ',', 'flat', 'piece', 'of', 'paper', '.', 'Using', 'this', 'system', 'you', 'can', 'define', 'your', 'location', 'by', 'two', 'numbers', ',', 'latitude', 'and', 'longitude', '.', 'Place', 'your', 'other', 'finger', 'on', 'the', 'longitude', 'along', 'the', 'horizontal', 'axis', 'of', 'the', 'map', '.', 'Move', 'your', 'fingers', 'along', 'the', 'latitude', 'and', 'longitude', 'lines', 'until', 'they', 'meet', '.', 'Place', 'your', 'left', 'finger', 'along', 'the', 'bottom', 'at', '90o', 'W.', 'Move', 'your', 'fingers', 'along', 'the', 'lines', 'until', 'they', 'meet', '.', 'Take', 'one', 'finger', 'and', 'move', 'it', 'along', 'the', 'latitude', 'line', 'to', 'find', 'your', 'latitude', '.', 'Use', 'the', 'compass', 'to', 'find', 'which', 'direction', 'is', '20o', 'E.', 'Walk', '500', 'meters', 'in', 'that', 'direction', 'to', 'reach', 'your', 'destination', '.', 'Look', 'at', 'this', 'view', 'of', 'the', 'Swamp', 'Canyon', 'Trail', 'in', 'Bryce', 'Canyon', 'National', 'Park', ',', 'Utah', '-LRB-', 'Figure', '2.25', '-RRB-', '.', 'Look', 'at', 'this', 'view', 'of', 'the', 'Swamp', 'Canyon', 'Trail', 'in', 'Bryce', 'Canyon', 'National', 'Park', ',', 'Utah', '-LRB-', 'Figure', '2.25', '-RRB-', '.', 'Lets', 'take', 'a', 'closer', 'look', 'at', 'this', '-LRB-', 'Figure', 'Each', 'contour', 'line', 'represents', 'a', 'specific', 'elevation', '.', 'Imagine', 'that', 'the', 'difference', 'between', 'two', 'bold', 'lines', 'is', '100', 'feet', 'and', 'there', 'are', 'five', 'lines', 'between', 'them', '.', 'Lets', 'consider', 'the', 'following', 'principles', ':', '1', '.', 'Hatched', 'concentric', 'circles', 'indicate', 'a', 'depression', '.', 'Try', 'to', 'find', 'the', 'direction', 'a', 'stream', 'flows', '.', 'Look', 'at', 'the', 'topographic', 'map', 'of', 'Stowe', ',', 'Vermont', '-LRB-', 'Figure', '2.28', '-RRB-', '.', 'Determining', 'the', 'slope', 'of', 'the', 'Earths', 'surface', '.', 'Determining', 'the', 'direction', 'of', 'flow', 'for', 'surface', 'water', ',', 'groundwater', ',', 'and', 'mudslides', '.', 'Imagine', 'a', 'world', 'in', 'which', 'everybody', 'had', 'equal', 'access', 'to', 'resources', '.', 'Reducing', 'resource', 'use', 'means', 'just', 'what', 'it', 'says', 'using', 'fewer', 'resources', '.', 'Buy', 'only', 'what', 'you', 'need', '.', 'Buy', 'local', '.', 'Buy', 'durable', 'goods', '.', 'Choose', 'items', 'that', 'are', 'well', 'made', 'so', 'they', 'will', 'last', 'longer', '.', 'Sew', 'on', 'a', 'button', 'instead', 'of', 'buying', 'a', 'new', 'shirt', '.', 'Reusing', 'resources', 'means', 'using', 'items', 'again', 'instead', 'of', 'throwing', 'them', 'away', '.', 'Think', 'about', 'your', 'typical', 'day', '.', 'Consider', 'petroleum', 'as', 'an', 'example', '.', 'Getting', 'fossil', 'fuels', 'so', 'that', 'they', 'can', 'be', 'used', 'takes', 'many', 'steps', '.', 'Using', 'these', 'energy', 'resources', 'also', 'produces', 'pollution', 'and', 'increases', 'global', 'warming', '.', 'Take', 'a', 'bus', 'or', 'train', 'instead', 'of', 'driving', '.', 'Turn', 'off', 'lights', 'when', 'you', 'leave', 'a', 'room', '.', 'Put', 'on', 'a', 'sweater', 'instead', 'of', 'turning', 'up', 'the', 'heat', '.', 'Use', 'of', 'Energy', 'More', 'Efficient', 'Use', 'Another', 'way', 'to', 'use', 'energy', 'more', 'efficiently', 'is', 'with', 'Energy', 'Star', 'appliances', '.', 'Think', 'about', 'all', 'the', 'ways', 'people', 'use', 'water', 'at', 'home', '.', 'Think', 'about', 'all', 'the', 'ways', 'people', 'use', 'water', 'at', 'home', '.', 'Keeping', 'golf', 'courses', 'green', 'uses', 'an', 'incredible', 'amount', 'of', 'water', '.', 'Look', 'at', 'the', 'people', 'in', 'Figure', '21.6', '.', 'Read', 'the', 'tips', 'below', '.', 'Treating', 'water', 'for', 'other', 'purposes', 'may', 'not', 'include', 'all', 'the', 'same', 'steps', '.', 'Treating', 'drinking', 'water', 'requires', 'at', 'least', 'four', 'processes', ':', '1', '.', 'Conserving', 'water', 'means', 'using', 'less', 'of', 'it', '.', 'Follow', 'any', 'bans', 'where', 'you', 'live', '.', 'Fix', 'leaky', 'shower', 'heads', 'and', 'faucets', '.', 'Look', 'at', 'the', 'garden', 'in', 'Figure', '21.20', '.', 'Follow', 'the', 'tips', 'below', 'to', 'save', 'water', 'at', 'home', '.', 'Install', 'water-saving', 'toilets', '.', 'Take', 'shorter', 'showers', '.', 'Burning', 'trees', 'produces', 'most', 'of', 'the', 'same', 'pollutants', 'as', 'burning', 'fossil', 'fuels', '.', 'Imagine', 'a', 'low-level', 'consumer', 'eating', 'a', 'producer', '.', 'Check', 'out', 'http://science.n', 'Knowing', 'the', 'motions', 'of', 'stars', 'helped', 'people', 'keep', 'track', 'of', 'seasons', '.', 'Imagine', 'this', ':', 'Today', 'you', 'can', 'see', 'all', 'of', 'the', 'things', 'Galileo', 'saw', 'using', 'a', 'good', 'pair', 'of', 'binoculars', '.', 'Imagine', 'a', 'cannonball', 'launched', 'from', 'a', 'high', 'mountain', ',', 'as', 'shown', 'in', 'Figure', '23.17', '.', 'Known', 'as', 'a', 'Crew', 'Exploration', 'Vehicle', ',', 'Orion', 'is', 'expected', 'to', 'be', 'ready', 'by', '2016', '.', 'See', 'the', 'video', 'at', '.', 'Looking', 'directly', 'at', 'the', 'Sun', 'can', 'cause', 'blindness', '.', 'Find', 'the', 'appropriate', 'filters', 'for', 'a', 'pair', 'of', 'binoculars', 'or', 'a', 'telescope', 'and', 'enjoy', '!', 'According', 'to', 'the', 'new', 'definition', ',', 'a', 'planet', 'must', ':', 'Orbit', 'a', 'star', '.', 'Named', 'after', 'the', 'Roman', 'goddess', 'of', 'love', ',', 'Venus', 'is', 'the', 'only', 'planet', 'named', 'after', 'a', 'female', '.', 'Named', 'after', 'the', 'Roman', 'goddess', 'of', 'love', ',', 'Venus', 'is', 'the', 'only', 'planet', 'named', 'after', 'a', 'female', '.', 'Viewed', 'through', 'a', 'telescope', ',', 'Venus', 'looks', 'smooth', 'and', 'featureless', '.', 'Viewed', 'from', 'Earth', ',', 'Mars', 'is', 'red', '.', 'Look', 'for', 'Pluto', 'in', 'the', 'next', 'lesson', ',', 'in', 'the', 'discussion', 'of', 'dwarf', 'planets', '.', 'Look', 'for', 'Quaoar', ',', 'Varuna', 'and', 'Orcus', 'to', 'be', 'possibly', 'added', 'to', 'the', 'list', 'of', 'dwarf', 'planets', 'in', 'the', 'future', '.', 'Remember', 'that', 'a', 'light', 'year', 'is', 'the', 'distance', 'light', 'travels', 'in', 'one', 'year', '.', 'Look', 'back', 'at', 'the', 'image', 'of', 'the', 'Andromeda', 'Galaxy', '.', 'Look', 'at', 'the', 'galaxy', 'in', 'Figure', '26.11', '.', 'Remember', 'that', 'different', 'minerals', 'form', 'under', 'different', 'environmental', 'conditions', '.', 'Moving', 'water', ',', 'wind', ',', 'and', 'glaciers', 'then', 'carry', 'these', 'pieces', 'from', 'one', 'place', 'to', 'another', '.', 'Existing', 'rocks', 'can', 'be', 'weathered', 'and', 'eroded', 'to', 'form', 'sediments', '.', 'Leave', 'a', 'shallow', 'dish', 'of', 'salt', 'water', 'out', 'in', 'the', 'Sun', '.', 'Changing', 'grains', 'into', 'biofuels', 'is', 'biomass', 'energy', '.', 'Using', 'the', 'resource', 'may', 'create', 'a', 'large', 'amount', 'of', 'pollution', '.', 'Learn', 'more', 'by', 'watching', 'the', 'resource', 'below', ':', 'MEDIA', 'Click', 'image', 'to', 'the', 'left', 'or', 'use', 'the', 'URL', 'below', '.', 'Using', 'gasoline', 'to', 'power', 'automobiles', 'affects', 'the', 'environment', '.', 'Using', 'fossil', 'fuels', 'affects', 'the', 'environment', 'in', 'a', 'variety', 'of', 'ways', '.', 'Splitting', 'atoms', 'creates', 'dangerous', 'radioactive', 'waste', '.', 'Find', 'out', 'more', 'at', ':', 'http://science.kqed.org/ques', 'MEDIA', 'Click', 'image', 'to', 'the', 'left', 'or', 'use', 'the', 'URL', 'below', '.', 'Moving', 'water', 'has', 'energy', '-LRB-', 'Figure', '5.10', '-RRB-', '.', 'Learn', 'more', 'at', ':', 'http://science.kqed.org/quest/audio/harnessing-power-from-the-sea/', 'MEDIA', 'Click', 'image', 'to', 'the', 'left', 'or', 'use', 'the', 'URL', 'below', '.', 'Moving', 'air', 'can', 'make', 'a', 'turbine', 'spin', ',', 'just', 'like', 'moving', 'water', 'can', '.', 'Moving', 'air', 'can', 'make', 'a', 'turbine', 'spin', ',', 'just', 'like', 'moving', 'water', 'can', '.', 'Moving', 'air', 'has', 'kinetic', 'energy', '.', 'Learn', 'more', 'at', ':', 'http://science.kqed.org/ques', 'MEDIA', 'Click', 'image', 'to', 'the', 'left', 'or', 'use', 'the', 'URL', 'below', '.', 'Weathering', 'causes', 'rocks', 'at', 'the', 'Earths', 'surface', 'to', 'change', 'form', '.', 'Moving', 'water', 'causes', 'abrasion', 'it', 'moves', 'rocks', 'so', 'that', 'they', 'bump', 'against', 'one', 'another', '-LRB-', 'Figure', '9.3', '-RRB-', '.', 'Burrowing', 'animals', 'can', 'also', 'cause', 'weathering', '.', 'Remember', 'that', 'water', 'was', 'a', 'main', 'agent', 'of', 'mechanical', 'weathering', '.', 'Click', 'image', 'to', 'the', 'left', 'or', 'use', 'the', 'URL', 'below', '.', 'Click', 'image', 'to', 'the', 'left', 'or', 'use', 'the', 'URL', 'below', '.', 'Using', 'a', 'combination', 'of', 'radiometric', 'dating', ',', 'index', 'fossils', ',', 'and', 'superposition', ',', 'geologists', 'have', 'constructed', 'a', 'well', '-', 'defined', 'timeline', 'of', 'Earth', 'history', '.', 'Click', 'image', 'to', 'the', 'left', 'or', 'use', 'the', 'URL', 'below', '.', 'Increasing', 'the', 'use', 'of', 'artificial', 'fertilizers', 'and', 'chemical', 'pesticides', '.', 'Increasing', 'access', 'to', 'water', '.', 'Click', 'image', 'to', 'the', 'left', 'or', 'use', 'the', 'URL', 'below', '.', 'Click', 'image', 'to', 'the', 'left', 'or', 'use', 'the', 'URL', 'below', '.', 'Click', 'image', 'to', 'the', 'left', 'or', 'use', 'the', 'URL', 'below', '.', 'Click', 'image', 'to', 'the', 'left', 'or', 'use', 'the', 'URL', 'below', '.', 'According', 'to', 'the', 'Big', 'Bang', 'theory', ',', 'the', 'universe', 'began', 'about', '13.7', 'billion', 'years', 'ago', '.', 'Imagine', 'all', 'of', 'the', 'known', 'universe', 'in', 'a', 'single', ',', 'hot', ',', 'chaotic', 'mass', '.', 'Remember', 'that', 'plants', 'do', 'not', 'create', 'energy', '.', 'Remember', 'that', 'the', 'amount', 'of', 'CO2', 'in', 'the', 'atmosphere', 'is', 'very', 'low', '.', 'Added', 'over', 'millions', 'of', 'tanks', 'of', 'gas', 'and', 'coal', 'burned', 'for', 'electricity', 'in', 'power', 'plants', 'and', 'all', 'of', 'the', 'other', 'sources', 'of', 'CO2', ',', 'the', 'result', 'is', 'the', 'increase', 'in', 'atmospheric', 'CO2', 'seen', 'in', 'the', 'Figure', '1.2', '.', 'Added', 'over', 'millions', 'of', 'tanks', 'of', 'gas', 'and', 'coal', 'burned', 'for', 'electricity', 'in', 'power', 'plants', 'and', 'all', 'of', 'the', 'other', 'sources', 'of', 'CO2', ',', 'the', 'result', 'is', 'the', 'increase', 'in', 'atmospheric', 'CO2', 'seen', 'in', 'the', 'Figure', '1.2', '.', 'study', 'the', 'living', 'creatures', 'that', 'make', 'their', 'homes', 'in', 'the', 'types', 'of', 'extreme', 'environments', 'that', 'were', 'typical', 'in', 'Earths', 'early', 'days', '.', 'seek', 'traces', 'of', 'life', 'left', 'by', 'ancient', 'microorganisms', ',', 'also', 'called', 'microbes', ',', 'such', 'as', 'microscopic', 'features', 'or', 'isotopic', 'ratios', 'indicative', 'of', 'life', '.', 'Click', 'image', 'to', 'the', 'left', 'or', 'use', 'the', 'URL', 'below', '.', 'placed', 'hydrogen', ',', 'methane', ',', 'and', 'ammonia', 'in', 'a', 'flask', 'of', 'heated', 'water', 'that', 'created', 'water', 'vapor', ',', 'which', 'they', 'called', 'the', 'primordial', 'soup', '.', 'Sparks', 'simulated', 'lightning', ',', 'which', 'the', 'scientists', 'thought', 'could', 'have', 'been', 'the', 'energy', 'that', 'drove', 'the', 'chemical', 'reactions', 'that', 'created', 'the', 'amino', 'acids', '.', 'Note', 'that', 'sodium', 'is', 'on', 'the', 'left', 'side', 'of', 'the', 'periodic', 'table', 'and', 'that', 'chlorine', 'is', 'on', 'the', 'right', 'side', 'of', 'the', 'periodic', 'table', '.', 'Preventing', 'groundwater', 'contamination', 'is', 'much', 'easier', 'and', 'cheaper', 'than', 'cleaning', 'it', '.', 'Using', 'the', 'well', 'data', ',', 'the', 'hydrologist', 'uses', 'a', 'computer', 'program', 'with', 'information', 'on', 'the', 'permeability', 'of', 'the', 'aquifer', 'and', 'the', 'direction', 'and', 'rate', 'of', 'groundwater', 'flow', ',', 'then', 'models', 'the', 'plume', 'to', 'predict', 'the', 'dispersal', 'of', 'the', 'contaminant', 'through', 'the', 'aquifer', '.', 'Click', 'image', 'to', 'the', 'left', 'or', 'use', 'the', 'URL', 'below', '.', 'Click', 'image', 'to', 'the', 'left', 'or', 'use', 'the', 'URL', 'below', '.', 'Click', 'image', 'to', 'the', 'left', 'or', 'use', 'the', 'URL', 'below', '.', 'Click', 'image', 'to', 'the', 'left', 'or', 'use', 'the', 'URL', 'below', '.', 'Click', 'image', 'to', 'the', 'left', 'or', 'use', 'the', 'URL', 'below', '.', 'Click', 'image', 'to', 'the', 'left', 'or', 'use', 'the', 'URL', 'below', '.', 'Click', 'image', 'to', 'the', 'left', 'or', 'use', 'the', 'URL', 'below', '.', 'Avoid', 'polluting', 'water', 'so', 'that', 'less', 'is', 'needed', '.', 'Convert', 'to', 'more', 'efficient', 'irrigation', 'methods', 'on', 'farms', 'and', 'in', 'gardens', '.', 'Reduce', 'household', 'demand', 'by', 'installing', 'water-saving', 'devices', 'such', 'as', 'low-flow', 'shower', 'heads', 'and', 'toilets', '.', 'Reduce', 'personal', 'demand', 'by', 'turning', 'off', 'the', 'tap', 'when', 'water', 'is', 'not', 'being', 'used', 'and', 'taking', 'shorter', 'showers', '.', 'Click', 'image', 'to', 'the', 'left', 'or', 'use', 'the', 'URL', 'below', '.', 'Click', 'image', 'to', 'the', 'left', 'or', 'use', 'the', 'URL', 'below', '.', 'Click', 'image', 'to', 'the', 'left', 'or', 'use', 'the', 'URL', 'below', '.', 'Click', 'image', 'to', 'the', 'left', 'or', 'use', 'the', 'URL', 'below', '.', 'Click', 'image', 'to', 'the', 'left', 'or', 'use', 'the', 'URL', 'below', '.', 'According', 'to', 'the', 'new', 'definition', ',', 'a', 'planet', 'must', ':', 'Orbit', 'a', 'star', '.', 'According', 'to', 'the', 'IAU', ',', 'a', 'dwarf', 'planet', 'must', ':', 'Orbit', 'a', 'star', '.', 'Click', 'image', 'to', 'the', 'left', 'or', 'use', 'the', 'URL', 'below', '.', 'Click', 'image', 'to', 'the', 'left', 'or', 'use', 'the', 'URL', 'below', '.', 'Click', 'image', 'to', 'the', 'left', 'or', 'use', 'the', 'URL', 'below', '.', 'Click', 'image', 'to', 'the', 'left', 'or', 'use', 'the', 'URL', 'below', '.', 'Recall', 'from', 'the', 'chapter', 'Plate', 'Tectonics', 'that', 'Wegener', 'used', 'the', 'presence', 'of', 'coal', 'beds', 'in', 'Antarctica', 'as', 'one', 'of', 'the', 'lines', 'of', 'evidence', 'for', 'continental', 'drift', '.', 'Click', 'image', 'to', 'the', 'left', 'or', 'use', 'the', 'URL', 'below', '.', 'Becoming', 'a', 'fossil', 'isnt', 'easy', '.', 'Think', 'about', 'an', 'antelope', 'that', 'dies', 'on', 'the', 'African', 'plain', '-LRB-', 'Figure', '??', '-RRB-', '.', 'Use', 'this', 'resource', 'to', 'answer', 'the', 'questions', 'that', 'follow', '.', 'Click', 'image', 'to', 'the', 'left', 'for', 'more', 'content', '.', 'Explain', 'how', 'a', 'fossil', 'is', 'created', '.', 'Click', 'image', 'to', 'the', 'left', 'or', 'use', 'the', 'URL', 'below', '.', 'Try', 'to', 'design', 'an', 'experiment', 'involving', 'a', 'ship', 'and', 'the', 'ocean', 'to', 'show', 'Earth', 'is', 'round', '.', 'Click', 'image', 'to', 'the', 'left', 'or', 'use', 'the', 'URL', 'below', '.', 'take', 'public', 'transit', 'such', 'as', 'subways', '-LRB-', 'see', 'Figure', '1.1', '-RRB-', 'instead', 'of', 'driving', '.', 'drive', 'an', 'energy-efficient', 'vehicle', 'when', 'driving', 'is', 'the', 'only', 'way', 'to', 'get', 'there', '.', 'turn', 'the', 'thermostat', 'down', 'in', 'winter', 'and', 'up', 'in', 'summer', '.', 'turn', 'the', 'thermostat', 'down', 'in', 'winter', 'and', 'up', 'in', 'summer', '.', 'turn', 'the', 'thermostat', 'down', 'in', 'winter', 'and', 'up', 'in', 'summer', '.', 'turn', 'the', 'thermostat', 'down', 'in', 'winter', 'and', 'up', 'in', 'summer', '.', 'Sounds', 'like', 'a', 'win-win', 'situation', '.', 'Growing', 'algae', 'requires', 'much', 'less', 'land', 'and', 'energy', 'than', 'crops', '.', 'Compared', 'to', 'corn', ',', 'algae', 'is', 'not', 'a', 'food', 'crop', ',', 'it', 'can', 'grow', 'in', 'many', 'places', ',', 'its', 'much', 'easier', 'to', 'convert', 'to', 'a', 'usable', 'fuel', ',', 'and', 'its', 'carbon', 'neutral', '.', 'Look', 'at', 'the', 'circle', 'graph', 'in', 'the', 'Figure', '1.1', '.', 'Click', 'image', 'to', 'the', 'left', 'or', 'use', 'the', 'URL', 'below', '.', 'Click', 'image', 'to', 'the', 'left', 'or', 'use', 'the', 'URL', 'below', '.', 'Click', 'image', 'to', 'the', 'left', 'or', 'use', 'the', 'URL', 'below', '.', 'Try', 'to', 'line', 'up', 'the', 'same', 'type', 'of', 'rock', 'on', 'either', 'side', 'of', 'the', 'lines', 'that', 'cut', 'across', 'them', '.', 'Imagine', 'miners', 'extracting', 'a', 're', '-', 'source', 'along', 'a', 'fault', '.', 'Imagine', 'placing', 'one', 'foot', 'on', 'either', 'side', 'of', 'a', 'strike-slip', 'fault', '.', 'Click', 'image', 'to', 'the', 'left', 'or', 'use', 'the', 'URL', 'below', '.', 'Click', 'image', 'to', 'the', 'left', 'or', 'use', 'the', 'URL', 'below', '.', 'Record', 'flow', 'in', 'the', 'Ohio', 'and', 'Mississippi', 'Rivers', 'has', 'to', 'go', 'somewhere', '.', 'Flash', 'floods', 'are', 'sudden', 'and', 'unexpected', ',', 'taking', 'place', 'when', 'very', 'intense', 'rains', 'fall', 'over', 'a', 'very', 'brief', 'period', '-LRB-', 'Figure', 'streambed', '.', 'Pictured', 'here', 'is', 'some', 'of', 'the', 'damage', 'from', 'the', 'flash', 'flood', '.', 'Click', 'image', 'to', 'the', 'left', 'or', 'use', 'the', 'URL', 'below', '.', 'Understanding', 'the', 'Moons', 'birth', 'and', 'early', 'history', 'reveals', 'a', 'great', 'deal', 'about', 'Earths', 'early', 'days', '.', 'According', 'to', 'this', 'hypothesis', ',', 'the', 'Sun', 'and', 'the', 'planets', 'of', 'our', 'solar', 'system', 'formed', 'about', '4.6', 'billion', 'years', 'ago', 'from', 'the', 'collapse', 'of', 'a', 'giant', 'cloud', 'of', 'gas', 'and', 'dust', ',', 'called', 'a', 'nebula', '.', 'Click', 'image', 'to', 'the', 'left', 'or', 'use', 'the', 'URL', 'below', '.', 'Click', 'image', 'to', 'the', 'left', 'or', 'use', 'the', 'URL', 'below', '.', 'Click', 'image', 'to', 'the', 'left', 'or', 'use', 'the', 'URL', 'below', '.', 'Click', 'image', 'to', 'the', 'left', 'or', 'use', 'the', 'URL', 'below', '.', 'Click', 'image', 'to', 'the', 'left', 'or', 'use', 'the', 'URL', 'below', '.', 'Look', 'back', 'at', 'the', 'picture', 'of', 'the', 'elliptical', 'galaxy', '.', 'Shearing', 'in', 'rocks', '.', 'Click', 'image', 'to', 'the', 'left', 'or', 'use', 'the', 'URL', 'below', '.', 'Click', 'image', 'to', 'the', 'left', 'or', 'use', 'the', 'URL', 'below', '.', 'Remember', 'that', 'water', 'slightly', 'expands', 'as', 'it', 'warms', 'this', 'expansion', 'is', 'also', 'causing', 'sea', 'level', 'to', 'rise', '.', 'Warming', 'temperatures', 'are', 'bringing', 'changes', 'to', 'much', 'of', 'the', 'planet', ',', 'including', 'California', '.', 'Click', 'image', 'to', 'the', 'left', 'or', 'use', 'the', 'URL', 'below', '.', 'Click', 'image', 'to', 'the', 'left', 'or', 'use', 'the', 'URL', 'below', '.', 'Click', 'image', 'to', 'the', 'left', 'or', 'use', 'the', 'URL', 'below', '.', 'Click', 'image', 'to', 'the', 'left', 'or', 'use', 'the', 'URL', 'below', '.', 'Lowering', 'the', 'water', 'table', 'may', 'cause', 'the', 'ground', 'surface', 'to', 'sink', '.', 'Click', 'image', 'to', 'the', 'left', 'or', 'use', 'the', 'URL', 'below', '.', 'Scattering', 'occurs', 'when', 'a', 'light', 'wave', 'strikes', 'a', 'particle', 'and', 'bounces', 'off', 'in', 'some', 'other', 'direction', '.', 'Click', 'image', 'to', 'the', 'left', 'or', 'use', 'the', 'URL', 'below', '.', 'See', 'the', 'Table', '1.1', '.', 'Click', 'image', 'to', 'the', 'left', 'or', 'use', 'the', 'URL', 'below', '.', 'According', 'to', 'the', 'World', 'Meteorological', 'Organization', ',', 'a', 'region', 'is', 'in', 'a', 'heat', 'wave', 'if', 'it', 'has', 'more', 'than', 'five', 'consecutive', 'days', 'of', 'temperatures', 'that', 'are', 'more', 'than', '9', 'F', '-LRB-', '5', 'C', '-RRB-', 'above', 'average', '.', 'Click', 'image', 'to', 'the', 'left', 'or', 'use', 'the', 'URL', 'below', '.', 'Click', 'image', 'to', 'the', 'left', 'or', 'use', 'the', 'URL', 'below', '.', 'Click', 'image', 'to', 'the', 'left', 'or', 'use', 'the', 'URL', 'below', '.', 'Click', 'image', 'to', 'the', 'left', 'or', 'use', 'the', 'URL', 'below', '.', 'Becoming', 'a', 'fossil', 'isnt', 'easy', '.', 'Think', 'about', 'an', 'antelope', 'that', 'dies', 'on', 'the', 'African', 'plain', '-LRB-', 'Figure', '1.2', '-RRB-', '.', 'Click', 'image', 'to', 'the', 'left', 'or', 'use', 'the', 'URL', 'below', '.', 'Click', 'image', 'to', 'the', 'left', 'or', 'use', 'the', 'URL', 'below', '.', 'Click', 'image', 'to', 'the', 'left', 'or', 'use', 'the', 'URL', 'below', '.', 'Standing', 'on', 'two', 'feet', 'allows', 'an', 'organism', 'to', 'see', 'and', 'also', 'to', 'use', 'its', 'hands', 'and', 'arms', 'for', 'hunting', '.', 'Click', 'image', 'to', 'the', 'left', 'or', 'use', 'the', 'URL', 'below', '.', 'Click', 'image', 'to', 'the', 'left', 'or', 'use', 'the', 'URL', 'below', '.', 'Decreased', 'snow', 'packs', ',', 'shrinking', 'glaciers', ',', 'and', 'the', 'earlier', 'arrival', 'of', 'spring', 'will', 'all', 'lessen', 'the', 'amount', 'of', 'water', 'available', 'in', 'some', 'regions', 'of', 'the', 'world', ',', 'including', 'the', 'western', 'United', 'States', 'and', 'much', 'of', 'Asia', '.', 'Lets', 'consider', 'some', 'of', 'the', 'reasons', 'we', 'are', 'lucky', 'to', 'have', 'an', 'atmosphere', '.', 'Click', 'image', 'to', 'the', 'left', 'or', 'use', 'the', 'URL', 'below', '.', 'Click', 'image', 'to', 'the', 'left', 'or', 'use', 'the', 'URL', 'below', '.', 'Click', 'image', 'to', 'the', 'left', 'or', 'use', 'the', 'URL', 'below', '.', 'Click', 'image', 'to', 'the', 'left', 'or', 'use', 'the', 'URL', 'below', '.', 'Click', 'image', 'to', 'the', 'left', 'or', 'use', 'the', 'URL', 'below', '.', 'Click', 'image', 'to', 'the', 'left', 'for', 'more', 'content', '.', 'Recall', 'from', 'Concept', 'Plate', 'Tectonics', 'that', 'Wegener', 'used', 'the', 'presence', 'of', 'coal', 'beds', 'in', 'Antarctica', 'as', 'one', 'of', 'the', 'lines', 'of', 'evidence', 'for', 'continental', 'drift', '.', 'Use', 'this', 'resource', 'to', 'answer', 'the', 'questions', 'that', 'follow', '.', 'Click', 'image', 'to', 'the', 'left', 'or', 'use', 'the', 'URL', 'below', '.', 'Click', 'image', 'to', 'the', 'left', 'or', 'use', 'the', 'URL', 'below', '.', 'Cooled', 'lava', 'forms', 'basalt', 'with', 'no', 'visible', 'crystals', '.', 'Click', 'image', 'to', 'the', 'left', 'or', 'use', 'the', 'URL', 'below', '.', 'Click', 'image', 'to', 'the', 'left', 'or', 'use', 'the', 'URL', 'below', '.', 'Melting', 'glaciers', 'deposit', 'all', 'the', 'big', 'and', 'small', 'bits', 'of', 'rocky', 'material', 'they', 'are', 'carrying', 'in', 'a', 'pile', '.', 'Click', 'image', 'to', 'the', 'left', 'or', 'use', 'the', 'URL', 'below', '.', 'Working', 'slowly', 'over', 'many', 'years', ',', 'groundwater', 'travels', 'along', 'small', 'cracks', '.', 'Check', 'it', 'out', ':', 'A', 'relatively', 'small', 'sinkhole', 'in', 'a', 'Georgia', 'parking', 'lot', '.', 'Accumulated', 'sediments', 'harden', 'into', 'rock', 'by', 'lithification', ',', 'as', 'illustrated', 'in', 'the', 'Figure', '1.1', '.', 'Click', 'image', 'to', 'the', 'left', 'or', 'use', 'the', 'URL', 'below', '.', 'Click', 'image', 'to', 'the', 'left', 'or', 'use', 'the', 'URL', 'below', '.', 'Click', 'image', 'to', 'the', 'left', 'or', 'use', 'the', 'URL', 'below', '.', 'Viewed', 'from', 'Earth', ',', 'Mars', 'is', 'reddish', 'in', 'color', '.', 'Click', 'image', 'to', 'the', 'left', 'or', 'use', 'the', 'URL', 'below', '.', 'Click', 'image', 'to', 'the', 'left', 'or', 'use', 'the', 'URL', 'below', '.', 'Moving', 'water', 'causes', 'abrasion', 'as', 'particles', 'in', 'the', 'water', 'collide', 'and', 'bump', 'against', 'one', 'another', '.', 'Burrowing', 'animals', 'can', 'also', 'break', 'apart', 'rock', 'as', 'they', 'dig', 'for', 'food', 'or', 'to', 'make', 'living', 'spaces', 'for', 'themselves', '.', 'Limiting', 'intake', 'of', 'large', 'predatory', 'fish', 'is', 'especially', 'important', 'for', 'children', 'and', 'pregnant', 'women', '.', 'Click', 'image', 'to', 'the', 'left', 'or', 'use', 'the', 'URL', 'below', '.', 'Click', 'image', 'to', 'the', 'left', 'or', 'use', 'the', 'URL', 'below', '.', 'Click', 'image', 'to', 'the', 'left', 'or', 'use', 'the', 'URL', 'below', '.', 'Click', 'image', 'to', 'the', 'left', 'or', 'use', 'the', 'URL', 'below', '.', 'Click', 'image', 'to', 'the', 'left', 'or', 'use', 'the', 'URL', 'below', '.', 'Click', 'image', 'to', 'the', 'left', 'or', 'use', 'the', 'URL', 'below', '.', 'Click', 'image', 'to', 'the', 'left', 'or', 'use', 'the', 'URL', 'below', '.', 'Click', 'image', 'to', 'the', 'left', 'or', 'use', 'the', 'URL', 'below', '.', 'Click', 'image', 'to', 'the', 'left', 'or', 'use', 'the', 'URL', 'below', '.', 'Click', 'image', 'to', 'the', 'left', 'or', 'use', 'the', 'URL', 'below', '.', 'Conserve', 'energy', 'at', 'home', '-LRB-', 'turn', 'out', 'lights', 'when', 'they', 'are', 'not', 'needed', '-RRB-', '.', 'Click', 'image', 'to', 'the', 'left', 'or', 'use', 'the', 'URL', 'below', '.', 'Reduce', 'excess', 'packaging', '-LRB-', 'drink', 'tap', 'water', 'instead', 'of', 'water', 'from', 'plastic', 'bottles', '-RRB-', '.', 'Recycle', 'materials', 'such', 'as', 'metal', 'cans', ',', 'old', 'cell', 'phones', ',', 'and', 'plastic', 'bottles', '.', 'Reduce', 'pollution', 'so', 'that', 'resources', 'are', 'maintained', '.', 'Prevent', 'soil', 'erosion', '.', 'Drive', 'cars', 'less', ',', 'take', 'public', 'transportation', ',', 'bicycle', ',', 'or', 'walk', '.', 'Nitrifying', 'bacteria', 'oxidize', 'the', 'ammonia', 'to', 'nitrites', ',', 'while', 'other', 'bacteria', 'oxidize', 'the', 'nitrites', 'to', 'nitrates', ',', 'which', 'can', 'be', 'used', 'by', 'the', 'next', 'generation', 'of', 'plants', '.', 'Click', 'image', 'to', 'the', 'left', 'or', 'use', 'the', 'URL', 'below', '.', 'Damaged', 'building', 'near', 'the', 'site', 'of', 'the', 'Chernobyl', 'disaster', '.', 'Obtaining', 'coal', 'for', 'energy', 'takes', 'a', 'lot', 'of', 'energy', '.', 'Click', 'image', 'to', 'the', 'left', 'or', 'use', 'the', 'URL', 'below', '.', 'Remember', 'that', 'hot', 'spots', 'create', 'volcanoes', 'on', 'the', 'seafloor', '.', 'Click', 'image', 'to', 'the', 'left', 'or', 'use', 'the', 'URL', 'below', '.', 'Working', 'on', 'oil', 'platforms', 'is', 'dangerous', '.', 'Estimating', 'the', 'flow', 'of', 'oil', 'into', 'the', 'Gulf', 'from', 'the', 'well', 'was', 'extremely', 'difficult', 'because', 'the', 'leak', 'was', 'so', 'far', 'below', 'the', 'surface', '.', 'Fearing', 'contamination', ',', 'NOAA', 'imposed', 'a', 'fishing', 'ban', 'on', 'approximately', 'one-third', 'of', 'the', 'Gulf', '-LRB-', 'Figure', '1.5', '-RRB-', '.', 'Click', 'image', 'to', 'the', 'left', 'or', 'use', 'the', 'URL', 'below', '.', 'Click', 'image', 'to', 'the', 'left', 'or', 'use', 'the', 'URL', 'below', '.', 'Click', 'image', 'to', 'the', 'left', 'or', 'use', 'the', 'URL', 'below', '.', 'Decreases', 'in', 'the', 'human', 'immune', 'systems', 'ability', 'to', 'fight', 'off', 'infectious', 'diseases', '.', 'Decreases', 'in', 'phytoplankton', 'productivity', '.', 'Click', 'image', 'to', 'the', 'left', 'or', 'use', 'the', 'URL', 'below', '.', 'Look', 'at', 'the', 'sequence', 'in', 'the', 'Figure', '1.2', 'and', 'see', 'if', 'you', 'can', 'determine', 'whether', 'the', 'sea', 'was', 'transgressing', 'or', 'regressing', '.', 'Look', 'at', 'the', 'sequence', 'in', 'the', 'Figure', '1.2', 'and', 'see', 'if', 'you', 'can', 'determine', 'whether', 'the', 'sea', 'was', 'transgressing', 'or', 'regressing', '.', 'Compared', 'with', 'the', 'long', 'expanse', 'of', 'the', 'Precambrian', ',', 'the', 'Phanerozoic', 'is', 'recent', 'history', '.', 'Click', 'image', 'to', 'the', 'left', 'or', 'use', 'the', 'URL', 'below', '.', 'Trapped', 'above', 'the', 'porous', 'rock', 'layer', 'and', 'beneath', 'the', 'impermeable', 'layer', ',', 'the', 'oil', 'will', 'remain', 'between', 'these', 'layers', 'until', 'it', 'is', 'extracted', 'from', 'the', 'rock', '.', 'Click', 'image', 'to', 'the', 'left', 'or', 'use', 'the', 'URL', 'below', '.', 'Click', 'image', 'to', 'the', 'left', 'or', 'use', 'the', 'URL', 'below', '.', 'Click', 'image', 'to', 'the', 'left', 'or', 'use', 'the', 'URL', 'below', '.', 'Note', 'that', 'some', 'wells', 'are', 'located', 'in', 'very', 'deep', 'water', '.', 'Drill', 'rigs', 'at', 'the', 'San', 'Ardo', 'Oil', 'Field', 'in', 'Monterey', ',', 'California', '.', 'Click', 'image', 'to', 'the', 'left', 'or', 'use', 'the', 'URL', 'below', '.', 'Click', 'image', 'to', 'the', 'left', 'or', 'use', 'the', 'URL', 'below', '.', 'Click', 'image', 'to', 'the', 'left', 'or', 'use', 'the', 'URL', 'below', '.', 'Click', 'image', 'to', 'the', 'left', 'or', 'use', 'the', 'URL', 'below', '.', 'Using', 'the', 'rules', 'listed', 'above', ',', 'try', 'to', 'figure', 'out', 'the', 'geologic', 'history', 'of', 'the', 'geologic', 'column', '.', 'Click', 'image', 'to', 'the', 'left', 'or', 'use', 'the', 'URL', 'below', '.', 'Click', 'image', 'to', 'the', 'left', 'or', 'use', 'the', 'URL', 'below', '.', 'Using', 'sensible', 'principles', 'they', 'could', 'say', 'whether', 'one', 'rock', 'was', 'older', 'than', 'another', 'and', 'when', 'a', 'process', 'occurred', 'relative', 'to', 'those', 'rocks', '.', 'Remember', 'Nicholas', 'Steno', ',', 'who', 'determined', 'that', 'fossils', 'represented', 'parts', 'of', 'once-living', 'organisms', '?', 'Based', 'on', 'the', 'principle', 'of', 'cross', '-', 'cutting', 'relationships', ',', 'the', 'river', 'must', 'be', 'younger', 'than', 'all', 'of', 'the', 'rock', 'layers', 'that', 'it', 'cuts', 'through', '.', 'Click', 'image', 'to', 'the', 'left', 'or', 'use', 'the', 'URL', 'below', '.', 'Keeping', 'water', 'from', 'becoming', 'polluted', 'often', 'requires', 'laws', 'to', 'be', 'sure', 'that', 'people', 'and', 'companies', 'behave', 'responsibly', '.', 'Click', 'image', 'to', 'the', 'left', 'or', 'use', 'the', 'URL', 'below', '.', 'Find', 'approved', 'recycling', 'or', 'disposal', 'facilities', 'for', 'motor', 'oil', 'and', 'household', 'chemicals', '.', 'Keep', 'litter', ',', 'pet', 'waste', ',', 'leaves', ',', 'and', 'grass', 'clippings', 'out', 'of', 'street', 'gutters', 'and', 'storm', 'drains', '.', 'Click', 'image', 'to', 'the', 'left', 'or', 'use', 'the', 'URL', 'below', '.', 'dating', 'materials', '.', 'Click', 'image', 'to', 'the', 'left', 'or', 'use', 'the', 'URL', 'below', '.', 'Using', 'more', 'than', 'one', 'isotope', 'helps', 'scientists', 'to', 'check', 'the', 'accuracy', 'of', 'the', 'ages', 'that', 'they', 'calculate', '.', 'Measuring', 'the', 'ratio', 'of', 'potassium-40', 'to', 'argon-40', 'yields', 'a', 'good', 'estimate', 'of', 'the', 'age', 'of', 'that', 'crystal', '.', 'Reducing', 'air', 'pollution', 'from', 'vehicles', 'can', 'be', 'done', 'in', 'a', 'number', 'of', 'ways', '.', 'Breaking', 'down', 'pollutants', 'before', 'they', 'are', 'released', 'into', 'the', 'atmosphere', '.', 'Developing', 'new', 'technologies', 'that', 'do', 'not', 'use', 'fossil', 'fuels', '.', 'Fueling', 'a', 'car', 'with', 'something', 'other', 'than', 'a', 'liquid', 'organic-based', 'fuel', 'is', 'difficult', '.', 'Making', 'a', 'vehicle', 'more', 'fuel', 'efficient', '.', 'Removing', 'these', 'oxides', 'reduces', 'the', 'pollutants', 'that', 'cause', 'acid', 'rain', '.', 'Using', 'less', 'fossil', 'fuel', 'is', 'one', 'way', 'to', 'lessen', 'pollution', '.', 'Buying', 'a', 'car', 'that', 'has', 'greater', 'fuel', 'efficiency', '.', 'Using', 'energy', 'efficient', 'light', 'bulbs', 'and', 'appliances', '.', 'Buying', 'fewer', 'things', 'that', 'are', 'manufactured', 'using', 'fossil', 'fuels', '.', 'Click', 'image', 'to', 'the', 'left', 'or', 'use', 'the', 'URL', 'below', '.', 'Based', 'only', 'on', 'their', 'calculations', ',', 'the', 'United', 'States', 'and', 'most', 'Scandinavian', 'countries', 'banned', 'CFCs', 'in', 'spray', 'cans', 'in', '1978', '.', 'Lets', 'explore', 'the', 'evolution', 'of', 'the', 'idea', 'that', 'Earth', 'orbits', 'the', 'Sun', '.', 'Click', 'image', 'to', 'the', 'left', 'or', 'use', 'the', 'URL', 'below', '.', 'Click', 'image', 'to', 'the', 'left', 'or', 'use', 'the', 'URL', 'below', '.', 'Weathering', 'wears', 'rocks', 'at', 'the', 'Earths', 'surface', 'down', 'into', 'smaller', 'pieces', '.', 'Running', 'water', ',', 'ice', ',', 'and', 'gravity', 'all', 'transport', 'these', 'sediments', 'from', 'one', 'place', 'to', 'another', 'by', 'erosion', '.', 'Imagine', 'a', 'line', 'passing', 'through', 'the', 'center', 'of', 'Earth', 'that', 'goes', 'through', 'both', 'the', 'North', 'Pole', 'and', 'the', 'South', 'Pole', '.', 'Click', 'image', 'to', 'the', 'left', 'or', 'use', 'the', 'URL', 'below', '.', 'Learn', 'what', 'is', 'being', 'done', 'to', 'decrease', 'the', 'number', 'of', 'people', 'suffering', 'from', 'this', 'parasite', 'at', 'the', 'video', 'below', '.', 'Click', 'image', 'to', 'the', 'left', 'or', 'use', 'the', 'URL', 'below', '.', 'Click', 'image', 'to', 'the', 'left', 'or', 'use', 'the', 'URL', 'below', '.', 'Click', 'image', 'to', 'the', 'left', 'or', 'use', 'the', 'URL', 'below', '.', 'Click', 'image', 'to', 'the', 'left', 'or', 'use', 'the', 'URL', 'below', '.', 'Click', 'image', 'to', 'the', 'left', 'or', 'use', 'the', 'URL', 'below', '.', 'Remember', 'that', 'H2', 'O', 'is', 'a', 'polar', 'molecule', ',', 'so', 'it', 'can', 'dissolve', 'many', 'substances', '-LRB-', 'Figure', '1.1', '-RRB-', '.', 'Living', 'creatures', 'remove', 'ions', ',', 'such', 'as', 'calcium', ',', 'magnesium', ',', 'and', 'potassium', ',', 'from', 'the', 'water', 'to', 'make', 'shells', 'or', 'soft', 'tissue', '.', 'Click', 'image', 'to', 'the', 'left', 'or', 'use', 'the', 'URL', 'below', '.', 'Click', 'image', 'to', 'the', 'left', 'or', 'use', 'the', 'URL', 'below', '.', 'Click', 'image', 'to', 'the', 'left', 'or', 'use', 'the', 'URL', 'below', '.', 'Think', 'about', 'how', 'the', 'color', 'of', 'a', 'piece', 'of', 'metal', 'changes', 'with', 'temperature', '.', 'Note', 'that', 'these', 'letters', 'dont', 'match', 'the', 'color', 'names', ';', 'they', 'are', 'left', 'over', 'from', 'an', 'older', 'system', 'that', 'is', 'no', 'longer', 'used', '.', 'Click', 'image', 'to', 'the', 'left', 'or', 'use', 'the', 'URL', 'below', '.', 'Click', 'image', 'to', 'the', 'left', 'or', 'use', 'the', 'URL', 'below', '.', 'Click', 'image', 'to', 'the', 'left', 'or', 'use', 'the', 'URL', 'below', '.', 'Click', 'image', 'to', 'the', 'left', 'or', 'use', 'the', 'URL', 'below', '.', 'See', 'ice', ',', 'water', ',', 'and', 'clouds', '-LRB-', 'Figure', '1.2', '-RRB-', '.', 'Click', 'image', 'to', 'the', 'left', 'or', 'use', 'the', 'URL', 'below', '.', 'Click', 'image', 'to', 'the', 'left', 'or', 'use', 'the', 'URL', 'below', '.', 'Click', 'image', 'to', 'the', 'left', 'or', 'use', 'the', 'URL', 'below', '.', 'Click', 'image', 'to', 'the', 'left', 'or', 'use', 'the', 'URL', 'below', '.', 'Click', 'image', 'to', 'the', 'left', 'or', 'use', 'the', 'URL', 'below', '.', 'Click', 'image', 'to', 'the', 'left', 'or', 'use', 'the', 'URL', 'below', '.', 'protect', 'the', 'environment', '.', 'Remember', 'that', 'science', 'is', 'falsifiable', '.', 'Click', 'image', 'to', 'the', 'left', 'or', 'use', 'the', 'URL', 'below', '.', 'Created', 'around', '1910', 'by', 'Ejnar', 'Hertzsprung', 'and', 'Henry', 'Norris', 'Russell', ',', 'the', 'diagram', 'provided', 'a', 'great', 'help', 'in', 'understanding', 'stellar', 'evolution', '.', 'Using', 'Aristotles', 'ideas', ',', 'if', 'the', 'earth', 'were', 'moving', 'through', 'space', ',', 'if', 'you', 'tripped', ',', 'you', 'would', 'not', 'be', 'in', 'contact', 'with', 'the', 'earth', ',', 'and', 'so', 'would', 'get', 'left', 'behind', 'in', 'space', '.', 'Returning', 'to', 'Poland', ',', 'Copernicus', 'secured', 'a', 'teaching', 'post', 'at', 'Wroclaw', ',', 'where', 'he', 'primarily', 'worked', 'as', 'a', 'medical', 'doctor', 'and', 'manager', 'of', 'Church', 'affairs', '.', 'Click', 'image', 'to', 'the', 'left', 'or', 'use', 'the', 'URL', 'below', '.', 'Studying', 'ocean', 'tides', 'rhythmic', 'movements', 'helps', 'scientists', 'understand', 'the', 'ocean', 'and', 'the', 'Sun/Moon/Earth', 'system', '.', 'Click', 'image', 'to', 'the', 'left', 'or', 'use', 'the', 'URL', 'below', '.', 'Click', 'image', 'to', 'the', 'left', 'or', 'use', 'the', 'URL', 'below', '.', 'produces', 'a', 'fossil', '.', 'Click', 'image', 'to', 'the', 'left', 'or', 'use', 'the', 'URL', 'below', '.', 'Click', 'image', 'to', 'the', 'left', 'or', 'use', 'the', 'URL', 'below', '.', 'Drip', 'irrigation', 'and', 'other', 'more', 'efficient', 'irrigation', 'methods', 'are', 'more', 'expensive', 'than', 'sprinklers', ',', 'trenches', ',', 'and', 'flooding', '.', 'Growing', 'fish', 'in', 'a', 'large', 'scale', 'requires', 'that', 'the', 'fish', 'stocks', 'are', 'healthy', 'and', 'protected', 'from', 'predators', '.', 'Think', 'about', 'all', 'the', 'ways', 'you', 'use', 'water', 'in', 'a', 'day', '.', 'Convert', 'lawns', 'and', 'gardens', 'to', 'drip-irrigation', 'systems', '.', 'Install', 'low-flow', 'shower', 'heads', 'and', 'low-flow', 'toilets', '.', 'Install', 'low-flow', 'shower', 'heads', 'and', 'low-flow', 'toilets', '.', 'Click', 'image', 'to', 'the', 'left', 'or', 'use', 'the', 'URL', 'below', '.', 'Click', 'image', 'to', 'the', 'left', 'or', 'use', 'the', 'URL', 'below', '.', 'Think', 'about', 'what', 'you', 'know', 'about', 'the', 'geology', 'of', 'Earth', 'and', 'what', 'produces', 'volcanoes', '.', 'Click', 'image', 'to', 'the', 'left', 'or', 'use', 'the', 'URL', 'below', '.', 'Click', 'image', 'to', 'the', 'left', 'or', 'use', 'the', 'URL', 'below', '.', 'Weathering', 'is', 'the', 'process', 'that', 'changes', 'solid', 'rock', 'into', 'sediments', '.', 'Click', 'image', 'to', 'the', 'left', 'or', 'use', 'the', 'URL', 'below', '.', 'Based', 'on', 'his', 'polar', 'experiences', ',', 'Wegener', 'suggested', 'that', 'the', 'continents', 'were', 'like', 'icebreaking', 'ships', 'plowing', 'through', 'ice', 'sheets', '.', 'Click', 'image', 'to', 'the', 'left', 'or', 'use', 'the', 'URL', 'below', '.', 'Remember', 'that', 'a', 'wave', 'is', 'a', 'transfer', 'of', 'energy', '.', 'Do', 'waves', 'only', 'break', 'when', 'they', 'reach', 'shore', '?', 'Click', 'image', 'to', 'the', 'left', 'or', 'use', 'the', 'URL', 'below', '.', 'Watch', 'this', 'amazing', 'flatworm', 'video', 'to', 'learn', 'about', 'some', 'of', 'the', 'other', 'firsts', 'these', 'simple', 'animals', 'achieved', ',', 'including', 'being', 'the', 'first', 'hunters', ':', 'http://shapeoflife.org/video/flatworms-first-hunter', 'MEDIA', 'Click', 'image', 'to', 'the', 'left', 'or', 'use', 'the', 'URL', 'below', '.', 'Watch', 'this', 'short', 'video', 'to', 'see', 'an', 'amazing', 'diversity', 'of', 'mollusks', ':', '.', 'Fertilized', 'eggs', 'develop', 'into', 'larvae', '.', 'Consider', 'the', 'heart', 'as', 'an', 'example', '.', 'Refer', 'to', 'the', 'figure', 'as', 'you', 'read', 'about', 'the', 'epidermis', 'and', 'dermis', 'below', '.', 'Look', 'again', 'at', 'Figure', 'pain', ',', 'pressure', ',', 'and', 'temperature', '.', 'Keeping', 'the', 'skin', 'clean', 'helps', 'prevent', 'acne', '.', 'Protecting', 'your', 'skin', 'in', 'these', 'ways', 'will', 'reduce', 'damage', 'to', 'your', 'skin', 'by', 'ultraviolet', 'light', '.', 'Try', 'to', 'walk', 'without', 'bending', 'your', 'knees', 'and', 'youll', 'see', 'how', 'important', 'the', 'skeletal', 'system', 'is', 'for', 'movement', '.', 'Move', 'these', 'three', 'joints', 'in', 'your', 'own', 'skeleton', 'to', 'experience', 'the', 'range', 'of', 'motion', 'each', 'allows', '.', 'Maximizing', 'the', 'calcium', 'in', 'your', 'bones', 'while', 'youre', 'young', 'will', 'reduce', 'your', 'risk', 'of', 'developing', 'osteoporosis', 'later', 'in', 'of', 'life', '.', 'Wearing', 'a', 'seatbelt', 'when', 'you', 'ride', 'in', 'a', 'motor', 'vehicle', 'and', 'wearing', 'safety', 'gear', 'when', 'you', 'play', 'sports', 'may', 'help', 'prevent', 'bone', 'fractures', '.', 'Warming', 'up', 'adequately', 'and', 'stretching', 'before', 'playing', 'sports', 'may', 'reduce', 'the', 'risk', 'of', 'a', 'sprain', '.', 'Exercising', 'muscles', 'increases', 'their', 'size', ',', 'and', 'bigger', 'muscles', 'have', 'greater', 'strength', '.', 'Lifting', 'weights', 'is', 'one', 'way', 'to', 'pit', 'skeletal', 'muscles', 'against', 'a', 'resisting', 'force', '.', 'Snowshoeing', 'is', 'a', 'fun', 'way', 'to', 'get', 'aerobic', 'exercise', '.', 'Stretching', 'also', 'helps', 'prevent', 'muscle', 'injuries', '.', 'Getting', 'too', 'much', 'of', 'some', 'minerals', 'can', 'also', 'cause', 'health', 'problems', '.', 'Does', 'the', 'sight', 'or', 'smell', 'of', 'your', 'favorite', 'food', 'make', 'your', 'mouth', 'water', '?', 'Look', 'at', 'the', 'different', 'types', 'of', 'human', 'teeth', 'in', 'Figure', '17.13', '.', 'break', 'down', 'toxins', 'in', 'the', 'large', 'intestine', '.', 'break', 'down', 'fiber', 'and', 'some', 'other', 'substances', 'in', 'food', 'that', 'cant', 'be', 'digested', '.', 'Following', 'these', 'healthy', 'practices', 'may', 'decrease', 'your', 'risk', 'of', 'foodborne', 'illness', ':', 'Wash', 'your', 'hands', 'after', 'handling', 'raw', 'foods', 'such', 'as', 'meats', ',', 'poultry', ',', 'fish', ',', 'or', 'eggs', '.', 'Cook', 'meats', ',', 'poultry', ',', 'fish', ',', 'or', 'eggs', 'thoroughly', 'before', 'eating', 'them', '.', 'Keep', 'hot', 'foods', 'hot', 'and', 'cold', 'foods', 'cold', '.', 'Keep', 'hot', 'foods', 'hot', 'and', 'cold', 'foods', 'cold', '.', 'Keep', 'hot', 'foods', 'hot', 'and', 'cold', 'foods', 'cold', '.', 'Keep', 'hot', 'foods', 'hot', 'and', 'cold', 'foods', 'cold', '.', 'Maintaining', 'the', 'proper', 'temperature', 'slows', 'the', 'growth', 'of', 'bacteria', 'in', 'the', 'food', '.', 'maintain', 'a', 'healthy', 'percent', 'of', 'body', 'fat', '.', 'eat', 'a', 'healthy', ',', 'low-fat', 'diet', '.', 'get', 'regular', 'checkups', 'to', 'detect', 'and', 'manage', 'problems', 'such', 'as', 'high', 'blood', 'pressure', 'and', 'high', 'blood', 'cholesterol', '.', 'helps', 'regulate', 'body', 'temperature', '.', 'Watch', 'this', 'video', 'animation', 'to', 'learn', 'more', 'about', 'the', 'genetic', 'basis', 'of', 'sickle-cell', 'disease', ':', 'Use', 'the', 'figure', 'to', 'trace', 'how', 'air', 'moves', 'through', 'the', 'respiratory', 'system', 'when', 'you', 'read', 'about', 'it', 'below', '.', 'Take', 'in', 'a', 'big', 'breath', 'of', 'air', 'through', 'your', 'nose', '.', 'Exhaling', ',', 'or', 'breathing', 'out', ',', 'occurs', 'when', 'the', 'diaphragm', 'relaxes', '.', 'Eat', 'well', ',', 'get', 'enough', 'sleep', ',', 'and', 'be', 'active', 'every', 'day', '.', 'Avoid', 'contact', 'with', 'other', 'people', 'when', 'they', 'are', 'sick', 'and', 'stay', 'home', 'when', 'you', 'are', 'sick', '.', 'Given', 'their', 'diversity', 'of', 'functions', ',', 'its', 'not', 'surprising', 'that', 'there', 'are', 'millions', 'of', 'different', 'biochemical', 'compounds', '.', 'Living', 'things', 'that', 'can', 'not', 'make', 'glucose', 'can', 'obtain', 'it', 'by', 'consuming', 'plants', 'or', 'organisms', 'that', 'consume', 'plants', '.', 'regulate', 'life', 'processes', '.', 'speed', 'up', 'chemical', 'reactions', 'in', 'cells', '.', 'Determining', 'the', 'structure', 'of', 'DNA', 'was', 'a', 'huge', 'scientific', 'breakthrough', '.', 'Controlling', 'muscles', 'and', 'maintaining', 'balance', 'are', 'just', 'two', 'of', 'the', 'functions', 'of', 'the', 'human', 'nervous', 'system', '.', 'Remember', 'Hakeem', 'the', 'skater', 'from', 'the', 'first', 'page', 'of', 'the', 'chapter', '?', 'Think', 'about', 'flipping', 'on', 'a', 'light', 'switch', 'when', 'you', 'enter', 'a', 'room', '.', 'Avoiding', 'unnecessary', 'risks', ',', 'such', 'as', 'doing', 'stunts', 'on', 'a', 'bike', 'or', 'diving', 'into', 'shallow', 'water', ',', 'can', 'also', 'reduce', 'the', 'chances', 'of', 'brain', 'and', 'spinal', 'cord', 'injuries', '.', 'Continued', 'use', 'of', 'a', 'psychoactive', 'drug', 'may', 'lead', 'to', 'drug', 'addiction', '.', 'Look', 'at', 'the', 'parts', 'of', 'the', 'eye', 'in', 'Figure', '20.12', '.', 'Follow', 'the', 'path', 'of', 'light', 'through', 'the', 'eye', 'as', 'you', 'read', 'about', 'it', 'below', '.', 'Imagine', 'shopping', 'at', 'the', 'fruit', 'market', 'in', 'Figure', '20.14', '.', 'Suppose', 'a', 'car', 'horn', 'blows', 'in', 'the', 'distance', '.', 'Suppose', 'you', 'wanted', 'to', 'test', 'the', 'temperature', 'of', 'bath', 'water', 'before', 'getting', 'into', 'the', 'tub', '.', 'Watch', 'this', 'dramatic', 'video', 'for', 'an', 'historic', 'perspective', 'on', 'infectious', 'diseases', 'and', 'their', 'causes', ':', '.', 'Spend', 'at', 'least', '20', 'seconds', 'scrubbing', 'with', 'soap', '.', 'See', 'Figure', '21.3', 'for', 'effective', 'hand', 'washing', 'tips', '.', 'Avoid', 'touching', 'your', 'eyes', ',', 'nose', ',', 'or', 'mouth', 'with', 'unwashed', 'hands', '.', 'Avoid', 'close', 'contact', 'with', 'people', 'who', 'are', 'sick', '.', 'Cover', 'your', 'coughs', 'and', 'sneezes', 'with', 'a', 'tissue', 'or', 'shirt', 'sleeve', ',', 'not', 'your', 'hands', '.', 'Disinfect', 'frequently', 'touched', 'surfaces', ',', 'such', 'as', 'keyboards', 'and', 'doorknobs', ',', 'especially', 'if', 'someone', 'is', 'sick', '.', 'Using', 'insect', 'repellent', 'can', 'also', 'reduce', 'your', 'risk', 'of', 'insect', 'bites', '.', 'Watch', 'this', 'video', 'for', 'additional', 'information', 'on', 'preventing', 'the', 'spread', 'of', 'infectious', 'diseases', ':', 'MEDIA', 'Click', 'image', 'to', 'the', 'left', 'or', 'use', 'the', 'URL', 'below', '.', 'Watch', 'this', 'video', 'for', 'an', 'animated', 'introduction', 'to', 'cancer', ':', '.', 'Smoking', 'tobacco', 'or', 'using', 'smokeless', 'tobacco', 'increases', 'the', 'risk', 'of', 'cancer', 'of', 'the', 'lung', ',', 'mouth', ',', 'throat', ',', 'and', 'urinary', 'bladder', '.', 'Making', 'healthy', 'lifestyle', 'choices', 'can', 'help', 'prevent', 'some', 'types', 'of', 'cancer', '.', 'Watch', 'this', 'short', 'video', 'for', 'an', 'animated', 'introduction', 'to', 'diabetes', ',', 'its', 'causes', ',', 'and', 'its', 'consequences', ':', 'MEDIA', 'Click', 'image', 'to', 'the', 'left', 'or', 'use', 'the', 'URL', 'below', '.', 'monitoring', 'blood', 'glucose', 'levels', 'several', 'times', 'a', 'day', '.', 'eating', 'a', 'healthy', 'diet', 'that', 'spreads', 'out', 'carbohydrate', 'intake', 'throughout', 'the', 'day', '.', 'Keep', 'in', 'mind', 'that', 'it', 'is', 'the', 'immune', 'system', 'and', 'not', 'the', 'allergen', 'that', 'causes', 'the', 'allergy', 'symptoms', '.', 'Find', 'each', 'organ', 'in', 'the', 'drawing', 'as', 'you', 'read', 'about', 'it', 'below', '.', 'Knowing', 'the', 'facts', 'is', 'important', 'to', 'prevent', 'the', 'spread', 'of', 'STIs', '.', 'Getting', 'STIs', 'is', 'no', 'big', 'deal', ',', 'because', 'they', 'can', 'be', 'cured', 'with', 'medicines', '.', 'Left', 'untreated', ',', 'these', 'infections', 'may', 'damage', 'reproductive', 'organs', 'and', 'lead', 'to', 'an', 'inability', 'to', 'have', 'children', '.', 'Acquired', 'Immunodeficiency', 'Syndrome', '-LRB-', 'AIDS', '-RRB-', 'is', 'caused', 'by', 'human', 'immunodeficiency', 'virus', '-LRB-', 'HIV', '-RRB-', '.', 'Maintaining', 'overall', 'good', 'health', 'will', 'help', 'keep', 'your', 'reproductive', 'system', 'healthy', '.', 'Avoid', 'harsh', 'soaps', 'or', 'other', 'personal', 'hygiene', 'products', 'that', 'may', 'be', 'irritating', '.', 'Avoid', 'risky', 'behaviors', '.', 'Distribute', 'Earths', 'resources', 'more', 'fairly', 'so', 'that', 'everyone', 'has', 'enough', '.', 'Watch', 'this', 'video', 'for', 'an', 'excellent', 'visual', 'introduction', 'to', 'the', 'water', 'cycle', ':', '.', 'Rising', 'air', 'currents', 'carry', 'water', 'vapor', 'into', 'the', 'atmosphere', '.', 'Dissolved', 'carbon', 'may', 'be', 'stored', 'in', 'the', 'deep', 'ocean', 'for', 'thousands', 'of', 'years', '.', 'Adding', 'more', 'heat', 'energy', 'to', 'Earths', 'atmosphere', 'also', 'causes', 'more', 'extreme', 'weather', 'and', 'changes', 'in', 'precipitation', 'patterns', '.', 'Rising', 'global', 'temperatures', ',', 'in', 'turn', ',', 'are', 'melting', 'polar', 'ice', 'caps', 'and', 'glaciers', '.', 'choosing', 'indoor', 'furniture', ',', 'flooring', ',', 'and', 'paints', 'that', 'are', 'low', 'in', 'toxic', 'compounds', 'such', 'as', 'VOCs', '-LRB-', 'volatile', 'organic', 'compounds', '-RRB-', '.', 'installing', 'carbon', 'monoxide', 'alarms', 'like', 'the', 'one', 'in', 'Figure', '25.4', 'at', 'every', 'level', 'of', 'the', 'home', '.', 'Cutting', 'down', 'on', 'the', 'use', 'of', 'chemical', 'fertilizers', 'is', 'one', 'way', 'to', 'prevent', 'dead', 'zones', 'in', 'bodies', 'of', 'water', '.', 'Preserving', 'wetlands', 'is', 'also', 'important', '.', 'Drinking', 'sewage-contaminated', 'water', 'causes', 'waterborne', 'diseases', ',', 'due', 'to', 'pathogens', 'such', 'as', 'protozoa', ',', 'viruses', ',', 'or', 'bacteria', '.', 'Watch', 'this', 'video', 'to', 'learn', 'more', 'about', 'them', ':', '.', 'Using', 'resources', 'in', 'this', 'way', 'is', 'called', 'sustainable', 'use', '.', 'Living', 'things', 'are', 'also', 'renewable', 'resources', '.', 'Using', 'fossil', 'fuels', 'and', 'nuclear', 'energy', 'creates', 'other', 'problems', 'as', 'well', '.', 'Reducing', 'the', 'amount', 'of', 'natural', 'resources', 'you', 'use', 'is', 'the', 'best', 'way', 'to', 'conserve', 'resources', '.', 'Keep', 'the', 'thermostat', 'set', 'low', 'in', 'the', 'winter', 'and', 'high', 'in', 'the', 'summer', '-LRB-', 'see', 'Figure', '25.12', '-RRB-', '.', 'Open', 'windows', 'and', 'use', 'fans', 'in', 'hot', 'weather', 'rather', 'than', 'turning', 'on', 'the', 'air', 'conditioning', '.', 'Follow', 'these', 'tips', 'to', 'reduce', 'your', 'use', 'of', 'natural', 'resources', ':', 'Walk', ',', 'bike', ',', 'or', 'use', 'public', 'transit', 'instead', 'of', 'driving', '.', 'Recycling', 'means', 'taking', 'a', 'used', 'item', ',', 'breaking', 'it', 'down', ',', 'and', 'reusing', 'the', 'components', '.', 'Encourage', 'your', 'family', 'to', 'recycle', 'if', 'they', 'dont', 'already', '.', 'Use', 'this', 'interactive', 'animation', 'to', 'learn', 'more', 'about', 'photosynthesis', ':', 'Click', 'on', 'this', 'link', 'for', 'a', 'song', 'about', 'photosynthesis', 'to', 'reinforce', 'the', 'basic', 'ideas', ':', 'MEDIA', 'Click', 'image', 'to', 'the', 'left', 'or', 'use', 'the', 'URL', 'below', '.', 'Living', 'things', 'that', 'make', 'glucose', 'are', 'called', 'autotrophs', '-LRB-', '``', 'self', 'feeders', \"''\", '-RRB-', '.', 'Surrounding', 'the', 'thylakoids', 'is', 'a', 'space', 'called', 'the', 'stroma', '.', 'Find', 'the', 'codon', 'AUG', 'in', 'Figure', '5.17', '.', 'Watch', 'this', 'video', 'for', 'a', 'good', 'introduction', 'to', 'both', 'steps', 'of', 'protein', 'synthesis', ':', 'http', ':', '/', '/', 'w', 'MEDIA', 'Click', 'image', 'to', 'the', 'left', 'or', 'use', 'the', 'URL', 'below', '.', 'Using', 'this', 'strand', 'of', 'DNA', 'as', 'a', 'template', ',', 'nucleotides', 'are', 'joined', 'together', 'to', 'make', 'a', 'complementary', 'strand', 'of', 'mRNA', '.', 'Take', 'the', 'sentence', 'The', 'big', 'dog', 'ate', 'the', 'red', 'cat', '.', 'Deleting', 'a', 'single', 'letter', 'makes', 'the', 'rest', 'of', 'the', 'sentence', 'impossible', 'to', 'read', '.', 'Deleting', 'or', 'inserting', 'a', 'nitrogen', 'base', 'causes', 'a', 'frameshift', 'mutation', '.', 'Watch', 'this', 'video', 'for', 'an', 'excellent', 'introduction', 'to', 'Darwin', ',', 'his', 'voyage', ',', 'and', 'the', 'Galpagos', ':', 'Imagine', 'setting', 'out', 'for', 'such', 'an', 'incredible', 'adventure', 'at', 'age', '22', ',', 'and', 'youll', 'understand', 'why', 'the', 'trip', 'had', 'such', 'a', 'big', 'influence', 'on', 'Darwin', '.', 'Keeping', 'and', 'breeding', 'pigeons', 'was', 'a', 'popular', 'hobby', 'in', 'Darwins', 'day', '.', 'Watch', 'this', 'short', 'video', 'to', 'learn', 'more', 'about', 'the', 'amazing', 'story', 'of', 'whale', 'evolution', 'based', 'on', 'the', 'fossils', ':', 'Did', 'they', 'evolve', 'from', 'earlier', 'land', 'mammals', '?', 'Starting', 'in', 'the', 'late', '1970s', ',', 'a', 'growing', 'number', 'of', 'fossils', 'have', 'allowed', 'scientists', 'to', 'piece', 'together', 'the', 'story', 'of', 'whale', 'evolution', '.', 'Comparing', 'body', 'parts', 'of', 'different', 'species', 'may', 'reveal', 'evidence', 'for', 'evolution', '.', 'Look', 'at', 'the', 'drawings', 'of', 'embryos', 'in', 'Figure', '7.12', '.', 'Watch', 'this', 'interesting', 'video', 'to', 'learn', 'more', 'about', 'anole', 'speciation', 'in', 'the', 'Caribbean', ':', 'Relating', 'these', 'major', 'events', 'in', 'Earths', 'history', 'to', 'a', '24-hour', 'day', 'helps', 'to', 'put', 'them', 'in', 'perspective', '.', 'According', 'to', 'this', 'theory', ',', 'a', 'large', 'cell', 'engulfed', 'small', 'cells', '.', 'make', 'fuels', 'such', 'as', 'ethanol', '.', 'kill', 'plant', 'pests', '.', 'Exercising', 'the', 'body', 'and', 'brain', 'help', 'prevent', 'the', 'physical', 'and', 'mental', 'effects', 'of', 'aging', '.', 'Recall', 'that', 'terrestrial', 'biomes', 'are', 'defined', 'by', 'their', 'climate', '.', 'Break', 'down', 'poisons', 'in', 'the', 'large', 'intestine', '.', 'Break', 'down', 'some', 'substances', 'in', 'food', 'that', 'can', 'not', 'be', 'digested', ',', 'such', 'as', 'fiber', 'and', 'some', 'starches', 'and', 'sugars', '.', 'Break', 'down', 'some', 'substances', 'in', 'food', 'that', 'can', 'not', 'be', 'digested', ',', 'such', 'as', 'fiber', 'and', 'some', 'starches', 'and', 'sugars', '.', 'Recall', 'that', 'people', 'with', 'type', 'O', 'blood', 'do', 'not', 'have', 'any', 'antigens', 'on', 'their', 'RBCs', '.', 'Controlling', 'the', 'volume', 'of', 'this', 'organ', 'helps', 'fish', 'control', 'their', 'depth', '.', 'Smoking', 'tobacco', 'increases', 'the', 'risk', 'of', 'cancer', 'of', 'the', 'lung', ',', 'mouth', ',', 'throat', ',', 'and', 'bladder', '.', 'Using', 'smokeless', 'tobacco', 'can', 'also', 'cause', 'cancer', '.', 'Detecting', 'and', 'treating', 'cancer', 'early', 'can', 'often', 'lead', 'to', 'a', 'cure', '.', 'Check', 'food', 'labels', 'to', 'find', 'the', 'amount', 'of', 'saturated', 'fat', 'in', 'a', 'product', '.', 'Eat', 'lots', 'of', 'fresh', 'or', 'frozen', 'fruits', 'and', 'vegetables', ',', 'smaller', 'portions', 'of', 'lean', 'meats', 'and', 'fish', ',', 'and', 'whole', 'grains', 'such', 'as', 'oats', 'and', 'whole', 'wheat', '.', 'Eat', 'lots', 'of', 'fresh', 'or', 'frozen', 'fruits', 'and', 'vegetables', ',', 'smaller', 'portions', 'of', 'lean', 'meats', 'and', 'fish', ',', 'and', 'whole', 'grains', 'such', 'as', 'oats', 'and', 'whole', 'wheat', '.', 'Increasing', 'the', 'diameter', 'of', 'the', 'blood', 'vessels', 'increases', 'the', 'amount', 'of', 'blood', 'and', 'heat', 'that', 'moves', 'near', 'the', 'skins', 'surface', '.', 'Recall', 'that', 'glucose', 'is', 'the', 'sugar', 'produced', 'by', 'the', 'plant', 'during', 'photosynthesis', '.', 'Recall', 'that', 'carbon', 'dioxide', 'and', 'water', 'are', 'the', 'starting', 'products', 'of', 'photosynthesis', '.', 'Having', 'extra', 'chromosomes', 'or', 'damaged', 'chromosomes', 'can', 'cause', 'disorders', '.', 'Chewing', 'is', 'part', 'of', 'mechanical', 'digestion', '.', 'Mixing', 'the', 'food', 'around', 'with', 'the', 'enzyme', 'pepsin', 'and', 'other', 'chemicals', 'helps', 'digest', 'proteins', '.', 'Mixing', 'the', 'food', 'around', 'with', 'the', 'enzyme', 'pepsin', 'and', 'other', 'chemicals', 'helps', 'digest', 'proteins', '.', 'Releasing', 'the', 'stool', 'from', 'the', 'body', 'is', 'referred', 'to', 'as', 'a', 'bowel', 'movement', '.', 'Drinking', 'water', 'can', 'also', 'be', 'affected', 'if', 'a', 'toxin', 'enters', 'the', 'groundwater', '.', 'Pictured', 'here', 'is', 'a', 'marine', 'turtle', 'entangled', 'in', 'a', 'net', '.', 'Remember', 'that', 'plants', 'are', 'producers', ',', 'bringing', 'the', 'energy', 'into', 'the', 'ecosystem', 'by', 'converting', 'sunlight', 'into', 'glucose', '.', 'Does', 'the', 'plant', 'use', 'some', 'of', 'the', 'energy', 'for', 'its', 'own', 'needs', '?', 'Affected', 'individuals', 'usually', 'die', 'from', 'complications', 'of', 'the', 'disease', 'in', 'early', 'childhood', ',', 'at', 'an', 'age', 'too', 'young', 'to', 'reproduce', '.', 'Removes', 'solid', 'waste', 'and', 'some', 'wa', '-', 'ter', 'in', 'the', 'form', 'of', 'feces', '.', 'Remove', 'urea', ',', 'salts', ',', 'and', 'excess', 'wa', '-', 'ter', 'from', 'the', 'blood', '.', 'Recall', 'that', 'carbon', 'dioxide', 'travels', 'through', 'the', 'blood', 'and', 'is', 'transferred', 'to', 'the', 'lungs', 'where', 'it', 'is', 'exhaled', '.', 'Find', 'each', 'organ', 'in', 'the', 'drawing', 'as', 'you', 'read', 'about', 'it', 'in', 'the', 'text', '.', 'Produces', 'gametes', ',', 'the', 'reproductive', 'cells', ',', 'which', 'are', 'called', 'eggs', 'in', 'females', '.', 'Secretes', 'a', 'major', 'sex', 'hormone', ',', 'estrogen', '.', 'Pictured', 'below', 'are', 'some', 'products', 'of', 'fermentation', '-LRB-', 'Figure', '1.1', '-RRB-', '.', 'Compared', 'to', 'the', '36-38', 'ATP', 'produced', 'under', 'aerobic', 'conditions', ',', 'anaerobic', 'respiration', 'is', 'not', 'a', 'very', 'efficient', 'process', '.', 'Learn', 'what', 'these', 'bacteria', 'have', 'in', 'common', 'with', 'beer', 'brewing', 'at', 'http://youtu.be/R1kxajH629A?list=PLzMhsCgGKd1hoofiKuifwy6qRXZs7NG6a', '.', 'Click', 'image', 'to', 'the', 'left', 'or', 'use', 'the', 'URL', 'below', '.', 'Keep', 'in', 'mind', 'that', 'whales', 'are', 'not', 'fish', ',', 'they', 'are', 'mammals', '.', 'Remember', 'that', 'cellular', 'respiration', 'converts', 'the', 'glucose', 'in', 'the', 'food', 'you', 'eat', 'into', 'ATP', ',', 'or', 'cellular', 'energy', '.', 'Recall', 'that', 'glucose', 'is', 'the', 'product', 'of', 'photosynthesis', '.', 'Remember', 'that', 'during', 'Darwins', 'time', ',', 'people', 'believed', 'the', 'Earth', 'was', 'just', 'about', '6,000', 'years', 'old', '.', 'Recall', 'that', 'carriers', 'have', 'the', 'recessive', 'allele', 'for', 'a', 'trait', 'but', 'do', 'not', 'express', 'the', 'trait', '.', 'Washing', 'your', 'hands', 'before', 'and', 'after', 'handling', 'food', 'also', 'helps', 'prevent', 'contamination', '.', 'Inhaling', 'the', 'spores', 'of', 'this', 'bacterium', 'can', 'lead', 'to', 'a', 'deadly', 'infection', ',', 'and', ',', 'therefore', ',', 'it', 'is', 'a', 'dangerous', 'weapon', '.', 'Make', 'sure', 'air', 'conditioning', 'systems', 'are', 'working', 'properly', '.', 'Make', 'sure', 'that', 'vents', 'and', 'chimneys', 'are', 'working', 'properly', ',', 'and', 'never', 'burn', 'charcoal', 'indoors', '.', 'Keep', 'your', 'home', 'as', 'clean', 'as', 'possible', 'from', 'pet', 'dander', ',', 'dust', ',', 'dust', 'mites', ',', 'and', 'mold', '.', 'Keep', 'your', 'home', 'as', 'clean', 'as', 'possible', 'from', 'pet', 'dander', ',', 'dust', ',', 'dust', 'mites', ',', 'and', 'mold', '.', 'Cook', 'meats', ',', 'poultry', ',', 'fish', ',', 'and', 'eggs', 'thoroughly', 'before', 'eating', 'them', '.', 'Refrigerate', 'cooked', 'food', 'soon', 'after', 'a', 'meal', '.', 'Cooked', 'food', 'can', 'be', 'left', 'out', 'for', 'up', 'to', 'two', 'hours', 'before', 'they', 'need', 'to', 'be', 'placed', 'in', 'the', 'cold', '.', 'Cooked', 'foods', 'should', 'not', 'be', 'left', 'out', 'all', 'day', '.', 'Keep', 'hot', 'foods', 'hot', 'and', 'cold', 'foods', 'cold', '.', 'Keep', 'hot', 'foods', 'hot', 'and', 'cold', 'foods', 'cold', '.', 'Read', 'the', 'names', 'of', 'the', 'parts', 'of', 'the', 'ear', 'in', 'the', 'text', ';', 'then', 'find', 'each', 'of', 'the', 'parts', 'in', 'the', 'diagram', '.', 'Note', 'that', 'the', 'round', 'window', 'is', 'distinct', 'from', 'the', 'oval', 'window', '.', 'Assume', 'a', 'car', 'horn', 'blows', 'in', 'the', 'distance', '.', 'Fermenting', 'cabbage', 'with', 'bacteria', 'produces', 'sauerkraut', '.', 'Donated', 'blood', 'is', 'also', 'tested', 'to', 'make', 'sure', 'it', 'is', 'does', 'not', 'contain', 'HIV', '.', 'Remember', 'that', 'we', 'breathe', 'out', 'carbon', 'dioxide', '.', 'Living', 'organisms', 'can', 'not', 'make', 'their', 'own', 'carbon', ',', 'so', 'how', 'is', 'carbon', 'incorporated', 'into', 'living', 'organisms', '?', 'Living', 'organisms', 'can', 'not', 'make', 'their', 'own', 'carbon', ',', 'so', 'how', 'is', 'carbon', 'incorporated', 'into', 'living', 'organisms', '?', 'Recall', 'that', 'plants', 'and', 'other', 'producers', 'capture', 'the', 'carbon', 'dioxide', 'and', 'convert', 'it', 'to', 'glucose', '-LRB-', 'C6', 'H12', 'O6', '-RRB-', 'through', 'the', 'process', 'of', 'photosynthesis', '.', 'Recall', 'that', 'burning', 'fossil', 'fuels', 'releases', 'gasses', 'into', 'the', 'atmosphere', 'that', 'warm', 'the', 'Earth', '.', 'Recall', 'that', 'development', 'by', 'humans', 'often', 'causes', 'habitats', 'to', 'be', 'destroyed', '.', 'Knowing', 'you', 'might', 'be', 'genetically', 'prone', 'to', 'a', 'certain', 'disease', 'would', 'allow', 'you', 'to', 'make', 'preventive', 'lifestyle', 'changes', 'or', 'have', 'medical', 'screenings', '.', 'Click', 'image', 'to', 'the', 'left', 'or', 'use', 'the', 'URL', 'below', '.', 'Making', 'blood', 'cells', '.', 'Recall', 'that', 'air', 'pollution', 'is', 'due', 'to', 'chemical', 'substances', 'and', 'particles', 'released', 'into', 'the', 'air', 'mainly', 'by', 'human', 'actions', '.', 'Sealing', 'up', 'your', 'home', 'reduces', 'heating', 'and', 'cooling', 'costs', '.', 'Limiting', 'your', 'exposure', 'to', 'pesticides', 'and', 'cleaning', 'fluids', 'by', 'keeping', 'them', 'in', 'a', 'garage', 'or', 'shed', '.', 'Imagine', 'developing', 'a', 'theory', 'that', 'conflicted', 'with', 'widely', 'held', 'beliefs', 'of', 'the', 'time', ',', 'as', 'Darwin', 'did', '.', 'Imagine', 'pulling', 'together', 'material', 'from', 'all', 'these', 'different', 'people', ',', 'adding', 'his', 'own', 'findings', ',', 'and', 'turning', 'it', 'all', 'into', 'his', 'theory', '.', 'Recall', 'a', 'notochord', 'is', 'a', 'support', 'rod', 'that', 'runs', 'along', 'the', 'back', 'of', 'the', 'fish', '.', 'Getting', 'enough', 'calcium', 'in', 'your', 'daily', 'diet', 'is', 'important', 'for', 'good', 'bone', 'health', '.', 'Moving', 'the', 'broken', 'pieces', 'together', 'will', 'help', 'keep', 'the', 'bone', 'from', 'moving', 'and', 'give', 'the', 'body', 'a', 'chance', 'to', 'repair', 'the', 'break', '.', 'Bending', 'stress', 'is', 'what', 'causes', 'a', 'pencil', 'to', 'break', 'if', 'you', 'bend', 'it', 'too', 'far', '.', 'Decreased', 'movement', 'of', 'the', 'joint', 'because', 'of', 'the', 'pain', 'may', 'lead', 'to', 'weakening', 'of', 'the', 'muscles', 'that', 'normally', 'move', 'the', 'joint', ',', 'and', 'the', 'ligaments', 'surrounding', 'the', 'joint', 'may', 'become', 'loose', '.', 'Preventing', 'injuries', 'to', 'your', 'bones', 'and', 'ligaments', 'is', 'easier', 'and', 'much', 'less', 'painful', 'than', 'treating', 'an', 'injury', '.', 'Wearing', 'the', 'correct', 'safety', 'equipment', 'when', 'performing', 'activities', 'that', 'require', 'such', 'equipment', 'can', 'help', 'prevent', 'many', 'common', 'injuries', '.', 'Warming', 'up', 'and', 'cooling', 'down', 'properly', 'can', 'help', 'prevent', 'ligament', 'and', 'muscle', 'injuries', '.', 'Stretching', 'before', 'and', 'after', 'activity', 'also', 'helps', 'prevent', 'injuries', '.', 'Getting', 'sunburned', 'as', 'a', 'child', 'or', 'a', 'teen', ',', 'especially', 'sunburn', 'that', 'causes', 'blistering', ',', 'increases', 'the', 'risk', 'of', 'developing', 'skin', 'cancer', 'later', 'in', 'life', '.', 'Keeping', 'your', 'skin', 'clean', 'is', 'important', 'because', 'dirty', 'skin', 'is', 'more', 'prone', 'to', 'infection', '.', 'Cleaning', 'your', 'skin', 'daily', 'with', 'a', 'mild', 'soap', 'to', 'remove', 'excess', 'oil', 'and', 'dirt', 'can', 'help', 'prevent', 'acne', '.', 'Recall', 'that', 'fats', 'insulate', 'the', 'axons', 'of', 'neurons', '.', 'Spend', 'a', 'few', 'minutes', 'each', 'day', 'writing', 'on', 'paper', 'as', 'neatly', 'as', 'you', 'can', '.', 'Drawing', 'with', 'precision', 'also', 'requires', 'use', 'of', 'all', 'the', 'major', 'components', 'of', 'the', 'sensory', 'and', 'motor', 'divisions', 'of', 'the', 'nervous', 'system', '.', 'Using', 'chemical', 'symbols', ',', 'the', 'equation', 'is', 'represented', 'as', 'follows', ':', '6CO2', '+', '6H2', 'O', 'C6', 'H12', 'O6', '+', '6O2', '.', 'Recall', 'that', 'when', 'there', 'are', 'no', 'limiting', 'factors', ',', 'the', 'population', 'grows', 'exponentially', '.', 'Limiting', 'factors', 'are', 'resources', 'or', 'other', 'factors', 'in', 'the', 'environment', 'that', 'can', 'lower', 'the', 'population', 'growth', 'rate', '.', 'Limiting', 'factors', 'include', 'a', 'low', 'food', 'supply', 'and', 'lack', 'of', 'space', '.', 'Limiting', 'factors', 'can', 'lower', 'birth', 'rates', ',', 'increase', 'death', 'rates', ',', 'or', 'lead', 'to', 'emigration', '.', 'Limiting', 'factors', 'determine', 'the', 'carrying', 'capacity', 'of', 'a', 'population', '.', 'Find', 'each', 'organ', 'in', 'the', 'drawing', 'as', 'you', 'read', 'about', 'it', 'in', 'the', 'text', '.', 'Releasing', 'testosterone', 'into', 'the', 'body', '.', 'Look', 'at', 'your', 'fingertips', '.', 'Using', 'microscopes', ',', 'van', 'Leeuwenhoek', 'also', 'discovered', 'one-celled', 'protists', 'and', 'sperm', 'cells', '.', 'Scanning', 'electron', 'microscopes', '-LRB-', 'SEM', '-RRB-', 'allow', 'scientists', 'to', 'find', 'the', 'shape', 'and', 'surface', 'texture', 'of', 'extremely', 'small', 'objects', ',', 'including', 'a', 'paperclip', ',', 'a', 'bedbug', ',', 'or', 'even', 'an', 'atom', '.', 'Note', 'the', 'mantle', ',', 'gills', ',', 'and', 'radula', '.', 'Warming', 'up', 'before', 'the', 'game', 'helps', 'the', 'players', 'avoid', 'injuries', '.', 'Recall', 'that', 'these', 'types', 'of', 'muscles', 'are', 'under', 'involuntary', 'control', '.', 'Remember', 'that', 'the', 'bases', 'in', 'the', 'mRNA', 'are', 'read', 'in', 'groups', 'of', 'three', 'by', 'the', 'tRNA', '.', 'Imagine', 'the', 'sentence', ':', 'The', 'big', 'dog', 'ate', 'the', 'red', 'cat', '.', 'Control', 'your', 'internal', 'body', 'systems', 'and', 'keep', 'them', 'in', 'balance', '.', 'Staying', 'balanced', 'when', 'riding', 'a', 'scooter', 'requires', 'control', 'over', 'the', 'bodys', 'muscles', '.', 'Prepare', 'your', 'body', 'to', 'fight', 'or', 'flee', 'in', 'an', 'emergency', '.', 'Think', 'about', 'how', 'quickly', 'all', 'this', 'happens', '.', 'Controlling', 'muscles', 'and', 'maintaining', 'balance', 'are', 'just', 'two', 'of', 'the', 'roles', 'of', 'the', 'nervous', 'system', '.', 'Taking', 'a', 'warm', 'bath', 'or', 'using', 'a', 'heating', 'pad', 'often', 'helps', '.', 'Developing', 'nations', 'will', 'also', 'increase', 'demands', 'on', 'natural', 'resources', 'as', 'they', 'build', 'more', 'factories', '-LRB-', 'Figure', '1.2', '-RRB-', '.', 'Considering', 'the', 'year', '2055', 'is', 'not', 'that', 'far', 'away', ',', 'what', 'would', 'happen', 'if', 'we', 'ran', 'out', 'of', 'gasoline', '?', 'Living', 'things', 'are', 'made', 'up', 'of', 'very', 'large', 'molecules', '.', 'Involved', 'in', 'movement', 'and', 'heat', 'pro-', 'duction', '.', 'Collects', ',', 'transfers', ',', 'and', 'processes', 'information', '.', 'Produces', 'gametes', '-LRB-', 'sex', 'cells', '-RRB-', 'and', 'sex', 'hormones', '.', 'Brings', 'air', 'to', 'sites', 'where', 'gas', 'ex', '-', 'change', 'can', 'occur', 'between', 'the', 'blood', 'and', 'cells', '-LRB-', 'around', 'body', '-RRB-', 'or', 'blood', 'and', 'air', '-LRB-', 'lungs', '-RRB-', '.', 'Supports', 'and', 'protects', 'soft', 'tissues', 'of', 'body', ';', 'produces', 'blood', 'cells', ';', 'stores', 'minerals', '.', 'Removes', 'extra', 'water', ',', 'salts', ',', 'and', 'waste', 'products', 'from', 'blood', 'and', 'body', ';', 'controls', 'pH', ';', 'controls', 'water', 'and', 'salt', 'balance', '.', 'Defends', 'against', 'diseases', '.', 'Defend', 'against', 'infection', 'and', 'dis', '-', 'ease', ',', 'moves', 'lymph', 'between', 'tissues', 'and', 'the', 'blood', 'stream', '.', 'Produces', 'hormones', 'that', 'communi', '-', 'cate', 'between', 'cells', '.', 'Fires', 'add', 'primary', 'pollutants', 'to', 'the', 'air', '.', 'Has', 'this', 'ever', 'happened', 'to', 'you', '?', 'Living', 'things', 'that', 'cause', 'human', 'diseases', 'include', 'bacteria', ',', 'fungi', ',', 'and', 'protozoa', '.', 'Keep', 'in', 'mind', 'that', 'viruses', 'are', 'nonliving', ',', 'so', 'can', 'they', 'be', 'killed', '?', 'Pictured', 'below', 'is', 'a', 'pedigree', 'displaying', 'recessive', 'inheritance', 'of', 'a', 'disorder', 'through', 'three', 'generations', '-LRB-', 'Figure', '1.1', '-RRB-', '.', 'Refer', 'to', 'the', 'figure', 'as', 'you', 'read', 'more', 'about', 'the', 'peripheral', 'nervous', 'system', 'in', 'the', 'text', 'that', 'follows', '.', 'Using', 'the', 'energy', 'from', 'the', 'sun', ',', 'they', 'produce', 'complex', 'organic', 'compounds', 'from', 'simple', 'inorganic', 'molecules', '.', 'See', 'the', 'video', 'at', '.', 'Click', 'image', 'to', 'the', 'left', 'or', 'use', 'the', 'URL', 'below', '.', 'Do', 'organisms', 'reproduce', 'yearly', 'or', 'every', 'few', 'years', '?', 'Do', 'organisms', 'reproduce', 'for', 'much', 'of', 'their', 'life', ',', 'or', 'just', 'part', 'of', 'their', 'life', '?', 'Do', 'organisms', 'produce', 'many', 'offspring', 'at', 'once', ',', 'or', 'just', 'a', 'few', ',', 'or', 'even', 'just', 'one', '?', 'Do', 'many', 'newborn', 'organisms', 'die', ',', 'or', 'do', 'the', 'majority', 'survive', '?', 'Compared', 'to', 'precocial', 'organisms', ',', 'altricial', 'organisms', 'have', 'a', 'longer', 'period', 'of', 'development', 'before', 'they', 'reach', 'maturity', '.', 'Do', 'these', 'mean', 'the', 'same', 'thing', '?', 'Pictured', 'below', 'are', 'some', 'of', 'the', 'changes', 'that', 'take', 'place', 'during', 'the', '4th', 'and', '8th', 'weeks', '-LRB-', 'Figure', '1.1', '-RRB-', '.', 'Look', 'closely', 'at', 'the', 'two', 'embryos', 'in', 'the', 'figure', '.', 'Surrounding', 'the', 'fetus', 'is', 'the', 'fluid-filled', 'amniotic', 'sac', '.', 'Imagine', 'placing', 'a', 'small', 'plastic', 'toy', 'inside', 'a', 'balloon', 'and', 'then', 'filling', 'the', 'balloon', 'with', 'water', '.', 'Diminished', 'water', 'supplies', 'could', 'increase', 'the', 'risk', 'of', 'both', 'internal', 'conflicts', 'or', 'wars', 'between', 'countries', '.', 'Growing', 'concern', 'for', 'controlling', 'water', 'pollutants', 'led', 'to', 'the', 'enactment', 'of', 'the', 'Clean', 'Water', 'Act', 'in', '1972', '.', 'Cover', 'your', 'mouth', 'when', 'you', 'cough', 'or', 'sneeze', '.', 'Get', 'vaccinated', '.', 'Practice', 'safe', 'sex', '.', 'Watch', 'the', 'news', ',', 'and', 'be', 'aware', 'of', 'disease', 'outbreaks', '.', 'Using', 'insect', 'repellent', 'can', 'also', 'reduce', 'your', 'risk', 'of', 'insect', 'bites', '.', 'Cover', 'your', 'mouth', 'and', 'nose', 'with', 'a', 'tissue', 'when', 'you', 'sneeze', 'or', 'cough', ',', 'Watching', 'the', 'news', 'will', 'allow', 'you', 'to', 'make', 'informed', 'decisions', '.', 'Recall', 'that', 'a', 'vector', 'is', 'an', 'organism', 'that', 'carries', 'pathogens', 'from', 'one', 'person', 'or', 'animal', 'to', 'another', '.', 'Getting', 'plenty', 'of', 'exercise', ',', 'avoiding', 'high-fat', 'foods', ',', 'and', 'staying', 'at', 'a', 'healthy', 'weight', 'can', 'reduce', 'the', 'risk', 'of', 'developing', 'this', 'type', 'of', 'diabetes', '.', 'Making', 'these', 'healthy', 'lifestyle', 'choices', 'can', 'also', 'help', 'prevent', 'some', 'types', 'of', 'cancer', '.', 'Tanning', 'beds', 'expose', 'the', 'skin', 'to', 'UV', 'radiation', '.', 'Using', 'chemical', 'symbols', 'the', 'equation', 'is', 'represented', 'as', 'follows', ':', 'C6', 'H12', 'O6', '+', '6O2', '6CO2', '+', '6H2', 'O', 'ATP', 'is', 'generated', 'during', 'the', 'process', '.', 'Getting', 'that', 'oxygen', 'begins', 'with', 'inhaling', '.', 'Recall', 'that', 'the', 'only', 'required', 'ingredients', 'needed', 'for', 'photosynthesis', 'are', 'sunlight', ',', 'carbon', 'dioxide', '-LRB-', 'CO2', '-RRB-', ',', 'and', 'wa', '-', 'ter', '-LRB-', 'H2', 'O', '-RRB-', '.', 'Put', 'kitchen', 'and', 'garden', 'waste', 'into', 'a', 'compost', 'pile', '.', 'Mend', 'broken', 'or', 'worn', 'items', 'instead', 'of', 'buying', 'new', 'ones', '.', 'Walk', 'or', 'bicycle', 'instead', 'of', 'using', 'an', 'automobile', ',', 'in', 'order', 'to', 'save', 'on', 'fuel', 'usage', 'and', 'costs', ',', 'and', 'to', 'cut', 'down', 'on', 'pollution', '.', 'Minimizing', 'of', 'waste', 'may', 'be', 'difficult', 'to', 'achieve', 'for', 'individuals', 'and', 'households', ',', 'but', 'here', 'are', 'some', 'starting', 'points', 'that', 'you', 'can', 'include', 'in', 'your', 'daily', 'routine', 'to', 'reduce', 'the', 'use', 'of', 'resources', ':', 'Turn', 'lights', 'off', 'when', 'not', 'using', 'them', '.', 'Turn', 'the', 'television', 'off', 'when', 'no', 'one', 'is', 'watching', '.', 'Replace', 'burned', 'out', 'bulbs', 'with', 'ones', 'that', 'are', 'more', 'energy-efficient', '-LRB-', 'Figure', '1.1', '-RRB-', '.', 'Reduce', 'water', 'use', 'by', 'turning', 'off', 'faucets', 'when', 'not', 'using', 'water', '.', 'Use', 'low-flow', 'shower', 'heads', ',', 'which', 'save', 'on', 'water', 'and', 'use', 'less', 'energy', '.', 'Lets', 'now', 'look', 'at', 'what', 'we', 'can', 'reuse', '.', 'Reusing', 'includes', 'using', 'the', 'same', 'item', 'again', 'for', 'the', 'same', 'function', 'and', 'also', 'using', 'an', 'item', 'again', 'for', 'a', 'new', 'function', '.', 'Water', 'that', 'has', 'been', 'used', 'for', 'laundry', ',', 'for', 'example', ',', 'can', 'be', 'used', 'to', 'water', 'the', 'garden', 'or', 'flush', 'toilets', '.', 'Recycling', 'involves', 'processing', 'used', 'materials', 'in', 'order', 'to', 'make', 'them', 'suitable', 'for', 'other', 'uses', '.', 'Planting', 'the', 'same', 'crop', 'each', 'year', 'can', 'remove', 'nutrients', 'from', 'the', 'soil', '.', 'Using', 'corn', 'to', 'make', 'ethanol', 'fuel', 'is', 'an', 'example', 'of', 'biomass', 'generated', 'energy', '.', 'See', 'http://youtu.be/GzhFgEYiVyY?list=PLzMhsCgGKd1hoofiKuifwy6qRXZs7NG6a', 'for', 'more', 'information', '.', 'Click', 'image', 'to', 'the', 'left', 'or', 'use', 'the', 'URL', 'below', '.', 'Manage', 'stress', 'in', 'healthy', 'ways', '.', 'Keeping', 'your', 'genitals', 'clean', 'is', 'also', 'very', 'important', '.', 'Wearing', 'a', 'cup', 'will', 'help', 'protect', 'the', 'testes', 'from', 'injury', '.', 'Drink', 'plenty', 'of', 'water', '.', 'Get', 'regular', 'exercise', '.', 'Maintain', 'a', 'healthy', 'weight', '.', 'Get', 'enough', 'sleep', '.', 'Avoid', 'using', 'tobacco', ',', 'alcohol', ',', 'or', 'other', 'drugs', '.', 'Taking', 'air', 'into', 'the', 'body', 'through', 'the', 'nose', 'and', 'mouth', 'is', 'called', 'inhalation', '.', 'Pushing', 'air', 'out', 'of', 'the', 'body', 'through', 'the', 'nose', 'or', 'mouth', 'is', 'called', 'exhalation', '.', 'Avoiding', '-LRB-', 'or', 'stopping', '-RRB-', 'smoking', 'is', 'the', 'single', 'best', 'way', 'to', 'prevent', 'many', 'respiratory', 'and', 'cardiovascular', 'diseases', '.', 'Getting', 'enough', 'exercise', 'makes', 'your', 'lungs', 'stronger', 'and', 'better', 'at', 'giving', 'your', 'body', 'the', 'oxygen', 'it', 'needs', '.', 'Washing', 'your', 'hands', 'for', '20', 'seconds', 'with', 'soap', 'and', 'warm', 'water', 'can', 'help', 'prevent', 'colds', 'and', 'flu', '.', 'Washing', 'your', 'hands', 'often', 'can', 'remove', 'many', 'of', 'these', 'pathogens', '.', 'Cover', 'your', 'mouth', 'with', 'a', 'tissue', 'when', 'you', 'cough', 'or', 'sneeze', 'and', 'to', 'dispose', 'of', 'the', 'tissue', 'yourself', '.', 'Getting', 'the', 'recommended', 'vaccinations', 'can', 'help', 'prevent', 'diseases', ',', 'such', 'as', 'whooping', 'cough', 'and', 'flu', '.', 'Seeking', 'medical', 'help', 'for', 'diseases', 'like', 'asthma', 'can', 'help', 'stop', 'the', 'disease', 'from', 'getting', 'worse', '.', 'Contributing', 'factors', 'may', 'include', 'lack', 'of', 'a', 'clean', 'water', 'supply', ',', 'inadequate', 'sanitation', 'measures', ',', 'crowded', 'living', 'conditions', ',', 'combined', 'with', 'a', 'lack', 'of', 'access', 'to', 'health', 'care', 'and', 'low', 'levels', 'of', 'education', '.', 'Recall', 'that', 'you', 'have', '23', 'pairs', 'of', 'chromosomesand', 'one', 'of', 'those', 'pairs', 'is', 'the', 'sex', 'chromosomes', '.', 'Recall', 'that', 'you', 'have', '23', 'pairs', 'of', 'chromosomesand', 'one', 'of', 'those', 'pairs', 'is', 'the', 'sex', 'chromosomes', '.', 'Getting', 'STIs', 'is', 'no', 'big', 'deal', ',', 'because', 'STIs', 'can', 'be', 'cured', 'with', 'medicine', '.', 'Preventing', 'HPV', 'infections', 'in', 'females', 'is', 'important', 'because', 'HPV', 'can', 'also', 'cause', 'cancer', 'of', 'the', 'cervix', '.', 'Fixed', 'joints', 'do', 'not', 'allow', 'any', 'movement', 'of', 'the', 'bones', ',', 'which', 'protects', 'the', 'brain', 'from', 'injury', '.', 'Fixed', 'joints', 'do', 'not', 'allow', 'any', 'bone', 'movement', '.', 'Helps', 'the', 'body', 'get', 'rid', 'of', 'some', 'types', 'of', 'waste', ',', 'which', 'are', 'removed', 'in', 'sweat', '.', 'Think', 'about', 'how', 'quickly', 'these', 'signals', 'must', 'travel', 'throughout', 'your', 'body', 'to', 'make', 'this', 'happen', '.', 'Shortening', 'of', 'muscle', 'fibers', 'is', 'called', 'contraction', '.', 'Shown', 'is', 'the', 'pollution', 'in', 'Jakarta', ',', 'Indonesia', '.', 'Imagine', 'your', 'sense', 'of', 'smell', 'disappearing', 'as', 'you', 'age', '.', 'Remember', 'that', 'we', 'breathe', 'out', 'carbon', 'dioxide', '.', 'Living', 'organisms', 'can', 'not', 'make', 'their', 'own', 'carbon', ',', 'so', 'how', 'is', 'carbon', 'incorporated', 'into', 'living', 'organisms', '?', 'Recall', 'that', 'plants', 'and', 'other', 'producers', 'capture', 'the', 'carbon', 'dioxide', 'and', 'convert', 'it', 'to', 'glucose', '-LRB-', 'C6', 'H12', 'O6', '-RRB-', 'through', 'the', 'process', 'of', 'photosynthesis', '.', 'Turning', 'nitrate', 'back', 'into', 'nitrogen', 'gas', ',', 'the', 'process', 'of', 'denitrification', ',', 'happens', 'through', 'the', 'work', 'of', 'denitrifying', 'bacteria', '.', 'Releasing', 'nitrogen', 'oxide', 'back', 'into', 'the', 'atmosphere', 'leads', 'to', 'problems', 'like', 'acid', 'rain', '.', 'Advancing', 'technologies', ',', 'however', ',', 'do', 'allow', 'for', 'the', 'identification', 'and', 'study', 'of', 'such', 'organisms', '.', 'Touching', 'the', 'cactus', 'would', 'be', 'painful', '.', 'Remember', 'that', 'information', 'in', 'a', 'gene', 'is', 'converted', 'into', 'mRNA', ',', 'which', 'carries', 'the', 'information', 'to', 'the', 'ribosome', '.', 'Listed', 'below', 'are', 'the', 'four', 'main', 'classes', 'of', 'echinoderms', 'present', 'in', 'the', 'Eleutherozoa', 'Group', '-LRB-', 'Table', '1.1', '-RRB-', '.', 'Have', 'movable', 'spines', 'which', 'are', 'used', 'for', 'movement', ',', 'defense', ',', 'and', 'sensing', 'the', 'environment', '.', 'Pictured', 'below', 'are', 'some', 'foods', 'that', 'are', 'good', 'sources', 'of', 'carbohydrates', '-LRB-', 'Figure', '1.1', '-RRB-', '.', 'Recall', 'that', 'there', 'are', '20', 'different', 'amino', 'acids', 'arranged', 'like', '``', 'beads', 'on', 'a', 'string', \"''\", 'to', 'form', 'proteins', '.', 'Beginning', 'with', 'Denmark', 'in', '2003', ',', 'many', 'nations', 'now', 'limit', 'the', 'amount', 'of', 'trans', 'fat', 'that', 'can', 'be', 'in', 'food', 'products', 'or', 'ban', 'these', 'products', 'all', 'together', '.', 'Beginning', 'in', '2010', ',', 'California', 'banned', 'trans', 'fats', 'from', 'restaurant', 'products', ',', 'and', 'in', '2011', ',', 'from', 'all', 'retail', 'baked', 'goods', '.', 'Stored', 'fat', 'gives', 'your', 'body', 'energy', 'to', 'use', 'for', 'later', '.', 'Stored', 'fat', 'also', 'cushions', 'and', 'protects', 'internal', 'organs', '.', 'Recall', 'that', 'the', 'excretory', 'system', 'is', 'also', 'made', 'up', 'of', 'the', 'skin', ',', 'lungs', ',', 'and', 'large', 'intestine', ',', 'as', 'well', 'as', 'the', 'kidneys', '.', 'Depending', 'on', 'the', 'amount', 'of', 'myopia', ',', 'you', 'may', 'only', 'need', 'to', 'wear', 'glasses', 'or', 'contact', 'lenses', 'for', 'certain', 'activities', ',', 'like', 'watching', 'a', 'movie', 'or', 'driving', 'a', 'car', '.', 'Getting', 'too', 'much', 'of', 'some', 'minerals', 'can', 'also', 'cause', 'health', 'problems', '.', 'Suppose', ',', 'for', 'example', ',', 'that', 'you', 'have', '1', 'gram', 'of', 'matter', '.', 'Multiplying', 'that', 'mass', 'by', 'the', 'square', 'of', 'the', 'speed', 'of', 'light', 'yields', 'enough', 'energy', 'to', 'power', '3,600', 'homes', 'for', 'a', 'year', '!', 'Multiplying', 'that', 'mass', 'by', 'the', 'square', 'of', 'the', 'speed', 'of', 'light', 'yields', 'enough', 'energy', 'to', 'power', '3,600', 'homes', 'for', 'a', 'year', '!', 'Assume', 'that', 'a', 'school', 'bus', ',', 'like', 'the', 'one', 'in', 'Figure', '12.2', ',', 'passes', 'by', 'as', 'you', 'stand', 'on', 'the', 'sidewalk', '.', 'Look', 'at', 'the', 'map', 'in', 'Figure', '12.4', '.', 'Find', 'Mias', 'house', 'and', 'the', 'school', '.', 'Suppose', ',', 'for', 'example', ',', 'that', 'you', 'took', 'a', '75-mile', 'car', 'trip', 'with', 'your', 'family', '.', 'Think', 'about', 'what', 'it', 'feels', 'like', 'to', 'ride', 'in', 'a', 'car', '.', 'Calculating', 'acceleration', 'is', 'complicated', 'if', 'both', 'speed', 'and', 'direction', 'are', 'changing', '.', 'Look', 'at', 'the', 'dogs', 'playing', 'tug-of-war', 'in', 'Figure', '13.4', '.', 'Sliding', 'friction', 'is', 'friction', 'that', 'acts', 'on', 'objects', 'when', 'they', 'are', 'sliding', 'over', 'a', 'surface', '.', 'Sliding', 'friction', 'is', 'friction', 'that', 'acts', 'on', 'objects', 'when', 'they', 'are', 'sliding', 'over', 'a', 'surface', '.', 'Sliding', 'friction', 'is', 'weaker', 'than', 'static', 'friction', '.', 'Sliding', 'friction', 'can', 'be', 'useful', '.', 'Rolling', 'friction', 'is', 'friction', 'that', 'acts', 'on', 'objects', 'when', 'they', 'are', 'rolling', 'over', 'a', 'surface', '.', 'Imagine', 'a', 'bowling', 'ball', 'pressing', 'down', 'on', 'a', 'trampoline', '.', 'According', 'to', 'Einstein', ',', 'objects', 'curve', 'toward', 'one', 'another', 'because', 'of', 'the', 'curves', 'in', 'space', 'and', 'time', ',', 'not', 'because', 'they', 'are', 'pulling', 'on', 'each', 'other', 'with', 'a', 'force', 'of', 'attraction', 'as', 'Newton', 'thought', '.', 'Think', 'how', 'hard', 'it', 'would', 'be', 'to', 'push', 'a', 'big', 'box', 'full', 'of', 'books', ',', 'like', 'the', 'one', 'in', 'Figure', '14.3', '.', 'Consider', 'the', 'example', 'of', 'a', 'batter', ',', 'like', 'the', 'boy', 'in', 'Figure', '14.6', '.', 'Need', 'more', 'practice', '?', 'Predict', 'how', 'much', 'Daisys', 'dad', 'weighs', '.', 'Consider', 'the', 'example', 'of', 'a', 'truck', 'colliding', 'with', 'a', 'car', ',', 'which', 'is', 'illustrated', 'in', 'Figure', '14.11', '.', 'Recall', 'from', 'the', 'earlier', 'lesson', '``', 'Pressure', 'of', 'Fluids', \"''\", 'that', 'a', 'fluid', 'exerts', 'pressure', 'in', 'all', 'directions', 'but', 'the', 'pressure', 'is', 'greater', 'at', 'greater', 'depth', '.', 'Did', 'you', 'ever', 'rake', 'leaves', ',', 'like', 'the', 'woman', 'in', 'Figure', '16.4', '?', 'Compared', 'with', 'a', 'less', 'powerful', 'device', ',', 'a', 'more', 'powerful', 'device', 'can', 'either', 'do', 'more', 'work', 'in', 'the', 'same', 'time', 'or', 'do', 'the', 'same', 'work', 'in', 'less', 'time', '.', 'Recall', 'that', 'work', 'equals', 'force', 'multiplied', 'by', 'distance', ':', 'Work', '=', 'Force', 'Distance', 'The', 'force', 'you', 'apply', 'to', 'a', 'machine', 'is', 'applied', 'over', 'a', 'given', 'distance', ',', 'called', 'the', 'input', 'distance', '.', 'Consider', 'the', 'ramp', 'in', 'Figure', '16.11', '.', 'Using', 'the', 'handle', 'to', 'turn', 'the', 'axle', 'of', 'the', 'wheel', 'winds', 'or', 'unwinds', 'the', 'line', '.', 'Riding', 'a', 'bicycle', 'might', 'be', 'easy', '.', 'Moving', 'electrons', 'have', 'a', 'form', 'of', 'kinetic', 'energy', 'called', 'electrical', 'energy', '.', 'Moving', 'Water', 'When', 'water', 'falls', 'downhill', ',', 'its', 'potential', 'energy', 'is', 'con', '-', 'verted', 'to', 'kinetic', 'energy', 'that', 'can', 'turn', 'a', 'turbine', 'and', 'generate', 'electricity', '.', 'Remember', 'the', 'wind', 'turbines', 'that', 'opened', 'this', 'chapter', '?', 'Installing', 'a', 'geothermal', 'system', 'can', 'be', 'very', 'costly', ',', 'how', '-', 'ever', ',', 'because', 'of', 'the', 'need', 'to', 'drill', 'through', 'underground', 'rocks', '.', 'Look', 'at', 'the', 'thermometer', 'in', 'Figure', '18.2', '.', 'Imagine', 'making', 'transverse', 'waves', 'in', 'a', 'rope', ',', 'like', 'the', 'waves', 'in', 'Figure', '19.2', '.', 'Reflected', 'waves', 'have', 'the', 'same', 'speed', 'and', 'frequency', 'as', 'the', 'original', 'waves', 'before', 'they', 'were', 'reflected', '.', 'Remember', 'that', 'sound', 'waves', 'start', 'at', 'a', 'source', 'of', 'vibrations', 'and', 'spread', 'out', 'from', 'the', 'source', 'in', 'all', 'directions', '.', 'Recall', 'that', 'the', 'frequency', 'of', 'waves', 'is', 'the', 'number', 'of', 'waves', 'that', 'pass', 'a', 'fixed', 'point', 'in', 'a', 'given', 'amount', 'of', 'time', '.', 'Found', 'on', 'fragile', 'wax', 'cylinders', 'and', 'early', 'lacquer', 'records', ',', 'the', 'sounds', 'reveal', 'a', 'rich', 'acoustic', 'heritage', ',', 'including', 'languages', 'long', 'lost', '.', 'Think', 'about', 'a', 'common', 'bar', 'magnet', '.', 'Consider', 'an', 'electromag', '-', 'netic', 'wave', 'that', 'has', 'a', 'wavelength', 'of', '3', 'meters', '.', 'LED', 'stands', 'for', 'light-emitting', 'diode', '.', 'Reflected', 'light', 'bounces', 'back', 'when', 'it', 'strikes', 'matter', '.', 'Look', 'back', 'at', 'the', 'rainbow', 'that', 'opened', 'this', 'chapter', '.', 'Do', 'you', 'see', 'all', 'the', 'different', 'colors', 'of', 'light', ',', 'from', 'red', 'at', 'the', 'top', 'to', 'violet', 'at', 'the', 'bottom', '?', 'Look', 'at', 'the', 'center', 'of', 'the', 'diagram', 'in', 'Figure', '22.7', '.', 'Look', 'at', 'the', 'center', 'of', 'the', 'diagram', 'in', 'Figure', '22.7', '.', 'Look', 'at', 'the', 'man', 'shaving', 'in', 'Figure', '22.12', '.', 'Find', 'each', 'structure', 'in', 'the', 'diagram', 'as', 'you', 'read', 'about', 'it', 'below', '.', 'Imagine', 'a', 'huge', 'bar', 'magnet', 'passing', 'through', 'Earths', 'axis', ',', 'as', 'illustrated', 'in', 'Figure', '24.10', '.', 'Look', 'at', 'Figure', '24.14', ',', 'which', 'shows', 'a', 'ridge', 'on', 'the', 'ocean', 'floor', '.', 'Find', 'out', 'more', 'about', 'the', 'spectacular', 'light', 'shows', 'up', 'north', 'and', 'what', 'scientists', 'at', 'UC', 'Berkeley', 'are', 'discovering', 'about', 'the', 'Earths', 'magnetic', 'field', '.', 'Remember', 'the', 'quarks', 'from', 'the', 'first', 'page', 'of', 'this', 'chapter', '?', 'Based', 'on', 'his', 'results', ',', 'Rutherford', 'concluded', 'that', 'all', 'the', 'positive', 'charge', 'of', 'an', 'atom', 'is', 'concentrated', 'in', 'a', 'small', 'central', 'area', '.', 'Remember', ',', 'Rutherford', 'thought', 'that', 'electrons', 'orbit', 'the', 'nucleus', 'at', 'random', '.', 'Based', 'on', 'their', 'position', 'in', 'the', 'table', ',', 'he', 'could', 'even', 'predict', 'their', 'properties', '.', 'Find', 'lead', 'in', 'Figure', '6.3', '.', 'Look', 'at', 'period', '2', 'in', 'Figure', '6.8', 'as', 'an', 'example', '.', 'Name', 'of', 'Compound', 'Electron', 'Dot', 'Diagram', 'Numbers', 'of', 'Atoms', 'Chemical', 'Formula', 'Name', 'of', 'Compound', 'Hydrogen', 'chloride', 'Electron', 'Dot', 'Diagram', 'Numbers', 'of', 'Atoms', 'H', '=', '1', 'Cl', '=', '1', 'Chemical', 'Formula', 'HCl', 'Methane', 'C', '=', '1', 'H', '=', '4', 'CH4', 'Hydrogen', 'peroxide', 'H', '=', '2', 'O', '=', '2', 'H2', 'O2', 'Carbon', 'dioxide', 'C', '=', '1', 'O', '=', '2', 'CO2', 'Problem', 'Solving', 'Problem', ':', 'A', 'molecule', 'of', 'ammonia', 'consists', 'of', 'one', 'atom', 'of', 'nitrogen', '-LRB-', 'N', '-RRB-', 'and', 'three', 'atoms', 'of', 'hydrogen', '-LRB-', 'H', '-RRB-', '.', 'Find', 'sodium', '-LRB-', 'Na', '-RRB-', 'in', 'Figure', '7.4', '.', 'Dissolved', 'ionic', 'compounds', 'are', 'called', 'electrolytes', '.', 'Look', 'at', 'the', 'hydrogen', 'atoms', 'in', 'Figure', '7.7', '.', 'Recall', 'that', 'metals', '``', 'want', \"''\", 'to', 'give', 'up', 'their', 'valence', 'electrons', '.', 'Look', 'at', 'Figure', '7.14', '.', 'shows', 'the', 'direction', 'in', 'which', 'the', 'reaction', 'occurs', '.', 'Look', 'at', 'the', 'example', 'in', 'Figure', '8.2', '.', 'Count', 'the', 'oxygen', 'atoms', 'to', 'find', 'out', '.', 'Balancing', 'a', 'chemical', 'equation', 'involves', 'a', 'certain', 'amount', 'of', 'trial', 'and', 'error', '.', 'Changing', 'subscripts', 'changes', 'the', 'substances', 'involved', 'in', 'the', 'reaction', '.', 'Count', 'the', 'number', 'of', 'each', 'type', 'of', 'atom', 'in', 'reactants', 'and', 'products', '.', 'Add', 'the', 'coefficient', '2', 'in', 'front', 'of', 'NH3', '.', 'Add', 'the', 'coefficient', '3', 'in', 'front', 'of', 'H2', '.', 'Does', 'the', 'same', 'number', 'of', 'each', 'atom', 'appear', 'on', 'both', 'sides', 'of', 'the', 'arrow', '?', 'Add', 'coefficients', 'to', 'increase', 'the', 'number', 'of', 'atoms', 'or', 'molecules', 'of', 'reactants', 'or', 'products', '.', 'Use', 'the', 'smallest', 'coefficients', 'possible', '.', 'Living', 'things', 'depend', 'on', 'catalysts', 'to', 'speed', 'up', 'many', 'chemical', 'reactions', 'inside', 'their', 'cells', '.', 'Compared', 'with', 'the', 'straight', '-', 'and', 'branched-chain', 'alkanes', ',', 'cycloalkanes', 'have', 'higher', 'boiling', 'and', 'melting', 'points', '.', 'Breaking', 'all', 'those', 'bonds', 'between', 'carbon', 'atoms', 'releases', 'a', 'lot', 'of', 'energy', '.', 'Given', 'their', 'diversity', 'of', 'functions', ',', 'its', 'not', 'surprising', 'that', 'there', 'are', 'millions', 'of', 'different', 'biochemical', 'compounds', '.', 'Living', 'things', 'that', 'can', 'not', 'make', 'glucose', 'obtain', 'it', 'by', 'consuming', 'plants', 'or', 'these', 'other', 'organisms', '.', 'speeding', 'up', 'biochemical', 'reactions', 'as', 'enzymes', '.', 'regulating', 'life', 'processes', 'as', 'hormones', '.', 'transporting', 'materials', 'as', 'components', 'of', 'the', 'blood', '-LRB-', 'see', 'the', 'example', 'in', 'Figure', '9.20', '-RRB-', '.', 'Determining', 'the', 'structure', 'of', 'DNA', 'was', 'a', 'big', 'scientific', 'breakthrough', '.', 'Use', 'your', 'imagination', 'to', 'think', 'of', 'others', '.', 'Turning', 'the', 'key', 'causes', 'a', 'spark', 'that', 'activates', 'the', 'burning', 'of', 'gasoline', 'in', 'the', 'engine', '.', 'Look', 'at', 'the', 'Figure', '1.1', '.', 'Click', 'image', 'to', 'the', 'left', 'or', 'use', 'the', 'URL', 'below', '.', 'Stain', '-', 'less', 'steel', 'sink', ':', 'Stainless', 'steel', 'is', 'a', 'type', 'of', 'steel', 'that', 'contains', 'nickel', 'and', 'chromium', 'in', 'addition', 'to', 'carbon', 'and', 'iron', '.', 'Losing', 'the', 'protons', 'and', 'neutrons', 'makes', 'the', 'nucleus', 'more', 'stable', '.', 'Depending', 'on', 'your', 'size', ',', 'this', 'volume', 'might', 'be', 'about', '0.07', 'm3', '.', 'Click', 'image', 'to', 'the', 'left', 'or', 'use', 'the', 'URL', 'below', '.', 'Click', 'image', 'to', 'the', 'left', 'or', 'use', 'the', 'URL', 'below', '.', 'Given', 'its', 'great', 'mass', 'and', 'tiny', 'size', ',', 'the', 'nucleus', 'is', 'very', 'dense', '.', 'Click', 'image', 'to', 'the', 'left', 'or', 'use', 'the', 'URL', 'below', '.', 'Consider', 'helium', 'again', '.', 'Count', 'the', 'number', 'of', 'hydrogen', 'and', 'oxygen', 'atoms', 'on', 'each', 'side', 'of', 'the', 'arrow', '.', 'Balancing', 'a', 'chemical', 'equation', 'involves', 'a', 'certain', 'amount', 'of', 'trial', 'and', 'error', '.', 'Changing', 'subscripts', 'changes', 'the', 'substances', 'involved', 'in', 'the', 'reaction', '.', 'Count', 'each', 'type', 'of', 'atom', 'in', 'reactants', 'and', 'products', '.', 'Use', 'the', 'smallest', 'coefficients', 'possible', '.', 'Given', 'their', 'diversity', 'of', 'functions', ',', 'its', 'not', 'surprising', 'that', 'there', 'are', 'millions', 'of', 'different', 'biochemical', 'compounds', '.', 'Click', 'image', 'to', 'the', 'left', 'or', 'use', 'the', 'URL', 'below', '.', 'Knowing', 'this', 'may', 'have', 'made', 'it', 'easier', 'for', 'scientists', 'to', 'accept', 'the', 'idea', 'that', 'energy', 'exists', 'in', 'discrete', 'units', 'as', 'well', '.', 'Click', 'image', 'to', 'the', 'left', 'or', 'use', 'the', 'URL', 'below', '.', 'Look', 'at', 'the', 'Figure', '1.2', '.', 'According', 'to', 'this', 'law', ',', 'the', 'acceleration', 'of', 'an', 'object', 'equals', 'the', 'net', 'force', 'acting', 'on', 'it', 'divided', 'by', 'its', 'mass', '.', 'Assume', 'that', 'the', 'net', 'force', 'acting', 'on', 'Xander', 'and', 'the', 'scooter', 'is', '25', 'Newtons', '.', 'Substitute', 'the', 'relevant', 'values', 'into', 'the', 'equation', 'for', 'acceleration', ':', 'F', '=', '25', 'N', '=', '0.5', 'N', 'a', '=', 'm', '50', 'kg', 'kg', 'The', 'Newton', 'is', 'the', 'SI', 'unit', 'for', 'force', '.', 'Assume', 'that', 'his', 'acceleration', 'is', '0.8', 'm/s2', '.', 'Substitute', 'the', 'relevant', 'values', 'into', 'the', 'equation', 'for', 'force', 'to', 'find', 'the', 'answer', ':', 'F', '=', 'm', 'a', '=', '50', 'kg', '0.8', 'm/s2', '=', '40', 'kg', 'm/s2', ',', 'or', '40', 'N', 'Q', ':', 'If', 'Xander', 'and', 'his', 'scooter', 'actually', 'had', 'a', 'mass', 'of', '40', 'kg', 'instead', 'of', '50', 'kg', ',', 'how', 'much', 'force', 'would', 'it', 'take', 'for', 'him', 'to', 'accelerate', 'at', '0.8', 'm/s2', '?', 'Calculating', 'acceleration', 'is', 'complicated', 'if', 'both', 'speed', 'and', 'direction', 'are', 'changing', 'or', 'if', 'you', 'want', 'to', 'know', 'acceleration', 'at', 'any', 'given', 'instant', 'in', 'time', '.', 'Look', 'at', 'the', 'cyclist', 'in', 'the', 'Figure', '1.1', '.', 'Note', 'that', 'the', 'answer', 'to', 'this', 'problem', 'is', 'expressed', 'in', 'm/s2', ',', 'which', 'is', 'the', 'SI', 'unit', 'for', 'acceleration', '.', 'Substitute', 'the', 'known', 'values', 'into', 'the', 'equation', 'for', 'force', ':', 'J', 'Force', '=', '2700', '30', 'm', '=', '90', 'N', 'Q', ':', 'When', 'Clarissa', 'gets', 'back', 'to', 'her', 'house', ',', 'she', 'hangs', 'the', '200-Newton', 'lawn', 'mower', 'on', 'some', 'hooks', 'in', 'the', 'garage', '-LRB-', 'see', 'the', 'Figure', '1.1', '-RRB-', '.', 'Living', 'things', 'use', 'carbohydrates', 'mainly', 'for', 'energy', '.', 'Note', 'that', 'just', 'a', 'small', 'section', 'of', 'the', 'rubber', 'polymer', 'is', 'represented', 'by', 'the', 'structural', 'formula', '.', 'Click', 'image', 'to', 'the', 'left', 'or', 'use', 'the', 'URL', 'below', '.', 'Try', 'this', 'yourself', 'and', 'see', 'if', 'you', 'can', 'taste', 'the', 'reaction', '.', 'Click', 'image', 'to', 'the', 'left', 'or', 'use', 'the', 'URL', 'below', '.', 'Click', 'image', 'to', 'the', 'left', 'or', 'use', 'the', 'URL', 'below', '.', 'Note', 'that', 'when', 'there', 'is', 'more', 'than', 'one', 'reactant', ',', 'they', 'are', 'separated', 'by', 'plus', 'signs', '-LRB-', '+', '-RRB-', '.', 'Look', 'at', 'the', 'chemical', 'reaction', 'illustrated', 'in', 'the', 'Figure', '1.1', '.', 'Consider', 'the', 'compound', 'water', 'as', 'an', 'example', '.', 'Click', 'image', 'to', 'the', 'left', 'or', 'use', 'the', 'URL', 'below', '.', 'Name', 'of', 'Compound', 'Type', 'of', 'Compound', 'Sodium', 'chloride', 'ionic', 'Calcium', 'iodide', 'ionic', 'Hydrogen', 'peroxide', 'covalent', 'Carbon', 'dioxide', 'covalent', 'Ratio', 'of', 'Ions', 'or', 'Atoms', 'of', 'Each', 'Element', '1', 'sodium', 'ion', '-LRB-', 'Na', '+', '-RRB-', '1', 'chloride', 'ion', '-LRB-', 'Cl', '-RRB-', '1', 'calcium', 'ion', '-LRB-', 'Ca2', '+', '-RRB-', '2', 'io', '-', 'dide', 'ions', '-LRB-', 'I', '-RRB-', '2', 'hydrogen', 'atoms', '-LRB-', 'H', '-RRB-', '2', 'oxygen', 'atoms', '-LRB-', 'O', '-RRB-', '1', 'carbon', 'atom', '-LRB-', 'C', '-RRB-', '2', 'oxy', '-', 'gen', 'atoms', '-LRB-', 'O', '-RRB-', 'Chemical', 'Formulas', 'NaCl', 'CaI2', 'H2', 'O2', 'CO2', 'There', 'is', 'a', 'different', 'rule', 'for', 'writing', 'the', 'chemical', 'formula', 'for', 'each', 'type', 'of', 'compound', '.', 'Click', 'image', 'to', 'the', 'left', 'or', 'use', 'the', 'URL', 'below', '.', 'Look', 'at', 'the', 'two', 'pictures', 'in', 'the', 'Figure', '1.1', '.', 'Consider', 'the', 'chemical', 'reaction', 'in', 'which', 'water', 'forms', 'from', 'oxygen', 'and', 'hydrogen', 'gases', '.', 'Click', 'image', 'to', 'the', 'left', 'or', 'use', 'the', 'URL', 'below', '.', 'Look', 'at', 'the', 'Figure', '1.2', 'of', 'water', '-LRB-', 'H2', 'O', '-RRB-', 'and', 'hydrogen', 'peroxide', '-LRB-', 'H2', 'O2', '-RRB-', ',', 'and', 'read', 'about', 'these', 'two', 'compounds', '.', 'Click', 'image', 'to', 'the', 'left', 'or', 'use', 'the', 'URL', 'below', '.', 'Look', 'at', 'the', 'beautiful', 'stained', 'glass', 'windows', 'in', 'the', 'Figure', '1.4', '.', 'Look', 'at', 'the', 'beautiful', 'stained', 'glass', 'windows', 'in', 'the', 'Figure', '1.4', '.', 'Look', 'at', 'the', 'Venn', 'diagram', '1.5', '.', 'Look', 'at', 'the', 'Venn', 'diagram', '1.5', '.', 'Look', 'at', 'the', 'center', 'of', 'the', 'diagram', ',', 'where', 'all', 'three', 'primary', 'colors', 'of', 'light', 'combine', '.', 'Think', 'about', 'riding', 'your', 'bicycle', '.', 'Imagine', 'how', 'your', 'speed', 'would', 'change', 'if', 'you', 'were', 'riding', 'through', 'deep', 'sand', '.', 'Imagine', 'now', 'your', 'teacher', 'turns', 'the', 'light', 'off', '.', 'Writing', 'a', '``', 'c', \"''\", 'is', 'much', 'easier', 'than', 'writing', 'the', 'actual', 'speed', 'of', 'light', '.', 'Writing', 'a', '``', 'c', \"''\", 'is', 'much', 'easier', 'than', 'writing', 'the', 'actual', 'speed', 'of', 'light', '.', 'Remember', ',', 'the', 'Sun', 'is', 'a', 'long', 'way', 'away', '.', 'Look', 'at', 'the', 'wheelbarrow', 'in', 'the', 'Figure', '1.1', '.', 'Turning', 'the', 'handle', 'on', 'top', 'twists', 'the', 'screw', 'down', 'into', 'the', 'center', 'of', 'the', 'cork', '.', 'Click', 'image', 'to', 'the', 'left', 'or', 'use', 'the', 'URL', 'below', '.', 'Suppose', ',', 'for', 'example', ',', 'that', 'you', 'have', '1', 'gram', 'of', 'matter', '.', 'Multiplying', 'this', 'mass', 'by', 'c2', 'would', 'yield', 'enough', 'energy', 'to', 'power', '3,600', 'homes', 'for', 'a', 'year', '!', 'Consider', 'a', 'simple', 'chemical', 'reaction', ',', 'the', 'burning', 'of', 'methane', '.', 'Count', 'the', 'atoms', 'of', 'each', 'type', 'on', 'both', 'sides', 'of', 'the', 'arrow', 'to', 'find', 'out', '.', 'Click', 'image', 'to', 'the', 'left', 'or', 'use', 'the', 'URL', 'below', '.', 'Click', 'image', 'to', 'the', 'left', 'or', 'use', 'the', 'URL', 'below', '.', 'Look', 'at', 'the', 'oxygen', 'atoms', 'in', 'the', 'Figure', '1.2', '.', 'Click', 'image', 'to', 'the', 'left', 'or', 'use', 'the', 'URL', 'below', '.', 'According', 'to', 'this', 'theory', ',', 'atoms', 'of', 'matter', 'are', 'in', 'constant', 'random', 'motion', '.', 'Look', 'again', 'at', 'the', 'map', 'in', 'the', 'Figure', '1.1', '.', 'Imagine', 'a', 'huge', 'bar', 'magnet', 'passing', 'through', 'Earths', 'axis', ',', 'as', 'in', 'the', 'Figure', '1.1', '.', 'Find', 'the', 'north', 'geographic', 'pole', 'in', 'the', 'Figure', '1.2', '.', 'Find', 'the', 'north', 'geographic', 'pole', 'in', 'the', 'Figure', '1.2', '.', 'Click', 'image', 'to', 'the', 'left', 'or', 'use', 'the', 'URL', 'below', '.', 'According', 'to', 'Einstein', ',', 'objects', 'move', 'toward', 'one', 'another', 'because', 'of', 'the', 'curves', 'in', 'space-time', ',', 'not', 'because', 'they', 'are', 'pulling', 'on', 'each', 'other', 'with', 'a', 'force', 'of', 'attraction', '.', 'Imagine', 'a', 'bowling', 'ball', 'pressing', 'down', 'on', 'a', 'trampoline', '.', 'Click', 'image', 'to', 'the', 'left', 'or', 'use', 'the', 'URL', 'below', '.', 'Consider', 'a', 'bar', 'magnet', ',', 'like', 'the', 'one', 'in', 'the', 'Figure', '1.1', '.', 'Based', 'on', 'his', 'calculations', ',', 'he', 'identified', 'regions', 'around', 'the', 'nucleus', 'where', 'electrons', 'are', 'most', 'likely', 'to', 'be', '.', 'Click', 'image', 'to', 'the', 'left', 'or', 'use', 'the', 'URL', 'below', '.', 'Click', 'image', 'to', 'the', 'left', 'or', 'use', 'the', 'URL', 'below', '.', 'Shared', 'electrons', 'bind', 'atoms', 'together', 'to', 'form', 'chemical', 'compounds', '.', 'Click', 'image', 'to', 'the', 'left', 'or', 'use', 'the', 'URL', 'below', '.', 'Consider', 'carbon', 'as', 'an', 'example', '.', 'Think', 'about', 'that', 'the', 'next', 'time', 'you', 'jump', 'into', 'the', 'air', '.', 'Think', 'about', 'when', 'you', 'climb', 'a', 'set', 'of', 'stairs', '.', 'Identify', 'factors', 'that', 'influence', 'the', 'strength', 'of', 'gravity', 'between', 'two', 'objects', '.', 'Consider', 'the', 'elements', 'fluorine', 'and', 'lithium', ',', 'modeled', 'in', 'the', 'Figure', '1.3', '.', 'Click', 'image', 'to', 'the', 'left', 'or', 'use', 'the', 'URL', 'below', '.', 'Note', ':', 'H', 'represents', 'the', 'change', 'in', 'en', '-', 'ergy', '.', 'Look', 'at', 'the', 'big', 'bonfire', 'in', 'the', 'Figure', '1.2', '.', 'Look', 'at', 'Carsons', 'brother', 'Colton', 'in', 'the', 'Figure', 'starts', 'the', 'scooter', 'moving', 'in', 'the', 'opposite', 'direction', '.', 'Look', 'at', 'the', 'metal', 'surfaces', 'in', 'the', 'Figure', '1.3', '.', 'Based', 'on', 'this', 'information', ',', 'what', 'is', 'the', 'total', 'electric', 'charge', 'of', 'a', 'proton', '?', 'Consider', 'the', 'examples', 'of', 'gluons', ',', 'the', 'bosons', 'that', 'carry', 'the', 'strong', 'nuclear', 'force', '.', 'Note', 'that', 'force-carrying', 'particles', 'for', 'gravity', '-LRB-', 'gravitons', '-RRB-', 'have', 'not', 'yet', 'been', 'found', '.', 'Based', 'on', 'their', 'knowledge', 'of', 'subatomic', 'particles', ',', 'scientists', 'have', 'developed', 'a', 'theory', 'called', 'the', 'standard', 'model', 'to', 'explain', 'all', 'the', 'matter', 'in', 'the', 'universe', 'and', 'how', 'it', 'is', 'held', 'together', '.', 'Click', 'image', 'to', 'the', 'left', 'or', 'use', 'the', 'URL', 'below', '.', 'According', 'to', 'this', 'conception', 'of', 'gravity', ',', 'anything', 'that', 'has', 'mass', ',', 'no', 'matter', 'how', 'small', ',', 'exerts', 'gravity', 'on', 'other', 'matter', '.', 'Watch', 'the', 'animation', 'and', 'look', 'closely', 'at', 'the', 'diagrams', '.', 'Click', 'image', 'to', 'the', 'left', 'or', 'use', 'the', 'URL', 'below', '.', 'Compared', 'with', 'most', 'other', 'elements', ',', 'halogens', 'have', 'relatively', 'low', 'melting', 'and', 'boiling', 'points', '.', 'Click', 'image', 'to', 'the', 'left', 'or', 'use', 'the', 'URL', 'below', '.', 'Name', 'of', 'Compound', '-LRB-', 'Chemical', 'Formula', '-RRB-', 'Methane', '-LRB-', 'CH4', '-RRB-', 'Ethylene', '-LRB-', 'C2', 'H2', '-RRB-', 'Ammonia', '-LRB-', 'NH3', '-RRB-', 'Water', '-LRB-', 'H2', 'O', '-RRB-', 'Polar', 'or', 'Nonpolar', '?', 'Inclined', 'planes', 'make', 'it', 'easier', 'to', 'move', 'objects', 'to', 'a', 'higher', 'elevation', '.', 'Click', 'image', 'to', 'the', 'left', 'or', 'use', 'the', 'URL', 'below', '.', 'Find', 'sodium', '-LRB-', 'Na', '-RRB-', 'in', 'the', 'Figure', '1.2', '.', 'Look', 'at', 'the', 'crystal', 'of', 'sodium', 'chloride', '-LRB-', 'NaCl', '-RRB-', 'in', 'the', 'Figure', 'bonds', '.', 'Dissolved', 'ionic', 'compounds', 'are', 'called', 'electrolytes', '.', 'Try', 'striking', 'salt', 'crystals', 'with', 'a', 'hammer', 'and', 'youll', 'find', 'that', 'they', 'readily', 'break', 'into', 'smaller', 'pieces', '.', 'Click', 'image', 'to', 'the', 'left', 'or', 'use', 'the', 'URL', 'below', '.', 'Consider', 'the', 'example', 'of', 'fluorine', '-LRB-', 'see', 'Figure', '1.1', '-RRB-', '.', 'Click', 'image', 'to', 'the', 'left', 'or', 'use', 'the', 'URL', 'below', '.', 'Look', 'at', 'the', 'carbon', 'atoms', 'in', 'each', 'isomer', '.', 'Substitute', 'these', 'values', 'for', 'mass', 'and', 'velocity', 'into', 'the', 'equation', 'for', 'kinetic', 'energy', ':', 'm2', '2', 'KE', '=', '12', '40', 'kg', '-LRB-', '1', 'm', 's', '-RRB-', '=', '20', 'kg', 's2', '=', '20', 'N', 'm', ',', 'or', '20', 'J', 'Notice', 'that', 'the', 'answer', 'is', 'given', 'in', 'joules', '-LRB-', 'J', '-RRB-', ',', 'or', 'N', 'm', ',', 'which', 'is', 'the', 'SI', 'unit', 'for', 'energy', '.', 'Look', 'at', 'the', 'Figure', '1.1', '.', 'Shaking', 'causes', 'carbon', 'dioxide', 'to', 'come', 'out', 'of', 'the', 'cola', 'solution', 'and', 'change', 'to', 'a', 'gas', '.', 'Click', 'image', 'to', 'the', 'left', 'or', 'use', 'the', 'URL', 'below', '.', 'Based', 'on', 'the', 'location', 'of', 'input', 'and', 'output', 'forces', ',', 'there', 'are', 'three', 'basic', 'types', 'of', 'levers', ',', 'called', 'first-class', ',', 'second-class', ',', 'and', 'third-class', 'levers', '.', 'Use', 'the', 'electro', '-', 'magnetic', 'spectrum', 'in', 'the', 'Figure', '1.1', 'to', 'find', 'out', 'which', 'of', 'the', 'three', 'types', 'of', 'light', 'have', 'the', 'highest', 'frequencies', '.', 'Living', 'things', 'use', 'lipids', 'to', 'store', 'energy', '.', 'Click', 'image', 'to', 'the', 'left', 'or', 'use', 'the', 'URL', 'below', '.', 'Look', 'at', 'Figure', '1.2', '.', 'Look', 'at', 'the', 'ramp', 'in', 'the', 'Figure', '1.1', '.', 'Based', 'on', 'their', 'position', 'in', 'the', 'table', ',', 'he', 'even', 'predicted', 'their', 'properties', '.', 'Click', 'image', 'to', 'the', 'left', 'or', 'use', 'the', 'URL', 'below', '.', 'Click', 'image', 'to', 'the', 'left', 'or', 'use', 'the', 'URL', 'below', '.', 'Look', 'at', 'lithiums', 'electrons', '.', 'Find', 'the', 'microwave', 'in', 'the', 'Figure', '1.1', '.', 'Click', 'image', 'to', 'the', 'left', 'or', 'use', 'the', 'URL', 'below', '.', 'Look', 'at', 'the', 'girl', 'brushing', 'her', 'teeth', 'in', 'the', 'Figure', '1.1', '.', 'Look', 'at', 'the', 'girl', 'brushing', 'her', 'teeth', 'in', 'the', 'Figure', '1.1', '.', 'Click', 'image', 'to', 'the', 'left', 'or', 'use', 'the', 'URL', 'below', '.', 'Follow', 'this', 'with', 'the', 'name', 'of', 'element', 'closer', 'to', 'the', 'right', 'of', 'the', 'periodic', 'table', '.', 'Assume', 'that', 'the', 'school', 'bus', 'pictured', 'in', 'the', 'Figure', '1.2', 'passes', 'by', 'you', 'as', 'you', 'stand', 'on', 'the', 'sidewalk', '.', 'Suppose', ',', 'for', 'example', ',', 'that', 'you', 'live', 'in', 'a', 'remote', 'location', 'and', 'need', 'a', 'new', 'part', 'for', 'your', 'car', '.', 'Called', 'the', 'Quiet', 'Achiever', ',', 'Tholstrups', 'car', 'was', 'driven', '4000', 'km', 'across', 'Australia', '.', 'Inspired', 'by', 'his', 'success', 'with', 'the', 'Quiet', 'Achiever', ',', 'in', '1987', 'Tholstrup', 'launched', 'the', 'first', 'World', 'Solar', 'Chal', '-', 'lenge', '.', 'Inspired', 'by', 'his', 'success', 'with', 'the', 'Quiet', 'Achiever', ',', 'in', '1987', 'Tholstrup', 'launched', 'the', 'first', 'World', 'Solar', 'Chal', '-', 'lenge', '.', 'Called', 'the', 'Venturi', 'Astrolab', ',', 'it', 'has', 'a', 'top', 'speed', 'of', '120', 'km/h', '.', 'Click', 'image', 'to', 'the', 'left', 'or', 'use', 'the', 'URL', 'below', '.', 'Based', 'on', 'this', 'example', ',', 'infer', 'how', 'isotopes', 'of', 'an', 'element', 'are', 'named', '.', 'Look', 'how', 'Ninas', 'friend', 'Laura', 'does', 'it', 'in', 'the', 'Figure', 'the', 'skateboard', '.', 'Look', 'at', 'the', 'skateboarders', 'in', 'the', 'Figure', '1.1', '.', 'Compare', 'the', 'top', 'and', 'bottom', 'arrows', '.', 'Think', 'about', 'Jerod', 'again', '.', 'Click', 'image', 'to', 'the', 'left', 'or', 'use', 'the', 'URL', 'below', '.', 'According', 'to', 'this', 'rule', ',', 'atoms', 'react', 'to', 'form', 'compounds', 'that', 'allow', 'them', 'to', 'have', 'a', 'group', 'of', 'eight', 'valence', 'electrons', 'like', 'the', 'noble', 'gases', '.', 'Filling', 'a', 'light', 'bulb', 'with', 'argon', 'gas', 'prevents', 'these', 'problems', '.', 'Lets', 'look', 'at', 'two', 'examples', 'of', 'nonmetals', ',', 'fluorine', 'and', 'neon', '.', 'Click', 'image', 'to', 'the', 'left', 'or', 'use', 'the', 'URL', 'below', '.', 'Click', 'image', 'to', 'the', 'left', 'or', 'use', 'the', 'URL', 'below', '.', 'Click', 'image', 'to', 'the', 'left', 'or', 'use', 'the', 'URL', 'below', '.', 'Click', 'image', 'to', 'the', 'left', 'or', 'use', 'the', 'URL', 'below', '.', 'Determining', 'the', 'structure', 'of', 'DNA', 'was', 'a', 'huge', 'scientific', 'breakthrough', '.', 'Click', 'image', 'to', 'the', 'left', 'or', 'use', 'the', 'URL', 'below', '.', 'Click', 'image', 'to', 'the', 'left', 'or', 'use', 'the', 'URL', 'below', '.', 'Click', 'image', 'to', 'the', 'left', 'or', 'use', 'the', 'URL', 'below', '.', 'Sounds', 'or', 'pictures', 'are', 'encoded', 'in', 'pulses', 'of', 'laser', 'light', ',', 'which', 'are', 'then', 'sent', 'through', 'an', 'optical', 'fiber', '.', 'Look', 'at', 'the', 'pogo', 'stick', 'in', 'the', 'Figure', '1.2', '.', 'Compared', 'with', 'a', 'less', 'powerful', 'device', ',', 'a', 'more', 'powerful', 'device', 'can', 'either', 'do', 'more', 'work', 'in', 'the', 'same', 'time', 'or', 'do', 'the', 'same', 'work', 'in', 'less', 'time', '.', 'Click', 'image', 'to', 'the', 'left', 'or', 'use', 'the', 'URL', 'below', '.', 'Click', 'image', 'to', 'the', 'left', 'or', 'use', 'the', 'URL', 'below', '.', 'Consider', 'an', 'electromag', '-', 'netic', 'wave', 'that', 'has', 'a', 'wavelength', 'of', '3', 'meters', '.', 'Click', 'image', 'to', 'the', 'left', 'or', 'use', 'the', 'URL', 'below', '.', 'regulating', 'life', 'processes', 'as', 'hormones', '.', 'helping', 'to', 'defend', 'against', 'infections', 'as', 'antibodies', '.', 'carrying', 'materials', 'around', 'the', 'body', 'as', 'transport', 'proteins', '-LRB-', 'see', 'the', 'example', 'of', 'hemoglobin', 'in', 'the', 'Figure', '1.2', '-RRB-', '.', 'Click', 'image', 'to', 'the', 'left', 'or', 'use', 'the', 'URL', 'below', '.', 'Look', 'at', 'the', 'table', 'of', 'types', 'of', 'pulleys', '.', 'Click', 'image', 'to', 'the', 'left', 'or', 'use', 'the', 'URL', 'below', '.', 'Click', 'image', 'to', 'the', 'left', 'or', 'use', 'the', 'URL', 'below', '.', 'Find', 'carbon', 'in', 'the', 'Figure', '1.1', ',', 'and', 'youll', 'see', 'that', 'its', 'atomic', 'number', 'is', '6', '.', 'Click', 'image', 'to', 'the', 'left', 'or', 'use', 'the', 'URL', 'below', '.', 'Click', 'image', 'to', 'the', 'left', 'or', 'use', 'the', 'URL', 'below', '.', 'Consider', 'the', 'example', 'of', 'water', 'forming', 'from', 'hydrogen', 'and', 'oxygen', '.', 'Click', 'image', 'to', 'the', 'left', 'or', 'use', 'the', 'URL', 'below', '.', 'Look', 'carefully', 'at', 'the', 'Figures', '1.1', ',', '1.2', ',', 'and', '1.3', '.', 'Dissolving', 'an', 'antacid', 'tablet', 'in', 'water', 'produces', 'a', 'fizzy', 'drink', '.', 'Adding', 'acid', 'to', 'milk', 'produces', 'solid', 'curds', 'of', 'cottage', 'cheese', '.', 'Did', 'a', 'chemical', 'reaction', 'occur', '?', 'Did', 'a', 'chemical', 'reaction', 'occur', '?', 'Keep', 'reading', 'to', 'learn', 'more', 'about', 'these', 'two', 'types', 'of', 'reactions', '.', 'Assuming', 'a', 'plum', 'pudding', 'model', 'of', 'the', 'atom', ',', 'Rutherford', 'predicted', 'that', 'the', 'areas', 'of', 'positive', 'charge', 'in', 'the', 'gold', 'atoms', 'would', 'deflect', ',', 'or', 'bend', ',', 'the', 'path', 'of', 'all', 'the', 'alpha', 'particles', 'as', 'they', 'passed', 'through', '.', 'Surrounding', 'the', 'sheet', 'of', 'gold', 'foil', ',', 'he', 'placed', 'a', 'screen', 'that', 'glowed', 'when', 'alpha', 'particles', 'struck', 'it', '.', 'Consider', 'the', 'data', 'in', 'Table', '1.3', '.', 'Click', 'image', 'to', 'the', 'left', 'or', 'use', 'the', 'URL', 'below', '.', 'Read', 'how', 'physics', 'explains', 'each', 'example', '.', 'Look', 'at', 'the', 'two', 'screws', 'in', 'the', 'Figure', '1.2', '.', 'Look', 'at', 'the', 'sketch', 'of', 'a', 'beaker', 'below', '.', 'Rounding', 'is', 'done', 'when', 'one', 'or', 'more', 'ending', 'digits', 'are', 'dropped', 'to', 'get', 'the', 'correct', 'number', 'of', 'significant', 'figures', '.', 'Follow', 'these', 'simple', 'rules', ':', 'If', 'the', 'digit', 'to', 'be', 'rounded', '-LRB-', 'dropped', '-RRB-', 'is', 'less', 'than', '5', ',', 'then', 'round', 'down', '.', 'Read', 'below', 'to', 'find', 'out', 'how', 'both', 'of', 'these', 'machines', 'work', '.', 'Look', 'at', 'the', 'first', 'guitar', 'string', 'on', 'the', 'left', 'in', 'the', 'Figure', '1.1', '.', 'Look', 'at', 'the', 'first', 'guitar', 'string', 'on', 'the', 'left', 'in', 'the', 'Figure', '1.1', '.', 'Plucking', 'the', 'string', 'makes', 'it', 'vibrate', '.', 'Click', 'image', 'to', 'the', 'left', 'or', 'use', 'the', 'URL', 'below', '.', 'Click', 'image', 'to', 'the', 'left', 'or', 'use', 'the', 'URL', 'below', '.', 'Look', 'at', 'the', 'Figure', '1.2', '.', 'Choosing', 'the', 'best', 'design', 'often', 'involves', 'weighing', 'the', 'pros', 'and', 'cons', 'of', 'different', 'options', 'and', 'deciding', 'which', 'ones', 'are', 'most', 'important', '.', 'Assume', 'that', 'you', 'have', 'walked', 'across', 'a', 'wool', 'carpet', 'in', 'rubber-soled', 'shoes', 'and', 'become', 'negatively', 'charged', '.', 'Compared', 'with', 'the', 'alkali', 'metals', 'in', 'group', '1', 'and', 'the', 'alkaline', 'Earth', 'metals', 'in', 'group', '2', ',', 'the', 'transition', 'metals', 'are', 'much', 'less', 'reactive', '.', 'Click', 'image', 'to', 'the', 'left', 'or', 'use', 'the', 'URL', 'below', '.', 'Sliding', 'friction', 'is', 'friction', 'that', 'acts', 'on', 'objects', 'when', 'they', 'are', 'sliding', 'over', 'a', 'surface', '.', 'Sliding', 'friction', 'is', 'friction', 'that', 'acts', 'on', 'objects', 'when', 'they', 'are', 'sliding', 'over', 'a', 'surface', '.', 'Sliding', 'friction', 'is', 'friction', 'that', 'acts', 'on', 'objects', 'when', 'they', 'are', 'sliding', 'over', 'a', 'surface', '.', 'Sliding', 'friction', 'is', 'weaker', 'than', 'static', 'friction', '.', 'Sliding', 'friction', 'can', 'be', 'useful', '.', 'Rolling', 'friction', 'is', 'friction', 'that', 'acts', 'on', 'objects', 'when', 'they', 'are', 'rolling', 'over', 'a', 'surface', '.', 'Look', 'at', 'the', 'skydiver', 'in', 'the', 'Figure', '1.3', '.', 'Uses', 'of', 'ultrasound', 'include', 'echolocation', ',', 'sonar', ',', 'and', 'ultrasonography', '.', 'Cutting', 'metal', 'with', 'an', 'acetylene', '-LRB-', 'ethyne', '-RRB-', 'torch', '.', 'Based', 'on', 'its', 'position', 'in', 'the', 'table', ',', 'how', 'reactive', 'do', 'you', 'think', 'calcium', 'is', '?', 'Name', 'another', 'element', 'with', 'which', 'calcium', 'might', 'react', '.', 'Click', 'image', 'to', 'the', 'left', 'or', 'use', 'the', 'URL', 'below', '.', 'Look', 'again', 'at', 'arrows', 'A', 'and', 'B', 'from', 'the', 'Figure', '1.1', '.', 'Scattering', 'occurs', 'when', 'light', 'bumps', 'into', 'tiny', 'particles', 'of', 'matter', 'and', 'spreads', 'out', 'in', 'all', 'directions', '.', 'Examine', 'each', 'structure', 'in', 'the', 'diagram', 'as', 'you', 'read', 'about', 'it', 'below', '.', 'Click', 'image', 'to', 'the', 'left', 'or', 'use', 'the', 'URL', 'below', '.', 'Imagine', 'dropping', 'a', 'small', 'pebble', 'into', 'a', 'pond', 'of', 'still', 'water', '.', 'Infer', 'how', 'wave', 'frequency', 'is', 'related', 'to', 'wavelength', '.', 'Think', 'of', 'something', 'you', 'might', 'have', 'made', 'from', 'LEGOs', '.', 'Consider', 'this', ':', 'trillions', 'of', 'atoms', 'would', 'fit', 'inside', 'the', 'period', 'at', 'the', 'end', 'of', 'this', 'sentence', '.', 'Remember', ',', 'a', 'model', 'helps', 'us', 'make', 'sense', 'of', 'things', '.', 'Standing', 'waves', 'occur', 'because', 'of', 'a', 'combination', 'of', 'constructive', 'and', 'destructive', 'interference', '.', 'Keep', 'reading', 'to', 'learn', 'more', '.', 'According', 'to', 'Einstein', ',', 'a', 'photon', 'resembles', 'a', 'particle', 'but', 'moves', 'like', 'a', 'wave', '.', 'Click', 'image', 'to', 'the', 'left', 'or', 'use', 'the', 'URL', 'below', '.', 'Consider', 'an', 'ocean', 'wave', 'with', 'a', 'wavelength', 'of', '3', 'meters', 'and', 'a', 'frequency', 'of', '1', 'hertz', '.', 'Click', 'image', 'to', 'the', 'left', 'or', 'use', 'the', 'URL', 'below', '.', 'According', 'to', 'CNN', ',', 'it', 'is', 'unclear', 'if', 'Shinawatra', 'will', 'be', 'her', 'party', \"'s\", 'choice', 'to', 'as', 'a', 'candidate', 'in', 'the', 'elections', '.', 'Contrasting', 'current', '``', 'me', 'first', 'politics', \"''\", 'against', 'concerns', 'of', 'ordinary', 'Scots', ',', 'the', 'launch', 'video', \"'s\", 'opening', ',', 'monochrome', 'half', ',', 'stresses', 'everyday', 'common', 'concerns', ':', '``', 'Will', 'I', 'have', 'a', 'pension', 'I', 'can', 'survive', 'on', 'when', 'I', 'retire', '?', \"''\", 'Crediting', 'the', 'Sunday', 'Herald', 'newspaper', 'for', 'an', 'opportunity', 'to', 'share', 'some', 'ideas', 'underpinning', 'the', 'Common', 'Weal', ',', 'McAlpine', 'was', 'scathing', 'in', 'his', 'criticism', 'of', 'mainstream', 'coverage', 'of', 'the', 'independence', 'debate', ':', '``', 'There', \"'s\", 'this', 'massive', 'debate', '.', 'Seeking', 'to', '``', 'get', 'a', 'real', 'debate', 'going', ',', 'about', 'a', 'really', 'strong', 'vision', 'for', 'a', 'future', 'for', 'Scotland', ',', 'it', \"'s\", 'hard', '.', 'Following', 'his', 'guilty', 'plea', 'but', 'before', 'his', 'sentencing', ',', 'Watkins', 'discussed', 'his', 'sentencing', 'with', 'a', 'friend', 'via', 'telephone', '.', 'Addressing', 'the', 'issue', ',', 'the', 'Israeli', 'Prime', 'Minister', ',', 'Benjamin', 'Netanyahu', ',', 'said', 'at', 'the', 'meeting', 'of', 'his', 'party', ',', '``', 'Leadership', 'is', 'judged', 'by', 'the', 'ability', 'to', 'implement', 'decisions', ',', 'difficult', 'as', 'they', 'may', 'be', '.', 'Following', 'the', 'rejection', 'of', 'the', 'EU', 'deal', ',', 'the', 'Russian', 'government', 'has', 'bought', 'US$', '15', 'billion', 'of', 'Ukrainian', 'government', 'bonds', 'and', 'given', 'a', 'discount', 'on', 'gas', 'supplies', 'from', 'Russia', ',', 'cutting', 'the', 'price', 'from', 'over', '$', '400', 'per', '1,000', 'cubic', 'metres', 'of', 'gas', 'to', '$', '268.50', '.', 'Regarding', 'the', 'force', \"'s\", 'return', 'to', 'activity', ',', 'Islam', 'Shahwan', ',', 'Hamas', 'interior', 'ministry', 'spokesperson', ',', 'said', 'his', 'office', ',', 'in', 'charge', 'of', 'the', 'force', \"'s\", 'operation', ',', 'is', 'acting', 'to', '``', 'secure', 'and', 'fortify', 'the', 'home', 'front', 'and', 'the', 'agreements', 'approved', 'by', 'resistance', 'factions', 'to', 'realize', 'our', 'people', \"'s\", 'interests', ',', 'security', 'and', 'stability', \"''\", 'and', 'said', 'in', 'addition', ',', '``', 'We', 'will', 'not', 'allow', 'anyone', 'to', 'break', 'the', 'truce', '.', 'Following', 'the', 'process', ',', 'HJR-3', 'will', 'be', 'reviewed', 'again', 'by', 'the', 'next', 'elected', 'legislature', 'in', 'either', '2015', 'or', '2016', 'to', 'remain', 'in', 'process', '.', 'According', 'to', 'The', 'Telegraph', ',', 'European', 'diplomats', 'fear', 'that', 'the', 'document', 'will', 'be', 'perceived', 'as', 'biased', 'in', 'favor', 'of', 'the', 'Israeli', 'side', 'and', 'therefore', 'the', 'Palestinians', 'will', 'not', 'accept', 'it', '.', 'Following', 'announcement', 'of', 'the', 'close', 'partnership', 'of', 'shooters', 'with', 'NWPS', 'staff', ',', 'the', 'Greens', 'cancelled', 'planned', 'picketing', 'of', 'the', 'first', 'shooting', 'operation', '.', 'Appealing', 'to', 'potential', 'witnesses', 'for', 'information', ',', 'Sergeant', 'McPherson', 'said', ':', '``', 'The', 'area', 'is', 'also', 'overlooked', 'by', 'residential', 'flats', 'and', 'it', \"'s\", 'possible', 'someone', 'may', 'have', 'witnessed', 'the', 'crash', 'from', 'their', 'flat', '.', \"''\", 'Following', 'the', 'lack', 'of', 'fuels', ',', 'the', 'residents', 'of', 'the', 'Gaza', 'Strip', 'sometimes', 'need', 'to', 'manage', 'with', 'only', '12', 'hours', 'of', 'electricity', 'a', 'day', '.', 'Following', 'the', 'Peterborough', 'murders', 'Dennehy', 'made', 'a', '140-mile', 'trip', 'to', 'Hereford', 'where', 'she', 'stabbed', 'dog', 'walkers', 'Robin', 'Bereza', 'and', 'John', 'Rogers', 'with', 'a', 'knife', 'within', 'nine', 'minutes', 'of', 'each', 'other', '.', 'See', 'the', 'article', 'by', 'Paul', 'Goble', 'on', 'these', 'accords', '.', 'Following', 'a', 'back', 'surgery', 'in', '2005', 'that', 'attempted', 'to', 'fix', 'the', 'discs', ',', 'he', 'had', 'complications', 'that', 'resulted', 'in', 'permanent', 'nerve', 'damage', 'and', 'paralysis', 'in', 'his', 'lower', 'legs', '.', 'Following', 'a', 'little', 'patter', ',', 'she', 'asked', 'the', 'fans', 'to', 'do', 'the', 'Team', 'USA', 'chant', ',', 'which', 'they', 'did', '.', 'Following', 'the', 'goal', ',', 'Team', 'USA', 'took', 'a', 'timeout', 'and', 'made', 'a', 'goalkeeper', 'change', ',', 'with', 'Steve', 'Cash', 'out', 'and', 'Jen', 'Lee', 'in', '.', 'Strapping', 'down', 'and', 'feeding', 'laxatives', 'to', 'detainees', ',', 'while', 'force-feeding', ',', 'is', 'also', 'alleged', '.', 'Established', 'racers', 'Pastor', 'Maldonado', 'and', 'Romain', 'Grosjean', ',', 'both', 'Lotus', 'drivers', ',', 'also', 'stopped', 'with', 'technical', 'trouble', '.', 'Asked', 'about', 'the', 'cause', 'of', 'his', 'engine', 'troubles', ',', 'Hamilton', 'said', '``', 'One', 'of', 'the', 'cylinders', ',', 'I', 'think', ',', 'was', 'not', 'firing', \"''\", '.', 'Founded', 'in', '1995', ',', 'Arch', 'Enemy', 'replaced', 'founding', 'vocalist', 'Johan', 'Liiva', 'with', 'Gossow', 'in', '2000', '.', 'Founding', 'member', ',', 'leader', ',', 'and', 'head', 'songwriter', 'Michael', 'Amott', 'said', '``', 'We', 'welcome', 'Alissa', 'with', 'open', 'arms', '--', 'and', 'we', 'hope', 'you', 'will', 'have', 'open', 'ears', '.', \"''\", 'Neighbouring', 'England', 'has', 'seen', 'a', 'spate', 'recently', ',', 'including', 'four', 'last', 'year', '.', 'Becoming', 'encased', 'with', 'ice', ',', 'the', 'legend', 'ran', 'that', 'upon', 'thawing', 'out', 'in', '1984', 'the', 'members', 'decided', 'to', 'form', 'a', 'band', '.', 'Making', 'the', 'argument', 'that', 'it', 'was', \"n't\", 'his', 'money', 'to', 'donate', ',', 'it', 'was', 'the', 'retiree', \"'s\", 'money', '.', 'Let', \"'s\", 'do', 'some', 'public', 'meetings', '.', 'Thank', 'you', 'very', 'much', 'Senator', 'for', 'being', 'with', 'us', 'tonight', 'and', 'speaking', 'to', 'fifteen', 'journalism', 'students', 'and', 'myself', '...', 'Campaigning', 'against', 'him', 'was', 'like', 'campaigning', 'against', 'Elvis', 'Presley', '.', 'Does', 'Senate', 'leader', 'David', 'Long', 'serve', 'the', 'Republicans', 'in', 'the', 'state', 'senate', 'or', 'do', 'they', 'serve', 'him', '?', 'Let', \"'s\", 'pause', 'for', 'identification', '.', 'Welcome', 'back', ',', 'Senator', '.', 'According', 'to', 'Planned', 'Parenthood', ',', 'if', 'the', 'law', 'takes', 'effect', ',', 'it', 'will', 'prevent', 'some', 'women', 'from', 'having', 'an', 'abortion', '.', 'Filling', 'out', 'the', 'full', 'six', 'person', 'contingent', 'on', 'the', 'station', ',', 'they', 'join', 'three', 'Expedition', '39', 'crew', 'members', 'aboard', 'the', 'ISS', ':', 'Japanese', 'astronaut', 'and', 'station', 'commander', 'Koichi', 'Wakata', ',', 'NASA', 'astronaut', 'Richard', 'Mastracchio', 'and', 'Russian', 'cosmonaut', 'Mikhail', 'Tyurin', '.', 'Following', 'the', 'decision', 'of', 'the', 'Committee', ',', 'the', 'Daily', 'Telegraph', 'reported', 'Miller', \"'s\", 'special', 'adviser', 'Joanna', 'Hindley', 'had', 'said', 'in', 'a', 'telephone', 'call', 'with', 'the', 'newspaper', ',', '``', 'I', 'should', 'just', 'flag', 'up', 'as', 'well', ',', 'while', 'you', \"'re\", 'on', 'it', 'that', 'when', 'she', 'doorstepped', 'him', ',', 'she', 'got', 'Maria', \"'s\", 'father', ',', 'who', \"'s\", 'just', 'had', 'a', '-LSB-', 'removed', '-RSB-', 'and', 'come', 'out', 'of', '-LSB-', 'removed', '-RSB-', '.', 'Starting', 'as', 'a', 'teenager', ',', 'Geldof', 'wrote', 'for', 'magazines', 'and', 'newspapers', 'including', 'Elle', ',', 'the', 'The', 'Daily', 'Telegraph', 'and', 'The', 'Guardian', ',', 'as', 'well', 'as', 'presenting', 'OMG', '!', 'Reigning', 'champion', 'Sebastian', 'Vettel', 'continued', 'to', 'struggle', 'with', 'technical', 'problems', ',', 'including', 'his', 'drag', 'reduction', 'system', 'and', 'gearbox', '.', 'Starting', 'from', 'tenth', 'ahead', 'of', 'teammate', 'Ricciardo', ',', 'he', 'was', 'able', 'to', 'reach', 'sixth', 'by', 'the', 'finish', 'line', '.', 'Exiting', 'the', 'pit', 'lane', 'on', 'the', '41st', 'lap', 'Maldonado', 'struck', 'the', 'side', 'of', 'Sauber', 'racer', 'Esteban', 'Gutiérrez', 'with', 'sufficient', 'force', 'to', 'send', 'the', 'Mexican', \"'s\", 'car', 'onto', 'its', 'back', 'before', 'rolling', 'back', 'upright', '.', 'wrote', 'one', 'contributor', '.', 'Founding', 'frontman', 'and', 'singer', 'Brockie', 'spent', '30', 'years', 'leading', '``', 'Earth', \"'s\", 'only', 'openly', 'extra-terrestrial', 'rock', 'band', \"''\", ',', 'which', 'actually', 'hailed', 'from', 'Richmond', ',', 'Virginia', '.', 'Drawing', 'a', 'line', 'between', 'the', 'stage', 'persona', 'and', 'the', 'man', 'who', 'played', 'it', ',', 'the', 'band', 'add', '``', 'Just', 'face', 'it', '--', 'Oderus', 'would', 'order', 'you', 'to', 'be', 'present', 'and', 'pay', 'tribute', 'to', 'Dave', 'Murray', 'Brockie', ',', 'his', 'own', 'personal', 'slave', '!', \"''\", 'Nicknamed', 'Gray', 'Herb', 'for', 'his', 'seriousness', 'and', 'The', 'Gray', 'Fog', 'for', 'his', 'ability', 'to', 'deflect', 'questions', ',', 'Herb', 'was', 'the', 'first', 'Jewish', 'minister', 'in', 'Canada', '.', 'Coinciding', 'with', 'Easter', 'Sunday', ',', 'Glasgow', 'Cannabis', 'Social', 'Club', \"'s\", 'annual', '420', 'event', 'was', 'held', 'on', 'Glasgow', 'Green', ',', 'under', 'sunny', 'blue', 'skies', ',', 'and', 'overlooking', 'the', 'river', 'Clyde', '.', 'Taking', 'a', 'less-sensational', '--', 'and', 'more', 'accurate', '--', 'line', 'of', 'reporting', ',', 'the', 'Monday', 'edition', 'of', 'Glasgow', \"'s\", 'Evening', 'News', 'stated', 'five', 'were', 'referred', 'to', 'the', 'Procurator', 'Fiscal', 'who', 'is', 'responsible', 'for', 'deciding', 'if', 'charges', 'should', 'be', 'brought', '.', 'Retired', 'police', 'officer', 'James', 'Duffy', ',', 'of', 'Law', 'Enforcement', 'Against', 'Prohibition', ',', 'spoke', 'of', 'the', 'failed', 'United', 'States', 'alcohol', 'prohibition', 'policy', ';', 'stressing', 'such', 'policies', 'needlessly', 'bring', 'people', 'into', 'contact', 'with', 'criminal', 'elements', '.', 'Highlighting', 'other', 'countries', 'where', 'legalisation', 'has', 'been', 'implemented', ',', 'he', 'pointed', 'out', 'such', 'led', 'to', 'lower', 'crime', ',', 'and', 'lower', 'drug', 'use', 'overall', '.', 'Commissioned', 'to', 'commemorate', 'Pope', 'John', 'Paul', 'II', \"'s\", '1998', 'visit', 'to', 'Brescia', ',', 'and', 'reportedly', 'originally', 'erected', 'at', 'a', 'stadium', 'there', ',', 'the', 'crucifix', 'was', 'moved', 'to', 'its', 'present', 'location', 'in', 'nearby', 'Cevo', 'in', '2005', '.', 'Commenting', 'on', 'the', 'move', ',', 'a', 'spokesperson', 'for', 'the', 'CNB', 'revealed', 'the', 'organization', 'has', 'reported', 'at', 'least', 'thirty', 'NPS', 'seizures', 'in', 'the', 'period', 'from', 'last', 'May', 'through', 'this', 'February', '.', 'Termed', 'an', '``', 'alarming', 'new', 'drug', 'problem', \"''\", 'by', 'the', 'United', 'Nations', 'Office', 'on', 'Drugs', 'and', 'Crime', ',', 'its', 'World', 'Drug', 'Report', '2013', 'indicated', 'an', 'increase', 'to', '348', 'NPSs', 'in', '2013', ',', 'up', 'from', '251', 'in', '2012', '.', 'Capitalizing', 'on', 'their', 'legality', '--', 'which', 'no', 'longer', 'holds', 'in', 'Singapore', '--', 'NPSs', 'have', 'been', 'known', 'as', '``', 'legal', 'highs', \"''\", ',', '``', 'research', 'chemicals', \"''\", ',', '``', 'plant', 'food', \"''\", ',', 'and', '``', 'bath', 'salts', \"''\", '.', 'Commenting', 'on', 'the', 'illegalization', 'of', 'NPSs', ',', 'Ng', 'Ser', 'Song', ',', 'the', 'director', 'of', 'the', 'CNB', ',', 'had', 'this', 'to', 'say', '.', 'Commenting', 'on', 'the', 'illegalization', 'of', 'NPSs', ',', 'Ng', 'Ser', 'Song', ',', 'the', 'director', 'of', 'the', 'CNB', ',', 'had', 'this', 'to', 'say', '.', 'Listed', 'in', 'eBay', \"'s\", '``', 'really', 'weird', \"''\", 'category', ',', 'the', 'carcass', 'was', 'considered', 'by', 'eBay', 'to', 'be', 'an', 'example', 'of', '``', 'items', 'made', 'from', 'marine', 'mammals', 'regardless', 'of', 'when', 'the', 'product', 'was', 'made', \"''\", ',', 'which', 'are', 'prohibited', 'as', 'per', 'site', 'rules', '.', 'Following', 'a', 'council', 'meeting', 'on', 'Sunday', 'in', 'the', 'town', 'of', '950', 'residents', ',', 'Cape', 'St.', 'George', \"'s\", 'mayor', ',', 'Peter', 'Fenwick', ',', 'put', 'the', 'whale', 'up', 'on', 'the', 'auction', 'site', 'in', 'a', 'bid', 'to', 'have', 'it', 'removed', 'from', 'the', 'town', \"'s\", 'premises', ',', 'citing', 'a', 'lack', 'of', 'cooperation', 'from', 'provincial', 'and', 'federal', 'government', 'officials', 'on', 'the', 'matter', '.', 'Starting', 'the', 'race', 'in', 'thirteenth', ',', 'Gordon', 'claimed', 'his', '89th', 'career', 'win', ',', 'first', 'of', 'the', '2014', 'NASCAR', 'Sprint', 'Cup', 'Series', 'season', ',', 'and', 'third', 'at', 'the', 'track', '.', 'Remove', 'women', 'from', 'debate', '??', \"''\", 'Following', 'the', 'victory', ',', 'Modi', 'posted', 'on', 'social', 'networking', 'site', 'Twitter', '``', 'India', 'has', 'won', '.', 'Regarding', 'the', 'peace', 'process', ',', 'Pope', 'Francis', 'emphasized', 'that', 'peace', '``', 'must', 'resolutely', 'be', 'pursued', ',', 'even', 'if', 'each', 'side', 'has', 'to', 'make', 'certain', 'sacrifices', \"''\", '.', 'Following', 'the', 'ousting', 'of', 'Thailand', \"'s\", 'Prime', 'Minister', 'Yingluck', 'Shinawatra', 'from', 'power', ',', 'those', 'seeking', 'to', 'peacefully', 'protest', 'the', 'imposition', 'of', 'a', 'military', 'junta', 'in', 'the', 'country', 'on', 'May', '22', 'have', 'adopted', 'a', 'gesture', 'found', 'in', 'The', 'Hunger', 'Games', 'book', 'and', 'film', 'series', ',', 'curling', 'the', 'little', 'finger', 'and', 'thumb', 'into', 'the', 'palm', 'and', 'raising', 'the', 'three', 'middle', 'fingers', 'in', 'the', 'air', '.', 'Speaking', 'on', 'behalf', 'of', 'the', 'junta', ',', 'Colonel', 'Weerachon', 'Sukhondhapatipak', 'said', 'to', 'the', 'Associated', 'Press', ',', '``', 'At', 'this', 'point', 'we', 'are', 'monitoring', 'the', 'movement', '.', 'Speaking', 'about', 'the', 'achievement', ',', 'Warwick', 'stated', ':', '``', 'Some', 'will', 'claim', 'that', 'the', 'Test', 'has', 'already', 'been', 'passed', '.', 'Graduating', 'student', 'Kit', 'Fox', ',', 'according', 'to', 'the', 'Chicago', 'Tribune', ',', 'said', 'of', 'the', 'Medill', 'F', ',', '``', 'When', 'as', 'a', 'freshman', 'you', 'hear', 'about', 'it', 'for', 'the', 'first', 'time', ',', 'it', 'sounds', 'extremely', 'harsh', '.', 'Play', 'in', 'the', 'Paralympics', 'consists', 'of', 'two', 'twelve-minute', 'periods', ',', 'with', 'a', 'three', 'minute', 'break', 'between', 'halves', '.', 'Standing', 'in', 'front', 'of', 'a', 'long', 'goal', ',', 'they', 'throw', 'the', 'ball', 'at', 'the', 'opposition', 'team', \"'s\", 'net', 'who', 'in', 'turn', 'try', 'to', 'block', 'it', 'by', 'listening', 'to', 'the', 'ball', ',', 'which', 'contains', 'a', 'bell', ',', 'and', 'using', 'their', 'bodies', 'to', 'prevent', 'the', 'ball', 'from', 'going', 'in', '.', 'Walked', 'out', 'of', 'the', 'Brisbane', 'City', 'Council', '.', 'Got', 'out', 'of', 'my', 'own', 'company', 'and', 'decided', 'to', 'earn', 'more', 'money', 'as', 'a', 'consultant', '.', 'Turned', 'up', 'at', 'the', 'first', 'training', 'session', 'and', 'met', 'Adrian', 'King', 'and', 'Tige', 'Simmonds', ',', 'Rollers', ',', 'Australian', 'players', '...', 'I', \"'d\", 'actually', 'heard', 'of', 'Adrian', 'because', 'we', \"'d\", 'had', 'a', 'young', 'boy', 'at', 'Ashgrove', 'called', 'Sam', 'Hodge', '.', 'Got', 'work', 'commitments', '.', \"''\", 'Got', 'a', 'good', 'team', 'bonding', 'happening', 'there', '.', 'Grew', 'up', 'in', 'the', 'Snowy', 'Mountains', 'Scheme', 'with', 'my', 'family', '.', 'Looked', 'after', 'some', 'things', 'at', 'the', 'Brisbane', 'Bullets', \"'\", 'home', 'games', '.', 'Crossing', 'the', 'border', 'into', 'Egypt', 'through', 'Rafah', 'crossing', 'is', 'the', 'main', 'route', 'for', 'Muslims', 'in', 'Gaza', 'to', 'fulfill', 'the', 'Islamic', 'ritual', ',', 'and', 'officials', 'said', '800', 'of', 'them', 'were', 'supposed', 'to', 'cross', 'the', 'border', 'on', 'Sunday', '.', 'Crossing', 'the', 'border', 'into', 'Egypt', 'through', 'Rafah', 'crossing', 'is', 'the', 'main', 'route', 'for', 'Muslims', 'in', 'Gaza', 'to', 'fulfill', 'the', 'Islamic', 'ritual', ',', 'and', 'officials', 'said', '800', 'of', 'them', 'were', 'supposed', 'to', 'cross', 'the', 'border', 'on', 'Sunday', '.', 'According', 'to', 'Hamas', 'controlled', 'television', ',', 'the', 'field', 'commander', 'in', 'charge', 'of', 'the', 'force', 'reported', 'Israeli', 'casualties', '.', 'Talking', 'to', 'the', 'AP', 'news', 'agency', ',', 'Osama', 'Hamdan', ',', 'an', 'aide', 'to', 'Hamas', 'leader', 'Mashaal', ',', 'said', 'Hamas', 'has', 'specific', 'demands', 'from', 'Israel', ',', 'including', 'prisoner', 'release', '.', 'According', 'to', 'the', 'police', ',', 'the', 'three', 'perpetrators', 'were', 'riding', 'motorcycles', ',', 'and', 'escaped', '.', 'Speaking', 'to', 'reporters', 'after', 'the', 'meeting', ',', 'Rwanda', \"'s\", 'UN', 'ambassador', 'Eugene', 'Gasana', 'said', ',', '``', 'The', 'members', 'of', 'the', 'Security', 'Council', 'expressed', 'serious', 'concern', 'about', 'the', 'growing', 'number', 'of', 'casualties', '.', 'According', 'to', 'the', 'BBC', ',', 'at', 'least', '60', 'Palestinians', 'were', 'killed', 'during', 'the', 'ongoing', 'offensive', 'on', 'the', 'town', ',', 'the', 'harshest', 'offensive', 'of', 'the', 'operation', 'so', 'far', '.', 'According', 'to', 'BBC', ',', 'Palestinian', 'leaders', 'said', 'we', 'are', 'in', 'the', 'midst', 'of', 'an', '``', 'uprising', 'of', 'freedom', 'and', 'independence', \"''\", 'According', 'to', 'The', 'Boston', 'Globe', ',', 'a', 'spokesman', 'for', 'Gaza', \"'s\", 'Electricity', 'Distribution', 'Company', 'says', 'the', 'plant', ',', 'which', 'supplies', 'electricity', 'to', 'most', 'of', 'the', 'Gaza', 'Strip', ',', 'was', 'attacked', 'by', 'an', 'Israeli', 'tank', '.', 'Keeping', 'that', 'promise', 'can', 'not', 'be', 'combined', 'with', 'any', 'other', 'political', 'capacity', \"''\", '.', 'Regarding', 'the', 'airstrikes', 'Obama', 'said', ',', '``', 'We', 'intend', 'to', 'stay', 'vigilant', ',', 'and', 'take', 'action', 'if', 'these', 'terrorist', 'forces', 'threaten', 'our', 'personnel', 'or', 'facilities', 'anywhere', 'in', 'Iraq', ',', 'including', 'our', 'consulate', 'in', 'Erbil', 'and', 'our', 'embassy', 'in', 'Baghdad', '.', \"''\", 'According', 'to', 'a', 'statement', 'sent', 'out', 'by', 'Rear', 'Admiral', 'John', 'Kirby', ',', 'the', 'Pentagon', \"'s\", 'press', 'secretary', ',', '``', 'Two', 'F/A', '-18', 'aircraft', 'dropped', '500-pound', 'laser-guided', 'bombs', 'on', 'a', 'mobile', 'artillery', 'piece', 'near', 'Erbil', '.', 'Taking', 'into', 'account', 'thermal-infrared', 'measurements', 'of', 'thermal', 'inertia', ',', 'presence', 'of', 'a', 'fine-grained', 'regolith', 'is', 'implied', ',', 'primarily', 'around', '1950DA', \"'s\", 'equator', '.', 'Founded', 'as', 'a', 'political', 'movement', 'in', '2002', ',', 'Boko', 'Haram', 'seek', 'to', 'create', 'an', 'Islamic', 'country', 'in', 'Northern', 'Nigeria', ',', 'where', 'the', 'Nigerian', 'military', 'have', 'been', 'engaged', 'in', 'operations', 'aimed', 'at', 'removing', 'the', 'extremists', 'since', '2009', '.', 'Containing', '32', 'floors', 'and', 'standing', 'at', 'a', 'height', 'of', '176', 'm', '-LRB-', '577', 'ft', '-RRB-', ',', 'the', 'Kotelnicheskaya', 'Embankment', 'Building', 'is', 'one', 'of', 'the', 'Seven', 'Sisters', ',', 'skyscrapers', 'constructed', 'between', '1947', 'and', '1953', 'in', 'Moscow', 'under', 'the', 'direction', 'of', 'Joseph', 'Stalin', '.', 'Following', 'the', 'act', ',', 'at', 'least', 'one', 'of', 'the', 'suspects', 'then', 'reportedly', 'descended', 'from', 'the', 'building', 'by', 'parachute', ',', 'reported', 'state', 'news', 'channel', 'Rossiya', '24', ',', 'and', 'captured', 'on', 'a', 'video', 'published', 'by', 'Lifenews', ',', 'reportedly', 'filmed', 'by', 'a', 'local', 'resident', '.', 'said', 'Pogrebov', 'in', 'an', 'interview', 'to', 'LifeNews', '.', 'According', 'to', 'reports', 'from', 'Russian', 'state', 'television', ',', 'all', 'four', 'suspects', 'were', 'Russian', 'citizens', '.', 'According', 'to', 'a', 'statement', 'issued', 'by', 'SpaceX', ',', '``', 'Throughout', 'the', 'test', 'and', 'subsequent', 'flight', 'termination', ',', 'the', 'vehicle', 'remained', 'in', 'the', 'designated', 'flight', 'area', '.', 'Monitoring', 'group', 'Syrian', 'Observatory', 'for', 'Human', 'Rights', 'reported', 'over', '300', 'Islamic', 'State', 'fighters', 'were', 'killed', 'in', 'the', 'fighting', 'since', 'Tuesday', ',', 'with', 'over', '150', 'government', 'soldiers', 'killed', 'in', 'the', 'same', 'time', 'frame', '.', 'Speaking', 'on', 'Monday', 'before', 'the', 'summit', ',', 'NATO', \"'s\", 'secretary', 'general', ',', 'Anders', 'Fogh', 'Rasmussen', ',', 'described', 'this', 'as', 'a', 'response', 'to', '``', 'Russia', \"'s\", 'aggressive', 'behaviour', \"''\", ',', 'but', 'outlined', 'how', 'he', 'hoped', 'it', 'would', 'increase', 'the', 'responsiveness', 'of', 'the', 'alliance', 'to', 'face', 'any', 'security', 'challenge', '.', 'Wait', ',', 'we', 'forgot', 'to', 'mention', 'one', '.', 'Following', 'the', 'Iraq', 'visit', 'Kerry', 'is', 'to', 'visit', 'Saudi', 'Arabia', 'as', 'part', 'of', 'the', 'broad', 'U.S.', 'strategy', 'of', 'regional', 'resistance', 'against', 'the', 'militants', '.', 'According', 'to', 'the', 'two', 'survivors', ',', 'the', 'boat', ',', 'which', 'departed', 'on', 'September', '6', 'from', 'Damietta', ',', 'Egypt', 'bound', 'for', 'Malta', ',', 'sank', 'in', 'the', 'Mediterranean', 'Sea', 'last', 'Wednesday', 'when', 'people', 'smugglers', 'rammed', 'it', ';', 'drowning', 'the', 'vast', 'majority', 'of', 'its', '500', 'plus', 'passengers', ',', 'including', 'refugees', 'from', 'Egypt', ',', 'Sudan', ',', 'Syria', 'and', 'Palestine', '.', 'According', 'to', 'UN', 'data', ',', 'this', 'year', 'the', 'number', 'of', 'migrants', 'by', 'sea', 'to', 'Europe', 'exceeds', '130,000', ',', 'up', 'by', '50,000', 'from', 'last', 'year', '.', 'Celebrating', 'the', 'continuation', 'of', 'the', 'Union', ',', 'Alistair', 'Darling', ',', 'leader', 'of', 'the', 'pro-union', 'Better', 'Together', 'campaign', ',', 'addressing', '``', 'No', \"''\", 'campaign', 'workers', 'said', '``', 'You', 'represent', 'the', 'majority', 'of', 'opinion', 'and', 'your', 'voices', 'have', 'been', 'heard', '.', 'concluding', '``', 'Come', 'on', 'Scotland', ',', 'let', \"'s\", 'get', 'on', 'with', 'it', 'together', '.', \"''\", 'Following', 'the', 'defeat', ',', 'a', 'defiant', 'Alex', 'Salmond', ',', 'leader', 'of', 'the', 'pro-independence', 'Scottish', 'National', 'Party', ',', 'said', '``', 'Thank', 'you', 'to', 'Scotland', 'for', '1.6', 'million', 'votes', 'for', 'Scottish', 'independence', \"''\", 'and', '``', 'Scotland', 'by', 'majority', 'has', 'decided', 'not', 'at', 'this', 'stage', 'to', 'become', 'an', 'independent', 'country', \"''\", '.', 'According', 'to', 'students', ',', 'the', 'current', 'internal', 'probe', 'committee', 'include', 'people', 'who', 'they', 'alleged', '`', 'harassed', 'the', 'victim', \"'\", '.', 'According', 'to', 'official', 'reports', ',', 'police', 'first', 'approached', 'the', 'group', 'in', 'the', 'area', 'of', 'the', 'school', ',', 'concerned', 'about', 'their', 'unusual', 'activity', ',', 'and', 'the', 'attackers', 'engaged', 'police', 'in', 'a', 'firefight', '.', 'Accompanied', 'by', 'those', 'officials', ',', 'he', 'assured', 'Texas', 'citizens', 'that', 'steps', 'were', 'being', 'taken', 'to', 'protect', 'the', 'public', \"'s\", 'safety', '.', 'Rest', 'assured', 'that', 'our', 'system', 'is', 'working', 'as', 'well', 'as', 'it', 'should', '.', \"''\", 'According', 'to', 'one', 'of', 'the', 'researchers', ',', 'this', 'is', 'the', 'first', 'experimental', 'evidence', 'of', 'group', 'selection', 'in', 'wild', 'populations', 'driving', 'adaptation', 'to', 'local', 'conditions', '.', 'According', 'to', 'Hamas', 'deputy', 'leader', 'Mousa', 'Abu', 'Marzook', ',', 'the', 'negotiations', 'will', 'begin', 'next', 'Monday', ',', 'and', 'will', 'include', 'several', 'issues', 'that', 'have', 'yet', 'to', 'be', 'properly', 'finalized', 'during', 'the', 'previous', 'talks', '.', 'Coming', 'in', 'for', 'the', 'lion', \"'s\", 'share', 'of', 'criticism', ',', 'staff', 'from', 'CEC', \"'s\", 'Licensing', 'Board', 'were', 'visibly', 'uncomfortable', 'when', 'the', 'topic', 'of', 'the', '``', 'single', 'complainant', \"''\", 'was', 'brought', 'up', 'time', 'and', 'time', 'again', '.', 'Taking', 'heed', 'of', 'the', 'strength', 'of', 'feeling', 'from', 'the', 'majority', 'present', ',', 'Councillor', 'Hart', 'made', 'a', 'number', 'of', 'personal', 'commitments', 'towards', 'the', 'end', 'of', 'the', 'meeting', '.', 'Following', 'the', 'vote', ',', 'Stubb', 'said', 'he', 'was', '``', 'sincerely', 'happy', 'that', 'marriage', 'equality', ',', 'gender', 'equality', 'and', 'human', 'rights', 'prevailed', 'in', 'this', 'issue', '.', \"''\", 'Think', 'about', 'the', 'session', 'we', \"'ve\", 'just', 'had', '-LSB-', '...', '-RSB-', '--', 'that', 'was', 'a', 'complex', 'conversation', 'to', 'have', 'with', 'no', 'preparation', ',', 'this', 'was', \"n't\", 'discussed', 'for', 'a', 'lot', 'of', 'weeks', 'in', 'advance', 'or', 'something', ',', 'and', 'even', 'the', 'size', 'we', 'already', 'have', 'now', 'was', 'too', 'big', ';', 'we', 'were', 'broken', 'into', 'groups', ',', 'to', 'come', 'out', 'with', 'something', 'and', 'then', 'try', 'and', 'mash', 'it', 'together', ',', 'which', 'was', 'an', 'effective', 'way', 'to', 'do', 'it', '.', 'According', 'to', 'reports', ',', 'the', 'plane', 'broke', 'apart', '.', 'According', 'to', 'the', 'Federal', 'Aviation', 'Administration', '-LRB-', 'FAA', '-RRB-', ',', 'the', 'plane', 'was', 'in', 'line', 'with', 'runway', '14', 'at', 'the', 'airport', '.', 'Described', 'as', 'impossible', 'to', 'justify', 'and', '``', 'blood-curdling', \"''\", 'by', 'the', 'UN', 'Secretary-General', ',', 'EU', 'Parliamentary', 'President', 'Schulz', 'labelled', 'the', 'attack', '``', 'abominable', 'and', 'cowardly', '-LSB-', 'demonstrating', '-RSB-', 'the', 'inhuman', 'attitude', 'of', 'the', 'Taliban', ',', 'their', 'inhuman', 'ideology', ',', 'their', 'remorseless', 'fanaticism', \"''\", ',', 'and', 'Indian', 'Nobel', 'Prize-winner', 'Kailash', 'Satyarthi', ',', 'condemned', 'the', 'attackers', 'as', '``', 'enemies', 'of', 'Allah', \"''\", 'and', 'stated', ':', '``', 'The', 'militants', ',', 'be', 'they', 'Taliban', 'or', 'any', 'other', 'militants', ',', 'who', 'kill', 'children', ',', 'are', 'the', 'enemies', 'of', 'humanity', '.', 'Following', 'exonerations', 'in', '2006', 'and', '2008', 'she', 'headed', 'to', 'Europe', '.', 'Taking', 'pictures', 'of', 'the', 'lights', \"''\", '.', 'Following', 'the', 'attack', 'and', 'as', 'part', 'of', 'the', 'Egyptian', 'authorities', \"'\", 'long-term', 'fight', 'against', 'militant', 'islamism', 'in', 'the', 'Sinai', 'peninsula', ',', 'the', 'Rafah', 'border', 'crossing', 'was', 'closed', ',', 'and', 'opened', 'for', 'only', 'two', 'days', 'in', 'late', 'November', '.', 'According', 'to', 'National', 'Interest', 'editor', 'Jacob', 'Heilbrunn', ',', 'Webb', \"'s\", 'views', 'on', 'foreign', 'policy', 'and', 'social', 'issues', 'may', 'attract', '``', 'anti-war', 'progressives', 'as', 'well', 'as', 'conservative-minded', 'Southern', 'white', 'men', '.', \"''\", 'Implementing', 'a', 'Tax', 'System', 'that', 'allows', 'working', 'Americans', 'making', 'under', '$', '250,000', 'to', 'keep', 'all', 'of', 'their', 'money', '.', 'Speaking', 'to', 'reporters', ',', 'Boehner', 'said', 'the', 'House', 'Republicans', 'were', '``', 'going', 'to', 'have', 'a', 'family', 'conversation', ',', 'which', 'we', 'had', 'this', 'morning', ',', 'about', 'bringing', 'our', 'team', 'together', \"''\", '.', 'Following', 'the', 'election', 'of', 'Boehner', 'and', 'McConnell', ',', 'the', 'White', 'House', 'announced', 'President', 'Barack', 'Obama', 'would', 'veto', 'planned', 'legislation', 'by', 'Republicans', 'to', 'start', 'the', 'construction', 'of', 'the', 'Keystone', 'XL', 'oil', 'pipeline', '.', 'Reported', 'estimates', 'of', 'between', '1.5', 'and', '2', 'million', 'people', 'rallied', 'in', 'Paris', ',', 'and', 'the', 'French', 'interior', 'ministry', 'estimated', '3.7', 'million', 'or', 'more', 'rallied', 'across', 'France', '.', 'Following', 'the', 'attack', 'on', 'the', 'priests', ',', 'town', 'council', 'workers', 'were', 'forced', 'to', 'evacuate', 'as', 'their', 'building', 'came', 'under', 'assault', 'and', 'was', 'set', 'fire', 'to', '.', 'According', 'to', 'Daniel', 'Huber', ',', 'part', 'of', 'the', 'research', 'team', 'at', 'the', 'University', 'of', 'Sydney', ',', 'it', 'takes', 'under', 'ten', 'days', 'for', 'these', 'five', 'planets', 'to', 'orbit', 'the', 'star', 'and', 'all', 'of', 'them', 'are', 'too', 'close', 'to', 'it', 'to', 'sustain', 'life', '.', 'Speaking', 'to', 'the', 'Ynet', 'news', 'website', 'his', 'cousin', 'Yisrael', 'Ganor', 'said', '``', 'In', 'Germany', ',', 'Austria', ',', 'and', 'the', 'Czech', 'Republic', 'he', 'was', 'very', 'successful', 'with', 'this', 'material', ',', 'whereas', 'in', 'Israel', 'he', 'was', 'rarely', 'invited', '-LSB-', 'to', 'conduct', '-RSB-', '.', 'Founded', 'in', '1918', 'and', 'boasting', '49,000', 'readers', 'served', 'by', '330', 'staff', ',', 'the', 'library', 'has', 'lost', 'around', '2,000', 'square', 'metres', '.', 'Following', 'a', 'business', 'and', 'law', 'career', 'he', 'turned', 'to', 'politics', '.', 'Born', 'in', 'Stuttgart', 'in', '1920', ',', 'von', 'Weizsäcker', 'oversaw', 'reunification', 'of', 'West', 'and', 'East', 'Germany', 'in', '1990', ',', 'eleven', 'months', 'after', 'the', 'Berlin', 'Wall', 'fell', '.', 'Using', 'legislation', 'that', 'provided', 'the', 'death', 'penalty', 'to', 'multiple', 'murderers', 'the', 'court', 'sentenced', 'Courchesne', 'to', 'death', '.', 'Speaking', 'on', 'behalf', 'of', 'Avon', 'and', 'Somerset', 'Constabulary', ',', 'Chief', 'Superintendent', 'Caroline', 'Peters', ',', 'who', 'described', 'the', 'collision', 'scene', 'as', '``', 'one', 'of', 'carnage', \"''\", ',', 'explained', ':', '``', 'We', 'have', 'a', 'collision', 'team', 'of', 'investigators', 'who', 'are', 'trying', 'to', 'assess', 'the', 'cause', 'of', 'this', 'accident', 'and', 'we', 'are', 'working', 'very', 'closely', 'with', 'the', 'fire', 'service', 'and', 'South', 'West', 'Ambulance', \"''\", '.', 'Search', 'and', 'rescue', 'personnel', 'reached', 'the', 'wreckage', 'in', 'the', 'Laman/Safapora', 'forest', 'at', 'around', '9:00', 'p.m.', 'Manufactured', 'by', 'PSU', 'Hindustan', 'Aeronautics', 'in', 'India', ',', 'more', 'than', '140', 'Dhruvs', 'are', 'in', 'service', 'nationally', '.', 'Comparing', 'to', 'air', 'pollution', 'exposure', 'in', 'the', 'three', 'days', 'prior', 'to', 'death', 'the', 'scientists', 'noticed', 'an', 'increase', 'of', '20', '%', 'for', 'deaths', 'amongst', 'those', 'exposed', 'to', 'high', 'nitrogen', 'dioxide', '.', 'Following', 'the', 'attacks', ',', 'police', 'released', 'a', 'description', 'and', 'photo', 'of', 'the', 'suspect', ':', 'he', 'was', 'depicted', 'wearing', 'a', 'black', 'puffer', 'jacket', ',', 'carrying', 'a', 'black', 'bag', ',', 'wearing', 'a', 'maroon', 'balaclava', ',', 'aged', 'between', '25', 'and', '30', 'with', 'a', 'black', 'automatic', 'weapon', '.', 'Meeting', 'with', 'the', 'Israeli', 'Cabinet', ',', 'Netanyahu', 'said', ':', '``', 'Jews', 'have', 'been', 'murdered', 'again', 'on', 'European', 'soil', 'only', 'because', 'they', 'were', 'Jews', 'and', 'this', 'wave', 'of', 'terrorist', 'attacks', '--', 'including', 'murderous', 'anti-Semitic', 'attacks', '--', 'is', 'expected', 'to', 'continue', '-LSB-', '...', '-RSB-', 'Jews', 'deserve', 'protection', 'in', 'every', 'country', 'but', 'we', 'say', 'to', 'Jews', ':', 'Israel', 'is', 'your', 'home', '.', 'Following', 'Oborne', \"'s\", 'article', ',', 'a', 'spokesman', 'for', 'the', 'Telegraph', 'responded', ':', '``', 'Like', 'any', 'other', 'business', ',', 'we', 'never', 'comment', 'on', 'individual', 'commercial', 'relationships', ',', 'but', 'our', 'policy', 'is', 'absolutely', 'clear', '.', 'Posting', 'on', 'culture', 'website', 'The', 'AV', 'Club', ',', 'one', 'fan', 'wrote', '``', 'I', 'do', \"n't\", 'mean', 'to', 'belittle', 'what', 'those', 'who', 'knew', 'him', 'are', 'going', 'through', 'at', 'all', ',', 'I', 'know', 'how', 'I', 'feel', 'is', 'nothing', 'compared', 'to', 'what', 'they', \"'re\", 'dealing', 'with', ',', 'but', 'it', 'does', 'feel', 'like', 'I', 'lost', 'a', 'friend', '.', \"''\", 'Following', 'seabed', 'mapping', 'the', 'wreck', 'was', 'found', 'using', 'an', 'ROV', '.', 'Commenting', 'for', 'the', 'BBC', ',', 'Alex', 'Duval-Smith', 'said', '``', 'When', 'I', 'arrived', 'there', 'about', 'an', 'hour', 'after', 'the', 'attack', ',', 'there', 'was', 'a', 'white', 'body', 'bag', 'on', 'the', 'floor', '.', 'According', 'to', 'AP', ',', 'a', 'U.S.', 'official', 'speaking', 'under', 'condition', 'of', 'anonymity', 'said', 'the', 'agency', 'is', 'testing', 'these', 'drones', 'for', 'law', 'enforcement', 'and', 'to', 'defend', 'against', 'potentially', 'dangerous', 'drones', ',', 'but', 'declined', 'to', 'comment', 'on', 'the', 'specific', 'details', 'because', 'they', \"'re\", 'classified', '.', 'Intercepting', 'these', 'signals', 'might', 'allow', 'tracking', 'the', 'drones', '.', 'Jamming', ',', 'though', ',', 'could', 'interrupt', 'Wi-Fi', 'of', 'people', 'in', 'the', 'vicinity', '.', 'Presented', 'below', 'are', 'a', 'selection', 'of', 'images', 'captured', 'at', 'the', 'preview', '.', 'According', 'to', 'the', 'journalistic', 'association', ',', 'Ariza', '``', 'sought', 'directly', 'to', 'cause', 'the', 'greatest', 'moral', 'damages', ',', 'based', 'on', 'the', 'falsehood', 'that', 'the', 'film', 'and', 'research', 'on', '`', 'Little', 'Spain', \"'\", 'did', 'not', 'exist', '.', \"''\", 'Regarding', 'the', 'film', 'Little', 'Spain', 'directed', 'by', 'Artur', 'Balder', ',', 'they', 'note', 'it', 'is', 'now', 'available', 'on', 'DVD', '.', 'Considered', 'the', '``', 'founding', 'father', \"''\", 'of', 'Singapore', ',', 'Lee', 'led', 'Singapore', 'through', 'the', 'aftermath', 'of', 'independence', 'to', 'become', 'one', 'of', 'the', 'world', \"'s\", 'richest', 'nations', '.', 'According', 'to', 'French', 'authorities', ',', '144', 'passengers', 'were', 'aboard', 'the', 'plane', ',', 'reportedly', 'including', 'sixteen', 'school', 'children', 'who', 'were', 'travelling', 'on', 'a', 'German', 'exchange', 'project', '.', 'According', 'to', 'French', 'prosecutor', 'Bruce', 'Robin', 'the', 'plane', 'was', 'completely', 'destroyed', '.', 'Speaking', 'to', 'The', 'Daily', 'Mirror', ',', 'Simmons', 'paid', 'tribute', 'to', 'Hardman', '.', 'Take', 'time', 'to', 'understand', 'it', ',', 'for', 'everybody', '.', \"''\", 'Speaking', 'to', 'the', 'Manchester', 'Evening', 'News', ',', 'employment', 'law', 'director', 'Alan', 'Price', 'said', '``', 'While', 'I', 'sympathise', 'with', 'One', 'Direction', 'fans', ',', 'I', 'hardly', 'think', 'this', 'qualified', 'as', 'compassionate', 'leave', \"''\", '.', 'Paying', 'tribute', 'to', 'Fraser', 'was', 'Peter', 'Nixon', ',', 'a', 'minister', 'in', 'Fraser', \"'s\", 'cabinet', '.', 'Following', 'the', 'poll', 'results', ',', 'the', 'Conservative', 'Party', 'fired', 'a', 'volley', 'of', 'negative', 'remarks', 'towards', 'Labour', '.', 'According', 'to', 'the', 'US', 'Department', 'of', 'State', 'there', 'were', 'no', 'injuries', 'to', 'consulate', 'personnel', '.', 'According', 'to', 'Spanish', 'law', ',', 'the', 'boy', ',', 'because', 'he', 'is', 'under', 'fourteen', 'years', 'of', 'age', ',', 'can', 'not', 'be', 'held', 'criminally', 'responsible', '.', 'Arrested', 'in', '#Qatar', ',', 'all', 'material', 'erased', ',', 'equipment', 'demolished', '.', 'According', 'to', 'the', 'New', 'Zealand', 'Herald', ',', 'Emeritus', 'Professor', 'John', 'Burrows', ',', 'the', 'chairman', 'of', 'the', 'project', \"'s\", 'panel', 'of', 'twelve', ',', 'said', 'New', 'Zealand', \"'s\", 'flag', 'has', 'never', 'before', 'been', 'open', 'to', 'public', 'choice', '.', 'Known', 'for', 'playing', 'the', 'blues', 'on', 'his', 'Gibson', 'guitar', 'called', 'Lucille', ',', 'B.B', 'King', 'was', 'admired', 'by', 'many', 'musicians', ',', 'including', 'Keith', 'Richards', ',', 'Eric', 'Clapton', ',', 'Jimi', 'Hendrix', 'and', 'Otis', 'Rush', '.', 'According', 'to', 'ABC', 'News', ',', 'Basya', 'also', 'believes', 'the', 'asylum', 'seekers', 'found', 'in', 'the', 'water', 'may', 'have', 'left', 'the', 'boat', 'on', 'purpose', 'to', 'be', 'rescued', 'to', 'avoid', 'being', 'sent', 'away', 'from', 'Indonesia', 'waters', '.', 'Reacting', 'to', 'the', 'news', ',', 'SNP', 'leader', 'and', 'Scottish', 'First', 'Minister', 'Nicola', 'Sturgeon', 'tweeted', ':', '``', 'I', 'wish', 'Jim', 'Murphy', 'all', 'the', 'very', 'best', 'for', 'the', 'future', '.', 'Talking', 'about', 'the', 'effect', 'the', 'private', 'bill', 'will', 'have', ',', 'along', 'with', 'the', 'freedom', 'to', 'vote', ',', 'Bill', 'Shorten', 'says', ',', '``', 'It', 'will', 'challenge', 'the', 'deeply', 'held', 'personal', 'beliefs', 'of', 'MPs', 'and', 'senators', 'on', 'both', 'sides', 'of', 'politics', '.', 'According', 'to', 'The', 'Guardian', ',', 'in-between', 'songs', 'U2', \"'s\", 'lead', 'singer', 'Bono', 'reflected', 'on', 'Sheehan', \"'s\", 'life', 'to', 'the', 'audience', ',', 'saying', 'how', 'he', 'was', 'family', 'to', 'the', 'band', '.', 'According', 'to', 'Billboard', ',', 'the', 'paramedics', 'found', 'Sheehan', 'unresponsive', 'before', 'pronouncing', 'him', 'as', 'dead', 'soon', 'after', '.', 'Asked', 'if', 'he', 'was', 'aware', 'of', 'recent', 'virus-related', 'deaths', 'in', 'Texas', ',', 'Philmont', 'said', ',', '``', 'Yeah', ',', 'I', 'am', '.', 'Asked', 'if', 'he', 'was', 'aware', 'of', 'recent', 'virus-related', 'deaths', 'in', 'Texas', ',', 'Philmont', 'said', ',', '``', 'Yeah', ',', 'I', 'am', '.', 'Following', 'Gemini', 'VIII', \"'s\", 'docking', 'with', 'another', 'spacecraft', 'in', 'orbit', ',', 'it', 'began', 'tumbling', 'out', 'of', 'control', 'due', 'to', 'a', 'faulty', 'thruster', '.', 'According', 'to', 'the', 'team', \"'s\", 'athletics', 'coaches', 'in', 'a', 'conversation', 'with', 'Wikinews', ',', 'the', 'runners', 'have', 'been', 'well', 'prepared', 'and', 'have', 'international', 'experience', 'that', 'has', 'prepared', 'them', 'for', 'the', 'Games', ',', 'having', 'won', 'eleven', 'medals', 'at', 'the', '2011', 'IPC', 'World', 'Championships', ',', 'eight', 'of', 'which', 'were', 'gold', '.', 'According', 'to', 'media', 'sources', ',', 'the', 'governor', 'of', 'Louisiana', 'anticipates', 'giving', 'evacuation', 'orders', 'as', 'early', 'as', 'Monday', 'morning', '.', 'Written', 'only', 'in', 'Portuguese', ',', 'they', 'plan', 'on', 'publishing', 'translated', 'versions', 'soon', '.', 'According', 'to', 'APC', 'representative', 'Tony', 'Naar', ',', 'they', 'have', 'close', 'relationships', 'with', 'all', 'the', 'media', 'organizations', 'who', 'sent', 'reporters', 'to', 'London', ',', 'this', 'justifying', 'their', 'decision', 'to', 'be', 'located', 'away', 'from', 'the', 'Games', 'site', '.', 'Born', 'on', 'July', '2', ',', '1960', 'in', 'Manila', ',', 'Sereno', 'previously', 'served', 'as', 'a', 'legal', 'consultant', 'for', 'the', 'United', 'Nations', ',', 'the', 'World', 'Bank', ',', 'the', 'US', 'Agency', 'for', 'International', 'Development', ',', 'and', 'the', 'Asian', 'Institute', 'of', 'Management', 'Policy', 'Center', '.', 'According', 'to', 'Economic', 'Planning', 'Secretary', 'Arsenio', 'Balisacan', ',', 'strong', 'domestic', 'demand', 'from', 'the', 'services', 'sector', 'and', 'spending', 'from', 'money', 'remitted', 'by', 'expatriate', 'Filipinos', 'helped', 'boost', 'the', 'nation', \"'s\", 'economy', 'despite', 'the', 'ongoing', 'global', 'economic', 'crisis', '.', 'Going', 'into', 'the', 'match', ',', 'Powell', \"'s\", 'best', 'performance', 'was', 'a', 'second', 'place', 'finish', 'at', 'the', '2009', 'Junior', 'World', 'Games', '.', 'According', 'to', 'a', 'Dutch', 'equestrian', 'journalist', ',', 'her', 'horse', 'was', 'not', 'agreeing', 'with', 'her', 'from', 'the', 'start', '.', 'Coming', 'into', 'the', 'AS', 'Men', 'Single', 'Sculls', ',', 'Tom', 'Aggar', 'of', 'Great', 'Britain', 'was', 'the', 'gold', 'medal', 'favourite', 'having', 'not', 'lost', 'a', 'major', 'international', 'competition', '.', 'Standing', 'in', 'front', 'of', 'a', 'long', 'goal', ',', 'they', 'throw', 'the', 'ball', 'at', 'the', 'opposition', 'team', \"'s\", 'net', 'who', 'in', 'turn', 'try', 'to', 'block', 'it', 'by', 'hearing', 'the', 'ball', ',', 'which', 'contains', 'a', 'bell', ',', 'and', 'using', 'their', 'bodies', 'to', 'prevent', 'the', 'ball', 'from', 'going', 'in', '.', 'Asked', 'how', 'he', 'felt', 'to', 'have', 'made', 'the', 'semifinals', ',', 'Brazil', 'Coach', 'Ramon', 'Pereira', 'de', 'Souza', 'said', ':', '``', 'I', 'have', 'no', 'words', '.', 'Facing', 'China', 'is', 'not', 'like', 'facing', 'any', 'other', 'team', '.', 'Attempting', 'to', 'respond', ',', 'Mexico', 'missed', 'two', 'shots', 'before', 'scoring', 'then', ',', 'on', 'the', 'next', 'play', ',', 'allowed', 'Amanda', 'Carter', 'to', 'steal', 'the', 'ball', ',', 'which', 'led', 'to', 'Amber', 'Merritt', 'scoring', 'again', '.', 'Following', 'the', 'Greek', 'win', ',', 'supporters', 'broke', 'into', 'rhythmic', 'clapping', ',', 'continuing', 'their', 'flag-waving', 'and', 'chanting', '.', 'According', 'to', 'technological', 'weblog', 'Gizmodo', ',', 'reports', 'have', 'emerged', 'of', 'the', '.', 'Following', 'his', 'bronze', 'medal', 'finish', ',', 'Latreche', 'told', 'media', ':', '``', 'It', \"'s\", 'my', 'third', 'Paralympic', 'Games', ',', 'but', 'it', \"'s\", 'my', 'first', 'medal', '.', 'Ranked', 'sixth', 'in', 'the', 'world', ',', 'Great', 'Britain', 'came', 'to', 'London', 'as', 'the', 'home', 'town', 'favorites', '.', 'Regarding', 'the', 'wait', 'to', 'play', ',', 'Kerr', 'said', ',', '``', 'It', \"'s\", 'hard', '.', 'According', 'to', 'the', 'IPC', ',', 'coaches', 'were', 'surprised', 'to', 'be', 'asked', 'this', ',', 'as', 'it', 'would', 'be', 'extremely', 'difficult', 'to', 'transition', 'between', 'differing', 'prosthetics', 'due', 'to', 'required', 'changes', 'in', 'stride', '.', 'Based', 'on', 'UN', 'estimates', ',', 'many', 'of', 'them', 'are', 'women', 'and', 'migrant', 'workers', '.', 'According', 'to', 'the', 'UN', ',', 'the', 'convention', 'intends', 'to', 'grant', 'the', 'workers', 'several', 'rights', '.', 'According', 'to', 'Tuala', ',', 'equipment', 'costs', 'are', 'a', 'major', 'barrier', 'to', 'participation', 'in', 'the', 'development', 'of', 'disability', 'sport', '.', 'According', 'to', 'Ortega', ',', 'this', 'was', 'to', 'be', 'a', 'significant', 'investigation', 'into', 'Scientology', '.', 'According', 'to', 'Sky', 'News', ',', 'the', 'boy', \"'s\", 'mother', 'had', 'given', 'him', 'permission', 'to', 'enter', 'the', 'toilet', 'by', 'himself', 'as', 'she', 'waited', 'outside', '.', 'Playing', 'before', 'a', 'packed', 'crowd', ',', 'the', 'game', 'started', 'with', 'both', 'teams', \"'\", 'national', 'anthems', 'played', ',', 'followed', 'by', 'the', 'Capitals', 'giving', 'their', 'guests', 'mini-basketballs', '.', 'Playing', 'a', 'zone', 'defense', ',', 'the', 'Chinese', 'team', 'appeared', 'to', 'have', 'better', 'control', 'on', 'their', 'side', 'of', 'the', 'court', 'when', 'playing', 'zone', 'defense', 'on', 'that', 'side', 'of', 'the', 'court', ',', 'while', 'the', 'Chinese', 'offense', 'frustrated', 'the', 'Capitals', 'who', 'were', 'playing', 'man-to-man', 'and', 'appeared', 'to', 'lose', 'the', 'woman', 'they', 'were', 'marking', '.', 'Playing', 'a', 'zone', 'defense', ',', 'the', 'Chinese', 'team', 'appeared', 'to', 'have', 'better', 'control', 'on', 'their', 'side', 'of', 'the', 'court', 'when', 'playing', 'zone', 'defense', 'on', 'that', 'side', 'of', 'the', 'court', ',', 'while', 'the', 'Chinese', 'offense', 'frustrated', 'the', 'Capitals', 'who', 'were', 'playing', 'man-to-man', 'and', 'appeared', 'to', 'lose', 'the', 'woman', 'they', 'were', 'marking', '.', 'Playing', 'a', 'zone', 'defense', ',', 'the', 'Chinese', 'team', 'appeared', 'to', 'have', 'better', 'control', 'on', 'their', 'side', 'of', 'the', 'court', 'when', 'playing', 'zone', 'defense', 'on', 'that', 'side', 'of', 'the', 'court', ',', 'while', 'the', 'Chinese', 'offense', 'frustrated', 'the', 'Capitals', 'who', 'were', 'playing', 'man-to-man', 'and', 'appeared', 'to', 'lose', 'the', 'woman', 'they', 'were', 'marking', '.', 'Playing', 'a', 'zone', 'defense', ',', 'the', 'Chinese', 'team', 'appeared', 'to', 'have', 'better', 'control', 'on', 'their', 'side', 'of', 'the', 'court', 'when', 'playing', 'zone', 'defense', 'on', 'that', 'side', 'of', 'the', 'court', ',', 'while', 'the', 'Chinese', 'offense', 'frustrated', 'the', 'Capitals', 'who', 'were', 'playing', 'man-to-man', 'and', 'appeared', 'to', 'lose', 'the', 'woman', 'they', 'were', 'marking', '.', 'Following', 'a', 'Chinese', 'time', 'out', ',', 'China', 'took', 'advantage', 'of', 'a', 'free', 'throw', 'opportunity', 'to', 'narrow', 'the', 'score', 'to', '39', '--', '37', '.', 'Following', 'the', 'time', 'out', ',', 'Graf', 'had', 'to', 'yell', 'at', 'Bibby', 'several', 'times', '.', 'According', 'to', 'his', 'family', 'Sulzberger', 'had', 'had', 'a', 'long', 'illness', '.', 'According', 'to', 'Nielson', ',', 'approximately', '67.2', 'million', 'people', 'tuned', 'in', 'to', 'the', '90-minute', 'debate', 'moderated', 'by', 'Jim', 'Lehrer', 'of', 'PBS', 'as', 'President', 'Obama', ',', 'the', 'Democratic', 'nominee', ',', 'and', 'Romney', ',', 'the', 'Republican', 'nominee', ',', 'exchanged', 'jabs', 'on', 'domestic', 'policy', 'and', 'the', 'U.S.', 'economy', '.', 'According', 'to', 'a', 'poll', 'conducted', 'by', 'CBS', 'News', ',', '46', '%', 'of', 'the', '500', 'uncommitted', 'respondents', 'believed', 'Romney', 'won', 'the', 'debate', ';', '22', '%', 'of', 'respondents', 'believed', 'President', 'Obama', 'won', 'the', 'debate', 'and', '32', '%', 'believed', 'it', 'was', 'a', 'tie', '.', 'Following', 'a', 'study', 'linking', 'poisonous', 'crown-of-thorns', 'starfish', 'to', '42', 'percent', 'of', 'Australia', \"'s\", 'Great', 'Barrier', 'Reef', 'destruction', 'in', 'recent', 'decades', ',', 'James', 'Cook', 'University', 'Centre', 'of', 'Excellence', 'for', 'Coral', 'Reef', 'Studies', 'in', 'Queensland', 'has', 'developed', 'a', 'culture', 'to', 'destroy', 'the', 'reef-killing', 'starfish', ',', 'announced', 'yesterday', '.', 'said', 'the', 'President', '.', 'Writing', 'an', 'editorial', 'for', 'Bloomberg', 'View', ',', 'the', 'mayor', 'asserted', ':', '``', 'Our', 'climate', 'is', 'changing', '.', 'Responding', 'in', 'a', 'statement', ',', 'Obama', 'said', 'he', 'was', '``', 'honored', 'to', 'have', 'Mayor', 'Bloomberg', \"'s\", 'endorsement', \"''\", '.', 'According', 'to', 'officials', 'in', 'the', 'Indian', 'state', 'of', 'Andhra', 'Pradesh', ',', 'almost', '100,000', 'people', 'have', 'been', 'forced', 'to', 'leave', 'their', 'homes', 'due', 'to', 'severe', 'weather', ',', 'with', '95,000', 'people', 'in', 'government-run', 'relief', 'camps', '.', 'Going', 'into', 'the', 'elections', ',', 'Obama', 'was', 'already', 'forecast', 'to', 'win', 'in', 'California', ',', 'with', 'RealClearPolitics', 'predicting', 'he', 'would', 'win', 'by', '14', 'points', '.', 'According', 'to', 'reports', ',', 'the', 'IDF', 'bombed', 'at', 'least', '20', 'underground', 'locations', 'believed', 'to', 'house', 'an', 'array', 'of', 'long', 'range', 'missiles', 'which', 'the', 'IDF', 'says', 'have', 'the', 'ability', 'to', 'reach', 'Tel', 'Aviv', 'and', 'used', 'tanks', 'to', 'fire', 'on', 'targets', '.', 'According', 'to', 'some', 'reports', ',', 'Hamas', 'captured', 'the', 'two', 'pilots', '.', 'According', 'to', \"Ma'an\", ',', 'at', 'least', 'one', 'missile', 'struck', 'the', 'building', \"'s\", 'eleventh', 'floor', 'injuring', 'the', 'journalists', '.', 'According', 'to', 'the', 'driver', 'of', 'the', 'bus', ',', 'Nachum', 'Herzi', ',', 'no', 'passengers', 'prior', 'to', 'the', 'explosion', 'seemed', 'suspicious', '.', 'Revealed', 'during', 'a', 'press', 'conference', 'at', 'the', 'Qatar', 'National', 'Convention', 'Centre', ',', 'the', 'car', 'in', 'addition', 'to', 'an', 'internal', 'combustion', 'engine', ',', 'includes', 'an', 'automotive', 'thermoelectric', 'generator', 'designed', 'to', 'capture', 'waste', 'heat', 'to', 'produce', 'hydrogen', '.', 'According', 'to', 'Google', ',', 'the', 'company', 'which', 'owns', 'YouTube', ',', 'the', 'video', 'has', 'attracted', 'between', 'seven', 'and', 'ten', 'million', 'daily', 'views', 'on', 'average', 'since', 'being', 'uploaded', 'to', 'the', 'site', '.', 'According', 'to', 'Police', 'Captain', 'David', 'Lindaman', ',', 'Perkins', 'and', 'Belcher', 'got', 'into', 'an', 'argument', 'at', 'their', 'house', 'and', 'Belcher', 'shot', 'Perkins', 'around', '7:50', 'A.M.', 'CT.', '.', 'According', 'to', 'their', 'website', 'www.tarsandsblockade.org', ',', 'Almonte', 'and', 'Collins', 'entered', 'the', 'pipeline', 'prior', 'to', 'about', '7:30', 'a.m.', 'local', 'time', '.', 'Planned', 'Parenthood', 'regional', 'development', 'and', 'planned', 'gifts', 'director', 'Tari', 'Hendrickson', 'told', 'the', 'Lincoln', 'Journal', 'Star', 'Sandra', 'Fluke', 'was', 'her', 'top', 'choice', 'for', 'keynote', 'speaker', 'at', 'the', 'event', ':', '``', 'Sandra', 'was', 'No.', '1', 'on', 'my', 'list', ';', 'I', 'never', 'had', 'a', 'No.', '2', '.', 'According', 'to', 'the', 'truck', 'driver', ',', 'Yervelli', 'was', 'naked', 'from', 'the', 'waist', 'down', 'and', 'making', '``', 'lewd', 'gestures', \"''\", 'to', 'him', '.', 'Attending', 'by', 'phone', 'were', 'attorneys', 'James', 'Goldberg', 'representing', 'Bank', 'of', 'America', 'and', 'Brian', 'Craft', 'representing', 'First', 'American', 'Title', '.', 'According', 'to', 'Lyon', 'the', 'company', 'decided', 'to', 'donate', 'revenue', 'made', 'from', 'WBC', 'to', 'charity', 'after', ',', \"''\", '`', 'Anonymous', \"'\", 'supporters', 'began', 'a', 'full', 'blown', 'Twitter', 'campaign', 'boycotting', 'any', 'company', 'who', 'provides', 'services', 'to', 'WBC', '.', \"''\", 'Downed', 'lamposts', 'and', 'trees', 'were', 'reported', 'in', 'multiple', 'locales', '.', 'According', 'to', 'the', 'Iranian', 'navy', \"'s\", 'Habibollah', 'Sayyari', ',', 'the', '``', 'Velayat', '91', \"''\", 'drills', '--', 'to', 'be', 'held', 'for', 'a', 'six', 'day', 'period', 'ending', 'on', 'Wednesday', '--', 'are', 'intended', 'to', 'showcase', '``', 'the', 'armed', 'forces', \"'\", 'military', 'capabilities', '.', \"''\", 'According', 'to', 'this', 'report', 'the', 'drills', '--', 'which', 'began', 'on', 'Friday', '--', 'are', 'to', 'be', 'conducted', 'over', 'roughly', 'half', 'a', 'million', 'square', 'miles', '-LRB-', 'a', 'million', 'square', 'kilometers', '-RRB-', 'of', 'waters', 'stretching', 'from', 'the', 'Strait', 'of', 'Hormuz', 'to', 'the', 'northern', 'part', 'of', 'the', 'Indian', 'Ocean', 'which', 'includes', 'the', 'Gulf', 'of', 'Oman', '.', 'According', 'to', 'the', 'U.S.', 'Energy', 'Information', 'Administration', ',', '17', 'million', 'barrels', 'of', 'oil', 'passes', 'through', 'this', 'part', 'of', 'the', 'Persian', 'Gulf', 'per', 'day', '.', 'According', 'to', 'political', 'scientist', 'Peter', 'Ubertaccio', 'of', 'Stonehill', 'College', ',', 'that', 'may', 'discourage', 'prominent', 'Democrats', 'thinking', 'about', 'entering', 'the', 'race', '.', 'Following', 'Sorenson', \"'s\", 'release', ',', 'he', 'will', 'also', 'be', 'supervised', 'for', 'five', 'years', '.', 'Fulfilling', 'a', 'goal', 'he', 'had', 'set', 'for', 'himself', 'after', 'his', 'stroke', ',', 'Kirk', 'ascended', 'the', '45', 'steps', 'leading', 'up', 'to', 'the', 'Senate', 'wing', 'of', 'the', 'United', 'States', 'Capitol', 'building', 'with', 'assistance', 'from', 'both', 'Joe', 'Biden', 'and', 'fellow', 'Senator', 'Joe', 'Manchin', ',', 'as', 'several', 'other', 'members', 'of', 'both', 'houses', 'of', 'Congress', 'and', 'well-wishers', 'looked', 'on', '.', 'Following', 'their', 'visits', ',', 'the', 'Commission', 'is', 'to', 'write', 'and', 'submit', 'a', 'report', 'to', 'IOC', 'membership', 'by', 'July', '4', 'to', 'assist', 'voters', 'in', 'making', 'their', 'decision', '.', 'According', 'to', 'Philippine', 'Foreign', 'Affairs', 'Secretary', 'Albert', 'del', 'Rosario', ',', 'Manila', 'chose', 'this', 'move', 'after', 'exhausting', '``', 'almost', 'all', 'political', 'and', 'diplomatic', 'avenues', '.', \"''\", 'Following', 'the', 'Queen', \"'s\", 'address', ',', 'Dutch', 'prime', 'minister', 'Mark', 'Rutte', \"'s\", 'response', 'was', 'broadcast', '.', 'Secure', 'Communities', 'includes', 'a', 'provision', 'that', 'ICE', 'can', 'ask', 'state', 'and', 'local', 'detention', 'facilities', 'to', 'hold', 'anyone', 'arrested', 'who', 'might', 'be', 'in', 'the', 'US', 'without', 'adequate', 'documentation', 'until', 'ICE', 'has', 'time', 'to', 'review', 'their', 'case', '.', 'Following', 'a', 'press-conference', 'on', 'Friday', ',', 'REGNUM', 'News', 'Agency', 'reported', 'that', 'analyst', 'Sergei', 'Shakariants', 'said', 'the', 'attackers', 'could', 'have', 'wanted', 'to', 'delay', 'the', 'elections', '.', 'According', 'to', 'the', 'Maine', 'Center', 'of', 'Disease', 'Control', 'and', 'Prevention', ',', 'guns', 'are', 'used', 'in', '85', '%', 'of', 'male', 'suicides', 'in', 'the', 'state', '.', 'According', 'to', 'a', 'study', 'by', 'Andrew', 'Leigh', 'of', 'Australian', 'National', 'University', 'and', 'Christine', 'Neill', 'of', 'Wilfrid', 'Laurier', 'University', ',', 'these', 'programs', 'correlate', 'to', 'an', '80', '%', 'drop', 'in', 'suicides', 'involving', 'guns', 'at', 'a', 'time', 'when', 'other', 'methods', 'of', 'suicide', 'remained', 'consistent', '.', 'Following', 'a', 'lull', 'of', 'approximately', 'an', 'hour', ',', 'police', 'entered', 'the', 'apartment', 'and', 'found', 'the', 'man', 'dead', 'from', 'an', 'alleged', 'self-inflicted', 'gunshot', 'wound', '.', 'Following', 'this', ',', 'Baumgartner', 'hid', 'in', 'nearby', 'woodlands', ',', 'emerged', 'to', 'knock', 'on', 'the', 'door', 'of', 'a', 'local', 'home', 'to', 'tell', 'the', 'resident', 'he', 'had', 'been', 'hit', 'by', 'a', 'car', ',', 'only', 'to', 'disappear', 'into', 'the', 'woods', 'again', '.', 'Following', 'this', ',', 'Baumgartner', 'hid', 'in', 'nearby', 'woodlands', ',', 'emerged', 'to', 'knock', 'on', 'the', 'door', 'of', 'a', 'local', 'home', 'to', 'tell', 'the', 'resident', 'he', 'had', 'been', 'hit', 'by', 'a', 'car', ',', 'only', 'to', 'disappear', 'into', 'the', 'woods', 'again', '.', 'Following', 'a', 'controversial', 'decision', 'involving', 'Ardossi', 'for', 'which', 'the', 'umpire', 'was', 'loudly', 'booed', ',', 'the', 'Fire', 'fought', 'back', 'to', '66', '--', '62', ',', 'but', 'Hunt', 'and', 'Ardossi', 'each', 'scored', 'to', 'hold', 'them', 'at', 'bay', '.', 'Following', 'Australian', 'mandatory', 'policy', ',', 'the', 'more', 'than', 'two', 'hundred', 'detainees', 'held', 'there', 'were', 'detained', 'upon', 'requesting', 'asylum', '.', 'Entering', 'the', 'event', ',', 'skiers', 'had', 'the', 'opportunity', 'to', 'qualify', 'through', 'eight', 'World', 'Cup', 'events', 'held', 'with', 'only', 'two', 'disciplines', 'on', 'the', 'program', ',', 'Giant', 'Slalom', 'and', 'Slalom', '.', 'Standing', 'female', 'French', 'skier', 'Marie', 'Bochet', 'has', 'won', 'six', 'World', 'Cups', 'ahead', 'of', 'the', 'World', 'Championships', 'and', 'is', 'considered', 'by', 'event', 'organizers', 'as', 'a', 'favorite', 'in', 'the', 'standing', 'group', '.', 'Accompanying', 'the', 'team', 'are', 'to', 'be', 'coaches', 'Javier', 'Gutierrez', ',', 'Jordi', 'Carbonell', ',', 'and', 'Andres', 'Gomez', ',', 'medical', 'staff', 'including', 'Pablo', 'Marquez', 'and', 'Josep', 'Barrachina', ',', 'and', 'technical', 'staffer', 'Josep', 'Bort', '.', 'According', 'to', 'Menéndez', ',', 'with', 'the', 'help', 'of', 'a', 'state', 'plan', ',', 'Venezuela', 'intends', 'to', 'exploit', 'its', '40,000', 'million', 'cubic', 'meters', 'or', 'more', 'of', 'granite', 'reserves', ',', 'generating', 'a', 'set', 'of', 'factories', '.', \"''\", 'According', 'to', 'police', 'the', '22-year-old', \"'s\", 'condition', 'in', 'hospital', 'is', 'stable', 'though', 'serious', '.', 'According', 'to', 'BBC', 'News', 'Online', ',', 'Batey', 'first', 'worked', 'in', 'broadcasting', 'for', 'the', 'BBC', '.', 'Recalling', 'the', 'basis', 'for', 'the', 'launch', 'of', 'the', 'series', ',', 'Batey', 'said', ':', \"''\", '-LSB-', 'T', '-RSB-', 'here', 'was', \"n't\", 'a', 'lot', 'of', 'theatre', 'in', 'the', 'Border', 'area', 'and', 'we', 'thought', 'if', 'we', 'could', 'bring', 'the', 'national', 'names', 'to', 'Carlisle', 'and', 'invite', 'the', 'audiences', 'in', ',', 'it', 'is', 'a', 'chance', 'to', 'see', 'names', 'where', 'they', 'could', \"n't\", 'see', 'elsewhere', ',', 'so', 'we', 'did', 'that', '.', \"''\", 'Following', 'the', 'second', 'full', 'day', 'of', 'competition', 'at', 'the', 'IPC', 'Alpine', 'World', 'Championships', 'in', 'La', 'Molina', ',', 'Spain', 'yesterday', ',', 'Austria', 'led', 'the', 'medal', 'race', 'with', 'three', 'gold', 'medals', ',', 'a', 'silver', ',', 'and', 'a', 'bronze', '.', 'Going', 'into', 'the', 'third', 'scheduled', 'day', 'of', 'competition', 'at', 'the', 'IPC', 'Alpine', 'World', 'Championships', 'in', 'La', 'Molina', ',', 'Spain', 'yesterday', ',', 'the', 'United', 'States', 'para-alpine', 'team', 'has', 'delivered', 'with', 'a', 'gold', 'medal', 'won', 'by', 'Laurie', 'Stephens', 'in', 'the', 'women', \"'s\", 'sitting', 'downhill', ',', 'a', 'silver', 'medal', 'won', 'by', 'men', \"'s\", 'sit', 'skier', 'Stephen', 'Lawler', 'in', 'the', 'downhill', ',', 'and', 'bronze', 'medal', 'won', 'by', 'Laurie', 'Stephens', 'in', 'the', 'women', \"'s\", 'sitting', 'Super-G', '.', 'Going', 'into', 'the', 'third', 'scheduled', 'day', 'of', 'competition', 'at', 'the', 'IPC', 'Alpine', 'World', 'Championships', 'in', 'La', 'Molina', ',', 'Spain', 'yesterday', ',', 'the', 'United', 'States', 'para-alpine', 'team', 'has', 'delivered', 'with', 'a', 'gold', 'medal', 'won', 'by', 'Laurie', 'Stephens', 'in', 'the', 'women', \"'s\", 'sitting', 'downhill', ',', 'a', 'silver', 'medal', 'won', 'by', 'men', \"'s\", 'sit', 'skier', 'Stephen', 'Lawler', 'in', 'the', 'downhill', ',', 'and', 'bronze', 'medal', 'won', 'by', 'Laurie', 'Stephens', 'in', 'the', 'women', \"'s\", 'sitting', 'Super-G', '.', 'Following', 'accusations', 'that', 'he', 'engaged', 'in', '``', 'inappropriate', 'acts', \"''\", 'with', 'three', 'priests', 'and', 'a', 'former', 'priest', ',', 'Cardinal', 'Keith', \"O'Brien\", 'resigned', 'yesterday', 'from', 'his', 'post', 'as', 'Archbishop', 'of', 'St', 'Andrews', 'and', 'Edinburgh', '.', 'Following', 'the', 'publication', 'of', 'the', 'allegations', ',', 'he', 'chose', 'not', 'to', 'preside', 'over', 'Mass', 'on', 'Sunday', '.', 'Following', 'her', 'gold', 'medal', 'winning', ',', 'Loesch', 'told', 'the', 'media', 'she', 'was', 'super', 'happy', 'she', 'won', ',', 'and', 'she', 'had', 'a', 'really', 'good', 'slalom', 'run', '.', 'Following', 'the', 'race', ',', 'he', 'was', 'visibly', 'upset', '.', 'Using', 'CCTV', ',', 'over', '140', 'hours', 'were', 'recorded', ',', 'depicting', '136', 'incidences', 'of', 'animal', 'cruelty', 'as', 'well', 'as', 'aggravated', 'animal', 'cruelty', ',', 'resulting', 'in', 'the', 'animals', \"'\", 'death', 'or', 'severe', 'conditions', '.', 'According', 'to', 'the', 'police', ',', 'a', '20-year-old', 'man', 'stole', 'the', 'Utahraptor', 'as', 'part', 'of', 'a', 'birthday', 'prank', 'and', 'had', 'planned', 'to', 'return', 'the', 'Utahraptor', 'to', 'the', 'museum', 'later', 'today', '.', 'According', 'to', 'Business', 'Desk', 'of', 'the', 'Brunei', 'Times', ',', 'AusAID', 'promised', 'AU$', '3.2', 'million', 'in', 'funding', ',', 'while', 'GEF', 'promised', 'US$', '1', 'million', '.', 'Given', 'the', 'uniqueness', 'of', 'the', 'earthquake', 'activity', 'as', 'it', 'applies', 'to', 'this', 'particular', 'volcano', ',', 'today', ',', 'the', 'Icelandic', 'Meteorological', 'Office', 'upgraded', 'their', 'aviation', 'alert', 'for', 'the', 'area', 'to', 'Yellow', '.', 'According', 'to', 'Hebrides', 'News', ',', 'the', 'accident', 'occurred', 'when', 'the', 'man', 'was', 'standing', 'outside', 'of', 'the', 'van', 'he', 'was', 'driving', ';', 'the', 'vehicle', 'rolled', 'over', 'the', 'man', ',', 'fatally', 'injuring', 'him', '.', 'According', 'to', 'Cyprus', 'based', 'media', 'organizations', ',', 'Sarris', 'has', 'been', 'succeeded', 'by', 'the', 'current', 'Labor', 'Minister', 'Haris', 'Georgiades', 'According', 'to', 'the', 'University', 'of', 'Canberra', 'and', 'Campus', 'Living', 'Services', ',', 'who', 'operate', 'the', 'university', \"'s\", 'residence', 'halls', ',', 'neither', 'man', 'attended', 'the', 'university', '.', 'According', 'to', 'Giles', ',', 'ecstasy', 'is', 'commonly', 'used', 'at', 'nightclubs', 'in', 'Canberra', '.', 'Going', 'into', 'the', 'draft', ',', 'there', 'were', 'some', 'expectations', 'by', 'the', 'Brisbane', 'Times', 'and', 'other', 'media', 'outlets', 'that', 'Williams', 'might', 'be', 'selected', 'in', 'the', 'first', 'round', '.', 'According', 'to', 'Reuters', ',', 'a', 'witness', 'reported', 'around', 'eight', 'shots', 'fired', '.', 'Perceived', 'discrimination', 'against', 'women', \"'s\", 'writers', 'in', 'Australian', 'literary', 'circles', 'led', 'to', 'the', 'creation', 'this', 'year', 'of', 'the', 'Stella', 'Prize', '.', 'According', 'to', 'the', 'lawsuit', ',', 'waste', 'from', 'the', 'UN', 'camp', 'was', 'not', 'properly', 'sanitized', ',', 'causing', 'bacteria', 'to', 'enter', 'the', 'tributary', 'of', 'the', 'Artibonite', 'River', ',', 'one', 'of', 'Haiti', \"'s\", 'largest', '.', 'Starting', 'on', 'Thursday', ',', 'it', 'was', 'the', 'first', 'edition', 'of', 'the', 'event', 'to', 'be', 'held', 'in', '2013', ',', 'and', 'was', 'organized', 'by', 'Carlos', 'Garcia', 'and', 'Yolanda', 'Martin', '.', 'According', 'to', 'organizers', ',', 'the', 'sixth', 'edition', 'of', 'the', 'event', 'is', 'planned', 'for', 'later', 'this', 'year', '.', 'According', 'to', 'local', 'parishioners', ',', 'a', 'Virgin', 'Mary', 'apparition', 'took', 'place', 'here', 'in', '1900', '.', 'Having', 'pleaded', 'not', 'guilty', 'to', 'the', 'charges', 'brought', 'against', 'them', ',', 'the', 'court', 'trial', 'for', 'the', 'two', 'suspects', 'started', 'approximately', 'one', 'month', 'ago', '.', 'Speaking', 'outside', 'the', 'court', ',', 'Norrie', 'Aitchison', 'said', 'his', 'son', '``', 'fought', 'to', 'defend', 'himself', 'but', 'he', 'did', \"n't\", 'stand', 'a', 'chance', 'against', 'the', 'violence', 'he', 'came', 'against', 'that', 'night', '.', \"''\", 'Speaking', 'outside', 'the', 'court', ',', 'Norrie', 'Aitchison', 'said', 'his', 'son', '``', 'fought', 'to', 'defend', 'himself', 'but', 'he', 'did', \"n't\", 'stand', 'a', 'chance', 'against', 'the', 'violence', 'he', 'came', 'against', 'that', 'night', '.', \"''\", 'According', 'to', 'INSEE', 'data', 'this', 'had', 'been', 'recorded', 'to', 'be', 'the', '24th', 'uninterrupted', 'month', 'of', 'unemployment', 'increases', ',', 'leaving', '3.25', 'million', 'people', 'jobless', '.', 'Following', 'the', 'sentencing', ',', 'Claire', 'Aitchison', ',', 'Liam', 'Aitchison', \"'s\", 'step-mother', ',', 'said', ':', '``', 'We', 'are', 'happy', 'that', 'justice', 'has', 'been', 'done', 'and', 'that', 'these', 'two', 'brutal', 'murderers', 'will', 'spend', 'a', 'long', 'time', 'in', 'prison', '.', \"''\", 'According', 'to', 'Tancredo', ',', 'Hickenlooper', \"'s\", 'policies', 'impose', 'barriers', 'on', 'rural', 'Coloradans', 'that', 'he', 'plans', 'to', 'remove', 'if', 'elected', 'governor', '.', 'According', 'to', 'the', 'BBC', ',', 'it', 'was', 'thought', 'the', 'Prince', 'would', 'remain', 'in', 'hospital', 'for', 'two', 'weeks', '.', 'Facing', 'the', 'United', 'States', 'in', 'the', 'United', 'States', 'was', 'daunting', '.', 'Manipulating', 'both', 'immigrants', 'and', 'the', 'church', 'for', 'political', 'advantage', 'is', 'wrong', '.', \"''\", 'According', 'to', 'her', 'website', ',', 'Sheehan', 'also', 'advocates', 'revolutionary', 'socialism', ',', 'believing', 'it', 'to', 'be', 'key', 'to', 'loosening', 'the', '``', 'Imperialist/Capitalist', 'two-party', 'stranglehold', \"''\", 'on', 'U.S.', 'and', 'world', 'politics', '.', 'Located', 'on', 'the', \"Palu'e\", 'Island', ',', 'Mount', 'Rokatenda', 'threw', 'rock', 'and', 'ash', 'into', 'the', 'sky', 'causing', 'local', 'destruction', '.', 'Considered', 'the', 'most', 'experienced', 'British-born', 'astronaut', 'in', 'human', 'spaceflight', ',', 'Foale', 'is', 'said', 'to', 'have', 'spent', '375', 'days', 'in', 'orbit', ',', 'visiting', 'the', 'International', 'Space', 'Station', ',', 'Mir', 'platform', 'and', 'completing', 'work', 'on', 'the', 'Hubble', 'Space', 'Telescope', '.', 'According', 'to', 'legal', 'documents', 'filed', 'by', 'Mandela', \"'s\", 'family', ',', 'he', 'was', 'at', 'one', 'stage', 'on', 'life', 'support', '.', 'According', 'to', 'the', 'RPG', 'survey', 'almost', '90', '%', 'of', 'respondents', 'said', 'the', 'safety', 'culture', 'was', 'nontransparent', '.', 'Following', 'an', 'incident', 'in', 'Spain', 'in', 'which', 'three', 'Ryanair', 'flights', 'declared', 'fuel', 'emergencies', 'after', 'being', 'diverted', 'to', 'Valencia', 'the', 'Spanish', 'Air', 'Authority', 'described', 'Ryanair', 'flights', 'usually', 'landing', 'with', 'a', 'bare', 'minimum', 'of', 'fuel', ',', 'in', 'a', 'report', 'the', 'airline', 'dismissed', 'as', '``', 'manifestly', 'inaccurate', 'and', 'factually', 'untrue', \"''\", '.', 'According', 'to', 'the', 'RPG', 'survey', 'almost', '90', '%', 'of', 'respondents', 'said', 'the', 'safety', 'culture', 'was', 'nontransparent', '.', 'According', 'to', 'the', 'Australian', 'Marriage', 'Equality', 'campaign', 'group', ',', '1,000', 'Australian', 'same-sex', 'couples', 'indicated', 'in', 'a', 'survey', 'that', 'they', 'intend', 'to', 'travel', 'to', 'New', 'Zealand', 'to', 'marry', '.', 'According', 'to', 'Russia', 'Today', ',', 'Morsi', 'followers', 'have', 'reacted', 'to', 'el-Sisi', \"'s\", 'statement', 'on', 'Egyptian', 'news', 'by', 'taking', 'to', 'the', 'streets', 'on', 'Sunday', 'afternoon', '.', 'According', 'to', 'Russian', 'officials', ',', 'the', 'Syrian', 'government', 'is', 'ready', 'to', 'give', 'UN', 'observers', '``', 'maximum', 'cooperation', \"''\", 'while', 'they', 'perform', 'their', 'investigation', '.', 'According', 'to', 'state-run', 'Syrian', 'Arab', 'News', 'Agency', '-LRB-', 'SANA', '-RRB-', ',', 'during', 'a', 'battle', 'with', 'rebels', 'yesterday', 'the', 'Syrian', 'army', 'seized', 'a', 'stockpile', 'of', 'chemicals', ',', 'canisters', ',', 'weapons', 'and', 'gear', 'located', 'in', 'a', 'warehouse', 'tunnel', 'in', 'Jobar', ',', 'a', 'suburb', 'of', 'Damascus', '.', 'According', 'to', 'one', 'report', ',', 'government', 'forces', 'have', 'retaken', 'control', 'of', 'Jobar', '.', 'According', 'to', 'the', 'China', 'Internet', 'Network', 'Information', 'Center', ',', 'which', 'manages', 'the', '.', 'Following', 'the', 'alleged', 'chemical', 'attack', 'on', 'August', '21', ',', 'the', 'Syrian', 'army', 'heavily', 'bombed', 'the', 'area', 'against', 'what', 'they', 'called', 'rebel', 'strongholds', '.', 'According', 'to', 'the', 'reports', ',', 'U.S.', 'transport', 'planes', 'have', 'been', 'arriving', 'within', '100', 'miles', 'of', 'Syria', 'in', 'Cyprus', '.', 'According', 'to', 'Wikileaks', ',', 'the', 'whistle', 'blowing', 'website', ',', 'a', 'document', 'shows', 'the', 'U.S.', 'would', 'use', 'Cyprus', 'as', 'the', 'main', 'base', 'of', 'operations', 'to', 'launch', 'an', 'airstrike', 'against', 'Syria', '.', 'According', 'to', '-LSB-', 'the', '-RSB-', 'UN', 'Charter', ',', 'use', 'of', 'force', 'is', 'permitted', 'only', 'in', 'case', 'of', 'self-defense', 'or', 'UNSC', \"'s\", '-LSB-', 'United', 'Nations', 'Security', 'Council', '-RSB-', 'approval', '.', 'Starting', 'next', 'season', ',', 'the', 'league', 'will', 'be', 'administered', 'by', 'Basketball', 'Australia', 'Creating', 'these', 'states', 'on', 'demand', 'would', 'bring', 'quantum', 'technology', 'a', 'step', 'closer', 'and', 'might', 'lead', 'us', 'to', '``', 'couple', \"''\", 'quantum', 'mechanically', '-LSB-', 'macroscopic', '-RSB-', 'objects', '--', 'a', 'phenomenon', 'more', 'accurately', 'termed', 'entanglement', '.', 'According', 'to', 'fair', 'officials', ',', 'the', 'event', 'is', 'projected', 'to', 'bring', 'in', 'roughly', 'US$', '7.5', 'million', 'in', 'total', 'receipts', '.', 'Used', 'as', 'an', 'assisted', 'suicide', 'drug', ',', 'pentobarbital', 'is', 'also', 'hard', 'to', 'source', 'with', 'Danish', 'manufacturer', 'Lundbeck', 'opposed', 'to', 'its', 'product', 'being', 'used', 'to', 'execute', '.', 'Used', 'as', 'an', 'assisted', 'suicide', 'drug', ',', 'pentobarbital', 'is', 'also', 'hard', 'to', 'source', 'with', 'Danish', 'manufacturer', 'Lundbeck', 'opposed', 'to', 'its', 'product', 'being', 'used', 'to', 'execute', '.', 'Rounding', 'out', 'the', 'bottom', 'five', 'states', 'by', 'volume', 'of', 'complaints', ',', 'Mississippi', 'had', '11', '.', 'According', 'to', 'the', 'US', 'Federal', 'Reserve', ',', 'debt', 'for', 'family', 'residences', 'stands', 'at', 'US$', '10.706', 'trillion', 'for', 'the', 'second', 'quarter', 'of', '2013', '.', 'According', 'to', 'real', 'estate', 'website', 'Zillow', ',', 'there', 'are', 'currently', '1,033', 'properties', 'in', 'foreclosure', 'in', 'Coral', 'Springs', 'while', 'Commerce', 'Township', 'only', 'has', '131', 'properties', 'currently', 'in', 'foreclosure', '.', 'Following', 'three', 'weeks', 'of', 'talks', ',', 'the', 'leader', 'of', 'Høyre', ',', 'Norway', \"'s\", 'Conservative', 'Party', ',', 'Erna', 'Solberg', 'announced', 'today', 'that', 'the', 'Conservatives', 'will', 'form', 'a', 'minority', 'government', 'in', 'a', 'right-wing', 'coalition', 'with', 'the', 'Progress', 'Party', '.', 'Following', 'three', 'weeks', 'of', 'talks', ',', 'the', 'leader', 'of', 'Høyre', ',', 'Norway', \"'s\", 'Conservative', 'Party', ',', 'Erna', 'Solberg', 'announced', 'today', 'that', 'the', 'Conservatives', 'will', 'form', 'a', 'minority', 'government', 'in', 'a', 'right-wing', 'coalition', 'with', 'the', 'Progress', 'Party', '.', 'Provided', 'the', 'recovery', 'is', 'sustained', ',', 'our', 'goal', 'is', 'to', 'achieve', 'that', 'surplus', 'in', 'the', 'next', 'parliament', '.', 'Reinforces', 'a', 'consistent', 'posture', 'by', 'the', 'South', 'Koreans', 'and', 'the', 'US', '.', 'According', 'to', 'Amanda', 'Terkel', 'at', 'the', 'Huffington', 'Post', ',', 'Republican', 'members', 'of', 'the', 'United', 'States', 'House', 'of', 'Representatives', 'have', 'put', 'closing', 'the', 'CFPB', 'on', 'their', 'wish', 'list', 'of', 'items', 'in', 'negotiating', 'for', 'a', 'new', 'debt', 'ceiling', 'limit', '.', 'Running', 'from', 'September', '26', 'until', 'October', '13', ',', 'the', 'first', 'stalls', 'are', 'found', 'near', 'Plaza', 'de', 'Cibeles', 'and', 'continue', 'to', 'Calle', 'Prim', ',', 'running', 'in', 'a', 'straight', 'line', 'down', 'Paseo', 'de', 'Recoletos', 'in', 'the', 'pedestrian', 'walk', 'in', 'the', 'center', 'of', 'the', 'road', '.', 'Running', 'from', 'September', '26', 'until', 'October', '13', ',', 'the', 'first', 'stalls', 'are', 'found', 'near', 'Plaza', 'de', 'Cibeles', 'and', 'continue', 'to', 'Calle', 'Prim', ',', 'running', 'in', 'a', 'straight', 'line', 'down', 'Paseo', 'de', 'Recoletos', 'in', 'the', 'pedestrian', 'walk', 'in', 'the', 'center', 'of', 'the', 'road', '.', 'According', 'to', 'Reuters', ',', 'some', 'protesters', 'were', 'beaten', 'and', 'detained', 'by', 'police', '.', 'Working', 'together', 'with', 'both', 'Republicans', 'and', 'Democrats', ',', 'we', 'can', 'get', 'the', 'good', 'aspects', 'of', 'each', 'party', 'while', 'rejecting', 'the', 'bad', 'parts', 'of', 'both', '.', 'Following', 'incorrect', 'statements', 'by', 'media', 'organizations', 'that', 'include', 'Fox', 'News', 'and', 'the', 'New', 'York', 'Post', 'earlier', 'in', 'the', 'week', 'that', 'the', 'US', 'Marine', 'Corps', 'were', 'changing', 'their', 'hats', 'in', 'order', 'to', 'make', 'them', 'more', 'gender', 'neutral', ',', 'the', 'Corps', 'issued', 'a', 'statement', 'yesterday', 'countering', 'the', 'claim', ',', 'saying', 'they', 'are', 'only', 'changing', 'the', 'dress', 'hat', 'for', 'women', '.', 'Graduated', 'in', 'literature', 'by', 'the', 'Lehman', 'College', 'of', 'CUNY', 'in', '1976', ',', 'Rufino', 'Lopez', 'has', 'preserved', 'his', 'admiration', 'to', 'the', 'great', 'figures', 'of', 'Spanish', 'literary', 'and', 'philosophical', 'tradition', ',', 'as', 'Unamuno', 'and', 'Ortega', 'y', 'Gasset', ',', 'or', 'Cervantes', ',', 'while', 'shaping', 'the', 'Solera', 'Restaurant', ',', 'located', 'in', 'the', 'city', 'of', 'New', 'York', 'for', 'more', 'than', 'twenty', 'years', ',', 'near', 'the', 'United', 'Nations', 'Headquarters', '.', 'Thinking', 'of', 'Dolly', '&', 'Cleo', 'staff', \"''\", ',', 'and', 'Lisa', 'Wilkinson', 'posting', '``', 'Very', 'sad', 'to', 'hear', 'news', 'that', 'Dolly', '&', 'Cleo', 'magazines', 'are', 'merging', ',', 'with', 'expected', 'losses', 'of', 'half', 'the', 'staff', '.', 'Coming', 'to', 'the', 'game', 'with', 'several', 'loud', 'chanting', 'fans', 'and', 'a', 'drum', ',', 'Getafe', 'scored', 'the', 'first', 'point', 'of', 'the', 'game', 'about', '15', 'seconds', 'into', 'it', 'off', 'a', 'free', 'throw', 'made', 'by', 'Polish', 'player', 'Krzysztof', 'Bandura', '.', 'Regarding', 'lessons', 'learned', 'during', 'the', 'days', 'following', 'the', 'explosion', ',', 'Patterson', 'said', 'all', 'such', 'incident', 'teams', 'need', 'a', 'social', 'media', 'person', 'on-site', '.', 'Remember', 'that', 'there', 'is', 'a', 'nine-hour', 'difference', 'between', 'Sochi', 'and', 'New', 'York', ',', 'and', 'a', '12-hour', 'difference', 'between', 'Sochi', 'and', 'the', 'US', 'West', 'Coast', '.', 'Taking', 'stuff', 'that', 'belonged', 'to', 'me', '.', 'Does', 'the', 'cultural', 'heritage', 'of', 'male-driven', 'narratives', 'make', 'one', 'national', 'team', 'more', 'inherently', 'authentic', 'than', 'the', 'other', '?', 'Existing', 'structures', 'can', 'be', 'modified', 'by', 'seismic', 'retrofitting', 'to', 'improve', 'their', 'resistance', 'to', 'earthquakes', '.', 'According', 'to', 'the', 'study', ',', '``', 'unknown', 'is', 'the', 'full', 'number', 'of', 'Bosniaks', 'who', 'were', 'murdered', 'under', 'Serb', 'or', 'Croat', 'alias', 'or', 'national', 'name', \"''\", 'and', '``', 'a', 'large', 'numbers', 'of', 'Bosniaks', 'were', 'killed', 'and', 'listed', 'under', 'Roma', 'populations', \"''\", ',', 'therefore', 'in', 'advance', 'sentenced', 'to', 'death', 'and', 'extermination', '.', 'Excluding', 'Slovenes', 'under', 'Italian', 'rule', ',', 'between', '20,000', 'and', '25,000', 'Slovenes', 'were', 'killed', 'by', 'Nazis', 'or', 'fascists', '-LRB-', 'counting', 'only', 'civilian', 'victims', '-RRB-', '.', 'Starting', 'in', 'December', '1939', ',', 'the', 'Nazis', 'introduced', 'new', 'methods', 'of', 'mass', 'murder', 'by', 'using', 'gas', '.', 'Reduced', 'expression', 'of', 'DNA', 'repair', 'genes', 'disrupts', 'DNA', 'repair', '.', 'According', 'to', 'the', 'Oxford', 'English', 'Dictionary', ',', 'this', 'was', 'in', 'Geoffrey', 'Chaucer', \"'s\", 'The', 'Hous', 'of', 'Fame', ',', 'c.', '1380', '.', 'According', 'to', 'an', '1890', 'diagram', 'of', 'the', 'firm', \"'s\", 'new', ',', '17th', 'floor', 'space', 'atop', 'the', 'Auditorium', 'Building', ',', 'Wright', 'soon', 'earned', 'a', 'private', 'office', 'next', 'to', 'Sullivan', \"'s\", 'own', '.', 'Persuaded', 'by', 'the', 'elders', '-LRB-', 'Matthew', '27:20', '-RRB-', ',', 'the', 'mob', 'chooses', 'to', 'release', 'Barabbas', 'and', 'crucify', 'Jesus', '.', 'Containing', 'contributions', 'from', 'prominent', 'European', 'Marxists', ',', 'Iskra', 'was', 'smuggled', 'into', 'Russia', ',', 'becoming', 'the', 'country', \"'s\", 'most', 'successful', 'underground', 'publication', 'for', '50', 'years', '.', 'Opposed', 'to', 'liberalism', ',', 'Marxism', ',', 'and', 'anarchism', ',', 'fascism', 'is', 'usually', 'placed', 'on', 'the', 'far-right', 'within', 'the', 'traditional', 'left', '--', 'right', 'spectrum', '.', 'Faced', 'with', 'opposition', 'from', 'the', 'parlements', ',', 'Calonne', 'organised', 'the', 'summoning', 'of', 'the', 'Assembly', 'of', 'Notables', '.', 'Given', 'that', 'fashion', 'designers', 'began', 'to', 'experiment', 'with', 'the', 'shapes', 'of', 'garment', ',', 'loose', 'sleeveless', ',', 'micro-minis', ',', 'flared', 'skirts', ',', 'and', 'trumpet', 'sleeves', '.', 'Becoming', 'an', 'expert', 'in', 'this', 'field', 'requires', 'some', 'formal', 'education', 'and', 'years', 'of', 'tasting', 'and', 'hands-on', 'experience', ',', 'much', 'like', 'becoming', 'an', 'expert', 'in', 'wine', 'or', 'cuisine', '.', 'Differing', 'patterns', 'of', 'internal', 'bracing', 'have', 'been', 'used', 'over', 'time', 'by', 'luthiers', '.', 'Bracing', 'not', 'only', 'strengthens', 'the', 'top', 'against', 'potential', 'collapse', 'due', 'to', 'the', 'stress', 'exerted', 'by', 'the', 'tensioned', 'strings', ',', 'but', 'also', 'affects', 'the', 'resonance', 'characteristics', 'of', 'the', 'top', '.', 'Excluding', 'regional', 'minority', 'languages', ',', 'German', 'is', 'the', 'only', 'official', 'language', 'of', 'According', 'to', 'one', 'estimation', ',', '``', 'Homeric', 'Greek', 'is', 'probably', 'closer', 'to', 'demotic', 'than', '12-century', 'Middle', 'English', 'is', 'to', 'modern', 'spoken', 'English', '.', \"''\", 'Following', 'the', 'expedition', ',', 'he', 'retired', 'from', 'his', 'Virginia', 'Regiment', 'commission', 'in', 'December', '1758', '.', 'Following', 'his', 'election', 'as', 'president', 'in', '1789', ',', 'he', 'worked', 'to', 'unify', 'rival', 'factions', 'in', 'the', 'fledgling', 'nation', '.', 'Given', 'both', 'Einstein', \"'s\", 'equations', 'and', 'suitable', 'equations', 'for', 'the', 'properties', 'of', 'matter', ',', 'such', 'a', 'solution', 'consists', 'of', 'a', 'specific', 'semi-Riemannian', 'manifold', '-LRB-', 'usually', 'defined', 'by', 'giving', 'the', 'metric', 'in', 'specific', 'coordinates', '-RRB-', ',', 'and', 'specific', 'matter', 'fields', 'defined', 'on', 'that', 'manifold', '.', 'Given', 'the', 'difficulty', 'of', 'finding', 'exact', 'solutions', ',', 'Einstein', \"'s\", 'field', 'equations', 'are', 'also', 'solved', 'frequently', 'by', 'numerical', 'integration', 'on', 'a', 'computer', ',', 'or', 'by', 'considering', 'small', 'perturbations', 'of', 'exact', 'solutions', '.', 'Using', 'global', 'geometry', ',', 'later', 'studies', 'have', 'revealed', 'more', 'general', 'properties', 'of', 'black', 'holes', '.', 'According', 'to', 'Newton', \"'s\", 'law', 'of', 'gravity', ',', 'and', 'independently', 'verified', 'by', 'experiments', 'such', 'as', 'that', 'of', 'Eötvös', 'and', 'its', 'successors', '-LRB-', 'see', 'Eötvös', 'experiment', '-RRB-', ',', 'there', 'is', 'a', 'universality', 'of', 'free', 'fall', '-LRB-', 'also', 'known', 'as', 'the', 'weak', 'equivalence', 'principle', ',', 'or', 'the', 'universal', 'equality', 'of', 'inertial', 'and', 'passive-gravitational', 'mass', '-RRB-', ':', 'the', 'trajectory', 'of', 'a', 'test', 'body', 'in', 'free', 'fall', 'depends', 'only', 'on', 'its', 'position', 'and', 'initial', 'speed', ',', 'but', 'not', 'on', 'any', 'of', 'its', 'material', 'properties', '.', 'Define', 'the', 'discriminant', 'of', 'f', '-LRB-', 'x', '-RRB-', '-', 'g', '-LRB-', 'x', '-RRB-', 'as', 'Beginning', 'in', '1960', ',', 'Abraham', 'Robinson', 'worked', 'out', 'a', 'rigorous', 'foundation', 'for', 'Leibniz', \"'s\", 'infinitesimals', ',', 'using', 'model', 'theory', ',', 'in', 'the', 'context', 'of', 'a', 'field', 'of', 'hyperreal', 'numbers', '.', 'Believing', 'that', 'the', 'traditional', 'description', 'of', 'Hegel', \"'s\", 'philosophy', 'in', 'terms', 'of', 'thesis', '--', 'antithesis', '--', 'synthesis', 'was', 'mistaken', ',', 'a', 'few', 'scholars', ',', 'like', 'Raya', 'Dunayevskaya', ',', 'have', 'attempted', 'to', 'discard', 'the', 'triadic', 'approach', 'altogether', '.', 'translated', 'by', 'Terry', 'Pinkard', '-LRB-', '2012', '-RRB-', 'According', 'to', 'this', 'tale', '-LRB-', 'which', 'forms', 'the', 'basis', 'of', 'Hans', 'Pfitzner', \"'s\", 'opera', 'Palestrina', '-RRB-', ',', 'it', 'was', 'composed', 'in', 'order', 'to', 'persuade', 'the', 'Council', 'of', 'Trent', 'that', 'a', 'draconian', 'ban', 'on', 'the', 'polyphonic', 'treatment', 'of', 'text', 'in', 'sacred', 'music', '-LRB-', 'as', 'opposed', ',', 'that', 'is', ',', 'to', 'a', 'more', 'directly', 'intelligible', 'homophonic', 'treatment', '-RRB-', 'was', 'unnecessary', '.', 'Performing', 'editions', 'and', 'recordings', 'of', 'Palestrina', 'have', 'tended', 'to', 'favour', 'his', 'works', 'in', 'the', 'more', 'familiar', 'modes', 'and', 'standard', '-LRB-', 'SATB', '-RRB-', 'voicings', ',', 'under-representing', 'the', 'expressive', 'variety', 'of', 'his', 'settings', '.', 'see', 'Guttural', 'R', 'Classified', 'as', 'Archaic', 'Biblical', 'Hebrew', ',', 'the', 'calendar', 'presents', 'a', 'list', 'of', 'seasons', 'and', 'related', 'agricultural', 'activities', '.', 'According', 'to', 'Guzman', ',', 'Guevara', 'was', 'shot', 'through', 'the', 'right', 'calf', ',', 'his', 'hair', 'was', 'matted', 'with', 'dirt', ',', 'his', 'clothes', 'were', 'shredded', ',', 'and', 'his', 'feet', 'were', 'covered', 'in', 'rough', 'leather', 'sheaths', '.', 'Combining', 'information', 'technologies', 'and', 'statistics', 'stylometry', 'analyzes', 'various', 'linguistic', 'units', ':', 'words', ',', 'parts', 'of', 'speech', ',', 'and', 'sounds', '.', 'Based', 'on', 'the', 'frequencies', 'of', 'Greek', 'letters', ',', 'a', 'first', 'study', 'of', 'Dietmar', 'Najock', 'particularly', 'shows', 'the', 'internal', 'cohesion', 'of', 'the', 'Iliad', 'and', 'the', 'Odyssey', '.', 'Taking', 'into', 'account', 'the', 'repartition', 'of', 'the', 'letters', ',', 'a', 'recent', 'study', 'of', 'Stephan', 'Vonfelt', 'highlights', 'the', 'unity', 'of', 'the', 'works', 'of', 'Homer', 'compared', 'to', 'Hesiod', '.', 'Search', 'and', 'rescue', 'organizations', 'in', 'some', 'countries', 'depend', 'upon', 'mounted', 'teams', 'to', 'locate', 'people', ',', 'particularly', 'hikers', 'and', 'children', ',', 'and', 'to', 'provide', 'disaster', 'relief', 'assistance', '.', 'According', 'to', 'Saul', ',', \"''\", '-LSB-', 'p', '-RSB-', 'hilosophy', ',', 'the', 'oldest', 'of', 'the', 'humanities', ',', 'is', 'also', 'the', 'malest', '-LRB-', 'and', 'the', 'whitest', '-RRB-', '.', 'Remaining', 'in', 'Mexico', 'between', '1530', 'and', '1541', ',', 'Cortés', 'quarreled', 'with', 'Nuño', 'Beltrán', 'de', 'Guzmán', 'and', 'disputed', 'the', 'right', 'to', 'explore', 'the', 'territory', 'that', 'is', 'today', 'California', 'with', 'Antonio', 'de', 'Mendoza', ',', 'the', 'first', 'viceroy', '.', 'Starting', 'from', 'the', 'last', 'two', 'decades', 'of', 'the', '19th', 'century', ',', 'Italy', 'developed', 'into', 'a', 'colonial', 'power', 'by', 'forcing', 'Somalia', ',', 'Eritrea', 'and', 'later', 'Libya', 'and', 'the', 'Dodecanese', 'under', 'its', 'rule', '.', 'According', 'to', 'the', 'last', 'national', 'agricultural', 'census', ',', 'there', 'were', '1.6', 'million', 'farms', 'in', '2010', '-LRB-', '−', '32.4', '%', 'since', '2000', '-RRB-', 'covering', '12.7', 'million', 'hectares', '-LRB-', '63', '%', 'of', 'which', 'are', 'located', 'in', 'Southern', 'Italy', '-RRB-', '.', 'Regarding', 'the', 'national', 'road', 'network', ',', 'in', '2002', 'there', 'were', '668,721', 'km', '-LRB-', '415,524', 'mi', '-RRB-', 'of', 'serviceable', 'roads', 'in', 'Italy', ',', 'including', '6,487', 'km', '-LRB-', '4,031', 'mi', '-RRB-', 'of', 'motorways', ',', 'state-owned', 'but', 'privately', 'operated', 'by', 'Atlantia', '.', 'Streaming', 'media', 'is', 'the', 'real-time', 'delivery', 'of', 'digital', 'media', 'for', 'the', 'immediate', 'consumption', 'or', 'enjoyment', 'by', 'end', 'users', '.', 'Following', 'the', 'Industrial', 'Revolution', ',', 'possibly', 'a', 'third', 'of', 'the', 'world', \"'s\", 'economic', 'output', 'are', 'derived', 'that', 'is', 'from', 'manufacturing', 'industries', '.', 'Included', 'in', 'solid', 'state', 'chemistry', 'are', 'metals', 'and', 'their', 'alloys', 'or', 'intermetallic', 'derivatives', '.', 'Imagine', 'a', 'possible', 'world', 'in', 'which', 'everyone', 'in', 'a', 'similar', 'position', 'to', 'the', 'real-world', 'agent', 'followed', 'that', 'maxim', '.', 'Neglecting', 'losses', ',', 'the', 'energy', '-LRB-', 'measured', 'in', 'joules', ',', 'in', 'SI', '-RRB-', 'stored', 'by', 'an', 'inductor', 'is', 'equal', 'to', 'the', 'amount', 'of', 'work', 'required', 'to', 'establish', 'the', 'current', 'through', 'the', 'inductor', ',', 'and', 'therefore', 'the', 'magnetic', 'field', '.', 'Puddling', 'was', 'backbreaking', 'and', 'extremely', 'hot', 'work', '.', 'Established', 'in', '1945', 'by', 'the', 'UN', 'Charter', ',', 'the', 'Court', 'began', 'work', 'in', '1946', 'as', 'the', 'successor', 'to', 'the', 'Permanent', 'Court', 'of', 'International', 'Justice', '.', 'Playing', 'with', 'these', 'sorts', 'of', 'toys', 'allows', 'children', 'to', 'exercise', ',', 'building', 'strong', 'bones', 'and', 'muscles', 'and', 'aiding', 'in', 'physical', 'fitness', '.', 'Throwing', 'and', 'catching', 'balls', 'and', 'frisbees', 'can', 'improve', 'hand-eye', 'coordination', '.', 'Transmitting', 'IR', 'data', 'from', 'one', 'device', 'to', 'another', 'is', 'sometimes', 'referred', 'to', 'as', 'beaming', '.', 'Faced', 'with', 'long-term', ',', 'externally', 'generated', 'disequilibria', ',', 'the', 'G-24', 'argued', 'for', 'more', 'time', 'for', 'LDCs', 'to', 'adjust', 'their', 'economies', '.', 'Following', 'the', 'broadcast', 'of', 'the', 'documentary', ',', 'the', 'Red', 'Cross', 'announced', 'publicly', 'that', 'it', 'would', 'appoint', 'an', 'individual', 'outside', 'the', 'organization', 'to', 'investigate', 'the', 'allegations', 'made', 'in', 'the', 'film', 'and', 'any', 'responsibility', 'on', 'its', 'part', '.', 'Based', 'on', 'the', 'Biblical', 'injunction', 'against', 'cooking', 'a', 'kid', 'in', 'its', 'mother', \"'s\", 'milk', ',', 'this', 'rule', 'is', 'mostly', 'derived', 'from', 'the', 'Oral', 'Torah', ',', 'the', 'Talmud', 'and', 'Rabbinic', 'law', '.', 'Following', 'their', 'practice', 'of', 'the', 'time', ',', 'they', 'prepared', 'his', 'body', 'with', 'funerary', 'rituals', 'usually', 'reserved', 'for', 'the', 'chiefs', 'and', 'highest', 'elders', 'of', 'the', 'society', '.', 'Following', 'Lenin', \"'s\", 'death', ',', 'a', 'power', 'struggle', 'began', ',', 'which', 'involved', 'the', 'following', 'seven', 'Politburo', 'members', ':', 'Nikolai', 'Bukharin', ',', 'Lev', 'Kamenev', ',', 'Alexei', 'Rykov', ',', 'Joseph', 'Stalin', ',', 'Mikhail', 'Tomsky', ',', 'Leon', 'Trotsky', ',', 'and', 'Grigory', 'Zinoviev', '.', 'Born', 'prematurely', ',', 'Johannes', 'claimed', 'to', 'have', 'been', 'weak', 'and', 'sickly', 'as', 'a', 'child', '.', 'Based', 'on', 'this', 'data', ',', 'this', 'icefield', 'formed', 'between', '1,250', 'and', '1,450', 'years', 'BP', '.', 'Opening', 'a', 'trial', 'anyway', ',', 'the', 'court', 'also', 'violated', 'ecclesiastical', 'law', 'by', 'denying', 'Joan', 'the', 'right', 'to', 'a', 'legal', 'adviser', '.', 'Corresponding', 'to', 'this', 'is', 'also', 'a', 'political', 'transition', 'period', 'in', 'which', 'the', 'state', 'can', 'be', 'nothing', 'but', 'the', 'revolutionary', 'dictatorship', 'of', 'the', 'proletariat', '.', \"''\", 'Working', 'in', 'the', 'Hegelian', 'tradition', ',', 'Marx', 'rejected', 'Comtean', 'sociological', 'positivism', 'in', 'attempt', 'to', 'develop', 'a', 'science', 'of', 'society', '.', 'Smoking', 'cigarettes', 'is', 'associated', 'with', 'the', 'risk', 'of', 'suicide', '.', 'Recreating', 'a', 'Lake', 'Tanganyika', 'biotope', 'to', 'host', 'those', 'cichlids', 'in', 'a', 'habitat', 'similar', 'to', 'their', 'natural', 'environment', 'is', 'also', 'popular', 'in', 'the', 'aquarium', 'hobby', '.', 'Seen', 'as', 'a', 'major', 'step', 'towards', 'self-government', ',', 'the', 'new', 'arrangement', 'prompted', 'the', 'colony', \"'s\", 'first', 'true', 'political', 'party', ',', 'founded', 'in', 'August', '1947', ',', 'the', 'United', 'Gold', 'Coast', 'Convention', '-LRB-', 'UGCC', '-RRB-', '.', 'Known', 'as', 'the', 'Father', 'of', 'Modern', 'Karachi', ',', 'mayor', 'Seth', 'Harchandrai', 'Vishandas', 'lead', 'the', 'municipal', 'government', 'to', 'improve', 'sanitary', 'conditions', 'in', 'the', 'Old', 'City', ',', 'as', 'well', 'as', 'major', 'infrastructure', 'works', 'in', 'the', 'New', 'Town', 'after', 'his', 'election', 'in', '1911', '.', 'Feed', 'provided', 'to', 'sheep', 'must', 'be', 'specially', 'formulated', ',', 'as', 'most', 'cattle', ',', 'poultry', ',', 'pig', ',', 'and', 'even', 'some', 'goat', 'feeds', 'contain', 'levels', 'of', 'copper', 'that', 'are', 'lethal', 'to', 'sheep', '.', 'Following', 'this', ',', 'Polly', 'and', 'Molly', 'were', 'the', 'first', 'mammals', 'to', 'be', 'simultaneously', 'cloned', 'and', 'transgenic', '.', 'Using', 'these', 'frequencies', 'meant', 'that', 'even', 'at', 'far', 'higher', 'power', ',', 'the', 'range', 'of', 'a', 'given', 'FM', 'signal', 'was', 'much', 'shorter', ';', 'thus', 'its', 'market', 'was', 'more', 'local', 'than', 'for', 'AM', 'radio', '.', 'Carrying', 'out', 'the', 'exponentiation', 'can', 'be', 'done', 'efficiently', ',', 'but', 'the', 'discrete', 'logarithm', 'is', 'believed', 'to', 'be', 'very', 'hard', 'to', 'calculate', 'in', 'some', 'groups', '.', 'Using', 'look-up', 'tables', ',', 'CORDIC-like', 'methods', 'can', 'be', 'used', 'to', 'compute', 'logarithms', 'if', 'the', 'only', 'available', 'operations', 'are', 'addition', 'and', 'bit', 'shifts', '.', 'According', 'to', 'Athenaeus', ',', 'it', 'was', 'capable', 'of', 'carrying', '600', 'people', 'and', 'included', 'garden', 'decorations', ',', 'a', 'gymnasium', 'and', 'a', 'temple', 'dedicated', 'to', 'the', 'goddess', 'Aphrodite', 'among', 'its', 'facilities', '.', 'Embedded', 'instruction', 'combines', 'letter-sound', 'knowledge', 'with', 'the', 'use', 'of', 'meaningful', 'context', 'to', 'read', 'new', 'and', 'difficult', 'words', '.', 'Considering', 'the', '``', 'color-of-the-shape', \"''\", 'function', 'above', ',', 'the', 'set', 'X', 'is', 'the', 'domain', 'consisting', 'of', 'the', 'four', 'shapes', ',', 'while', 'Y', 'is', 'the', 'codomain', 'consisting', 'of', 'five', 'colors', '.', 'Praising', 'his', 'ability', 'to', 'choose', 'and', 'encourage', 'men', 'of', 'talent', ',', 'the', 'historian', 'Chateaubriand', 'noted', ':', '``', 'it', 'is', 'the', 'voice', 'of', 'genius', 'of', 'all', 'kinds', 'which', 'sounds', 'from', 'the', 'tomb', 'of', 'Louis', \"''\", '.', 'Impelled', '``', 'by', 'a', 'mix', 'of', 'commerce', ',', 'revenge', ',', 'and', 'pique', ',', \"''\", 'Louis', 'sensed', 'that', 'warfare', 'was', 'the', 'ideal', 'way', 'to', 'enhance', 'his', 'glory', '.', 'Reading', 'Tolstoy', \"'s\", 'The', 'Kingdom', 'of', 'God', 'Is', 'Within', 'You', 'also', 'convinced', 'Gandhi', 'to', 'avoid', 'violence', 'and', 'espouse', 'nonviolent', 'resistance', ',', 'a', 'debt', 'Gandhi', 'acknowledged', 'in', 'his', 'autobiography', ',', 'calling', 'Tolstoy', '``', 'the', 'greatest', 'apostle', 'of', 'non-violence', 'that', 'the', 'present', 'age', 'has', 'produced', \"''\", '.', 'Referring', 'to', '``', 'hip-hop', 'in', 'its', 'golden', 'age', \"''\", ',', 'Spin', \"'s\", 'editor-in-chief', 'Sia', 'Michel', 'says', ',', '``', 'there', 'were', 'so', 'many', 'important', ',', 'groundbreaking', 'albums', 'coming', 'out', 'right', 'about', 'that', 'time', \"''\", ',', 'and', 'MTV', \"'s\", 'Sway', 'Calloway', 'adds', ':', '``', 'The', 'thing', 'that', 'made', 'that', 'era', 'so', 'great', 'is', 'that', 'nothing', 'was', 'contrived', '.', 'Bounding', 'the', 'lower', 'end', 'of', 'the', 'temperature', 'scale', 'lie', 'degenerative', 'quantum', 'gases', 'which', 'are', 'gaining', 'increasing', 'attention', '.', 'Written', 'this', 'way', ',', 'it', 'is', 'sometimes', 'called', 'the', '``', 'chemist', \"'s\", 'version', \"''\", ',', 'since', 'it', 'emphasizes', 'the', 'number', 'of', 'molecules', 'n', '.', 'Starting', 'in', 'the', 'mid', 'to', 'late', '1990s', ',', 'QPFs', 'were', 'used', 'within', 'hydrologic', 'forecast', 'models', 'to', 'simulate', 'impact', 'to', 'rivers', 'throughout', 'the', 'United', 'States', '.', 'Given', 'the', 'Earth', \"'s\", 'surface', 'area', ',', 'that', 'means', 'the', 'globally', 'averaged', 'annual', 'precipitation', 'is', '990', 'mm', '-LRB-', '39', 'in', '-RRB-', '.', 'Using', 'physics', ',', 'it', 'can', 'be', 'shown', 'that', ',', 'in', 'the', 'gravitational', 'field', 'of', 'the', 'Earth', ',', 'it', 'should', 'take', 'any', 'object', 'about', '0.45', 'second', 'to', 'fall', 'one', 'metre', '.', 'Suppose', 'we', 'have', 'an', 'object', 'with', 'inertial', 'and', 'gravitational', 'masses', 'm', 'and', 'M', ',', 'respectively', '.', 'Using', 'Brahe', \"'s\", 'precise', 'observations', 'of', 'the', 'planet', 'Mars', ',', 'Kepler', 'spent', 'the', 'next', 'five', 'years', 'developing', 'his', 'own', 'method', 'for', 'characterizing', 'planetary', 'motion', '.', 'Watching', 'television', 'in', 'order', 'to', 'view', 'a', 'public', 'perspective', 'on', 'a', 'historical', 'event', 'should', 'not', 'be', 'thought', 'of', 'as', 'culture', ',', 'unless', 'referring', 'to', 'the', 'medium', 'of', 'television', 'itself', ',', 'which', 'may', 'have', 'been', 'selected', 'culturally', ';', 'however', ',', 'schoolchildren', 'watching', 'television', 'after', 'school', 'with', 'their', 'friends', 'in', 'order', 'to', '``', 'fit', 'in', \"''\", 'certainly', 'qualifies', ',', 'since', 'there', 'is', 'no', 'grounded', 'reason', 'for', 'one', \"'s\", 'participation', 'in', 'this', 'practice', '.', 'Following', 'protests', 'during', 'the', 'movement', 'in', 'which', '105', 'people', 'lost', 'their', 'lives', 'in', 'clashes', 'with', 'the', 'police', ',', 'Bombay', 'State', 'was', 'reorganised', 'on', 'linguistic', 'lines', 'on', '1', 'May', '1960', '.', 'Named', 'the', 'Mumbai', 'Gladiators', ',', 'the', 'team', \"'s\", 'first', 'season', 'was', 'played', 'in', 'Pune', 'in', 'late', '2012', ',', 'and', 'it', 'will', 'be', 'Mumbai', \"'s\", 'first', 'professional', 'American', 'football', 'franchise', '.', 'Following', 'the', 'general', 'election', 'of', '2010', ',', 'the', 'Liberal', 'Democrats', 'formed', 'a', 'coalition', 'government', 'with', 'the', 'Conservatives', ',', 'resulting', 'in', 'party', 'leader', 'Nick', 'Clegg', 'becoming', 'the', 'Deputy', 'Prime', 'minister', 'and', 'many', 'other', 'members', 'becoming', 'ministers', '.', 'According', 'to', 'Rothbard', ',', 'government', 'support', 'for', 'failed', 'enterprises', 'and', 'keeping', 'wages', 'above', 'their', 'market', 'values', 'actually', 'prolonged', 'the', 'Depression', '.', 'Impressed', 'by', 'her', 'success', ',', 'Snively', 'arranged', 'a', 'contract', 'for', 'Monroe', 'with', 'an', 'acting', 'agency', 'in', 'June', '1946', '.', 'According', 'to', 'Lois', 'Banner', ',', '``', 'it', \"'s\", 'said', 'that', 'the', 'suicide', 'rate', 'in', 'Los', 'Angeles', 'doubled', 'the', 'month', 'after', 'she', 'died', ';', 'the', 'circulation', 'rate', 'of', 'most', 'newspapers', 'expanded', 'that', 'month', \"''\", ',', 'and', 'the', 'Chicago', 'Tribune', 'reported', 'that', 'they', 'had', 'received', 'hundreds', 'of', 'phone', 'calls', 'from', 'members', 'of', 'the', 'public', 'requesting', 'information', 'about', 'her', 'death', '.', 'Thinking', 'is', 'sometimes', 'described', 'as', 'a', '``', 'higher', \"''\", 'cognitive', 'function', 'and', 'the', 'analysis', 'of', 'thinking', 'processes', 'is', 'a', 'part', 'of', 'cognitive', 'psychology', '.', 'Consider', 'the', 'ruler', 'of', 'lightning', ':', 'the', 'supreme', 'god', 'Zeus', ',', 'Perun', ',', 'Jupiter', 'controlled', 'lightning', 'himself', ';', 'while', 'in', 'Norse', 'mythology', 'Odin', 'delegated', 'the', 'power', 'of', 'lightning', 'to', 'his', 'son', 'Thor', '.', 'Desiring', 'personal', 'and', 'societal', 'transformation', ',', 'the', 'Society', 'gained', '70', '--', '80', 'members', ',', 'many', 'of', 'whom', 'would', 'later', 'join', 'the', 'Communist', 'Party', '.', 'Paid', 'a', 'low', 'wage', ',', 'Mao', 'lived', 'in', 'a', 'cramped', 'room', 'with', 'seven', 'other', 'Hunanese', 'students', ',', 'but', 'believed', 'that', 'Beijing', \"'s\", 'beauty', 'offered', '``', 'vivid', 'and', 'living', 'compensation', \"''\", '.', 'Facing', 'internal', 'problems', ',', 'members', 'of', 'the', 'Jiangxi', 'Soviet', 'accused', 'him', 'of', 'being', 'too', 'moderate', ',', 'and', 'hence', 'anti-revolutionary', '.', 'Given', 'what', 'he', 'had', 'already', 'learned', 'about', 'the', 'costs', 'to', 'the', 'peasants', 'of', 'GLF', 'extremism', ',', 'the', 'Chairman', 'should', 'have', 'known', 'that', 'the', 'revival', 'of', 'GLF', 'radicalism', 'would', 'exact', 'a', 'similar', 'or', 'even', 'bigger', 'price', '.', 'Marrying', 'one', \"'s\", 'maternal', 'relatives', 'was', 'generally', 'not', 'thought', 'of', 'as', 'incest', '.', 'Depending', 'on', 'the', 'species', ',', 'a', 'nematode', 'may', 'be', 'beneficial', 'or', 'detrimental', 'to', 'plant', 'health', '.', 'Growing', 'in', 'fresh', 'water', ',', 'they', 'consist', 'of', 'a', 'central', 'stalk', 'with', 'whorls', 'of', 'branchlets', ',', 'giving', 'them', 'a', 'superficial', 'resemblance', 'to', 'horsetails', ',', 'species', 'of', 'the', 'genus', 'Equisetum', ',', 'which', 'are', 'true', 'land', 'plants', '.', 'Generalizing', 'finite', 'and', 'the', 'ordinary', 'infinite', 'sequences', 'which', 'are', 'maps', 'from', 'the', 'positive', 'integers', 'leads', 'to', 'mappings', 'from', 'ordinal', 'numbers', ',', 'and', 'transfinite', 'sequences', '.', 'Using', 'a', 'sophisticated', 'symmetry', 'argument', ',', 'Boltzmann', 'deduced', 'what', 'is', 'now', 'called', 'the', 'Maxwell', '--', 'Boltzmann', 'probability', 'distribution', 'function', 'for', 'the', 'velocity', 'of', 'particles', 'in', 'an', 'ideal', 'gas', '.', 'Introduced', 'into', 'Africa', 'by', 'the', 'Portuguese', 'in', 'the', '16th', 'century', ',', 'maize', 'has', 'become', 'Africa', \"'s\", 'most', 'important', 'staple', 'food', 'crop', '.', 'Bearing', 'type', 'connections', 'are', 'used', 'in', 'light', 'weight', 'structures', 'and', 'in', 'member', 'connections', 'where', 'slip', 'is', 'not', 'important', 'and', 'prevention', 'of', 'structural', 'failure', 'is', 'the', 'design', 'constraint', '.', 'Popularized', 'by', 'Nobel', 'Prize', 'Winner', 'Dario', 'Fo', 'and', 'troupes', 'such', 'as', 'the', 'Upright', 'Citizens', 'Brigade', 'improvisational', 'theatre', 'continues', 'to', 'evolve', 'with', 'many', 'different', 'streams', 'and', 'philosophies', '.', 'Popularized', 'by', 'Nobel', 'Prize', 'Winner', 'Dario', 'Fo', 'and', 'troupes', 'such', 'as', 'the', 'Upright', 'Citizens', 'Brigade', 'improvisational', 'theatre', 'continues', 'to', 'evolve', 'with', 'many', 'different', 'streams', 'and', 'philosophies', '.', 'Depending', 'on', 'the', 'production', ',', 'this', 'team', 'may', 'also', 'include', 'a', 'composer', ',', 'dramaturg', ',', 'video', 'designer', 'or', 'fight', 'director', '.', 'Following', 'the', 'lead', 'of', 'its', 'member', 'nations', ',', 'NATO', 'began', 'to', 'award', 'a', 'service', 'medal', ',', 'the', 'NATO', 'Medal', ',', 'for', 'these', 'operations', '.', 'According', 'to', 'The', 'Washington', 'Post', ',', 'many', 'US', 'literary', 'critics', 'and', 'professors', 'were', 'ignorant', 'of', 'her', 'work', '.', 'Attempting', 'to', 'develop', 'inventions', 'he', 'could', 'patent', 'and', 'market', ',', 'Tesla', 'conducted', 'a', 'range', 'of', 'experiments', 'with', 'mechanical', 'oscillators/generators', ',', 'electrical', 'discharge', 'tubes', ',', 'and', 'early', 'X-ray', 'imaging', '.', 'Trying', 'to', 'come', 'up', 'with', 'a', 'better', 'way', 'to', 'generate', 'alternating', 'current', ',', 'Tesla', 'developed', 'a', 'steam', 'powered', 'reciprocating', 'electricity', 'generator', '.', 'Leading', 'a', 'broad', 'coalition', 'government', 'which', 'promulgated', 'a', 'new', 'constitution', ',', 'Mandela', 'emphasised', 'reconciliation', 'between', 'the', 'country', \"'s\", 'racial', 'groups', 'and', 'created', 'the', 'Truth', 'and', 'Reconciliation', 'Commission', 'to', 'investigate', 'past', 'human', 'rights', 'abuses', '.', 'Initiating', 'the', '``', 'University', 'of', 'Robben', 'Island', \"''\", ',', 'whereby', 'prisoners', 'lectured', 'on', 'their', 'own', 'areas', 'of', 'expertise', ',', 'he', 'debated', 'socio-political', 'topics', 'with', 'his', 'comrades', '.', 'Surrounding', 'a', 'nuclear', 'weapon', 'with', 'suitable', 'materials', '-LRB-', 'such', 'as', 'cobalt', 'or', 'gold', '-RRB-', 'creates', 'a', 'weapon', 'known', 'as', 'a', 'salted', 'bomb', '.', 'Condensing', 'water', 'vapor', ',', 'most', 'or', 'all', 'of', 'which', 'came', 'from', 'ice', 'delivered', 'by', 'comets', ',', 'produced', 'the', 'oceans', 'and', 'other', 'water', 'sources', '.', 'Harnessing', 'these', 'for', 'electricity', 'depends', 'on', 'the', 'cost', 'and', 'efficiency', 'of', 'the', 'technology', ',', 'which', 'is', 'constantly', 'improving', ',', 'thus', 'reducing', 'costs', 'per', 'peak', 'kilowatt', \"''\", '.', 'Compared', 'to', '2010', ',', 'the', 'nuclear', 'industry', 'produced', '11', '%', 'less', 'electricity', 'in', '2012', '.', 'Used', 'thorium', 'fuel', 'remains', 'only', 'a', 'few', 'hundreds', 'of', 'years', 'radioactive', ',', 'instead', 'of', 'tens', 'of', 'thousands', 'of', 'years', '.', 'Following', 'the', '2011', 'Japanese', 'Fukushima', 'nuclear', 'disaster', ',', 'authorities', 'shut', 'down', 'the', 'nation', \"'s\", '54', 'nuclear', 'power', 'plants', ',', 'but', 'it', 'has', 'been', 'estimated', 'that', 'if', 'Japan', 'had', 'never', 'adopted', 'nuclear', 'power', ',', 'accidents', 'and', 'pollution', 'from', 'coal', 'or', 'gas', 'plants', 'would', 'have', 'caused', 'more', 'lost', 'years', 'of', 'life', '.', 'Following', 'the', 'attack', ',', 'Russia', 'and', 'its', 'allies', ',', 'France', 'and', 'Britain', ',', 'declared', 'war', 'on', 'the', 'Ottomans', '.', 'Following', 'the', 'Young', 'Turk', 'Revolution', 'in', '1908', ',', 'the', 'Committee', 'of', 'Union', 'and', 'Progress', 'sought', 'to', 'develop', 'a', 'strong', 'Ottoman', 'naval', 'force', '.', 'Fearing', 'the', 'opposition', 'of', 'the', 'other', 'German', 'princes', 'and', 'the', 'military', 'intervention', 'of', 'Austria', 'and', 'Russia', ',', 'the', 'King', 'renounced', 'this', 'popular', 'mandate', '.', 'Devised', 'by', 'John', 'Hulley', 'and', 'Charles', 'Melly', ',', 'these', 'games', 'were', 'the', 'first', 'to', 'be', 'wholly', 'amateur', 'in', 'nature', 'and', 'international', 'in', 'outlook', ',', 'although', 'only', '`', 'gentlemen', 'amateurs', \"'\", 'could', 'compete', '.', 'Embraced', 'and', 'extended', 'by', 'Clark', 'L.', 'Hull', ',', 'Edwin', 'Guthrie', ',', 'and', 'others', ',', 'behaviorism', 'became', 'a', 'widely', 'used', 'research', 'paradigm', '.', 'Struggling', 'for', 'influence', 'within', 'the', 'Golden', 'Horde', ',', 'Kaidu', 'sponsored', 'his', 'own', 'candidate', 'Kobeleg', 'against', 'Bayan', '-LRB-', 'r.', '1299', '--', '1304', '-RRB-', ',', 'the', 'khan', 'of', 'the', 'White', 'Horde', '.', 'Devoting', 'his', 'full', 'energies', 'to', 'his', 'work', ',', 'Picasso', 'became', 'more', 'daring', ',', 'his', 'works', 'more', 'colourful', 'and', 'expressive', ',', 'and', 'from', '1968', 'to', '1971', 'he', 'produced', 'a', 'torrent', 'of', 'paintings', 'and', 'hundreds', 'of', 'copperplate', 'etchings', '.', 'indicating', 'the', 'suppression', 'of', 'phototorespiration', 'in', 'C3', 'plants', '.', 'Started', 'in', '2007', ',', 'this', 'fee', 'has', 'greatly', 'increased', 'the', 'tolls', 'for', 'such', 'ships', '.', 'Increasing', 'volumes', 'of', 'imports', 'from', 'Asia', ',', 'which', 'previously', 'landed', 'on', 'U.S.', 'West', 'Coast', 'ports', ',', 'are', 'now', 'passing', 'through', 'the', 'canal', 'to', 'the', 'American', 'East', 'Coast', '.', 'According', 'to', 'Steven', 'Weinberg', ',', '``', 'There', 'is', 'now', 'in', 'my', 'opinion', 'no', 'entirely', 'satisfactory', 'interpretation', 'of', 'quantum', 'mechanics', '.', \"''\", 'According', 'to', 'a', 'study', 'from', '2015', ',', 'Christians', 'hold', 'the', 'largest', 'amount', 'of', 'wealth', '-LRB-', '55', '%', 'of', 'the', 'total', 'world', 'wealth', '-RRB-', ',', 'followed', 'by', 'Muslims', '-LRB-', '5.8', '%', '-RRB-', ',', 'Hindus', '-LRB-', '3.3', '%', '-RRB-', 'and', 'Jewish', '-LRB-', '1.1', '%', '-RRB-', '.', 'According', 'to', 'the', 'same', 'study', 'it', 'was', 'found', 'that', 'adherents', 'under', 'the', 'classification', 'Irreligion', 'or', 'other', 'religions', 'hold', 'about', '34.8', '%', 'of', 'the', 'total', 'global', 'wealth', '.', 'According', 'to', 'the', 'Mongol', 'traditions', ',', 'Timur', 'could', 'not', 'claim', 'the', 'title', 'of', 'khan', 'or', 'rule', 'the', 'Mongol', 'Empire', 'because', 'he', 'was', 'not', 'a', 'descendant', 'of', 'Genghis', 'Khan', '.', 'Commenting', 'on', 'the', 'struggle', 'to', 'finish', 'the', 'building', ',', 'Wagner', 'remarked', 'to', 'Cosima', ':', '``', 'Each', 'stone', 'is', 'red', 'with', 'my', 'blood', 'and', 'yours', \"''\", '.', 'Abandoned', 'works', 'include', 'a', 'pastoral', 'opera', 'based', 'on', 'Goethe', \"'s\", 'Die', 'Laune', 'des', 'Verliebten', '-LRB-', 'The', 'Infatuated', 'Lover', \"'s\", 'Caprice', '-RRB-', ',', 'written', 'at', 'the', 'age', 'of', '17', ',', 'Die', 'Hochzeit', '-LRB-', 'The', 'Wedding', '-RRB-', ',', 'on', 'which', 'Wagner', 'worked', 'in', '1832', ',', 'and', 'the', 'singspiel', 'Männerlist', 'größer', 'als', 'Frauenlist', '-LRB-', 'Men', 'are', 'More', 'Cunning', 'than', 'Women', ',', '1837', '--', '38', '-RRB-', '.', 'Following', 'the', 'death', 'of', 'Theodosius', 'I', ',', 'the', 'last', 'emperor', 'to', 'rule', 'a', 'united', 'Roman', 'Empire', ',', 'the', 'dominion', 'of', 'the', 'empire', 'was', 'gradually', 'eroded', 'by', 'abuses', 'of', 'power', ',', 'civil', 'wars', ',', 'barbarian', 'migrations', 'and', 'invasions', ',', 'military', 'reforms', 'and', 'economic', 'depression', '.', 'Spearheaded', 'by', 'the', 'Puritans', 'and', 'funded', 'by', 'the', 'merchants', 'of', 'London', ',', 'the', 'revolt', 'was', 'a', 'success', ',', 'and', 'King', 'Charles', 'I', 'was', 'executed', '.', 'Invented', 'by', 'W.', 'H.', 'Richards', ',', 'the', 'robot', \"'s\", 'frame', 'consisted', 'of', 'an', 'aluminium', 'body', 'of', 'armour', 'with', 'eleven', 'electromagnets', 'and', 'one', 'motor', 'powered', 'by', 'a', 'twelve-volt', 'power', 'source', '.', 'Moving', 'charged', 'particles', 'generates', 'an', 'electric', 'current', 'within', 'a', 'magnetic', 'field', ';', 'and', 'any', 'movement', 'of', 'a', 'charged', 'plasma', 'particle', 'affects', 'and', 'is', 'affected', 'by', 'the', 'general', 'field', 'created', 'by', 'the', 'motion', 'of', 'other', 'charges', '.', 'Increased', 'concentration', 'levels', 'of', 'cortisol', 'have', 'been', 'associated', 'with', 'significant', 'increases', 'in', 'gonadotrophin', 'levels', 'and', 'lowered', 'progestin', 'levels', '.', 'Stabilizing', 'additives', 'include', 'fire', 'retardants', 'to', 'lower', 'the', 'flammability', 'of', 'the', 'material', '.', 'Let', 'A', ',', 'B', ',', 'C', 'be', 'the', 'vertices', 'of', 'a', 'right', 'triangle', ',', 'with', 'a', 'right', 'angle', 'at', 'A.', 'Drop', 'a', 'perpendicular', 'from', 'A', 'to', 'the', 'side', 'opposite', 'the', 'hypotenuse', 'in', 'the', 'square', 'on', 'the', 'hypotenuse', '.', 'Rejecting', 'or', 'disproving', 'the', nan, 'hypothesis', 'is', 'done', 'using', 'statistical', 'tests', 'that', 'quantify', 'the', 'sense', 'in', 'which', 'the', nan, 'can', 'be', 'proven', 'false', ',', 'given', 'the', 'data', 'that', 'are', 'used', 'in', 'the', 'test', '.', 'Working', 'from', 'a', nan, 'hypothesis', ',', 'two', 'basic', 'forms', 'of', 'error', 'are', 'recognized', ':', 'Type', 'I', 'errors', '-LRB-', nan, 'hypothesis', 'is', 'falsely', 'rejected', 'giving', 'a', '``', 'false', 'positive', \"''\", '-RRB-', 'and', 'Type', 'II', 'errors', '-LRB-', nan, 'hypothesis', 'fails', 'to', 'be', 'rejected', 'and', 'an', 'actual', 'difference', 'between', 'populations', 'is', 'missed', 'giving', 'a', '``', 'false', 'negative', \"''\", '-RRB-', '.', 'Pulsating', 'variable', 'stars', 'vary', 'in', 'radius', 'and', 'luminosity', 'over', 'time', ',', 'expanding', 'and', 'contracting', 'with', 'periods', 'ranging', 'from', 'minutes', 'to', 'years', ',', 'depending', 'on', 'the', 'size', 'of', 'the', 'star', '.', 'According', 'to', 'this', 'view', ',', 'there', 'is', 'always', 'an', 'Imam', 'of', 'the', 'Age', ',', 'who', 'is', 'the', 'divinely', 'appointed', 'authority', 'on', 'all', 'matters', 'of', 'faith', 'and', 'law', 'in', 'the', 'Muslim', 'community', '.', 'According', 'to', 'Allameh', 'Muzaffar', ',', 'Allah', 'gives', 'humans', 'the', 'faculty', 'of', 'reason', 'and', 'argument', '.', 'Angered', 'by', 'what', 'he', 'came', 'to', 'believe', 'were', 'Mustafa', \"'s\", 'plans', 'to', 'claim', 'the', 'throne', ',', 'the', 'following', 'summer', 'upon', 'return', 'from', 'his', 'campaign', 'in', 'Persia', ',', 'Suleiman', 'summoned', 'him', 'to', 'his', 'tent', 'in', 'the', 'Ereğli', 'valley', ',', 'stating', 'he', 'would', '``', 'be', 'able', 'to', 'clear', 'himself', 'of', 'the', 'crimes', 'he', 'was', 'accused', 'of', 'and', 'would', 'have', 'nothing', 'to', 'fear', 'if', 'he', 'came', \"''\", '.', 'Depending', 'on', 'the', 'carbon', 'content', ',', 'the', 'martensitic', 'phase', 'takes', 'different', 'forms', '.', 'Opened', 'on', '1', 'April', '1892', ',', 'its', 'shop', 'fronts', 'are', 'an', 'exact', 'replica', 'of', 'the', 'original', 'internal', 'shopping', 'facades', '.', 'Baptised', 'Sikhs', 'ritually', 'wear', 'five', 'items', ',', 'called', 'the', 'Five', 'Ks', '-LRB-', 'in', 'Punjabi', 'known', 'as', 'pañj', 'kakkē', 'or', 'pañj', 'kakār', '-RRB-', ',', 'at', 'all', 'times', '.', 'According', 'to', 'Sunrinder', 'S', ',', 'Jodhka', ',', 'the', 'Sikh', 'religion', 'does', 'not', 'advocate', 'discrimination', 'against', 'any', 'caste', 'or', 'creed', ',', 'however', ',', 'in', 'practice', ',', 'Sikhs', 'belonging', 'to', 'the', 'landowning', 'dominant', 'castes', 'have', 'not', 'shed', 'all', 'their', 'prejudices', 'against', 'the', 'lower', 'castes', 'or', 'dalits', '.', 'According', 'to', 'the', 'folklore', 'of', 'that', 'time', ',', 'for', 'a', 'samba', 'musician', 'to', 'achieve', 'success', ',', 'he', 'would', 'have', 'to', 'pass', 'the', 'house', 'of', 'Tia', 'Ciata', 'and', 'be', 'approved', 'on', 'the', 'rodas', 'de', 'samba', '.', 'According', 'to', 'Cara', 'Sutherland', 'in', 'her', 'book', 'on', 'the', 'statue', 'for', 'the', 'Museum', 'of', 'the', 'City', 'of', 'New', 'York', ',', '90,800', 'kilos', '-LRB-', '200,000', 'pounds', '-RRB-', 'was', 'needed', 'to', 'build', 'the', 'statue', ',', 'and', 'the', 'French', 'copper', 'industrialist', 'Eugène', 'Secrétan', 'donated', '58,100', 'kilos', '-LRB-', '128,000', 'pounds', '-RRB-', 'of', 'copper', '.', 'Following', 'escape', 'from', 'a', 'pressurized', 'submarine', ',', 'the', 'crew', 'is', 'at', 'risk', 'of', 'developing', 'decompression', 'sickness', '.', 'According', 'to', 'Kalla', ',', 'Shakuntala', 'is', 'an', 'allegorical', 'dramatization', 'of', 'Pratyabhijna', 'philosophy', '-LRB-', 'a', 'branch', 'of', 'Kashmir', 'Shaivism', '-RRB-', '.', 'Opened', 'in', '2001', ',', 'it', 'has', 'a', '70-metre', '-LRB-', '230', 'ft', '-RRB-', 'clearance', 'over', 'the', 'canal', 'and', 'was', 'built', 'with', 'assistance', 'from', 'the', 'Japanese', 'government', 'and', 'by', 'Kajima', '.', 'See', 'also', 'Nāga', '.', 'Given', 'the', 'lengths', 'of', 'the', 'sides', 'of', 'any', 'cyclic', 'quadrilateral', ',', 'Brahmagupta', 'gave', 'an', 'approximate', 'and', 'an', 'exact', 'formula', 'for', 'the', 'figure', \"'s\", 'area', ',', 'Considering', 'a', 'more', 'generic', 'perspective', 'of', 'technology', 'as', 'ethology', 'of', 'active', 'environmental', 'conditioning', 'and', 'control', ',', 'we', 'can', 'also', 'refer', 'to', 'animal', 'examples', 'such', 'as', 'beavers', 'and', 'their', 'dams', ',', 'or', 'bees', 'and', 'their', 'honeycombs', '.', 'Imagine', 'this', 'process', 'repeated', 'infinitely', ',', 'so', 'that', 'truth', 'is', 'defined', 'for', 'The', 'barn', 'is', 'big', ';', 'then', 'for', '``', 'The', 'barn', 'is', 'big', 'is', 'true', \"''\", ';', 'then', 'for', \"''\", '`', 'The', 'barn', 'is', 'big', 'is', 'true', \"'\", 'is', 'true', \"''\", ',', 'and', 'so', 'on', '.', 'Unveil', 'it', ',', 'O', 'Pusan', '-LRB-', 'Sun', '-RRB-', ',', 'so', 'that', 'I', 'who', 'have', 'truth', 'as', 'my', 'duty', '-LRB-', 'satyadharma', '-RRB-', 'may', 'see', 'it', '!', \"''\", 'Combined', 'with', 'other', 'words', ',', 'satya', 'acts', 'as', 'modifier', ',', 'like', '``', 'ultra', \"''\", 'or', '``', 'highest', ',', \"''\", 'or', 'more', 'literally', '``', 'truest', ',', \"''\", 'connoting', 'purity', 'and', 'excellence', '.', 'Captured', 'British', 'Mk', 'IVs', 'formed', 'the', 'bulk', 'of', 'Germany', \"'s\", 'tank', 'forces', 'during', 'World', 'War', 'I', ';', 'about', '35', 'were', 'in', 'service', 'at', 'any', 'one', 'time', '.', 'Erected', 'in', 'honour', 'of', 'the', 'prince', 'Kul', 'Tigin', 'and', 'his', 'brother', 'Emperor', 'Bilge', 'Khagan', ',', 'and', 'dating', 'back', 'to', 'some', 'time', 'between', '732', 'and', '735', ',', 'as', 'well', 'as', 'Bayn', 'Tsokto', 'inscriptions', 'erected', 'by', 'Tonyukuk', ',', 'the', 'commander', 'in', 'chief', 'between', '720', 'and', '725', ',', 'they', 'constitute', 'important', 'earliest', 'records', '.', 'Screening', 'those', 'without', 'symptoms', 'is', 'not', 'recommended', '.', 'Combining', 'smoking', 'cessation', 'medication', 'with', 'behavioural', 'therapy', 'is', 'more', 'than', 'two', 'times', 'as', 'likely', 'to', 'be', 'effective', 'in', 'helping', 'people', 'with', 'COPD', 'stop', 'smoking', ',', 'compared', 'with', 'behavioural', 'therapy', 'alone', '.', 'Using', 'alternative', 'energy', 'sources', 'such', 'as', 'solar', 'cooking', 'and', 'electrical', 'heating', 'is', 'also', 'effective', '.', 'Using', 'fuels', 'such', 'as', 'kerosene', 'or', 'coal', 'might', 'be', 'less', 'bad', 'than', 'traditional', 'biomass', 'such', 'as', 'wood', 'or', 'dung', '.', 'Drawing', 'on', 'the', 'antislavery', 'portion', 'of', 'the', 'Whig', 'Party', ',', 'and', 'combining', 'Free', 'Soil', ',', 'Liberty', ',', 'and', 'antislavery', 'Democratic', 'Party', 'members', ',', 'the', 'new', 'Republican', 'Party', 'formed', 'as', 'a', 'northern', 'party', 'dedicated', 'to', 'antislavery', '.', 'According', 'to', 'the', '2011', 'census', ',', 'Polish', 'has', 'become', 'the', 'second-largest', 'language', 'spoken', 'in', 'England', 'and', 'has', '546,000', 'speakers', '.', 'According', 'to', 'this', 'view', ',', 'the', 'Western', 'Allies', 'had', 'deliberately', 'delayed', 'opening', 'a', 'second', 'anti-German', 'front', 'in', 'order', 'to', 'step', 'in', 'at', 'the', 'last', 'minute', 'and', 'shape', 'the', 'peace', 'settlement', '.', 'According', 'to', 'this', 'theory', ',', 'the', 'word', 'simply', 'described', 'persons', 'from', 'this', 'area', ',', 'and', 'it', 'is', 'only', 'in', 'the', 'last', 'few', 'centuries', 'that', 'it', 'has', 'taken', 'on', 'the', 'broader', 'sense', 'of', 'early', 'medieval', 'Scandinavians', 'in', 'general', '.', 'According', 'to', 'U.S.', 'Vice-President', 'Richard', 'Nixon', ',', 'the', 'plan', 'involved', 'the', 'Joint', 'Chiefs', 'of', 'Staff', 'drawing', 'up', 'plans', 'to', 'use', 'three', 'small', 'tactical', 'nuclear', 'weapons', 'in', 'support', 'of', 'the', 'French', '.', 'Following', 'the', 'cessation', 'of', 'fighting', 'and', 'the', 'beginning', 'of', 'the', 'Imperial', 'Japanese', 'occupation', ',', 'the', 'French', 'colonial', 'authorities', 'collaborated', 'with', 'the', 'Japanese', '.', 'Named', 'the', 'Greatest', 'Briton', 'of', 'all', 'time', 'in', 'a', '2002', 'poll', ',', 'Churchill', 'is', 'widely', 'regarded', 'as', 'being', 'among', 'the', 'most', 'influential', 'people', 'in', 'British', 'history', ',', 'consistently', 'ranking', 'well', 'in', 'opinion', 'polls', 'of', 'Prime', 'Ministers', 'of', 'the', 'United', 'Kingdom', '.', 'Depending', 'on', 'the', 'religious', 'community', 'a', 'musician', 'belonged', 'to', ',', 'it', 'was', 'more', 'or', 'less', 'considered', 'a', 'sin', 'to', 'play', 'this', 'low-down', 'music', ':', 'blues', 'was', 'the', 'devil', \"'s\", 'music', '.', 'Note', 'that', 'this', 'implies', 'the', 'passage', 'of', 'several', 'wheel-less', 'millennia', 'even', 'after', 'the', 'invention', 'of', 'agriculture', 'and', 'of', 'pottery', ',', 'during', 'the', 'Aceramic', 'Neolithic', '-LRB-', '9500', '--', '6500', 'BCE', '-RRB-', '.', 'Depending', 'on', 'the', 'choice', ',', 'students', 'can', 'improve', 'their', 'educational', 'background', 'with', 'courses', 'of', 'post-graduate', 'studies', 'or', 'broad', 'sense', '.', 'Torn', 'muscles', ',', 'knee', 'injuries', ',', 'and', 'headaches', 'are', 'common', 'ailments', 'which', 'may', 'result', 'from', 'yoga', 'practice', '.', 'Dated', 'archeological', 'remains', 'of', 'einkorn', 'wheat', 'in', 'settlement', 'sites', 'near', 'this', 'region', ',', 'including', 'those', 'at', 'Abu', 'Hureyra', 'in', 'Syria', ',', 'suggest', 'the', 'domestication', 'of', 'einkorn', 'near', 'the', 'Karacadag', 'Mountain', 'Range', '.', 'According', 'to', 'this', 'model', ',', 'the', 'uncoordinated', 'instinctual', 'trends', 'are', 'the', '``', 'id', \"''\", ';', 'the', 'organized', 'realistic', 'part', 'of', 'the', 'psyche', 'is', 'the', '``', 'ego', ',', \"''\", 'and', 'the', 'critical', 'and', 'moralizing', 'function', 'the', '``', 'super-ego', '.', \"''\", 'According', 'to', 'Columella', '-LRB-', 'De', 'Re', 'Rustica', '8.2.7', '-RRB-', ',', 'the', 'ideal', 'flock', 'consists', 'of', '200', 'birds', ',', 'which', 'can', 'be', 'supervised', 'by', 'one', 'person', 'if', 'someone', 'is', 'watching', 'for', 'stray', 'animals', '.', 'Depending', 'on', 'the', 'relative', 'lengths', 'of', 'each', 'block', 'and', 'the', 'overall', 'block', 'topology', 'of', 'the', 'polymer', ',', 'many', 'morphologies', 'can', 'be', 'obtained', ',', 'each', 'its', 'own', 'phase', 'of', 'matter', '.', 'Included', 'in', 'make-ready', 'is', 'the', 'time', 'taken', 'to', 'mount', 'the', 'plate', 'onto', 'the', 'machine', ',', 'clean', 'up', 'any', 'mess', 'from', 'the', 'previous', 'job', ',', 'and', 'get', 'the', 'press', 'up', 'to', 'speed', '.', 'According', 'to', 'Seneca', 'the', 'Elder', ',', 'Ovid', 'tended', 'to', 'the', 'emotional', ',', 'not', 'the', 'argumentative', 'pole', 'of', 'rhetoric', '.', 'Opened', 'in', '2012', ',', 'JK', 'shopping', 'mall', 'has', 'brought', 'to', 'Brazil', 'brands', 'that', 'were', 'not', 'present', 'in', 'the', 'country', 'before', 'such', 'as', 'Goyard', ',', 'Tory', 'Burch', ',', 'Llc.', ',', 'Prada', ',', 'and', 'Miu', 'Miu', '.', 'Zoning', 'encouraged', 'the', 'growth', 'of', 'suburbs', 'with', 'minimal', 'control', 'and', 'major', 'speculation', '.', 'Drop', 'handlebars', '``', 'drop', \"''\", 'as', 'they', 'curve', 'forward', 'and', 'down', ',', 'offering', 'the', 'cyclist', 'best', 'braking', 'power', 'from', 'a', 'more', 'aerodynamic', '``', 'crouched', \"''\", 'position', ',', 'as', 'well', 'as', 'more', 'upright', 'positions', 'in', 'which', 'the', 'hands', 'grip', 'the', 'brake', 'lever', 'mounts', ',', 'the', 'forward', 'curves', ',', 'or', 'the', 'upper', 'flat', 'sections', 'for', 'increasingly', 'upright', 'postures', '.', 'According', 'to', 'the', 'current', 'definition', ',', 'two', 'fasting', 'glucose', 'measurements', 'above', '126', 'mg/dl', '-LRB-', '7.0', 'mmol/l', '-RRB-', 'is', 'considered', 'diagnostic', 'for', 'diabetes', 'mellitus', '.', 'Disabling', 'the', 'field', 'reduces', 'alternator', 'pulley', 'mechanical', 'loading', 'to', 'nearly', 'zero', ',', 'maximizing', 'crankshaft', 'power', '.', 'Powered', 'aircraft', 'typically', 'uses', 'an', 'ICE', 'which', 'may', 'be', 'a', 'reciprocating', 'engine', '.', 'According', 'to', 'religious', 'records', ',', 'he', 'was', 'assigned', 'by', 'God', 'to', 'lead', 'the', 'foreign', 'mission', 'as', 'part', 'of', 'God', \"'s\", 'Divine', 'hierarchy', '.', 'Pinned', 'down', 'by', 'a', 'fierce', 'storm', ',', 'they', 'escaped', 'death', 'by', 'breathing', 'oxygen', 'from', 'a', 'jury-rigged', 'set-up', 'during', 'the', 'night', '.', 'said', 'one', 'climber', '.', 'Inbreeding', 'depression', 'is', 'considered', 'to', 'be', 'due', 'largely', 'to', 'the', 'expression', 'of', 'homozygous', 'deleterious', 'recessive', 'mutations', '.', 'Outcrossing', 'between', 'unrelated', 'individuals', ',', 'including', 'dogs', 'of', 'different', 'breeds', ',', 'results', 'in', 'the', 'beneficial', 'masking', 'of', 'deleterious', 'recessive', 'mutations', 'in', 'progeny', '.', 'Outcrossing', 'between', 'unrelated', 'individuals', ',', 'including', 'dogs', 'of', 'different', 'breeds', ',', 'results', 'in', 'the', 'beneficial', 'masking', 'of', 'deleterious', 'recessive', 'mutations', 'in', 'progeny', '.', 'Confirming', 'Jia', \"'s\", 'reports', 'about', 'lighthouses', 'in', 'the', 'Persian', 'Gulf', ',', 'Arabic', 'writers', 'a', 'century', 'after', 'Jia', 'wrote', 'of', 'the', 'same', 'structures', ',', 'writers', 'such', 'as', 'al-Mas', '`', 'udi', 'and', 'al-Muqaddasi', '.', 'Determining', 'the', 'nature', 'of', 'this', 'seasonal', 'variation', 'is', 'difficult', 'because', 'good', 'data', 'on', 'Uranus', \"'s\", 'atmosphere', 'have', 'existed', 'for', 'less', 'than', '84', 'years', ',', 'or', 'one', 'full', 'Uranian', 'year', '.', 'Cast', 'metal', 'movable', 'type', 'was', 'spread', 'to', 'Europe', 'between', 'the', 'late', '14th', 'century', 'and', 'the', 'early', '15th', 'century', '.', 'Used', 'today', 'for', 'printing', 'labels', 'such', 'as', 'airline', 'baggage', 'tags', 'and', 'individual', 'price', 'labels', 'in', 'supermarket', 'deli', 'counters', '.', 'Printing', 'spread', 'early', 'to', 'Korea', 'and', 'Japan', ',', 'which', 'also', 'used', 'Chinese', 'logograms', ',', 'but', 'the', 'technique', 'was', 'also', 'used', 'in', 'Turpan', 'and', 'Vietnam', 'using', 'a', 'number', 'of', 'other', 'scripts', '.', 'Regarding', 'breastfeeding', 'capability', 'after', 'breast', 'reduction', 'surgery', ',', 'studies', 'reported', 'that', 'women', 'who', 'underwent', 'breast', 'reduction', 'can', 'retain', 'the', 'ability', 'to', 'nurse', 'an', 'infant', 'child', ',', 'when', 'compared', 'to', 'women', 'in', 'a', 'control', 'group', 'who', 'underwent', 'breast', 'surgery', 'using', 'a', 'modern', 'pedicle', 'surgical', 'technique', '.', 'Fearing', 'the', 'local', 'population', 'would', 'be', 'hostile', 'to', 'Christians', ',', 'da', 'Gama', 'impersonated', 'a', 'Muslim', 'and', 'gained', 'audience', 'with', 'the', 'Sultan', 'of', 'Mozambique', '.', 'Forced', 'by', 'a', 'hostile', 'crowd', 'to', 'flee', 'Mozambique', ',', 'da', 'Gama', 'departed', 'the', 'harbor', ',', 'firing', 'his', 'cannons', 'into', 'the', 'city', 'in', 'retaliation', '.', 'Dating', 'is', 'still', 'currently', 'broad', '-LRB-', '3500', '--', '500', 'BC', '-RRB-', '.', 'Quoting', 'Harvard', 'economics', 'professor', 'N.', 'Gregory', 'Mankiw', ',', '``', 'Few', 'propositions', 'command', 'as', 'much', 'consensus', 'among', 'professional', 'economists', 'as', 'that', 'open', 'world', 'trade', 'increases', 'economic', 'growth', 'and', 'raises', 'living', 'standards', '.', \"''\", 'According', 'to', 'Wolf', ',', 'in', 'the', 'developing', 'world', 'as', 'a', 'whole', ',', 'life', 'expectancy', 'rose', 'by', 'four', 'months', 'each', 'year', 'after', '1970', 'and', 'infant', 'mortality', 'rate', 'declined', 'from', '107', 'per', 'thousand', 'in', '1970', 'to', '58', 'in', '2000', 'due', 'to', 'improvements', 'in', 'standards', 'of', 'living', 'and', 'health', 'conditions', '.', 'According', 'to', 'inclusive', 'fitness', 'theory', ',', 'organisms', 'can', 'gain', 'fitness', 'not', 'just', 'through', 'increasing', 'their', 'own', 'reproductive', 'output', ',', 'but', 'also', 'that', 'of', 'close', 'relatives', '.', 'Increasing', 'civil', 'unrest', 'and', 'the', 'mutiny', 'of', 'the', 'Royal', 'Indian', 'Navy', 'during', '1946', 'led', 'Attlee', 'to', 'promise', 'independence', 'no', 'later', 'than', 'June', '30', ',', '1948', '.', 'Fall', 'streaks', 'consisting', 'of', 'virga', 'or', 'wisps', 'of', 'cirrus', 'are', 'usually', 'seen', 'beneath', 'the', 'hole', 'as', 'ice', 'crystals', 'fall', 'out', 'to', 'a', 'lower', 'altitude', '.', 'According', 'to', 'Irenæus', '-LRB-', 'died', 'about', '202', '-RRB-', ',', 'Ignatius', 'of', 'Antioch', 'was', 'fed', 'to', 'the', 'lions', 'in', 'Rome', 'around', '107', 'A.D', 'and', 'although', 'Irenaeus', 'says', 'nothing', 'about', 'this', 'happening', 'at', 'the', 'Colosseum', ',', 'tradition', 'ascribes', 'it', 'to', 'that', 'place', '.', 'Testing', 'for', 'poor', 'hearing', 'is', 'recommended', 'for', 'all', 'newborns', '.', 'Following', 'the', 'capture', 'of', 'Lar', ',', 'he', 'ruled', 'the', 'city', 'and', 'its', 'dependencies', 'for', '12', 'or', '14', 'years', 'before', 'dying', 'in', '1152', 'AH', '.', 'Flowing', 'east', 'at', 'the', 'eastern', 'edge', 'of', 'the', 'Amne', 'Machin', 'Mountains', ',', 'the', 'Yellow', 'River', 'enters', 'Maqu', 'County', 'in', 'Gansu', '.', 'Flowing', 'now', 'along', 'the', 'northern', 'edge', 'of', 'Amne', 'Machin', ',', 'the', 'river', 'reenters', 'Qinghai', 'and', 'gradually', 'curves', 'north', 'towards', 'the', 'Longyang', 'Gorge', 'at', 'Xinghai', '.', 'Acknowledging', 'the', 'Mongol', 'control', 'established', 'in', 'the', 'Ordos', 'Desert', ',', 'the', 'wall', 'followed', 'the', 'desert', \"'s\", 'southern', 'edge', 'instead', 'of', 'incorporating', 'the', 'bend', 'of', 'the', 'Yellow', 'River', '.', 'Dealing', 'with', 'the', 'French', 'Communists', 'was', 'a', 'delicate', 'issue', ',', 'for', 'they', 'were', 'under', 'Moscow', \"'s\", 'control', 'and', 'the', 'USSR', 'was', 'friendly', 'with', 'Germany', 'in', '1940', '--', '41', '.', 'Known', 'in', 'the', 'circles', 'of', 'clerics', ',', 'students', ',', 'and', 'merchants', ',', 'chess', 'entered', 'into', 'the', 'popular', 'culture', 'of', 'Middle', 'Ages', '.', 'Given', 'its', 'general', 'release', 'in', 'January', '1931', ',', 'City', 'Lights', 'proved', 'to', 'be', 'a', 'popular', 'and', 'financial', 'success', '--', 'eventually', 'grossing', 'over', '$', '3', 'million', '.', 'Constructed', 'languages', 'such', 'as', 'Esperanto', ',', 'programming', 'languages', ',', 'and', 'various', 'mathematical', 'formalism', 'is', 'not', 'necessarily', 'restricted', 'to', 'the', 'properties', 'shared', 'by', 'human', 'languages', '.', 'Depending', 'on', 'the', 'instruction', 'being', 'executed', ',', 'the', 'operands', 'may', 'come', 'from', 'internal', 'CPU', 'registers', 'or', 'external', 'memory', ',', 'or', 'they', 'may', 'be', 'constants', 'generated', 'by', 'the', 'ALU', 'itself', '.', 'Fearing', 'his', 'wrath', ',', 'Linnaeus', 'and', 'Sohlberg', 'had', 'to', 'leave', 'Hamburg', 'quickly', '.', 'Carrying', 'on', 'Kant', \"'s\", 'work', ',', 'Fichte', 'greatly', 'elaborated', 'on', 'the', 'synthesis', 'model', ',', 'and', 'popularized', 'it', '.', 'Following', 'the', 'breakup', 'of', 'Mali', ',', 'a', 'local', 'leader', 'named', 'Sonni', 'Ali', '-LRB-', '1464', '--', '1492', '-RRB-', 'founded', 'the', 'Songhai', 'Empire', 'in', 'the', 'region', 'of', 'middle', 'Niger', 'and', 'the', 'western', 'Sudan', 'and', 'took', 'control', 'of', 'the', 'trans-Saharan', 'trade', '.', 'Coordinated', 'market', 'economies', 'more', 'heavily', 'rely', 'on', 'non-market', 'forms', 'of', 'interaction', 'in', 'the', 'coordination', 'of', 'their', 'relationship', 'with', 'other', 'actors', '-LRB-', 'for', 'a', 'detailed', 'description', 'see', 'Varieties', 'of', 'Capitalism', '-RRB-', '.', 'Using', 'varieties', 'of', 'capitalism', 'theory', 'it', 'is', 'possible', 'to', 'disentangle', 'the', 'different', 'effects', 'on', 'social', 'and', 'political', 'participation', 'that', 'an', 'increase', 'of', 'labor', 'market', 'outsiders', 'has', 'in', 'liberal', 'and', 'coordinated', 'market', 'economies', '-LRB-', 'Ferragina', 'et', 'al.', '2016', '-RRB-', '.', 'Based', 'on', 'primary', 'accounts', 'and', 'on', 'what', 'one', 'would', 'expect', 'from', 'the', 'geographic', 'positions', 'of', 'the', 'islands', 'given', 'Columbus', \"'s\", 'course', ',', 'the', 'prime', 'candidates', 'are', 'San', 'Salvador', 'Island', '-LRB-', 'so', 'named', 'in', '1925', 'on', 'the', 'theory', 'that', 'it', 'was', 'Columbus', \"'s\", 'San', 'Salvador', '-RRB-', ',', 'Samana', 'Cay', ',', 'and', 'Plana', 'Cays', '.', 'Regarding', 'personal', 'gods', '-LRB-', 'shén', ',', 'energies', 'who', 'emanate', 'from', 'and', 'reproduce', 'the', 'Tiān', '-RRB-', 'enliving', 'nature', ',', 'in', 'Analects', '6.22', 'Confucius', 'says', 'that', 'it', 'is', 'appropriate', '-LRB-', '義', '/', '义', ',', 'yì', '-RRB-', 'for', 'people', 'to', 'worship', '-LRB-', '敬', ',', 'jìng', '-RRB-', 'them', ',', 'though', 'through', 'proper', 'rites', '-LRB-', '禮', '/', '礼', ',', 'lǐ', '-RRB-', ',', 'implying', 'respect', 'of', 'positions', 'and', 'discretion', '.', 'Starting', 'in', '1642', 'within', 'British', 'America', ',', 'an', 'estimated', '365', 'juvenile', 'offenders', 'were', 'executed', 'by', 'the', 'states', 'and', 'federal', 'government', 'of', 'the', 'United', 'States', '.', 'Beginning', 'in', 'the', '13th', 'century', ',', 'Sufism', 'underwent', 'a', 'transformation', ',', 'largely', 'because', 'of', 'efforts', 'to', 'legitimize', 'and', 'reorganize', 'the', 'movement', 'by', 'Al-Ghazali', ',', 'who', 'developed', 'the', 'model', 'of', 'the', 'Sufi', 'order', '--', 'a', 'community', 'of', 'spiritual', 'teachers', 'and', 'students', '.', 'Compared', 'with', 'other', 'societies', ',', 'civilizations', 'have', 'a', 'more', 'complex', 'political', 'structure', ',', 'namely', 'the', 'state', '.', 'According', 'to', 'Jocelin', 'of', 'Brakelond', ',', 'in', '1198', 'during', 'a', 'fire', 'at', 'the', 'abbey', 'of', 'St', 'Edmundsbury', '-LRB-', 'now', 'Bury', 'St', 'Edmunds', '-RRB-', ',', 'the', 'monks', '`', 'ran', 'to', 'the', 'clock', \"'\", 'to', 'fetch', 'water', ',', 'indicating', 'that', 'their', 'water', 'clock', 'had', 'a', 'reservoir', 'large', 'enough', 'to', 'help', 'extinguish', 'the', 'occasional', 'fire', '.', 'Existing', 'clock', 'mechanisms', 'that', 'used', 'water', 'power', 'were', 'being', 'adapted', 'to', 'take', 'their', 'driving', 'power', 'from', 'falling', 'weights', '.', 'Recognizing', 'the', 'possibility', 'that', 'stones', 'can', 'be', 'captured', 'using', 'these', 'techniques', 'is', 'an', 'important', 'step', 'forward', '.', 'Recognizing', 'the', 'possibility', 'that', 'stones', 'can', 'be', 'captured', 'using', 'these', 'techniques', 'is', 'an', 'important', 'step', 'forward', '.', 'Learning', 'the', 'ways', 'of', 'life', 'and', 'death', 'helps', 'in', 'a', 'fundamental', 'way', 'to', 'develop', 'one', \"'s\", 'strategic', 'understanding', 'of', 'weak', 'groups', '.', 'Consider', 'the', 'following', 'theoretical', 'scenario', '.', 'Owing', 'to', 'the', 'close', 'similarity', 'between', 'play', 'and', 'hunting', ',', 'cats', 'prefer', 'to', 'play', 'with', 'objects', 'that', 'resemble', 'prey', ',', 'such', 'as', 'small', 'furry', 'toys', 'that', 'move', 'rapidly', ',', 'but', 'rapidly', 'lose', 'interest', '-LRB-', 'they', 'become', 'habituated', '-RRB-', 'in', 'a', 'toy', 'they', 'have', 'played', 'with', 'before', '.', 'Owing', 'to', 'the', 'risks', 'posed', 'by', 'cats', 'eating', 'string', ',', 'it', 'is', 'sometimes', 'replaced', 'with', 'a', 'laser', 'pointer', \"'s\", 'dot', ',', 'which', 'cats', 'may', 'chase', '.', 'Note', 'that', 'keyboards', 'used', 'to', 'enter', 'such', 'text', 'may', 'still', 'restrict', 'users', 'to', 'Romanized', 'text', ',', 'as', 'only', 'ASCII', 'or', 'Latin-alphabet', 'characters', 'may', 'be', 'available', '.', 'Derived', 'from', 'the', 'Greek', 'ἀνατέμνω', 'anatemnō', '``', 'I', 'cut', 'up', ',', 'cut', 'open', \"''\", 'from', 'ἀνά', 'ana', '``', 'up', \"''\", ',', 'and', 'τέμνω', 'temnō', '``', 'I', 'cut', \"''\", ',', 'anatomy', 'is', 'the', 'scientific', 'study', 'of', 'the', 'structure', 'of', 'organisms', 'including', 'their', 'systems', ',', 'organs', 'and', 'tissues', '.', 'Given', 'its', 'size', 'and', 'diversity', ',', 'the', 'concept', 'of', 'Asia', '--', 'a', 'name', 'dating', 'back', 'to', 'classical', 'antiquity', '--', 'may', 'actually', 'have', 'more', 'to', 'do', 'with', 'human', 'geography', 'than', 'physical', 'geography', '.', 'Seeking', 'national', 'reconciliation', 'between', 'revolutionaries', 'and', 'Catholics', ',', 'the', 'Concordat', 'of', '1801', 'was', 'signed', 'on', '15', 'July', '1801', 'between', 'Napoleon', 'and', 'Pope', 'Pius', 'VII', '.', 'According', 'to', 'Bourrienne', ',', 'jealousy', 'was', 'responsible', ',', 'between', 'the', 'Army', 'of', 'the', 'Alps', 'and', 'the', 'Army', 'of', 'Italy', '-LRB-', 'with', 'whom', 'Napoleon', 'was', 'seconded', 'at', 'the', 'time', '-RRB-', '.', 'Heartened', 'by', 'France', \"'s\", 'loss', 'in', 'Russia', ',', 'Prussia', 'joined', 'with', 'Austria', ',', 'Sweden', ',', 'Russia', ',', 'Great', 'Britain', ',', 'Spain', ',', 'and', 'Portugal', 'in', 'a', 'new', 'coalition', '.', 'According', 'to', 'this', 'system', ',', 'there', 'are', '19', 'types', 'of', 'neuralgias', 'and', 'headaches', 'due', 'to', 'different', 'central', 'causes', 'of', 'facial', 'pain', '.', 'Following', 'rapid', 'climate', 'changes', 'at', 'the', 'end', 'of', 'the', 'LGM', 'this', 'region', 'was', 'repopulated', 'by', 'Magdalenian', 'culture', '.', 'SAID', 'UK', 'states', 'that', 'it', 'is', 'these', 'child', 'slaves', 'who', 'are', 'likely', 'to', 'be', 'working', 'in', '``', 'harsh', 'and', 'abusive', \"''\", 'conditions', 'for', 'the', 'production', 'of', 'chocolate', ',', 'and', 'an', 'increasing', 'number', 'of', 'health-food', 'and', 'anti-slavery', 'organisations', 'are', 'now', 'highlighting', 'and', 'campaigning', 'against', 'the', 'use', 'of', 'trafficking', 'in', 'the', 'chocolate', 'industry', '.', 'Acclaimed', 'as', 'emperor', 'by', 'the', 'army', 'at', 'Eboracum', '-LRB-', 'modern-day', 'York', '-RRB-', 'after', 'his', 'father', \"'s\", 'death', 'in', '306', 'AD', ',', 'Constantine', 'emerged', 'victorious', 'in', 'a', 'series', 'of', 'civil', 'wars', 'against', 'the', 'emperors', 'Maxentius', 'and', 'Licinius', 'to', 'become', 'sole', 'ruler', 'of', 'both', 'west', 'and', 'east', 'by', '324', 'AD', '.', 'According', 'to', 'tradition', ',', 'Peter', \"'s\", 'remains', 'were', 'buried', 'just', 'outside', 'the', 'Circus', ',', 'on', 'the', 'Mons', 'Vaticanus', 'across', 'the', 'Via', 'Cornelia', 'from', 'the', 'Circus', ',', 'less', 'than', '150', 'metres', '-LRB-', '490', 'ft', '-RRB-', 'from', 'his', 'place', 'of', 'death', '.', 'Induced', 'fetal', 'demise', 'before', 'termination', 'of', 'pregnancy', 'after', '20', '--', '21', 'weeks', 'gestation', 'is', 'recommended', 'to', 'avoid', 'this', '.', 'According', 'to', 'another', 'study', ',', 'when', 'measured', 'in', 'a', 'different', 'solution', ',', 'the', 'DNA', 'chain', 'measured', '22', 'to', '26', 'ångströms', 'wide', '-LRB-', '2.2', 'to', '2.6', 'nanometres', '-RRB-', ',', 'and', 'one', 'nucleotide', 'unit', 'measured', '3.3', 'Å', '-LRB-', '0.33', 'nm', '-RRB-', 'long', '.', 'According', 'to', 'one', 'estimate', 'more', 'than', '4,050', 'cities', 'were', 'captured', 'during', 'these', 'military', 'conquests', '.', 'Determining', 'when', 'death', 'has', 'occurred', 'requires', 'drawing', 'precise', 'conceptual', 'boundaries', 'between', 'life', 'and', 'death', '.', 'Consider', 'two', 'even', 'integers', 'x', 'and', 'y', '.', 'Suppose', 'x', 'is', 'not', 'even', '.', 'According', 'to', 'the', 'legend', ',', 'Shah', 'Jahan', 'decreed', 'that', 'anyone', 'could', 'keep', 'the', 'bricks', 'taken', 'from', 'the', 'scaffold', ',', 'and', 'thus', 'it', 'was', 'dismantled', 'by', 'peasants', 'overnight', '.', 'According', 'to', 'the', 'formalist', ',', 'mathematics', 'is', 'manipulation', 'of', 'symbols', 'according', 'to', 'agreed', 'upon', 'formal', 'rules', '.', 'According', 'to', 'the', 'formalist', ',', 'mathematics', 'is', 'manipulation', 'of', 'symbols', 'according', 'to', 'agreed', 'upon', 'formal', 'rules', '.', 'Regarded', 'as', 'one', 'of', 'the', 'most', 'important', 'and', 'influential', 'filmmakers', 'in', 'the', 'history', 'of', 'cinema', ',', 'Kurosawa', 'directed', '30', 'films', 'in', 'a', 'career', 'spanning', '57', 'years', '.', 'Served', 'by', 'Chemins', 'de', 'Fer', 'Syriens', ',', 'the', 'former', 'main', 'railway', 'station', 'of', 'Damascus', 'was', 'al-Hejaz', 'railway', 'station', ',', 'about', '1', 'km', '-LRB-', '5⁄8', 'mi', '-RRB-', 'west', 'of', 'the', 'old', 'city', '.', 'According', 'to', 'Joël', 'Bellassen', '-LRB-', '1989', '-RRB-', ',', 'the', 'most', 'complex', 'Chinese', 'character', 'is', '/', '-LRB-', 'U', '+2', 'A6A5', '-RRB-', 'zhé', 'listen', ',', 'meaning', '``', 'verbose', \"''\", 'and', 'containing', 'sixty-four', 'strokes', ';', 'this', 'character', 'fell', 'from', 'use', 'around', 'the', '5th', 'century', '.', 'Depending', 'on', 'the', 'ambient', 'temperature', ',', 'the', 'top', 'of', 'the', 'tower', 'may', 'shift', 'away', 'from', 'the', 'sun', 'by', 'up', 'to', '18', 'cm', '-LRB-', '7', 'in', '-RRB-', 'due', 'to', 'thermal', 'expansion', 'of', 'the', 'metal', 'on', 'the', 'side', 'facing', 'the', 'sun', '.', 'Introduced', 'to', 'amphetamines', 'by', 'a', 'sergeant', 'while', 'on', 'maneuvers', ',', 'he', 'became', '``', 'practically', 'evangelical', 'about', 'their', 'benefits', \"''\", '--', 'not', 'only', 'for', 'energy', ',', 'but', 'for', '``', 'strength', \"''\", 'and', 'weight', 'loss', ',', 'as', 'well', '--', 'and', 'many', 'of', 'his', 'friends', 'in', 'the', 'outfit', 'joined', 'him', 'in', 'indulging', '.', 'According', 'to', 'new', 'polls', 'about', 'religiosity', 'in', 'the', 'European', 'Union', 'in', '2012', 'by', 'Eurobarometer', ',', 'Christianity', 'is', 'the', 'largest', 'religion', 'in', 'the', 'European', 'Union', ',', 'accounting', 'for', '72', '%', 'of', 'the', 'EU', 'population', '.', 'According', 'to', 'a', 'study', 'on', 'this', 'question', ',', 'it', 'has', '``', 'significantly', 'reshaped', 'the', 'European', 'financial', 'system', ',', 'especially', 'with', 'respect', 'to', 'the', 'securities', 'markets', '-LSB-', '...', '-RSB-', 'However', ',', 'the', 'real', 'and', 'policy', 'barriers', 'to', 'integration', 'in', 'the', 'retail', 'and', 'corporate', 'banking', 'sectors', 'remain', 'significant', ',', 'even', 'if', 'the', 'wholesale', 'end', 'of', 'banking', 'has', 'been', 'largely', 'integrated', '.', \"''\", 'Living', 'organisms', 'require', 'available', 'energy', 'to', 'stay', 'alive', ',', 'such', 'as', 'the', 'energy', 'humans', 'get', 'from', 'food', '.', 'Put', 'differently', ',', 'yesterday', ',', 'today', ',', 'and', 'tomorrow', 'are', 'physically', 'indistinguishable', '.', 'Opened', 'in', '1994', 'as', 'a', 'complement', 'to', 'the', 'observation', 'deck', ',', 'the', 'New', 'York', 'Sky', 'ride', '-LRB-', 'or', 'NY', 'Sky', 'ride', '-RRB-', 'is', 'a', 'simulated', 'aerial', 'tour', 'over', 'the', 'city', '.', 'According', 'to', 'the', 'Records', 'of', 'the', 'Grand', 'Historian', ',', 'written', 'by', 'Sima', 'Qian', 'during', 'the', 'Han', 'dynasty', ',', 'the', 'first', 'emperor', 'was', 'the', 'eldest', 'son', 'of', 'the', 'Qin', 'prince', 'Yiren', ',', 'who', 'later', 'became', 'King', 'Zhuangxiang', 'of', 'Qin', '.')\n",
            "('Geologists', 'might', 'study', 'rivers', 'and', 'lakes', ',', 'the', 'underground', 'water', 'found', 'between', 'soil', 'and', 'rock', 'particles', ',', 'or', 'even', 'water', 'that', 'is', 'frozen', 'in', 'glaciers', '.', 'This', 'might', 'happen', 'because', 'of', 'heavy', 'rains', '.', 'You', 'can', 'see', 'an', 'example', 'in', 'Figure', '11.7', '.', 'Geologists', 'can', 'learn', 'a', 'lot', 'about', 'Earths', 'history', 'by', 'studying', 'sedimentary', 'rock', 'layers', '.', 'Pollutants', 'can', 'seep', 'down', 'through', 'porous', 'rock', 'in', 'recharge', 'water', '.', 'You', 'can', 'see', 'a', 'picture', 'of', 'it', 'in', 'Figure', '13.17', '.', 'Temperatures', 'might', 'plunge', 'hundreds', 'of', 'degrees', 'below', 'freezing', 'in', 'the', 'winter', '.', 'Downwelling', 'can', 'take', 'place', 'in', 'other', 'places', 'where', 'surface', 'water', 'becomes', 'very', 'dense', '-LRB-', 'see', 'Figure', '14.17', '-RRB-', '.', 'Downwelling', 'can', 'take', 'place', 'in', 'other', 'places', 'where', 'surface', 'water', 'becomes', 'very', 'dense', '-LRB-', 'see', 'Figure', '14.17', '-RRB-', '.', 'People', 'can', 'stay', 'underwater', 'for', 'up', 'to', '9', 'hours', '.', 'Energy', 'can', 'travel', 'as', 'waves', 'through', 'air', 'or', 'empty', 'space', '.', 'You', 'can', 'see', 'different', 'types', 'of', 'temperate', 'climates', 'in', 'Figure', '17.12', '.', 'This', 'would', 'cause', 'sea', 'level', 'to', 'rise', 'even', 'higher', '.', 'Warming', 'will', 'affect', 'the', 'entire', 'globe', 'by', 'the', 'end', 'of', 'this', 'century', '.', 'You', 'can', 'see', 'a', 'lump', 'of', 'carbon', 'in', 'Figure', '18.10', '.', 'Carbon', 'can', 'form', 'a', 'wide', 'variety', 'of', 'substances', '.', 'This', 'will', 'form', 'fossil', 'fuels', '.', 'You', 'can', 'see', 'it', 'Figure', '18.14', '.', 'Everyone', 'can', 'help', 'in', 'the', 'effort', '.', 'You', 'can', 'buy', 'many', 'types', 'of', 'these', 'in', 'stores', '.', 'We', 'can', 'get', 'more', 'work', 'out', 'of', 'the', 'energy', 'we', 'use', '.', 'Irrigation', 'can', 'waste', 'a', 'lot', 'of', 'water', '.', 'This', 'can', 'lead', 'to', 'dead', 'zones', 'where', 'nothing', 'can', 'live', 'in', 'lakes', 'and', 'at', 'the', 'mouths', 'of', 'rivers', '.', 'This', 'can', 'lead', 'to', 'dead', 'zones', 'where', 'nothing', 'can', 'live', 'in', 'lakes', 'and', 'at', 'the', 'mouths', 'of', 'rivers', '.', 'This', 'can', 'damage', 'buildings', ',', 'monuments', ',', 'and', 'statues', '.', 'We', 'can', 'reduce', 'our', 'use', 'of', 'fossil', 'fuels', 'in', 'several', 'ways', ':', 'Conserve', 'fossil', 'fuels', '.', 'This', 'can', 'add', 'up', 'to', 'a', 'big', 'savings', 'in', 'fossil', 'fuel', 'use', '.', 'People', 'can', 'live', 'on', 'this', 'craft', 'for', 'a', 'long', 'period', 'of', 'time', '.', 'Orion', 'will', 'replace', 'the', 'shuttle', '.', 'Some', 'would', 'like', 'to', 'further', 'explore', 'the', 'Moon', '.', 'Some', 'would', 'like', 'to', 'further', 'explore', 'the', 'Moon', '.', 'People', 'can', 'navigate', 'by', 'finding', 'magnetic', 'north', '-LRB-', 'Figure', '24.8', '-RRB-', '.', 'Prominences', 'can', 'last', 'for', 'a', 'day', 'to', 'several', 'months', '.', 'People', 'can', 'stand', 'on', 'Earth', 'and', 'observe', 'the', 'planet', 'through', 'a', 'telescope', '.', 'Scientists', 'can', 'learn', 'a', 'lot', 'from', 'them', 'about', 'how', 'the', 'solar', 'system', 'formed', '.', 'This', 'can', 'occur', 'either', 'by', 'the', 'pull', 'of', 'a', 'larger', 'galaxy', 'or', 'by', 'a', 'collision', 'with', 'another', 'galaxy', '.', 'Magma', 'can', 'cool', 'and', 'crystallize', '.', 'People', 'can', 'burn', 'wood', 'directly', 'for', 'energy', 'in', 'the', 'form', 'of', 'heat', '.', 'Rocks', 'can', 'slip', 'many', 'miles', 'along', 'thrust', 'faults', '-LRB-', 'Figure', '7.13', '-RRB-', '.', 'Faults', 'can', 'occur', 'alone', 'or', 'in', 'clusters', ',', 'creating', 'a', 'fault', 'zone', '.', 'Rocks', 'can', 'break', 'apart', 'into', 'smaller', 'pieces', 'in', 'many', 'ways', '.', 'This', 'can', 'happen', 'slowly', '.', 'Winds', 'can', 'move', 'pollutants', 'into', 'or', 'out', 'of', 'a', 'region', 'and', 'a', 'mountain', 'range', 'can', 'trap', 'pollutants', 'on', 'its', 'leeward', 'side', '.', 'We', 'will', 'run', 'a', 'multi-beam', 'echo', 'sounder', 'as', 'we', 'go', 'from', 'Woods', 'Hole', 'out', 'to', 'the', 'Mid-Atlantic', 'Ridge', '.', 'Everyone', 'can', 'reduce', 'their', 'use', 'of', 'energy', 'resources', 'and', 'the', 'pollution', 'the', 'resources', 'cause', 'by', 'conserving', 'energy', '.', 'Oceans', 'will', 'become', 'more', 'acidic', ',', 'making', 'it', 'more', 'difficult', 'for', 'creatures', 'with', 'carbonate', 'shells', 'to', 'grow', ',', 'and', 'that', 'includes', 'coral', 'reefs', '.', 'Weather', 'will', 'become', 'more', 'extreme', ',', 'with', 'more', 'frequent', 'and', 'more', 'intense', 'heat', 'waves', 'and', 'droughts', '.', 'Glaciers', 'can', 'carry', 'rock', 'of', 'any', 'size', ',', 'from', 'giant', 'boulders', 'to', 'silt', '-LRB-', 'Figure', '1.6', '-RRB-', '.', 'Reefs', 'can', 'form', 'interesting', 'shapes', 'in', 'the', 'oceans', '.', 'Geologists', 'can', 'learn', 'many', 'things', 'about', 'the', 'Pre-Archean', 'by', 'studying', 'the', 'rocks', 'of', 'the', 'cratons', '.', 'We', 'can', 'choose', 'to', 'use', 'materials', 'that', 'are', 'not', 'hazardous', ',', 'such', 'as', 'using', 'vinegar', 'as', 'a', 'cleanser', '.', 'This', 'would', 'release', 'chlorine', 'atoms', ',', 'which', 'would', 'then', 'destroy', 'ozone', '.', 'Nothing', 'would', 'get', 'into', 'space', 'without', 'being', 'thrust', 'upward', 'by', 'a', 'rocket', '.', 'Saturn', 'would', 'float', '!', 'Prominences', 'can', 'last', 'lengths', 'of', 'time', 'ranging', 'from', 'a', 'day', 'to', 'several', 'months', '.', 'Citizens', 'can', 'change', 'their', 'behavior', 'to', 'reduce', 'the', 'impact', 'they', 'have', 'on', 'the', 'planet', 'by', 'demanding', 'products', 'that', 'are', 'produced', 'sustainably', '.', 'People', 'can', 'consume', 'less', 'and', 'think', 'more', 'about', 'the', 'impacts', 'of', 'what', 'they', 'do', 'consume', '.', 'Engineers', 'can', 'develop', 'cleaner', 'energy', 'sources', 'to', 'reduce', 'pollution', 'and', 'greenhouse', 'gas', 'emissions', '.', 'Kepler', 'had', 'proposed', 'three', 'Laws', 'of', 'Planetary', 'motion', 'based', 'on', 'Tycho', 'Brahes', 'data', '.', 'Tsunami', 'can', 'travel', 'at', 'speeds', 'of', '800', 'kilometers', 'per', 'hour', '-LRB-', '500', 'miles', 'per', 'hour', '-RRB-', '.', 'Particulates', 'can', 'contribute', 'to', 'asthma', ',', 'heart', 'disease', ',', 'and', 'some', 'types', 'of', 'cancers', '.', 'This', 'can', 'happen', 'at', 'sea', 'but', 'happens', 'predictably', 'as', 'a', 'wave', 'moves', 'up', 'a', 'shore', '.', 'This', 'can', 'happen', 'at', 'sea', 'but', 'happens', 'predictably', 'as', 'a', 'wave', 'moves', 'up', 'a', 'shore', '.', 'You', 'can', 'see', 'a', 'melanocyte', 'in', 'Figure', '16.7', '.', 'You', 'can', 'see', 'some', 'of', 'these', 'structures', 'in', 'Figure', '16.8', '.', 'You', 'can', 'see', 'the', 'role', 'of', 'blood', 'vessels', 'in', 'the', 'regulation', 'of', 'body', 'temperature', 'in', 'this', 'video', ':', '.', 'You', 'can', 'watch', 'a', 'good', 'video', 'introduction', 'to', 'the', 'three', 'types', 'at', 'this', 'link', ':', 'MEDIA', 'Click', 'image', 'to', 'the', 'left', 'or', 'use', 'the', 'URL', 'below', '.', 'You', 'can', 'see', 'how', 'this', 'occurs', 'in', 'Figure', '19.3', '.', 'This', 'will', 'reduce', 'your', 'risk', 'of', 'picking', 'up', 'viruses', 'or', 'bacteria', 'that', 'could', 'make', 'you', 'sick', 'with', 'colds', 'or', 'other', 'respiratory', 'infections', '.', 'Consumers', 'can', 'get', 'starches', 'by', 'eating', 'plants', '.', 'You', 'can', 'learn', 'more', 'about', 'the', 'shapes', 'of', 'proteins', 'at', 'this', 'link', ':', 'MEDIA', 'Click', 'image', 'to', 'the', 'left', 'or', 'use', 'the', 'URL', 'below', '.', 'You', 'can', 'see', 'these', 'three', 'parts', 'of', 'the', 'brain', 'in', 'Figure', '20.5', '.', 'This', 'can', 'happen', 'because', 'of', 'the', 'connections', 'between', 'the', 'two', 'hemispheres', '.', 'You', 'can', 'use', 'your', 'sense', 'of', 'taste', 'alone', 'to', 'learn', 'that', 'a', 'food', 'is', 'sweet', '.', 'You', 'can', 'see', 'taste', 'buds', 'on', 'the', 'tongue', 'in', 'Figure', '20.16', '.', 'You', 'can', 'see', 'taste', 'buds', 'on', 'the', 'tongue', 'in', 'Figure', '20.16', '.', 'Sperm', 'can', 'travel', 'about', '30', 'inches', 'per', 'hour', '.', 'This', 'will', 'help', 'protect', 'the', 'testes', 'from', 'injury', '.', 'You', 'can', 'see', 'some', 'of', 'the', 'trash', 'that', 'routinely', 'washes', 'up', 'on', 'coastlines', 'in', 'Figure', '25.7', '.', 'You', 'can', 'see', 'some', 'of', 'the', 'trash', 'that', 'routinely', 'washes', 'up', 'on', 'coastlines', 'in', 'Figure', '25.7', '.', 'You', 'can', 'see', 'some', 'of', 'the', 'trash', 'that', 'routinely', 'washes', 'up', 'on', 'coastlines', 'in', 'Figure', '25.7', '.', 'You', 'can', 'see', 'some', 'of', 'the', 'trash', 'that', 'routinely', 'washes', 'up', 'on', 'coastlines', 'in', 'Figure', '25.7', '.', 'They', 'can', 'reproduce', 'to', 'replace', 'themselves', '.', 'Everyone', 'can', 'help', 'make', 'a', 'difference', '.', 'You', 'can', 'see', 'four', 'examples', 'in', 'Figure', '7.4', '.', 'Scientists', 'can', 'compare', 'the', 'DNA', 'or', 'proteins', 'of', 'different', 'species', '.', 'You', 'can', 'see', 'this', 'time', 'scale', 'in', 'Figure', '7.18', '.', 'You', 'can', 'see', 'this', 'time', 'scale', 'in', 'Figure', '7.18', '.', 'They', 'had', 'evolved', 'in', 'its', 'absence', '.', 'Eukaryotes', 'would', 'go', 'on', 'to', 'evolve', 'sexual', 'reproduction', '.', 'You', 'can', 'see', 'how', 'it', 'looked', 'in', 'Figure', '7.23', '.', 'Everyone', 'should', 'know', 'the', 'warning', 'signs', 'of', 'cancer', '.', 'This', 'can', 'damage', 'blood', 'vessels', 'and', 'other', 'cells', 'throughout', 'the', 'body', '.', 'This', 'can', 'cause', 'headaches', ',', 'difficulty', 'speaking', ',', 'or', 'other', 'problems', ',', 'depending', 'on', 'where', 'the', 'tumor', 'is', 'located', '.', 'Smog', 'can', 'cause', 'eye', 'irritation', 'and', 'respiratory', 'problems', '.', 'Others', 'can', 'take', 'longer', 'for', 'the', 'illness', 'to', 'appear', '.', 'This', 'can', 'result', 'in', 'stomach', 'cramping', ',', 'diarrhea', ',', 'tiredness', ',', 'and', 'weight', 'loss', '.', 'You', 'can', 'remember', 'they', 'are', 'called', 'ventricles', 'because', 'they', 'are', 'shaped', 'like', 'a', '``', 'V.', \"''\", 'The', 'atria', 'receive', 'the', 'blood', ',', 'and', 'the', 'ventricles', 'pump', 'the', 'blood', 'out', 'of', 'the', 'heart', '.', 'Saliva', 'can', 'carry', 'the', 'HIV', 'virus', ',', 'but', 'it', 'wont', 'spread', 'it', ',', 'unless', 'the', 'saliva', 'gets', 'into', 'the', 'bloodstream', '.', 'Medications', 'can', 'slow', 'down', 'the', 'increase', 'of', 'viruses', 'in', 'the', 'blood', '.', 'Asbestos', 'can', 'cause', 'cancer', 'and', 'other', 'lung', 'diseases', '.', 'You', 'can', 'see', 'an', 'animation', 'of', 'how', 'a', 'concussion', 'occurs', 'by', 'visiting', 'A', 'person', 'with', 'a', 'serious', 'brain', 'injury', 'usually', 'suffers', 'permanent', 'brain', 'damage', '.', 'Fractures', 'can', 'happen', 'at', 'different', 'places', 'on', 'a', 'bone', '.', 'Ligaments', 'can', 'get', 'injured', 'when', 'a', 'joint', 'gets', 'twisted', 'or', 'bends', 'too', 'far', '.', 'It', 'will', 'look', 'darker', ',', 'because', 'there', 'is', 'less', 'water', 'in', 'it', '.', 'This', 'will', 'cause', 'the', 'population', 'growth', 'rate', 'to', 'decrease', '.', 'Mutations', 'can', 'happen', 'spontaneously', ',', 'and', 'they', 'can', 'be', 'caused', 'by', 'mutagens', 'in', 'the', 'environment', '.', 'What', 'would', 'happen', 'if', 'a', 'car', 'pulled', 'out', 'unexpectedly', 'in', 'front', 'of', 'Michelle', '?', 'Michelle', 'can', 'thank', 'her', 'nervous', 'system', 'for', 'that', '-LRB-', 'Figure', '1.1', '-RRB-', '.', 'Exercise', 'can', 'help', 'as', 'well', '.', 'Proteins', 'can', 'differ', 'in', 'both', 'the', 'number', 'and', 'order', 'of', 'amino', 'acids', '.', 'Organisms', 'can', 'use', 'different', 'strategies', 'to', 'increase', 'their', 'reproduction', 'rate', '.', 'Vaccinations', 'can', 'help', 'prevent', 'measles', ',', 'mumps', ',', 'chicken', 'pox', ',', 'and', 'several', 'other', 'diseases', '.', 'Individuals', 'can', 'vote', 'for', 'leaders', 'who', 'stand', 'for', 'sustainable', 'ecological', 'practices', '.', 'This', 'can', 'happen', 'in', 'males', 'as', 'well', 'as', 'females', '.', 'Medicines', 'can', 'help', 'prevent', 'liver', 'damage', 'in', 'these', 'people', '.', 'HIV', 'can', 'spread', 'through', 'sexual', 'contact', '.', 'Becquerel', 'had', 'discovered', 'that', 'uranium', 'gives', 'off', 'rays', 'without', 'getting', 'energy', 'from', 'light', '.', 'This', 'can', 'happen', 'naturally', 'or', 'when', 'a', 'neutron', 'is', 'deliberately', 'crashed', 'into', 'a', 'uranium', 'nucleus', 'in', 'a', 'nuclear', 'power', 'plant', '.', 'This', 'can', 'start', 'a', 'nuclear', 'chain', 'reaction', '-LRB-', 'see', 'Figure', '11.13', '-RRB-', '.', 'You', 'can', 'see', 'another', 'example', 'of', 'a', 'chain', 'reaction', 'at', 'this', 'URL', ':', 'You', 'can', 'use', 'the', 'map', 'key', 'to', 'directly', 'measure', 'the', 'distance', 'between', 'these', 'two', 'points', '.', 'You', 'might', 'come', 'to', 'a', 'complete', 'stop', 'at', 'traffic', 'lights', ',', 'slow', 'down', 'as', 'you', 'turn', 'corners', ',', 'and', 'speed', 'up', 'to', 'pass', 'other', 'cars', '.', 'You', 'can', 'review', 'the', 'concept', 'of', 'acceleration', 'as', 'well', 'as', 'other', 'chapter', 'concepts', 'by', 'watching', 'the', 'musical', 'video', 'at', 'this', 'URL', ':', 'It', 'can', 'cause', 'the', 'car', 'to', 'overheat', '.', 'You', 'can', 'learn', 'more', 'about', 'weight', 'and', 'acceleration', 'at', 'this', 'URL', ':', 'Problem', 'Solving', 'Problem', ':', 'Daisy', 'has', 'a', 'mass', 'of', '35', 'kilograms', '.', 'You', 'can', 'see', 'other', 'examples', 'of', 'actions', 'and', 'reactions', 'in', 'Figure', '14.9', '.', 'You', 'can', 'see', 'an', 'animation', 'showing', 'how', 'momentum', 'is', 'conserved', 'in', 'a', 'head-on', 'collision', 'at', 'this', 'URL', ':', '.', 'Reflection', 'can', 'happen', 'with', 'any', 'type', 'of', 'waves', ',', 'not', 'just', 'sound', 'waves', '.', 'You', 'can', 'see', 'an', 'animation', 'of', 'an', 'electromagnetic', 'wave', 'at', 'this', 'URL', ':', '-LRB-', '1:31', '-RRB-', '.', 'You', 'can', 'see', 'an', 'animation', 'of', 'an', 'electromagnetic', 'wave', 'at', 'this', 'URL', ':', '-LRB-', '1:31', '-RRB-', '.', 'You', 'can', 'explore', 'the', 'colors', 'of', 'visible', 'light', 'and', 'how', 'they', 'combine', 'with', 'the', 'interactive', 'animations', 'at', 'this', 'URL', ':', '.', 'You', 'can', 'see', 'how', 'concave', 'mirrors', 'form', 'images', 'in', 'Figure', '22.13', 'and', 'in', 'the', 'interactive', 'animation', 'at', 'the', 'URL', 'below', '.', 'Cones', 'can', 'sense', 'colors', 'but', 'not', 'in', 'dim', 'light', '.', 'What', 'might', 'happen', 'if', 'a', 'magnetic', 'reversal', 'occurred', 'in', 'your', 'lifetime', '?', 'This', 'can', 'happen', ',', 'Dalton', 'reasoned', ',', 'only', 'if', 'elements', 'are', 'made', 'of', 'tiny', 'particles', 'that', 'can', 'combine', 'in', 'an', 'endless', 'variety', 'of', 'ways', '.', 'You', 'can', 'learn', 'more', 'about', 'Thomson', 'and', 'his', 'discovery', 'at', 'this', 'online', 'exhibit', ':', '.', 'This', 'would', 'cause', 'the', 'alpha', 'particles', 'to', 'change', 'course', '.', 'Electrons', 'can', 'jump', 'from', 'one', 'energy', 'level', 'to', 'another', '.', 'You', 'can', 'watch', 'a', 'video', 'demonstrating', 'the', 'reactivity', 'of', 'halogens', 'at', 'this', 'URL', ':', '.', 'You', 'can', 'watch', 'a', 'video', 'demonstrating', 'the', 'reactivity', 'of', 'halogens', 'at', 'this', 'URL', ':', '.', 'This', 'can', 'happen', 'in', 'many', 'different', 'ways', '.', 'You', 'can', 'see', 'another', 'example', 'at', 'this', 'URL', ':', 'http', ':', '/', '/', 'w', 'You', 'can', 'see', 'examples', 'of', 'each', 'type', 'of', 'evidence', 'in', 'Figure', '8.3', 'and', 'at', 'this', 'URL', ':', 'MEDIA', 'Click', 'image', 'to', 'the', 'left', 'or', 'use', 'the', 'URL', 'below', '.', 'You', 'can', 'see', 'examples', 'of', 'each', 'type', 'of', 'evidence', 'in', 'Figure', '8.3', 'and', 'at', 'this', 'URL', ':', 'MEDIA', 'Click', 'image', 'to', 'the', 'left', 'or', 'use', 'the', 'URL', 'below', '.', 'Energy', 'can', 'change', 'form', 'for', 'example', ',', 'from', 'electricity', 'to', 'light', 'but', 'the', 'same', 'amount', 'of', 'energy', 'always', 'remains', '.', 'You', 'can', 'see', 'another', 'example', 'in', 'Figure', '8.18', '.', 'Carbon', 'can', 'form', 'single', ',', 'double', ',', 'or', 'even', 'triple', 'bonds', 'with', 'other', 'carbon', 'atoms', '.', 'You', 'can', 'see', 'several', 'examples', 'of', 'acceleration', 'in', 'the', 'pictures', 'from', 'the', 'Figure', '1.1', '.', 'This', 'can', 'happen', 'in', 'various', 'ways', ',', 'depending', 'on', 'the', 'type', 'of', 'light', 'bulb', '.', 'They', 'can', 'pass', 'through', 'a', 'sheet', 'of', 'paper', 'or', 'a', 'layer', 'of', 'cloth', 'but', 'not', 'through', 'a', 'sheet', 'of', 'aluminum', 'or', 'a', 'few', 'centimeters', 'of', 'wood', '.', 'Carbon', 'can', 'form', 'single', ',', 'double', ',', 'or', 'even', 'triple', 'bonds', 'with', 'other', 'carbon', 'atoms', '.', 'You', 'can', 'see', 'how', 'it', 'affects', 'the', 'rate', 'of', 'starch', 'digestion', 'in', 'the', 'Figure', '1.2', '.', 'You', 'can', 'see', 'a', 'methane', 'flame', 'in', 'the', 'Figure', '1.2', '.', 'This', 'can', 'happen', ',', 'Dalton', 'reasoned', ',', 'only', 'if', 'elements', 'are', 'made', 'of', 'separate', ',', 'discrete', 'particles', 'that', 'can', 'not', 'be', 'subdivided', '.', 'Variation', 'can', 'be', 'described', 'with', 'a', 'statistic', 'called', 'the', 'range', '.', 'Direction', 'can', 'be', 'described', 'in', 'relative', 'terms', ',', 'such', 'as', 'up', ',', 'down', ',', 'in', ',', 'out', ',', 'left', ',', 'right', ',', 'forward', ',', 'backward', ',', 'or', 'sideways', '.', 'It', 'can', 'predict', 'the', 'motion', 'of', 'most', 'objects', 'and', 'was', 'even', 'used', 'by', 'NASA', 'to', 'land', 'astronauts', 'on', 'the', 'moon', '.', 'Everyone', 'can', 'overcome', 'gravity', '.', 'Electrons', 'can', 'jump', 'from', 'a', 'lower', 'to', 'the', 'next', 'higher', 'energy', 'level', 'if', 'they', 'absorb', 'this', 'amount', 'of', 'energy', '.', 'Force', 'can', 'cause', 'a', 'stationary', 'object', 'to', 'start', 'moving', 'or', 'a', 'moving', 'object', 'to', 'change', 'its', 'speed', 'or', 'direction', 'or', 'both', '.', 'Friction', 'can', 'work', 'for', 'or', 'against', 'us', '.', 'Gravity', 'can', 'act', 'between', 'objects', 'that', 'are', 'not', 'even', 'touching', '.', 'You', 'can', 'see', 'how', 'concave', 'mirrors', 'form', 'images', 'in', 'the', 'Figure', '1.2', '.', 'This', 'would', 'lower', 'manufacturing', 'costs', 'as', 'well', 'as', 'save', 'natural', 'resources', '.', 'This', 'can', 'happen', 'naturally', 'when', 'a', 'free', 'neutron', 'strikes', 'it', ',', 'or', 'it', 'can', 'occur', 'deliberately', 'when', 'a', 'neutron', 'is', 'crashed', 'into', 'it', 'in', 'a', 'nuclear', 'power', 'plant', '.', 'This', 'can', 'start', 'a', 'nuclear', 'chain', 'reaction', '.', 'They', 'can', 'help', 'you', 'visualize', 'a', 'set', 'of', 'data', '.', 'You', 'can', 'compare', 'the', 'speed', 'of', 'sound', 'in', 'dry', 'air', 'at', 'different', 'temperatures', 'in', 'the', 'following', 'Table', '1.2', '.', 'This', 'can', 'happen', 'in', 'several', 'ways', '.', 'They', 'can', 'form', 'straight', 'chains', ',', 'branched', 'chains', ',', 'or', 'rings', '.', 'Cones', 'can', 'sense', 'colors', 'but', 'not', 'dim', 'light', '.', 'You', 'can', 'see', 'this', 'in', 'the', 'Figure', '1.1', '.', 'You', 'can', 'see', 'this', 'in', 'the', 'Figure', '1.1', '.', 'You', 'can', 'see', 'this', 'in', 'the', 'Figure', '1.1', '.', 'Watkins', 'had', 'pleaded', 'guilty', 'to', 'the', 'offences', 'along', 'with', 'two', 'others', ',', 'the', 'mothers', 'of', 'two', 'of', 'the', 'children', 'he', 'abused', '.', 'This', 'will', 'save', 'taxpayers', 'around', '$', '89', 'million', 'a', 'year', 'and', 'it', \"'s\", 'the', 'first', 'down-payment', 'on', 'the', 'dividend', 'of', 'stronger', 'border', 'protection', '.', 'Dennehy', 'had', 'admitted', 'her', 'crimes', ';', 'Stretch', 'and', 'Layton', 'went', 'to', 'trial', '.', 'We', \"'ll\", 'give', 'the', 'public', 'a', 'chance', 'that', 'they', 'did', \"n't\", 'have', 'at', 'the', 'time', 'when', 'we', 'made', 'this', 'decision', '.', 'Let', \"'s\", 'pause', 'for', 'identification', '.', 'We', 'would', 'send', 'each', 'other', 'long', 'emails', 'about', 'movement', 'roles', 'and', 'how', 'to', 'move', 'forward', 'with', 'the', 'movement', '.', 'Non-compliance', 'will', 'net', 'fines', 'for', 'private', 'citizens', 'of', '3,000', '--', '5,000', 'rubles', '-LRB-', 'US$', '83', '--', 'US$', '140', '-RRB-', ',', 'officials', '30,000', '--', '50,000', 'rubles', '-LRB-', 'US$', '833', '--', 'US$', '1,388', '-RRB-', ',', 'and', 'businesses', '300,000', '--', '500,000', 'rubles', '-LRB-', 'US$', '8,330', '--', 'US$', '13,888', '-RRB-', '.', 'I', 'will', 'continue', 'to', 'push', 'for', 'those', 'reforms', 'when', 'the', 'Senate', 'Judiciary', 'Committee', 'considers', 'the', 'USA', 'FREEDOM', 'Act', 'this', 'summer', '.', \"''\", 'I', 'will', 'continue', 'to', 'push', 'for', 'those', 'reforms', 'when', 'the', 'Senate', 'Judiciary', 'Committee', 'considers', 'the', 'USA', 'FREEDOM', 'Act', 'this', 'summer', '.', \"''\", 'I', 'will', 'continue', 'to', 'push', 'for', 'those', 'reforms', 'when', 'the', 'Senate', 'Judiciary', 'Committee', 'considers', 'the', 'USA', 'FREEDOM', 'Act', 'this', 'summer', '.', \"''\", 'I', 'will', 'continue', 'to', 'push', 'for', 'those', 'reforms', 'when', 'the', 'Senate', 'Judiciary', 'Committee', 'considers', 'the', 'USA', 'FREEDOM', 'Act', 'this', 'summer', '.', \"''\", 'Israel', 'will', 'pay', 'a', 'heavy', 'price', 'for', 'it', \"''\", '.', 'This', 'would', 'mark', 'the', 'end', 'of', 'ISAF', \"'s\", '13', 'year', 'mission', 'in', 'Afghanistan', ',', 'with', 'troops', 'changing', 'to', 'a', 'training', 'and', 'assistance', 'role', '.', 'Chan', 'had', 'become', 'a', 'Christian', 'minister', 'and', 'Sukumaran', 'turned', 'to', 'painting', 'to', 'help', 'other', 'prisoners', 'at', 'Kerobokan', 'Prison', 'to', 'rehabilitate', '.', 'This', 'will', 'allow', 'for', 'the', 'victims', 'families', 'to', 'prepare', 'for', 'a', 'proper', 'burial', 'ceremony', 'in', 'the', 'coming', 'weeks', '.', 'Zhou', 'had', 'limited', 'crowd', 'support', ',', 'with', 'only', 'one', 'large', 'Chinese', 'flag', 'visible', 'in', 'the', 'spectator', 'area', '.', 'Hunt', 'would', 'finish', 'the', 'half', '2', 'of', '4', 'from', '2', 'point', 'range', '.', 'Venezuela', 'will', 'continue', 'its', 'march', 'toward', 'the', 'democratic', 'socialism', 'of', 'the', '21st', 'century', '.', \"''\", 'That', 'would', 'entail', 'a', 'background', 'check', 'and', 'a', 'Social', 'Security', 'card', 'so', 'that', 'applicable', 'taxes', 'would', 'get', 'paid', '.', 'This', 'would', 'keep', 'infrastructure', 'costs', 'down', 'and', 'make', 'the', 'Games', 'more', 'affordable', 'for', 'Spain', '.', 'This', 'will', 'change', 'the', 'way', 'we', 'consume', 'digital', 'media', 'in', 'both', 'our', 'personal', 'and', 'working', 'lives', 'and', 'deliver', 'significant', 'benefits', 'to', 'millions', 'of', 'consumers', 'and', 'businesses', 'across', 'the', 'country', '.', \"''\", 'Much', 'would', 'depend', 'on', 'scientific', 'evidence', '-LRB-', 'see', 'below', '-RRB-', '.', 'I', 'would', 'hold', 'dozens', 'of', 'town', 'hall', 'meetings', 'to', 'talk', 'to', 'the', 'people', 'of', 'this', 'state', 'about', 'their', 'struggles', 'and', 'community-based', 'solutions', 'and', 'work', 'with', 'the', 'people', 'to', 'put', 'their', 'needs', 'first', 'and', 'foremost', '.', 'University', 'would', 'score', 'three', 'tries', 'in', 'the', 'last', 'ten', 'minutes', 'of', 'the', 'first', 'half', 'to', 'go', 'to', 'half', 'time', 'leading', '33', 'points', 'to', '10', '.', 'Ryanair', 'had', 'told', 'pilots', 'anybody', 'signing', 'a', '``', 'so-called', 'safety', 'petition', \"''\", 'might', 'be', 'dismissed', '.', 'Sharif', 'had', 'planned', 'to', 're-introduce', 'executions', 'by', 'the', 'end', 'of', 'this', 'month', '.', 'Maroochydore', 'would', 'cap', 'off', 'the', 'win', 'right', 'on', 'full', 'time', 'with', 'an', 'unsuccessful', 'penalty', '.', 'Noosa', 'had', 'won', 'both', 'the', 'Reserve', 'grade', 'and', 'Under', '19s', 'Grand', 'Finals', 'against', 'Maleny', ',', '36', '--', '11', 'and', '22', '--', '5', 'respectively', '.', 'Noosa', 'would', 'reclaim', 'the', 'premiership', 'in', '2010', 'before', 'University', 'and', 'Caboolture', 'won', 'the', 'next', 'two', 'respectively', '.', 'Surgeons', 'had', 'corrected', 'where', 'she', 'had', 'torn', 'the', 'muscle', 'away', 'from', 'the', 'bone', '.', 'One', 'can', 'expect', 'that', ',', 'depending', 'on', 'the', 'mechanical', 'failure', 'property', 'of', 'the', 'sphere', ',', 'it', 'would', 'breakup', 'sooner', 'or', 'later', '.', 'Fremantle', 'will', 'play', 'the', 'Hawthorn', 'Hawks', 'in', 'their', 'first', 'Grand', 'Final', 'appearance', 'in', 'their', '19', 'year', 'history', '.', 'Solberg', 'will', 'replace', 'the', 'current', 'Labor', 'Party', 'Prime', 'Minister', 'Jens', 'Stoltenberg', '.', 'That', 'will', 'bear', 'down', 'on', 'our', 'debts', 'and', 'prepare', 'us', 'for', 'the', 'next', 'rainy', 'day', '.', 'This', 'might', 'cause', 'some', 'issues', 'in', 'US', '--', 'South', 'Korea', 'alliance', '.', 'History', 'will', 'remember', 'Nelson', 'Mandela', 'as', 'a', 'champion', 'for', 'human', 'dignity', 'and', 'freedom', ',', 'for', 'peace', 'and', 'reconciliation', '.', \"''\", 'Seismologists', 'can', 'use', 'the', 'arrival', 'times', 'of', 'seismic', 'waves', 'in', 'reverse', 'to', 'image', 'the', 'interior', 'of', 'the', 'Earth', '.', 'They', 'can', 'do', 'so', 'because', 'they', 'are', 'lipid-soluble', '.', 'Marx', \"'s\", 'view', 'of', 'history', ',', 'which', 'came', 'to', 'be', 'called', 'historical', 'materialism', '-LRB-', 'controversially', 'adapted', 'as', 'the', 'philosophy', 'of', 'dialectical', 'materialism', 'by', 'Engels', 'and', 'Lenin', '-RRB-', 'certainly', 'shows', 'the', 'influence', 'of', 'Hegel', \"'s\", 'claim', 'that', 'one', 'should', 'view', 'reality', '-LRB-', 'and', 'history', '-RRB-', 'dialectically', '.', 'One', 'might', 'modify', 'or', 'omit', 'rhyme', 'in', 'a', 'singing', 'translation', ',', 'but', 'the', 'assignment', 'of', 'syllables', 'to', 'specific', 'notes', 'in', 'the', 'original', 'musical', 'setting', 'places', 'great', 'challenges', 'on', 'the', 'translator', '.', 'Mammals', 'can', 'communicate', 'and', 'vocalize', 'in', 'several', 'different', 'ways', ',', 'including', 'the', 'production', 'of', 'ultrasound', ',', 'scent-marking', ',', 'alarm', 'signals', ',', 'singing', ',', 'and', 'echolocation', '.', 'Mammals', 'can', 'organize', 'themselves', 'into', 'fission-fusion', 'societies', ',', 'harems', ',', 'and', 'hierarchies', ',', 'but', 'can', 'also', 'be', 'solitary', 'and', 'territorial', '.', 'Humans', 'can', 'hear', 'sound', 'waves', 'with', 'frequencies', 'between', 'about', '20', 'Hz', 'and', '20', 'kHz', '.', 'This', 'can', 'include', 'pure', 'iron', ',', 'such', 'as', 'wrought', 'iron', ',', 'or', 'an', 'alloy', 'such', 'as', 'steel', '.', 'Transmission', 'can', 'occur', 'when', ':', 'body', 'fluids', 'are', 'exchanged', 'during', 'sexual', 'activity', ',', 'e.g.', ',', 'HIV', ';', 'blood', 'is', 'exchanged', 'by', 'contaminated', 'transfusion', 'or', 'needle', 'sharing', ',', 'e.g.', ',', 'hepatitis', 'C', ';', 'exchange', 'of', 'saliva', 'by', 'mouth', ',', 'e.g.', ',', 'Epstein', '--', 'Barr', 'virus', ';', 'contaminated', 'food', 'or', 'water', 'is', 'ingested', ',', 'e.g.', ',', 'norovirus', ';', 'aerosols', 'containing', 'virions', 'are', 'inhaled', ',', 'e.g.', ',', 'influenza', 'virus', ';', 'and', 'insect', 'vectors', 'such', 'as', 'mosquitoes', 'penetrate', 'the', 'skin', 'of', 'a', 'host', ',', 'e.g.', ',', 'dengue', '.', 'Fermi', 'will', 'search', 'for', 'evidence', 'that', 'dark', 'matter', 'is', 'composed', 'of', 'weakly', 'interacting', 'massive', 'particles', ',', 'complementing', 'similar', 'experiments', 'with', 'the', 'Large', 'Hadron', 'Collider', 'and', 'other', 'underground', 'detectors', '.', 'One', 'can', 'argue', 'Anton', 'Chekhov', 'is', 'the', 'second-most', 'popular', 'writer', 'on', 'the', 'planet', '.', 'Lenin', 'had', 'consolidated', 'the', 'principle', 'of', 'state', 'penetration', 'of', 'the', 'whole', 'society', ',', 'its', 'economy', 'and', 'its', 'culture', '.', 'Lenin', 'had', 'practised', 'terror', 'and', 'advocated', 'revolutionary', 'amoralism', '.', \"''\", 'People', 'can', 'buy', 'tickets', 'for', 'the', 'Metro', 'at', 'train', 'stations', 'and', 'can', 'either', 'buy', 'single', 'tickets', 'or', 'rechargeable', 'cards', '.', 'People', 'can', 'buy', 'tickets', 'for', 'the', 'Metro', 'at', 'train', 'stations', 'and', 'can', 'either', 'buy', 'single', 'tickets', 'or', 'rechargeable', 'cards', '.', 'Stekel', 'had', 'studied', 'medicine', 'at', 'the', 'University', 'of', 'Vienna', 'under', 'Richard', 'von', 'Krafft-Ebing', '.', 'Others', 'can', 'offload', 'part', 'of', 'their', 'cargo', 'onto', 'a', 'canal-owned', 'boat', 'to', 'reduce', 'their', 'draft', ',', 'transit', ',', 'and', 'reload', 'at', 'the', 'other', 'end', 'of', 'the', 'canal', '.', 'MTB', 'can', 'withstand', 'weak', 'disinfectants', 'and', 'survive', 'in', 'a', 'dry', 'state', 'for', 'weeks', '.', 'Copolymers', 'can', 'undergo', 'microphase', 'separation', 'to', 'form', 'a', 'diverse', 'array', 'of', 'periodic', 'nanostructures', ',', 'as', 'shown', 'in', 'the', 'example', 'of', 'the', 'styrene-butadiene-styrene', 'block', 'copolymer', 'shown', 'at', 'right', '.', 'This', 'can', 'cause', 'vitamin', 'deficiencies', 'due', 'to', 'the', 'improper', 'absorption', 'of', 'nutrients', 'in', 'the', 'small', 'intestine', '.', 'This', 'can', 'cause', 'mesenteric', 'ischemia', 'if', 'severe', 'enough', '.', 'Dogs', 'can', 'detect', 'odour', 'in', 'one', 'part', 'per', 'trillion', ',', 'as', 'their', 'brain', \"'s\", 'olfactory', 'cortex', 'is', '-LRB-', 'relative', 'to', 'total', 'brain', 'size', '-RRB-', '40', 'times', 'larger', 'than', 'humans', '.', 'Checkers', 'can', 'enter', 'on', 'unoccupied', 'points', ',', 'or', 'on', 'points', 'occupied', 'by', 'a', 'single', 'opposing', 'checker', ';', 'in', 'the', 'latter', 'case', ',', 'the', 'single', 'checker', 'is', 'hit', 'and', 'placed', 'on', 'the', 'bar', '.', 'Globalization', 'can', 'trigger', 'a', 'state', 'of', 'emergency', 'for', 'the', 'preservation', 'of', 'musical', 'heritage', '.', 'Globalization', 'can', 'lead', 'performers', 'to', 'discard', 'traditional', 'instruments', '.', 'This', 'will', 'include', 'chemical', 'compounds', 'such', 'as', 'acetic', 'or', 'lactic', 'acid', ',', 'which', 'are', 'not', 'normally', 'considered', 'carbohydrates', '.', 'Lasers', 'can', 'cause', 'blindness', 'in', 'cats', '.')\n",
            "('The', 'pressure', 'is', 'so', 'great', 'that', 'only', 'specially', 'adapted', 'creatures', 'can', 'live', 'there', '.', 'Although', 'the', 'gravity', 'pulls', 'the', 'land', ',', 'only', 'the', 'water', 'can', 'move', '.', 'A', 'painting', 'of', 'what', 'an', 'asteroid', 'a', 'few', 'kilometers', 'across', 'might', 'look', 'like', 'as', 'it', 'strikes', 'Earth', '.', 'Floods', 'usually', 'occur', 'when', 'precipitation', 'falls', 'more', 'quickly', 'than', 'water', 'can', 'be', 'absorbed', 'into', 'the', 'ground', 'or', 'carried', 'away', 'by', 'rivers', 'or', 'streams', '.', 'A', 'rise', 'of', '2.8', 'o', 'C', '-LRB-', '5o', 'F', '-RRB-', 'would', 'result', 'in', '0.6', 'o', 'to', '1.2', 'o', 'C', '-LRB-', '1o', 'to', '2o', 'F', '-RRB-', 'at', 'the', 'Equator', ',', 'but', 'up', 'to', '6.7', 'o', 'C', '-LRB-', '12o', 'F', '-RRB-', 'at', 'the', 'poles', '.', 'This', 'ice', 'can', 'melt', 'when', 'volcanoes', 'erupt', ',', 'and', 'water', 'can', 'flow', 'across', 'the', 'surface', '.', 'Under', 'conditions', 'when', 'there', 'is', 'no', 'oxygen', ',', 'some', 'bacteria', 'can', 'reduce', 'nitrates', 'to', 'molecular', 'nitrogen', '.', 'Since', 'CFCs', 'take', 'many', 'years', 'to', 'reach', 'the', 'stratosphere', 'and', 'can', 'survive', 'there', 'a', 'long', 'time', 'before', 'they', 'break', 'down', ',', 'the', 'ozone', 'hole', 'will', 'probably', 'continue', 'to', 'grow', 'for', 'some', 'time', 'before', 'it', 'begins', 'to', 'shrink', '.', 'When', 'scientists', 'understand', 'how', 'Earths', 'natural', 'systems', 'work', ',', 'they', 'can', 'recognize', 'how', 'people', 'are', 'impacting', 'them', '.', 'When', 'the', 'Sun', 'becomes', 'a', 'red', 'giant', ',', 'its', 'volume', 'will', 'include', 'the', 'orbit', 'of', 'Mercury', 'and', 'Venus', 'and', 'maybe', 'even', 'Earth', '.', 'Eating', 'a', 'diet', 'with', 'plenty', 'of', 'calcium', 'and', 'vitamin', 'D', 'can', 'help', 'keep', 'your', 'bones', 'strong', '.', 'She', 'must', 'avoid', 'toxic', 'substances', 'such', 'as', 'alcohol', ',', 'which', 'can', 'damage', 'the', 'developing', 'offspring', '.', 'There', 'is', 'no', 'cure', 'for', 'genital', 'herpes', ',', 'but', 'medicines', 'can', 'help', 'prevent', 'or', 'shorten', 'outbreaks', '.', 'By', 'then', ',', 'our', 'own', 'species', ',', 'Homo', 'sapiens', ',', 'had', 'evolved', '.', 'Like', 'all', 'organisms', ',', 'bacteria', 'need', 'energy', ',', 'and', 'they', 'can', 'acquire', 'this', 'energy', 'through', 'a', 'number', 'of', 'different', 'ways', '.', 'These', 'microbes', 'obviously', 'dont', 'kill', 'their', 'host', ',', 'as', 'that', 'would', 'kill', 'the', 'bacteria', 'as', 'well', '.', 'Atoms', 'are', 'so', 'small', 'that', 'only', 'the', 'most', 'powerful', 'microscopes', 'can', 'see', 'them', '.', 'They', 'can', 'vary', 'in', 'size', ',', 'from', 'small', 'stones', 'that', 'can', 'flow', 'through', 'your', 'urinary', 'system', ',', 'to', 'larger', 'stones', 'that', 'can', 'not', '.', 'Probably', 'not', ',', 'but', 'eating', 'apples', 'and', 'other', 'fresh', 'fruits', 'can', 'help', 'keep', 'you', 'healthy', '.', 'A', 'light', 'sensitive', 'pineal', 'eye', ',', 'an', 'eye-like', 'structure', 'that', 'can', 'detect', 'light', '.', 'Did', 'you', 'know', 'that', 'what', 'you', 'eat', 'as', 'a', 'teenager', 'can', 'affect', 'how', 'healthy', 'your', 'skeletal', 'system', 'will', 'be', 'in', '30', ',', '40', ',', 'and', 'even', '50', 'years', '?', 'If', 'not', 'washed', 'away', ',', 'the', 'mix', 'of', 'these', 'materials', 'can', 'encourage', 'the', 'excess', 'growth', 'of', 'bacteria', '.', 'Acne', 'Your', 'skin', 'has', 'tiny', 'holes', 'called', 'pores', 'that', 'that', 'can', 'become', 'blocked', 'by', 'oil', ',', 'bacteria', ',', 'dead', 'skin', 'and', 'dirt', '.', 'Not', 'only', 'will', 'you', 'avoid', 'the', 'injury', 'that', 'drugs', 'themselves', 'can', 'cause', ',', 'but', 'you', 'will', 'also', 'be', 'less', 'likely', 'to', 'get', 'involved', 'in', 'other', 'risky', 'behaviors', 'that', 'could', 'harm', 'your', 'nervous', 'system', '.', 'But', 'in', 'nature', ',', 'organisms', 'that', 'can', 'not', 'get', 'food', 'will', 'die', 'or', 'find', 'a', 'new', 'place', 'to', 'live', '.', 'If', 'you', 'do', 'not', 'get', 'enough', 'rest', ',', 'your', 'body', 'will', 'become', 'injured', 'and', 'will', 'not', 'react', 'well', 'to', 'exercise', ',', 'or', 'improve', '.', 'Only', 'cells', 'with', 'chloroplastsplant', 'cells', 'and', 'algal', '-LRB-', 'protist', '-RRB-', 'cellscan', 'perform', 'photosynthesis', '.', 'Precocial', 'organisms', ',', 'such', 'as', 'the', 'geese', 'shown', 'below', ',', 'can', 'take', 'care', 'of', 'themselves', 'at', 'birth', 'and', 'do', 'not', 'require', 'help', 'from', 'their', 'parents', '-LRB-', 'Figure', '1.1', '-RRB-', '.', 'Infection', 'by', 'bacteria', ',', 'viruses', ',', 'fungi', ',', 'or', 'parasites', 'can', 'cause', 'pneumonia', '.', 'There', 'is', 'no', 'cure', 'for', 'HIV', 'infection', ',', 'and', 'AIDS', 'can', 'cause', 'death', ',', 'although', 'AIDS', 'can', 'be', 'delayed', 'for', 'several', 'years', 'with', 'medication', '.', 'Natural', 'events', ',', 'like', 'storms', ',', 'volcanic', 'eruptions', 'and', 'earthquakes', 'can', 'cause', 'major', 'changes', 'in', 'water', 'quality', '.', 'Fortunately', ',', 'there', 'are', 'devices', 'such', 'as', 'Geiger', 'counters', 'that', 'can', 'detect', 'radiation', '.', 'If', 'an', 'atom', 'absorbs', 'energy', ',', 'some', 'of', 'its', 'electrons', 'can', 'jump', 'to', 'a', 'higher', 'energy', 'level', '.', 'The', 'number', 'of', 'valence', 'electrons', 'also', 'determines', 'whether', 'the', 'element', 'can', 'conduct', 'electric', 'current', '.', 'Acetylene', 'produces', 'so', 'much', 'heat', 'when', 'it', 'burns', 'that', 'it', 'can', 'melt', 'metal', '.', 'Carbon', 'is', 'a', 'very', 'common', 'ingredient', 'of', 'matter', 'because', 'it', 'can', 'combine', 'with', 'itself', 'and', 'with', 'many', 'other', 'elements', '.', 'Carbon', 'is', 'a', 'very', 'common', 'ingredient', 'of', 'matter', 'because', 'it', 'can', 'combine', 'with', 'itself', 'and', 'with', 'many', 'other', 'elements', '.', 'However', ',', 'the', 'material', 'can', 'be', 'magnetized', '-LRB-', 'made', 'into', 'a', 'magnet', '-RRB-', 'by', 'placing', 'it', 'in', 'a', 'magnetic', 'field', '.', 'Elements', 'that', 'readily', 'give', 'up', 'electrons', '-LRB-', 'the', 'metals', '-RRB-', 'can', 'carry', 'electric', 'current', 'because', 'their', 'electrons', 'can', 'flow', 'freely', '.', 'This', 'causes', 'images', 'to', 'be', 'focused', 'in', 'a', 'spot', 'that', 'would', 'fall', 'behind', 'the', 'retina', '-LRB-', 'if', 'light', 'could', 'pass', 'through', 'the', 'retina', '-RRB-', '.', 'On', 'balance', ',', 'we', 'believe', 'this', 'is', 'the', 'approach', 'that', 'will', 'deliver', 'the', 'greatest', 'benefits', 'to', 'the', 'most', 'vulnerable', 'people', '.', \"''\", 'I', 'suspect', 'that', 'the', 'thorough', 'application', 'of', 'modern', 'collection', 'methods', 'would', 'reveal', 'many', 'more', 'species', 'of', 'Arenivaga', 'across', 'Mexico', ',', 'and', 'many', 'more', 'species', 'of', 'Corydiidae', 'in', 'the', 'deserts', 'and', 'dry', 'places', 'of', 'the', 'rest', 'of', 'the', 'world', '.', \"''\", 'On', 'the', 'other', 'hand', 'Russia', 'has', 'declared', 'publicly', 'that', 'it', 'can', 'intervene', 'militarily', 'and', 'has', 'decided', 'that', 'the', 'US', 'will', 'not', '.', '``', 'The', 'ongoing', 'support', 'and', 'outpouring', 'of', 'love', 'for', 'Stephen', 'will', 'help', 'greatly', 'at', 'this', 'difficult', 'time', ',', 'in', 'the', 'same', 'way', 'as', 'it', 'helped', 'Stephen', 'throughout', 'his', 'journey', '.', 'Speaking', 'about', 'the', 'achievement', ',', 'Warwick', 'stated', ':', '``', 'Some', 'will', 'claim', 'that', 'the', 'Test', 'has', 'already', 'been', 'passed', '.', 'And', 'as', 'we', 'know', 'with', 'treating', 'symptoms', ',', 'the', 'problems', 'will', 'continue', 'until', 'the', 'root', 'cause', 'is', 'resolved', '.', \"''\", '``', 'I', 'would', 'say', 'that', 'in', 'government', 'formation', 'talks', 'we', 'would', 'focus', 'on', 'the', 'Finnish', 'economy', 'and', 'employment', '.', 'This', 'is', 'support', 'that', 'Iberocoop', 'gets', 'and', 'all', 'other', 'Wikimedians', 'can', 'get', '.', 'The', 'Senate', 'must', 'approve', 'amended', 'electoral', 'law', 'before', 'the', 'votes', 'can', 'occur', '.', 'French', 'President', 'François', 'Hollande', 'said', 'regarding', 'the', 'accident', '``', 'I', 'would', 'like', 'to', 'send', 'all', 'our', 'solidarity', 'to', 'the', 'family', 'of', 'the', 'victims', '-LSB-', '...', '-RSB-', 'It', \"'s\", 'a', 'new', 'air', 'tragedy', ';', 'we', 'must', 'know', 'all', 'the', 'causes', '.', 'Eight', 'or', 'ten', 'large-caliber', 'rifle', 'bullets', 'fired', 'at', 'close', 'range', 'can', 'inflict', 'massive', 'damage', ',', 'causing', 'instant', 'death', 'every', 'time', '.', \"''\", 'The', 'bulk', 'of', 'the', 'money', 'from', 'the', 'Sports', 'Direct', 'deal', 'will', 'go', 'to', 'pay', 'back', 'loans', 'made', 'by', 'Lloyds', 'Banking', 'Group', 'as', 'well', 'as', 'money', 'owned', 'to', 'the', 'sports', 'clothing', 'brand', 'Adidas', 'and', 'the', 'American', 'sports', 'retailer', 'Dick', \"'s\", 'Sporting', 'Goods', ',', 'who', 'had', 'previously', 'invested', '#', '20m', 'in', 'JJB', '.', 'He', 'noted', 'that', 'the', 'publication', 'of', 'the', 'Prince', \"'s\", 'correspondence', 'would', 'damage', 'his', 'preparation', 'for', 'kingship', 'by', 'damaging', 'the', 'public', 'perception', 'that', 'he', 'is', '``', 'party-political', 'neutral', \"''\", 'by', 'showing', 'the', 'Prince', 'disagreeing', 'with', 'the', 'policies', 'of', 'the', 'government', '.', 'And', 'that', 'is', \"n't\", 'to', 'say', 'that', 'government', 'student', 'loans', 'would', 'go', 'away', '.', 'The', 'auction', 'process', 'is', 'expected', 'to', 'take', 'several', 'weeks', 'and', 'will', 'take', 'place', 'online', '.', 'He', 'called', 'this', 'murder', 'case', 'one', 'which', '``', 'no', 'family', 'should', 'have', 'to', 'endure', \"''\", ',', 'additionally', 'commenting', 'of', 'the', 'convicted', ':', '``', 'The', 'cowards', 'who', 'robbed', 'our', 'Liam', 'of', 'his', 'life', 'and', 'his', 'future', 'should', 'never', 'be', 'able', 'to', 'see', 'the', 'outside', 'of', 'a', 'prison', 'ever', 'again', '.', \"''\", 'According', 'to', 'the', 'BBC', ',', 'it', 'was', 'thought', 'the', 'Prince', 'would', 'remain', 'in', 'hospital', 'for', 'two', 'weeks', '.', 'This', 'is', 'to', 'be', 'an', 'open', 'development', 'camp', 'any', 'player', 'can', 'attend', '.', 'Information', 'Minister', 'Pervaiz', 'Rasheed', 'on', 'Sunday', 'said', 'Sharif', 'and', 'Zardari', 'will', 'meet', 'when', 'the', 'President', 'returns', 'to', 'Pakistan', 'from', 'a', 'trip', ',', 'to', 'discuss', 'state', 'execution', 'in', 'Pakistan', '.', '``', 'We', \"'ll\", 'have', 'to', 'see', 'how', 'much', 'these', 'drones', 'can', 'help', ',', \"''\", 'German', 'emergency', 'services', 'union', 'representative', 'Marco', 'König', 'told', 'The', 'Local', '.', 'Conservative', 'minister', 'Greg', 'Clark', 'told', 'the', 'BBC', 'that', 'David', 'Cameron', 'should', 'reinstate', 'Mitchell', '.', 'This', 'difference', 'in', 'stress', 'regime', 'in', 'the', 'three', 'faulting', 'environments', 'can', 'contribute', 'to', 'differences', 'in', 'stress', 'drop', 'during', 'faulting', ',', 'which', 'contributes', 'to', 'differences', 'in', 'the', 'radiated', 'energy', ',', 'regardless', 'of', 'fault', 'dimensions', '.', 'Potentially', ',', 'an', 'angle', 'denoted', ',', 'say', ',', '∠', 'BAC', 'might', 'refer', 'to', 'any', 'of', 'four', 'angles', ':', 'the', 'clockwise', 'angle', 'from', 'B', 'to', 'C', ',', 'the', 'anticlockwise', 'angle', 'from', 'B', 'to', 'C', ',', 'the', 'clockwise', 'angle', 'from', 'C', 'to', 'B', ',', 'or', 'the', 'anticlockwise', 'angle', 'from', 'C', 'to', 'B', ',', 'where', 'the', 'direction', 'in', 'which', 'the', 'angle', 'is', 'measured', 'determines', 'its', 'sign', '-LRB-', 'see', 'Positive', 'and', 'negative', 'angles', '-RRB-', '.', 'Abram', 'and', 'Sarai', 'tried', 'to', 'make', 'sense', 'of', 'how', 'he', 'would', 'become', 'a', 'progenitor', 'of', 'nations', 'since', 'after', '10', 'years', 'of', 'living', 'in', 'Canaan', ',', 'no', 'child', 'had', 'been', 'born', '.', 'Bacteriophages', ',', 'also', 'known', 'simply', 'as', 'phages', ',', 'infect', 'and', 'can', 'kill', 'bacteria', 'and', 'affect', 'bacterial', 'growth', 'primarily', 'during', 'lytic', 'cycles', '.', 'To', 'land', 'safely', 'or', 'enter', 'a', 'stable', 'orbit', 'the', 'spacecraft', 'would', 'rely', 'entirely', 'on', 'rocket', 'motors', '.', 'Tensile', 'yield', 'strength', 'is', 'the', 'stress', 'at', 'which', 'the', 'bolt', 'will', 'yield', 'in', 'tension', 'across', 'the', 'entire', 'section', 'of', 'the', 'bolt', 'and', 'receive', 'a', 'permanent', 'set', '-LRB-', 'an', 'elongation', 'from', 'which', 'it', 'will', 'not', 'recover', 'when', 'the', 'force', 'is', 'removed', '-RRB-', 'of', '0.2', '%', 'offset', 'strain', '.', 'In', 'addition', 'the', '1948', 'Czechoslovak', 'coup', \"d'état\", 'by', 'the', 'Communists', 'had', 'overthrown', 'a', 'democratic', 'government', 'and', 'British', 'Foreign', 'Minister', 'Ernest', 'Bevin', 'reiterated', 'that', 'the', 'best', 'way', 'to', 'prevent', 'another', 'Czechoslovakia', 'was', 'to', 'evolve', 'a', 'joint', 'Western', 'military', 'strategy', '.', 'The', 'variety', 'undulatus', '-LRB-', 'having', 'a', 'wavy', 'undulating', 'base', '-RRB-', 'can', 'occur', 'with', 'any', 'clouds', 'of', 'the', 'species', 'stratiformis', 'or', 'lenticularis', ',', 'and', 'with', 'altostratus', '.', 'The', 'variety', 'undulatus', '-LRB-', 'having', 'a', 'wavy', 'undulating', 'base', '-RRB-', 'can', 'occur', 'with', 'any', 'clouds', 'of', 'the', 'species', 'stratiformis', 'or', 'lenticularis', ',', 'and', 'with', 'altostratus', '.', 'Ascetics', 'such', 'as', 'Hasan', 'al-Basri', 'would', 'inspire', 'a', 'movement', 'that', 'would', 'evolve', 'into', 'Tasawwuf', '-LRB-', 'Sufism', '-RRB-', '.', 'On', 'Christmas', 'Eve', '1968', ',', 'the', 'Americans', 'announced', 'that', 'Kurosawa', 'had', 'left', 'the', 'production', 'due', 'to', '``', 'fatigue', \"''\", ',', 'effectively', 'firing', 'him', '.')\n",
            "('Use', 'Vehicles', 'Resources', 'Rubber', 'for', 'tires', 'from', 'rubber', 'trees', 'Steel', 'frames', 'and', 'other', 'metal', 'parts', 'from', 'minerals', 'such', 'as', 'iron', 'Example', 'iron', 'ore', 'Use', 'Electronics', 'Resources', 'Plastic', 'cases', 'from', 'petroleum', 'prod', '-', 'ucts', 'Glass', 'screens', 'from', 'minerals', 'such', 'as', 'lead', 'Example', 'lead', 'ore', 'Homes', 'Nails', 'from', 'minerals', 'such', 'as', 'iron', 'Timber', 'from', 'trees', 'spruce', 'timber', 'Jewelry', 'Gemstones', 'such', 'as', 'diamonds', 'Minerals', 'such', 'as', 'silver', 'silver', 'ore', 'Food', 'Sunlight', ',', 'water', ',', 'and', 'soil', 'Minerals', 'such', 'as', 'phosphorus', 'corn', 'seeds', 'in', 'soil', 'Clothing', 'Wool', 'from', 'sheep', 'Cotton', 'from', 'cotton', 'plants', 'cotton', 'plants', 'Recreation', 'Water', 'for', 'boating', 'and', 'swimming', 'Forests', 'for', 'hiking', 'and', 'camping', 'pine', 'forest', 'Some', 'natural', 'resources', 'are', 'renewable', '.', 'Use', 'Vehicles', 'Resources', 'Rubber', 'for', 'tires', 'from', 'rubber', 'trees', 'Steel', 'frames', 'and', 'other', 'metal', 'parts', 'from', 'minerals', 'such', 'as', 'iron', 'Example', 'iron', 'ore', 'Use', 'Electronics', 'Resources', 'Plastic', 'cases', 'from', 'petroleum', 'prod', '-', 'ucts', 'Glass', 'screens', 'from', 'minerals', 'such', 'as', 'lead', 'Example', 'lead', 'ore', 'Homes', 'Nails', 'from', 'minerals', 'such', 'as', 'iron', 'Timber', 'from', 'trees', 'spruce', 'timber', 'Jewelry', 'Gemstones', 'such', 'as', 'diamonds', 'Minerals', 'such', 'as', 'silver', 'silver', 'ore', 'Food', 'Sunlight', ',', 'water', ',', 'and', 'soil', 'Minerals', 'such', 'as', 'phosphorus', 'corn', 'seeds', 'in', 'soil', 'Clothing', 'Wool', 'from', 'sheep', 'Cotton', 'from', 'cotton', 'plants', 'cotton', 'plants', 'Recreation', 'Water', 'for', 'boating', 'and', 'swimming', 'Forests', 'for', 'hiking', 'and', 'camping', 'pine', 'forest', 'Some', 'natural', 'resources', 'are', 'renewable', '.')\n",
            "('We', ',', 'writers', ',', 'painters', ',', 'sculptors', ',', 'architects', 'and', 'passionate', 'devotees', 'of', 'the', 'hitherto', 'untouched', 'beauty', 'of', 'Paris', ',', 'protest', 'with', 'all', 'our', 'strength', ',', 'with', 'all', 'our', 'indignation', 'in', 'the', 'name', 'of', 'slighted', 'French', 'taste', ',', 'against', 'the', 'erection', '...', 'of', 'this', 'useless', 'and', 'monstrous', 'Eiffel', 'Tower', '...', 'To', 'bring', 'our', 'arguments', 'home', ',', 'imagine', 'for', 'a', 'moment', 'a', 'giddy', ',', 'ridiculous', 'tower', 'dominating', 'Paris', 'like', 'a', 'gigantic', 'black', 'smokestack', ',', 'crushing', 'under', 'its', 'barbaric', 'bulk', 'Notre', 'Dame', ',', 'the', 'Tour', 'Saint-Jacques', ',', 'the', 'Louvre', ',', 'the', 'Dome', 'of', 'les', 'Invalides', ',', 'the', 'Arc', 'de', 'Triomphe', ',', 'all', 'of', 'our', 'humiliated', 'monuments', 'will', 'disappear', 'in', 'this', 'ghastly', 'dream', '.')\n",
            "('The', 'majority', 'of', 'vertebrates', 'have', ':', 'scales', ',', 'feathers', ',', 'fur', ',', 'or', 'hair', 'covering', 'their', 'skin', ';', 'muscles', 'attached', 'to', 'the', 'endoskeleton', 'to', 'allow', 'movement', ';', 'a', 'circulatory', 'system', 'with', 'a', 'heart', 'that', 'pumps', 'blood', 'through', 'a', 'closed', 'network', 'of', 'blood', 'vessels', ';', 'an', 'excretory', 'system', 'that', 'includes', 'a', 'pair', 'of', 'kidneys', 'for', 'filtering', 'wastes', 'out', 'of', 'the', 'blood', ';', 'a', 'central', 'nervous', 'system', 'with', 'a', 'brain', ',', 'spinal', 'cord', ',', 'and', 'nerve', 'fibers', 'throughout', 'the', 'body', ';', 'an', 'adaptive', 'immune', 'system', 'that', 'learns', 'to', 'recognize', 'specific', 'pathogens', 'and', 'launch', 'tailor-made', 'attacks', 'against', 'them', ';', 'and', 'an', 'endocrine', 'system', 'with', 'glands', 'that', 'secrete', 'chemical', 'messenger', 'molecules', 'called', 'hormones', '.')\n",
            "('Picture', 'Rock', 'Name', 'Slate', 'Type', 'of', 'Rock', 'Foliated', 'Metamorphic', 'Comments', 'Phyllite', 'Foliated', 'Metamorphism', 'of', 'slate', ',', 'but', 'under', 'greater', 'heat', 'and', 'pressure', 'than', 'slate', 'Schist', 'Foliated', 'Often', 'derived', 'from', 'meta', '-', 'morphism', 'of', 'claystone', 'or', 'shale', ';', 'metamorphosed', 'under', 'more', 'heat', 'and', 'pres', '-', 'sure', 'than', 'phyllite', 'Gneiss', 'Foliated', 'Metamorphism', 'of', 'various', 'different', 'rocks', ',', 'under', 'ex', '-', 'treme', 'conditions', 'of', 'heat', 'and', 'pressure', 'Hornfels', 'Non-foliated', 'Contact', 'metamorphism', 'of', 'various', 'different', 'rock', 'types', 'Metamorphism', 'of', 'shale', 'Picture', 'Rock', 'Name', 'Comments', 'Quartzite', 'Type', 'of', 'Metamorphic', 'Rock', 'Non-foliated', 'Marble', 'Non-foliated', 'Metamorphism', 'of', 'lime', '-', 'stone', 'Metaconglomerate', 'Non-foliated', 'Metamorphism', 'of', 'con', '-', 'glomerate', 'Metamorphism', 'of', 'quartz', 'sandstone', 'Click', 'image', 'to', 'the', 'left', 'or', 'use', 'the', 'URL', 'below', '.', 'The', 'pre-history', 'of', 'the', 'Ancient', 'Near', 'East', 'begins', 'in', 'the', 'Lower', 'Paleolithic', 'period', ',', 'but', 'writing', 'began', 'with', 'a', 'pictographic', 'script', 'in', 'the', 'Uruk', 'IV', 'period', '-LRB-', 'ca.', '4th', 'millennium', 'BC', '-RRB-', ',', 'and', 'the', 'documented', 'record', 'of', 'actual', 'historical', 'events', '--', 'and', 'the', 'ancient', 'history', 'of', 'lower', 'Mesopotamia', '--', 'commence', 'in', 'the', 'mid-third', 'millennium', 'BC', 'with', 'cuneiform', 'records', 'of', 'early', 'dynastic', 'kings', ',', 'and', 'ends', 'with', 'either', 'the', 'arrival', 'of', 'the', 'Achaemenid', 'Empire', 'in', 'the', 'late', '6th', 'century', 'BC', ',', 'or', 'with', 'the', 'Muslim', 'conquest', 'and', 'the', 'establishment', 'of', 'the', 'Caliphate', 'in', 'the', 'late', '7th', 'century', 'AD', ',', 'from', 'which', 'point', 'the', 'region', 'came', 'to', 'be', 'known', 'as', 'Iraq', '.')\n",
            "('We', ',', 'writers', ',', 'painters', ',', 'sculptors', ',', 'architects', 'and', 'passionate', 'devotees', 'of', 'the', 'hitherto', 'untouched', 'beauty', 'of', 'Paris', ',', 'protest', 'with', 'all', 'our', 'strength', ',', 'with', 'all', 'our', 'indignation', 'in', 'the', 'name', 'of', 'slighted', 'French', 'taste', ',', 'against', 'the', 'erection', '...', 'of', 'this', 'useless', 'and', 'monstrous', 'Eiffel', 'Tower', '...', 'To', 'bring', 'our', 'arguments', 'home', ',', 'imagine', 'for', 'a', 'moment', 'a', 'giddy', ',', 'ridiculous', 'tower', 'dominating', 'Paris', 'like', 'a', 'gigantic', 'black', 'smokestack', ',', 'crushing', 'under', 'its', 'barbaric', 'bulk', 'Notre', 'Dame', ',', 'the', 'Tour', 'Saint-Jacques', ',', 'the', 'Louvre', ',', 'the', 'Dome', 'of', 'les', 'Invalides', ',', 'the', 'Arc', 'de', 'Triomphe', ',', 'all', 'of', 'our', 'humiliated', 'monuments', 'will', 'disappear', 'in', 'this', 'ghastly', 'dream', '.')\n",
            "('There', 'are', 'many', 'references', ',', 'properties', 'and', 'explanations', 'of', 'truth', 'by', 'Hindu', 'sages', 'that', 'explain', 'varied', 'facets', 'of', 'truth', ',', 'such', 'as', 'the', 'national', 'motto', 'of', 'India', ':', '``', 'Satyameva', 'jayate', \"''\", '-LRB-', 'Truth', 'alone', 'wins', '-RRB-', ',', 'as', 'well', 'as', '``', 'Satyam', 'muktaye', \"''\", '-LRB-', 'Truth', 'liberates', '-RRB-', ',', '``', 'Satya', \"'\", 'is', '`', 'Parahit', '`', 'artham', \"'\", \"va'unmanaso\", 'yatha', '`', 'rthatvam', \"'\", 'satyam', \"''\", '-LRB-', 'Satya', 'is', 'the', 'benevolent', 'use', 'of', 'words', 'and', 'the', 'mind', 'for', 'the', 'welfare', 'of', 'others', 'or', 'in', 'other', 'words', 'responsibilities', 'is', 'truth', 'too', '-RRB-', ',', '``', 'When', 'one', 'is', 'firmly', 'established', 'in', 'speaking', 'truth', ',', 'the', 'fruits', 'of', 'action', 'become', 'subservient', 'to', 'him', '-LRB-', 'patanjali', 'yogasutras', ',', 'sutra', 'number', '2.36', '-RRB-', ',', '``', 'The', 'face', 'of', 'truth', 'is', 'covered', 'by', 'a', 'golden', 'bowl', '.')\n"
          ]
        }
      ]
    },
    {
      "cell_type": "code",
      "source": [],
      "metadata": {
        "id": "v7DfGqVexR7m"
      },
      "execution_count": null,
      "outputs": []
    },
    {
      "cell_type": "markdown",
      "source": [
        "# BERT from Adam Kovacs\n"
      ],
      "metadata": {
        "id": "ZD_WKxlK70X-"
      }
    },
    {
      "cell_type": "markdown",
      "source": [
        "## Import packages"
      ],
      "metadata": {
        "id": "hyf0ZD81UFfa"
      }
    },
    {
      "cell_type": "code",
      "source": [
        "%%capture\n",
        "!pip install transformers"
      ],
      "metadata": {
        "id": "a_u3BtCPUi3R"
      },
      "execution_count": null,
      "outputs": []
    },
    {
      "cell_type": "code",
      "source": [
        "from transformers import BertTokenizer\n",
        "from transformers import BertForSequenceClassification# We only want to finetune the classification layer on top of BERT\n",
        "import pandas as pd\n",
        "\n",
        "from torch.nn.utils.rnn import pad_sequence\n",
        "from sklearn.model_selection import train_test_split\n",
        "\n",
        "import torch\n",
        "from torch import nn\n",
        "import numpy as np\n",
        "\n",
        "\n",
        "SEED = 1234\n",
        "torch.manual_seed(SEED)\n",
        "torch.backends.cudnn.deterministic = True"
      ],
      "metadata": {
        "id": "4NzjJn-nTQ9Z"
      },
      "execution_count": null,
      "outputs": []
    },
    {
      "cell_type": "markdown",
      "source": [
        "## Donwload and transform data"
      ],
      "metadata": {
        "id": "ohHFE6QYUJdV"
      }
    },
    {
      "cell_type": "markdown",
      "source": [
        "### Data transformation functions"
      ],
      "metadata": {
        "id": "8Td5khabZBhJ"
      }
    },
    {
      "cell_type": "code",
      "source": [
        "def read_dataset():\n",
        "    train_data = pd.read_csv(\"./data/offenseval.tsv\", sep=\"\\t\")\n",
        "    return train_data"
      ],
      "metadata": {
        "id": "tWWCvXMy73Bv"
      },
      "execution_count": null,
      "outputs": []
    },
    {
      "cell_type": "code",
      "source": [
        "def add_binary_label(train_data):\n",
        "    labels = {\"NOT\": 0, \"OFF\": 1}\n",
        "\n",
        "    train_data[\"label\"] = [labels[item] for item in train_data.subtask_a]\n",
        "    train_data[\"tweet\"] = train_data[\"tweet\"].str.replace(\"@USER\", \"\")\n",
        "\n",
        "    return train_data"
      ],
      "metadata": {
        "id": "Z_DloqvuTQ16"
      },
      "execution_count": null,
      "outputs": []
    },
    {
      "cell_type": "code",
      "source": [
        "def split_data(train_data, random_seed):\n",
        "    tr_data, val_data = train_test_split(train_data, test_size=0.3, random_state=SEED)\n",
        "    return tr_data, val_data"
      ],
      "metadata": {
        "id": "0sOLZdy_Wx3P"
      },
      "execution_count": null,
      "outputs": []
    },
    {
      "cell_type": "markdown",
      "source": [
        "### Unknown functions:P"
      ],
      "metadata": {
        "id": "-zQG912lZhLh"
      }
    },
    {
      "cell_type": "code",
      "source": [
        "def prepare_dataloader_with_padding(tr_data, val_data, word_to_ix):\n",
        "    # First create the id representations of the input vectors\n",
        "    # Then pad the sequences so all of the input is the same size\n",
        "    # We padded texts for the whole dataset, this could have been done batch-wise also!\n",
        "    tr_data_vecs = pad_sequence(\n",
        "        create_input(tr_data.tweet, an, word_to_ix.vocabulary_),\n",
        "        batch_first=True,\n",
        "        padding_value=3001,\n",
        "    )\n",
        "    tr_labels = torch.LongTensor(tr_data.label.tolist()).to(device)\n",
        "    tr_lens = torch.LongTensor(\n",
        "        [len(i) for i in create_input(tr_data.tweet, an, word_to_ix.vocabulary_)]\n",
        "    )\n",
        "\n",
        "    # We also add the texts to the batches\n",
        "    # This is for the Transformer models, you wont need this in the next experiments\n",
        "    tr_sents = tr_data.tweet.tolist()\n",
        "\n",
        "    val_data_vecs = pad_sequence(\n",
        "        create_input(val_data.tweet, an, word_to_ix.vocabulary_),\n",
        "        batch_first=True,\n",
        "        padding_value=3001,\n",
        "    )\n",
        "    val_labels = torch.LongTensor(val_data.label.tolist()).to(device)\n",
        "    val_lens = torch.LongTensor(\n",
        "        [len(i) for i in create_input(val_data.tweet, an, word_to_ix.vocabulary_)]\n",
        "    )\n",
        "\n",
        "    val_sents = val_data.tweet.tolist()\n",
        "\n",
        "    tr_data_loader = [\n",
        "        (sample, label, length, sent)\n",
        "        for sample, label, length, sent in zip(\n",
        "            tr_data_vecs, tr_labels, tr_lens, tr_sents\n",
        "        )\n",
        "    ]\n",
        "    val_data_loader = [\n",
        "        (sample, label, length, sent)\n",
        "        for sample, label, length, sent in zip(\n",
        "            val_data_vecs, val_labels, val_lens, val_sents\n",
        "        )\n",
        "    ]\n",
        "\n",
        "    return tr_data_loader, val_data_loader"
      ],
      "metadata": {
        "id": "UxlztofJWHiz"
      },
      "execution_count": null,
      "outputs": []
    },
    {
      "cell_type": "code",
      "source": [
        "def create_input(dataset, analyzer, vocabulary):\n",
        "    dataset_as_indices = []\n",
        "\n",
        "    # We go through each tweet in the dataset\n",
        "    # We need to add two additional symbols to the vocabulary\n",
        "    # We have 3000 features, ranged 0-2999\n",
        "    # We add 3000 as an id for the \"unknown\" words not among the features\n",
        "    # 3001 will be the symbol for padding, but about this later!\n",
        "    for tweet in dataset:\n",
        "        tokens = analyzer(tweet)\n",
        "        token_ids = []\n",
        "\n",
        "        for token in tokens:\n",
        "            # if the token is in the vocab, we add the id\n",
        "            if token in vocabulary:\n",
        "                token_ids.append(vocabulary[token])\n",
        "            # else we add the id of the unknown token\n",
        "            else:\n",
        "                token_ids.append(3000)\n",
        "\n",
        "        # if we removed every token during preprocessing (stopword removal, lemmatization), we add the unknown token to the list so it won't be empty\n",
        "        if not token_ids:\n",
        "            token_ids.append(3000)\n",
        "        dataset_as_indices.append(torch.LongTensor(token_ids).to(device))\n",
        "\n",
        "    return dataset_as_indices"
      ],
      "metadata": {
        "id": "93AmAySGYm4u"
      },
      "execution_count": null,
      "outputs": []
    },
    {
      "cell_type": "markdown",
      "source": [
        "### Download and transform data"
      ],
      "metadata": {
        "id": "aSdrbG27ZImt"
      }
    },
    {
      "cell_type": "code",
      "source": [
        "import os\n",
        "\n",
        "if not os.path.isdir(\"./data\"):\n",
        "    os.mkdir(\"./data\")\n",
        "\n",
        "import urllib.request\n",
        "\n",
        "u = urllib.request.URLopener()\n",
        "u.retrieve(\n",
        "    \"https://raw.githubusercontent.com/ZeyadZanaty/offenseval/master/datasets/training-v1/offenseval-training-v1.tsv\",\n",
        "    \"data/offenseval.tsv\",\n",
        ")"
      ],
      "metadata": {
        "colab": {
          "base_uri": "https://localhost:8080/"
        },
        "id": "QwsOh8kaV3qp",
        "outputId": "ecc2f4f5-96ba-4b8f-e33b-8dc3c6776b8e"
      },
      "execution_count": null,
      "outputs": [
        {
          "output_type": "execute_result",
          "data": {
            "text/plain": [
              "('data/offenseval.tsv', <http.client.HTTPMessage at 0x7fd07d76f460>)"
            ]
          },
          "metadata": {},
          "execution_count": 14
        }
      ]
    },
    {
      "cell_type": "code",
      "source": [
        "train_data_unprocessed = read_dataset()\n",
        "train_data_unprocessed"
      ],
      "metadata": {
        "id": "rD3W3AKh73k6",
        "colab": {
          "base_uri": "https://localhost:8080/",
          "height": 424
        },
        "outputId": "56502b51-714f-4f1c-f21f-8e9982933e37"
      },
      "execution_count": null,
      "outputs": [
        {
          "output_type": "execute_result",
          "data": {
            "text/plain": [
              "          id                                              tweet subtask_a  \\\n",
              "0      86426  @USER She should ask a few native Americans wh...       OFF   \n",
              "1      90194  @USER @USER Go home you’re drunk!!! @USER #MAG...       OFF   \n",
              "2      16820  Amazon is investigating Chinese employees who ...       NOT   \n",
              "3      62688  @USER Someone should'veTaken\" this piece of sh...       OFF   \n",
              "4      43605  @USER @USER Obama wanted liberals &amp; illega...       NOT   \n",
              "...      ...                                                ...       ...   \n",
              "13235  95338  @USER Sometimes I get strong vibes from people...       OFF   \n",
              "13236  67210  Benidorm ✅  Creamfields ✅  Maga ✅   Not too sh...       NOT   \n",
              "13237  82921  @USER And why report this garbage.  We don't g...       OFF   \n",
              "13238  27429                                        @USER Pussy       OFF   \n",
              "13239  46552  #Spanishrevenge vs. #justice #HumanRights and ...       NOT   \n",
              "\n",
              "      subtask_b subtask_c  \n",
              "0           UNT       NaN  \n",
              "1           TIN       IND  \n",
              "2           NaN       NaN  \n",
              "3           UNT       NaN  \n",
              "4           NaN       NaN  \n",
              "...         ...       ...  \n",
              "13235       TIN       IND  \n",
              "13236       NaN       NaN  \n",
              "13237       TIN       OTH  \n",
              "13238       UNT       NaN  \n",
              "13239       NaN       NaN  \n",
              "\n",
              "[13240 rows x 5 columns]"
            ],
            "text/html": [
              "\n",
              "  <div id=\"df-2f4f19d1-ac73-42db-bbba-32e07c6a0fe4\">\n",
              "    <div class=\"colab-df-container\">\n",
              "      <div>\n",
              "<style scoped>\n",
              "    .dataframe tbody tr th:only-of-type {\n",
              "        vertical-align: middle;\n",
              "    }\n",
              "\n",
              "    .dataframe tbody tr th {\n",
              "        vertical-align: top;\n",
              "    }\n",
              "\n",
              "    .dataframe thead th {\n",
              "        text-align: right;\n",
              "    }\n",
              "</style>\n",
              "<table border=\"1\" class=\"dataframe\">\n",
              "  <thead>\n",
              "    <tr style=\"text-align: right;\">\n",
              "      <th></th>\n",
              "      <th>id</th>\n",
              "      <th>tweet</th>\n",
              "      <th>subtask_a</th>\n",
              "      <th>subtask_b</th>\n",
              "      <th>subtask_c</th>\n",
              "    </tr>\n",
              "  </thead>\n",
              "  <tbody>\n",
              "    <tr>\n",
              "      <th>0</th>\n",
              "      <td>86426</td>\n",
              "      <td>@USER She should ask a few native Americans wh...</td>\n",
              "      <td>OFF</td>\n",
              "      <td>UNT</td>\n",
              "      <td>NaN</td>\n",
              "    </tr>\n",
              "    <tr>\n",
              "      <th>1</th>\n",
              "      <td>90194</td>\n",
              "      <td>@USER @USER Go home you’re drunk!!! @USER #MAG...</td>\n",
              "      <td>OFF</td>\n",
              "      <td>TIN</td>\n",
              "      <td>IND</td>\n",
              "    </tr>\n",
              "    <tr>\n",
              "      <th>2</th>\n",
              "      <td>16820</td>\n",
              "      <td>Amazon is investigating Chinese employees who ...</td>\n",
              "      <td>NOT</td>\n",
              "      <td>NaN</td>\n",
              "      <td>NaN</td>\n",
              "    </tr>\n",
              "    <tr>\n",
              "      <th>3</th>\n",
              "      <td>62688</td>\n",
              "      <td>@USER Someone should'veTaken\" this piece of sh...</td>\n",
              "      <td>OFF</td>\n",
              "      <td>UNT</td>\n",
              "      <td>NaN</td>\n",
              "    </tr>\n",
              "    <tr>\n",
              "      <th>4</th>\n",
              "      <td>43605</td>\n",
              "      <td>@USER @USER Obama wanted liberals &amp;amp; illega...</td>\n",
              "      <td>NOT</td>\n",
              "      <td>NaN</td>\n",
              "      <td>NaN</td>\n",
              "    </tr>\n",
              "    <tr>\n",
              "      <th>...</th>\n",
              "      <td>...</td>\n",
              "      <td>...</td>\n",
              "      <td>...</td>\n",
              "      <td>...</td>\n",
              "      <td>...</td>\n",
              "    </tr>\n",
              "    <tr>\n",
              "      <th>13235</th>\n",
              "      <td>95338</td>\n",
              "      <td>@USER Sometimes I get strong vibes from people...</td>\n",
              "      <td>OFF</td>\n",
              "      <td>TIN</td>\n",
              "      <td>IND</td>\n",
              "    </tr>\n",
              "    <tr>\n",
              "      <th>13236</th>\n",
              "      <td>67210</td>\n",
              "      <td>Benidorm ✅  Creamfields ✅  Maga ✅   Not too sh...</td>\n",
              "      <td>NOT</td>\n",
              "      <td>NaN</td>\n",
              "      <td>NaN</td>\n",
              "    </tr>\n",
              "    <tr>\n",
              "      <th>13237</th>\n",
              "      <td>82921</td>\n",
              "      <td>@USER And why report this garbage.  We don't g...</td>\n",
              "      <td>OFF</td>\n",
              "      <td>TIN</td>\n",
              "      <td>OTH</td>\n",
              "    </tr>\n",
              "    <tr>\n",
              "      <th>13238</th>\n",
              "      <td>27429</td>\n",
              "      <td>@USER Pussy</td>\n",
              "      <td>OFF</td>\n",
              "      <td>UNT</td>\n",
              "      <td>NaN</td>\n",
              "    </tr>\n",
              "    <tr>\n",
              "      <th>13239</th>\n",
              "      <td>46552</td>\n",
              "      <td>#Spanishrevenge vs. #justice #HumanRights and ...</td>\n",
              "      <td>NOT</td>\n",
              "      <td>NaN</td>\n",
              "      <td>NaN</td>\n",
              "    </tr>\n",
              "  </tbody>\n",
              "</table>\n",
              "<p>13240 rows × 5 columns</p>\n",
              "</div>\n",
              "      <button class=\"colab-df-convert\" onclick=\"convertToInteractive('df-2f4f19d1-ac73-42db-bbba-32e07c6a0fe4')\"\n",
              "              title=\"Convert this dataframe to an interactive table.\"\n",
              "              style=\"display:none;\">\n",
              "        \n",
              "  <svg xmlns=\"http://www.w3.org/2000/svg\" height=\"24px\"viewBox=\"0 0 24 24\"\n",
              "       width=\"24px\">\n",
              "    <path d=\"M0 0h24v24H0V0z\" fill=\"none\"/>\n",
              "    <path d=\"M18.56 5.44l.94 2.06.94-2.06 2.06-.94-2.06-.94-.94-2.06-.94 2.06-2.06.94zm-11 1L8.5 8.5l.94-2.06 2.06-.94-2.06-.94L8.5 2.5l-.94 2.06-2.06.94zm10 10l.94 2.06.94-2.06 2.06-.94-2.06-.94-.94-2.06-.94 2.06-2.06.94z\"/><path d=\"M17.41 7.96l-1.37-1.37c-.4-.4-.92-.59-1.43-.59-.52 0-1.04.2-1.43.59L10.3 9.45l-7.72 7.72c-.78.78-.78 2.05 0 2.83L4 21.41c.39.39.9.59 1.41.59.51 0 1.02-.2 1.41-.59l7.78-7.78 2.81-2.81c.8-.78.8-2.07 0-2.86zM5.41 20L4 18.59l7.72-7.72 1.47 1.35L5.41 20z\"/>\n",
              "  </svg>\n",
              "      </button>\n",
              "      \n",
              "  <style>\n",
              "    .colab-df-container {\n",
              "      display:flex;\n",
              "      flex-wrap:wrap;\n",
              "      gap: 12px;\n",
              "    }\n",
              "\n",
              "    .colab-df-convert {\n",
              "      background-color: #E8F0FE;\n",
              "      border: none;\n",
              "      border-radius: 50%;\n",
              "      cursor: pointer;\n",
              "      display: none;\n",
              "      fill: #1967D2;\n",
              "      height: 32px;\n",
              "      padding: 0 0 0 0;\n",
              "      width: 32px;\n",
              "    }\n",
              "\n",
              "    .colab-df-convert:hover {\n",
              "      background-color: #E2EBFA;\n",
              "      box-shadow: 0px 1px 2px rgba(60, 64, 67, 0.3), 0px 1px 3px 1px rgba(60, 64, 67, 0.15);\n",
              "      fill: #174EA6;\n",
              "    }\n",
              "\n",
              "    [theme=dark] .colab-df-convert {\n",
              "      background-color: #3B4455;\n",
              "      fill: #D2E3FC;\n",
              "    }\n",
              "\n",
              "    [theme=dark] .colab-df-convert:hover {\n",
              "      background-color: #434B5C;\n",
              "      box-shadow: 0px 1px 3px 1px rgba(0, 0, 0, 0.15);\n",
              "      filter: drop-shadow(0px 1px 2px rgba(0, 0, 0, 0.3));\n",
              "      fill: #FFFFFF;\n",
              "    }\n",
              "  </style>\n",
              "\n",
              "      <script>\n",
              "        const buttonEl =\n",
              "          document.querySelector('#df-2f4f19d1-ac73-42db-bbba-32e07c6a0fe4 button.colab-df-convert');\n",
              "        buttonEl.style.display =\n",
              "          google.colab.kernel.accessAllowed ? 'block' : 'none';\n",
              "\n",
              "        async function convertToInteractive(key) {\n",
              "          const element = document.querySelector('#df-2f4f19d1-ac73-42db-bbba-32e07c6a0fe4');\n",
              "          const dataTable =\n",
              "            await google.colab.kernel.invokeFunction('convertToInteractive',\n",
              "                                                     [key], {});\n",
              "          if (!dataTable) return;\n",
              "\n",
              "          const docLinkHtml = 'Like what you see? Visit the ' +\n",
              "            '<a target=\"_blank\" href=https://colab.research.google.com/notebooks/data_table.ipynb>data table notebook</a>'\n",
              "            + ' to learn more about interactive tables.';\n",
              "          element.innerHTML = '';\n",
              "          dataTable['output_type'] = 'display_data';\n",
              "          await google.colab.output.renderOutput(dataTable, element);\n",
              "          const docLink = document.createElement('div');\n",
              "          docLink.innerHTML = docLinkHtml;\n",
              "          element.appendChild(docLink);\n",
              "        }\n",
              "      </script>\n",
              "    </div>\n",
              "  </div>\n",
              "  "
            ]
          },
          "metadata": {},
          "execution_count": 17
        }
      ]
    },
    {
      "cell_type": "code",
      "source": [
        "train_data = add_binary_label(train_data_unprocessed)"
      ],
      "metadata": {
        "id": "_OuGEDOwXt0D"
      },
      "execution_count": null,
      "outputs": []
    },
    {
      "cell_type": "code",
      "source": [
        "tr_data, val_data = split_data(train_data, SEED)"
      ],
      "metadata": {
        "id": "R6yynQZIWyj0"
      },
      "execution_count": null,
      "outputs": []
    },
    {
      "cell_type": "code",
      "source": [
        "# We add the length of the tweets so sentences with similar lengths will be next to each other\n",
        "# This can be important because of padding\n",
        "tr_data[\"length\"] = tr_data.tweet.str.len()\n",
        "val_data[\"length\"] = val_data.tweet.str.len()\n",
        "\n",
        "tr_data = tr_data.sort_values(by=\"length\")\n",
        "val_data = val_data.sort_values(by=\"length\")"
      ],
      "metadata": {
        "colab": {
          "base_uri": "https://localhost:8080/",
          "height": 336
        },
        "id": "pry6A74eWmn9",
        "outputId": "818e4cc8-0ddf-4526-e793-e7db281a3612"
      },
      "execution_count": null,
      "outputs": [
        {
          "output_type": "error",
          "ename": "KeyError",
          "evalue": "ignored",
          "traceback": [
            "\u001b[0;31m---------------------------------------------------------------------------\u001b[0m",
            "\u001b[0;31mKeyError\u001b[0m                                  Traceback (most recent call last)",
            "\u001b[0;32m<ipython-input-24-8808b128079a>\u001b[0m in \u001b[0;36m<cell line: 1>\u001b[0;34m()\u001b[0m\n\u001b[0;32m----> 1\u001b[0;31m \u001b[0mtr_data\u001b[0m \u001b[0;34m=\u001b[0m \u001b[0mtr_data\u001b[0m\u001b[0;34m.\u001b[0m\u001b[0msort_values\u001b[0m\u001b[0;34m(\u001b[0m\u001b[0mby\u001b[0m\u001b[0;34m=\u001b[0m\u001b[0;34m\"length\"\u001b[0m\u001b[0;34m)\u001b[0m\u001b[0;34m\u001b[0m\u001b[0;34m\u001b[0m\u001b[0m\n\u001b[0m\u001b[1;32m      2\u001b[0m \u001b[0mval_data\u001b[0m \u001b[0;34m=\u001b[0m \u001b[0mval_data\u001b[0m\u001b[0;34m.\u001b[0m\u001b[0msort_values\u001b[0m\u001b[0;34m(\u001b[0m\u001b[0mby\u001b[0m\u001b[0;34m=\u001b[0m\u001b[0;34m\"length\"\u001b[0m\u001b[0;34m)\u001b[0m\u001b[0;34m\u001b[0m\u001b[0;34m\u001b[0m\u001b[0m\n",
            "\u001b[0;32m/usr/local/lib/python3.10/dist-packages/pandas/util/_decorators.py\u001b[0m in \u001b[0;36mwrapper\u001b[0;34m(*args, **kwargs)\u001b[0m\n\u001b[1;32m    329\u001b[0m                     \u001b[0mstacklevel\u001b[0m\u001b[0;34m=\u001b[0m\u001b[0mfind_stack_level\u001b[0m\u001b[0;34m(\u001b[0m\u001b[0;34m)\u001b[0m\u001b[0;34m,\u001b[0m\u001b[0;34m\u001b[0m\u001b[0;34m\u001b[0m\u001b[0m\n\u001b[1;32m    330\u001b[0m                 )\n\u001b[0;32m--> 331\u001b[0;31m             \u001b[0;32mreturn\u001b[0m \u001b[0mfunc\u001b[0m\u001b[0;34m(\u001b[0m\u001b[0;34m*\u001b[0m\u001b[0margs\u001b[0m\u001b[0;34m,\u001b[0m \u001b[0;34m**\u001b[0m\u001b[0mkwargs\u001b[0m\u001b[0;34m)\u001b[0m\u001b[0;34m\u001b[0m\u001b[0;34m\u001b[0m\u001b[0m\n\u001b[0m\u001b[1;32m    332\u001b[0m \u001b[0;34m\u001b[0m\u001b[0m\n\u001b[1;32m    333\u001b[0m         \u001b[0;31m# error: \"Callable[[VarArg(Any), KwArg(Any)], Any]\" has no\u001b[0m\u001b[0;34m\u001b[0m\u001b[0;34m\u001b[0m\u001b[0m\n",
            "\u001b[0;32m/usr/local/lib/python3.10/dist-packages/pandas/core/frame.py\u001b[0m in \u001b[0;36msort_values\u001b[0;34m(self, by, axis, ascending, inplace, kind, na_position, ignore_index, key)\u001b[0m\n\u001b[1;32m   6910\u001b[0m \u001b[0;34m\u001b[0m\u001b[0m\n\u001b[1;32m   6911\u001b[0m             \u001b[0mby\u001b[0m \u001b[0;34m=\u001b[0m \u001b[0mby\u001b[0m\u001b[0;34m[\u001b[0m\u001b[0;36m0\u001b[0m\u001b[0;34m]\u001b[0m\u001b[0;34m\u001b[0m\u001b[0;34m\u001b[0m\u001b[0m\n\u001b[0;32m-> 6912\u001b[0;31m             \u001b[0mk\u001b[0m \u001b[0;34m=\u001b[0m \u001b[0mself\u001b[0m\u001b[0;34m.\u001b[0m\u001b[0m_get_label_or_level_values\u001b[0m\u001b[0;34m(\u001b[0m\u001b[0mby\u001b[0m\u001b[0;34m,\u001b[0m \u001b[0maxis\u001b[0m\u001b[0;34m=\u001b[0m\u001b[0maxis\u001b[0m\u001b[0;34m)\u001b[0m\u001b[0;34m\u001b[0m\u001b[0;34m\u001b[0m\u001b[0m\n\u001b[0m\u001b[1;32m   6913\u001b[0m \u001b[0;34m\u001b[0m\u001b[0m\n\u001b[1;32m   6914\u001b[0m             \u001b[0;31m# need to rewrap column in Series to apply key function\u001b[0m\u001b[0;34m\u001b[0m\u001b[0;34m\u001b[0m\u001b[0m\n",
            "\u001b[0;32m/usr/local/lib/python3.10/dist-packages/pandas/core/generic.py\u001b[0m in \u001b[0;36m_get_label_or_level_values\u001b[0;34m(self, key, axis)\u001b[0m\n\u001b[1;32m   1848\u001b[0m             )\n\u001b[1;32m   1849\u001b[0m         \u001b[0;32melse\u001b[0m\u001b[0;34m:\u001b[0m\u001b[0;34m\u001b[0m\u001b[0;34m\u001b[0m\u001b[0m\n\u001b[0;32m-> 1850\u001b[0;31m             \u001b[0;32mraise\u001b[0m \u001b[0mKeyError\u001b[0m\u001b[0;34m(\u001b[0m\u001b[0mkey\u001b[0m\u001b[0;34m)\u001b[0m\u001b[0;34m\u001b[0m\u001b[0;34m\u001b[0m\u001b[0m\n\u001b[0m\u001b[1;32m   1851\u001b[0m \u001b[0;34m\u001b[0m\u001b[0m\n\u001b[1;32m   1852\u001b[0m         \u001b[0;31m# Check for duplicates\u001b[0m\u001b[0;34m\u001b[0m\u001b[0;34m\u001b[0m\u001b[0m\n",
            "\u001b[0;31mKeyError\u001b[0m: 'length'"
          ]
        }
      ]
    },
    {
      "cell_type": "code",
      "source": [
        "tr_data_loader, val_data_loader = prepare_dataloader_with_padding(\n",
        "    tr_data, val_data, word_to_ix\n",
        ")\n",
        "\n",
        "train_iterator, valid_iterator = create_dataloader_iterators_with_padding(\n",
        "    tr_data_loader, val_data_loader, BATCH_SIZE\n",
        ")"
      ],
      "metadata": {
        "colab": {
          "base_uri": "https://localhost:8080/",
          "height": 241
        },
        "id": "T8jor7f1TRO6",
        "outputId": "fb158a13-8baa-450e-8711-43b06cfc58a4"
      },
      "execution_count": null,
      "outputs": [
        {
          "output_type": "error",
          "ename": "NameError",
          "evalue": "ignored",
          "traceback": [
            "\u001b[0;31m---------------------------------------------------------------------------\u001b[0m",
            "\u001b[0;31mNameError\u001b[0m                                 Traceback (most recent call last)",
            "\u001b[0;32m<ipython-input-25-e8b0914755c4>\u001b[0m in \u001b[0;36m<cell line: 1>\u001b[0;34m()\u001b[0m\n\u001b[1;32m      1\u001b[0m tr_data_loader, val_data_loader = prepare_dataloader_with_padding(\n\u001b[0;32m----> 2\u001b[0;31m     \u001b[0mtr_data\u001b[0m\u001b[0;34m,\u001b[0m \u001b[0mval_data\u001b[0m\u001b[0;34m,\u001b[0m \u001b[0mword_to_ix\u001b[0m\u001b[0;34m\u001b[0m\u001b[0;34m\u001b[0m\u001b[0m\n\u001b[0m\u001b[1;32m      3\u001b[0m )\n\u001b[1;32m      4\u001b[0m \u001b[0;34m\u001b[0m\u001b[0m\n\u001b[1;32m      5\u001b[0m train_iterator, valid_iterator = create_dataloader_iterators_with_padding(\n",
            "\u001b[0;31mNameError\u001b[0m: name 'word_to_ix' is not defined"
          ]
        }
      ]
    },
    {
      "cell_type": "markdown",
      "source": [
        "## Prepare model"
      ],
      "metadata": {
        "id": "QtOk20b1UPkF"
      }
    },
    {
      "cell_type": "code",
      "source": [
        "model = BertForSequenceClassification.from_pretrained(\"bert-base-uncased\", num_labels=2)\n",
        "_ = model.to(device)\n",
        "\n",
        "for p in model.base_model.parameters():\n",
        "    p.requires_grad = False\n",
        "\n",
        "params = list(model.named_parameters())print(f\"The BERT model has {len(params)} different named parameters.\")print(\"==== Embedding Layer ====\\n\")for p in params[0:5]:    print(f\"{p[0]} {str(tuple(p[1].size()))}\")print(\"\\n==== First Transformer ====\\n\")for p in params[5:21]:    print(f\"{p[0]} {str(tuple(p[1].size()))}\")print(\"\\n==== Output Layer ====\\n\")for p in params[-4:]:    print(f\"{p[0]} {str(tuple(p[1].size()))}\")\n",
        "\n",
        "N_EPOCHS = 5\n",
        "optimizer = optim.Adam(model.parameters())"
      ],
      "metadata": {
        "colab": {
          "base_uri": "https://localhost:8080/",
          "height": 169
        },
        "id": "tD-vASXHTRC3",
        "outputId": "fed0380f-f2ba-46f9-f5a8-400500b00781"
      },
      "execution_count": null,
      "outputs": [
        {
          "output_type": "error",
          "ename": "SyntaxError",
          "evalue": "ignored",
          "traceback": [
            "\u001b[0;36m  File \u001b[0;32m\"<ipython-input-9-c065605a7a83>\"\u001b[0;36m, line \u001b[0;32m7\u001b[0m\n\u001b[0;31m    params = list(model.named_parameters())print(f\"The BERT model has {len(params)} different named parameters.\")print(\"==== Embedding Layer ====\\n\")for p in params[0:5]:    print(f\"{p[0]} {str(tuple(p[1].size()))}\")print(\"\\n==== First Transformer ====\\n\")for p in params[5:21]:    print(f\"{p[0]} {str(tuple(p[1].size()))}\")print(\"\\n==== Output Layer ====\\n\")for p in params[-4:]:    print(f\"{p[0]} {str(tuple(p[1].size()))}\")\u001b[0m\n\u001b[0m                                           ^\u001b[0m\n\u001b[0;31mSyntaxError\u001b[0m\u001b[0;31m:\u001b[0m invalid syntax\n"
          ]
        }
      ]
    },
    {
      "cell_type": "markdown",
      "source": [
        "## Train model"
      ],
      "metadata": {
        "id": "Q2lBpopbUSn6"
      }
    },
    {
      "cell_type": "code",
      "source": [
        "for epoch in range(N_EPOCHS):\n",
        "\n",
        "    start_time = time.time()\n",
        "\n",
        "    train_epoch_loss = 0\n",
        "    train_epoch_prec = 0\n",
        "    train_epoch_recall = 0\n",
        "    train_epoch_fscore = 0\n",
        "    model.train()\n",
        "\n",
        "    # We use our own iterator but now use the raw texts instead of the ID tokens\n",
        "    for train_batch in train_iterator:\n",
        "        labels = train_batch[1]\n",
        "        texts = train_batch[3]\n",
        "\n",
        "        optimizer.zero_grad()\n",
        "\n",
        "        # We use BERT's own tokenizer on raw texts\n",
        "        # Check the documentation: https://huggingface.co/transformers/main_classes/tokenizer.html\n",
        "        encoded = tokenizer(\n",
        "            texts,\n",
        "            truncation=True,\n",
        "            max_length=128,\n",
        "            padding=True,\n",
        "            return_tensors=\"pt\",\n",
        "        )\n",
        "\n",
        "        # BERT converts texts into IDs of its own vocabulary\n",
        "        input_ids = encoded[\"input_ids\"].to(device)\n",
        "        # Mask to avoid performing attention on padding token indices.\n",
        "        attention_mask = encoded[\"attention_mask\"].to(device)\n",
        "\n",
        "        # Run the model\n",
        "        outputs = model(input_ids, attention_mask=attention_mask, labels=labels)\n",
        "\n",
        "        loss = outputs[0]\n",
        "        predictions = outputs[1]\n",
        "        prec, recall, fscore = calculate_performance(predictions, labels)\n",
        "\n",
        "        loss.backward()\n",
        "        optimizer.step()\n",
        "\n",
        "        train_epoch_loss += loss.item()\n",
        "        train_epoch_prec += prec.item()\n",
        "        train_epoch_recall += recall.item()\n",
        "        train_epoch_fscore += fscore.item()\n",
        "\n",
        "    train_loss = train_epoch_loss / len(train_iterator)\n",
        "    train_prec = train_epoch_prec / len(train_iterator)\n",
        "    train_rec = train_epoch_recall / len(train_iterator)\n",
        "    train_fscore = train_epoch_fscore / len(train_iterator)\n",
        "\n",
        "    # And validate your model on the validation set\n",
        "    valid_epoch_loss = 0\n",
        "    valid_epoch_prec = 0\n",
        "    valid_epoch_recall = 0\n",
        "    valid_epoch_fscore = 0\n",
        "    model.eval()\n",
        "\n",
        "    with torch.no_grad():\n",
        "        for valid_batch in valid_iterator:\n",
        "            labels = valid_batch[1]\n",
        "            texts = valid_batch[3]\n",
        "\n",
        "            encoded = tokenizer(\n",
        "                texts,\n",
        "                truncation=True,\n",
        "                max_length=128,\n",
        "                padding=True,\n",
        "                return_tensors=\"pt\",\n",
        "            )\n",
        "            input_ids = encoded[\"input_ids\"].to(device)\n",
        "            attention_mask = encoded[\"attention_mask\"].to(device)\n",
        "\n",
        "            outputs = model(input_ids, attention_mask=attention_mask, labels=labels)\n",
        "            loss = outputs[0]\n",
        "            predictions = outputs[1]\n",
        "            prec, recall, fscore = calculate_performance(predictions, labels)\n",
        "\n",
        "            # We add batch-wise loss to the epoch-wise loss\n",
        "            valid_epoch_loss += loss.item()\n",
        "            valid_epoch_prec += prec.item()\n",
        "            valid_epoch_recall += recall.item()\n",
        "            valid_epoch_fscore += fscore.item()\n",
        "\n",
        "    valid_loss = valid_epoch_loss / len(valid_iterator)\n",
        "    valid_prec = valid_epoch_prec / len(valid_iterator)\n",
        "    valid_rec = valid_epoch_recall / len(valid_iterator)\n",
        "    valid_fscore = valid_epoch_fscore / len(valid_iterator)\n",
        "\n",
        "    end_time = time.time()\n",
        "\n",
        "    epoch_mins, epoch_secs = epoch_time(start_time, end_time)\n",
        "\n",
        "    print(f\"Epoch: {epoch+1:02} | Epoch Time: {epoch_mins}m {epoch_secs}s\")\n",
        "    print(\n",
        "        f\"\\tTrain Loss: {train_loss:.3f} | Train Prec: {train_prec*100:.2f}% | Train Rec: {train_rec*100:.2f}% | Train Fscore: {train_fscore*100:.2f}%\"\n",
        "    )\n",
        "    print(\n",
        "        f\"\\t Val. Loss: {valid_loss:.3f} |  Val Prec: {valid_prec*100:.2f}% | Val Rec: {valid_rec*100:.2f}% | Val Fscore: {valid_fscore*100:.2f}%\"\n",
        "    )"
      ],
      "metadata": {
        "id": "TKd8Ox3kTrfA"
      },
      "execution_count": null,
      "outputs": []
    },
    {
      "cell_type": "code",
      "source": [],
      "metadata": {
        "id": "_6_QyXpWTriL"
      },
      "execution_count": null,
      "outputs": []
    },
    {
      "cell_type": "code",
      "source": [],
      "metadata": {
        "id": "ttk_W0rnTrlb"
      },
      "execution_count": null,
      "outputs": []
    },
    {
      "cell_type": "code",
      "source": [],
      "metadata": {
        "id": "dh2MYAVyTrox"
      },
      "execution_count": null,
      "outputs": []
    },
    {
      "cell_type": "code",
      "source": [],
      "metadata": {
        "id": "tBK_jC-STrsA"
      },
      "execution_count": null,
      "outputs": []
    }
  ]
}